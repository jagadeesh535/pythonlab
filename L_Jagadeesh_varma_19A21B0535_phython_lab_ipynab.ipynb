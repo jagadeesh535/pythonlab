{
  "nbformat": 4,
  "nbformat_minor": 0,
  "metadata": {
    "colab": {
      "name": "L.Jagadeesh varma -19A21B0535-phython lab .ipynab",
      "provenance": [],
      "collapsed_sections": [],
      "include_colab_link": true
    },
    "kernelspec": {
      "name": "python3",
      "display_name": "Python 3"
    },
    "language_info": {
      "name": "python"
    }
  },
  "cells": [
    {
      "cell_type": "markdown",
      "metadata": {
        "id": "view-in-github",
        "colab_type": "text"
      },
      "source": [
        "<a href=\"https://colab.research.google.com/github/jagadeesh535/pythonlab/blob/main/L_Jagadeesh_varma_19A21B0535_phython_lab_ipynab.ipynb\" target=\"_parent\"><img src=\"https://colab.research.google.com/assets/colab-badge.svg\" alt=\"Open In Colab\"/></a>"
      ]
    },
    {
      "cell_type": "markdown",
      "metadata": {
        "id": "iT0tw55eVMQX"
      },
      "source": [
        "## NAME:L.JAGADEESH VARMA\n",
        "## REG NO:19A21B0535\n",
        "## SECTION:CSE-SHIFT"
      ]
    },
    {
      "cell_type": "markdown",
      "metadata": {
        "id": "sa7qx5UJ77pY"
      },
      "source": [
        "# **Exercise 1 - Basics**\n",
        "\n",
        "**a) Running instructions in Interactive interpreter and a Python Script**\n",
        "\n",
        "**AIM:**\n",
        "\n",
        "Running instructions in Interactive interpreter and a Python Script"
      ]
    },
    {
      "cell_type": "markdown",
      "metadata": {
        "id": "dGgSQnyAO8It"
      },
      "source": [
        "**DESCRIPTION:**"
      ]
    },
    {
      "cell_type": "markdown",
      "metadata": {
        "id": "5MbYY5KLPWiW"
      },
      "source": [
        "Python is a high-level, interpreted, interactive and object-oriented \n",
        "scripting language. \n",
        "Python is designed to be highly readable.  It uses English keywords frequently where as other languages use \n",
        "punctuation, and it has fewer syntactical constructions than other languages. \n",
        "\n",
        "* Python is Interpreted \n",
        "\n",
        "* Python is Interactive \n",
        "\n",
        "* Python is Object-Oriented\n",
        "\n",
        "* Python is a Beginner's Language\n",
        "\n",
        "**Python Programming Running Python Scripts**\n",
        "\n",
        "Running Python in THREE ways: \n",
        "\n",
        "a) Running Python Interpreter \n",
        "\n",
        "b) Running Python Scripts in IDLE \n",
        "\n",
        "c) Running python scripts in Command Prompt \n",
        "\n",
        "**a) Running Python Interpreter:**\n",
        "Python comes with an interactive interpreter. When you type python in your shell or command prompt, the python interpreter becomes active with a >>> prompt and waits for your commands\n",
        "\n",
        "b) **Running Python Scripts in IDLE:**\n",
        ". Go to File menu click on New File (CTRL+N) and write the \n",
        "code and save first.py\n",
        "\n",
        "c) **Running python scripts in Command Prompt: ** **bold text**\n",
        "· Before going to run we have to check the PATH in environment \n",
        "variables. \n",
        "\n"
      ]
    },
    {
      "cell_type": "markdown",
      "metadata": {
        "id": "eNuQGducXJVs"
      },
      "source": [
        "**PROGRAM:-**"
      ]
    },
    {
      "cell_type": "code",
      "metadata": {
        "colab": {
          "base_uri": "https://localhost:8080/"
        },
        "id": "Yvn-7nMQ603l",
        "outputId": "bd175a2b-0b4a-43ca-ae68-abbd63b7ca15"
      },
      "source": [
        "print(\"Hello,vamsi\")"
      ],
      "execution_count": null,
      "outputs": [
        {
          "output_type": "stream",
          "name": "stdout",
          "text": [
            "Hello,vamsi\n"
          ]
        }
      ]
    },
    {
      "cell_type": "markdown",
      "metadata": {
        "id": "QBagZ6A0Mr1C"
      },
      "source": [
        "**b)Write a program to purposefully raise Indentation Error and Correct it**"
      ]
    },
    {
      "cell_type": "markdown",
      "metadata": {
        "id": "7070-XvmT8-h"
      },
      "source": [
        "**AIM:**"
      ]
    },
    {
      "cell_type": "markdown",
      "metadata": {
        "id": "Oy6t3hph7mNI"
      },
      "source": [
        "Write a program to purposefully raise Indentation Error and Correct it"
      ]
    },
    {
      "cell_type": "markdown",
      "metadata": {
        "id": "GDy8p5qMUFJj"
      },
      "source": [
        "**DESCRIPTION:**"
      ]
    },
    {
      "cell_type": "markdown",
      "metadata": {
        "id": "o1bGJDsJULwP"
      },
      "source": [
        "**Indentation** \n",
        "* Python does not support braces to indicate blocks of code for class and \n",
        "function definitions or flow control. \n",
        "\n",
        "* Blocks of code are denoted by line indentation.\n",
        "\n",
        "* All the continuous lines indented with same number of spaces would form a block. \n",
        "\n",
        "* Python strictly follow indentation rules to indicate the blocks. \n"
      ]
    },
    {
      "cell_type": "markdown",
      "metadata": {
        "id": "f6opQYlEv0JB"
      },
      "source": [
        "**PROGRAM:**"
      ]
    },
    {
      "cell_type": "code",
      "metadata": {
        "colab": {
          "base_uri": "https://localhost:8080/",
          "height": 133
        },
        "id": "kbcpOaMP7-jB",
        "outputId": "b73e7322-a1ad-4ca5-eb99-0c0997460ce9"
      },
      "source": [
        "if True:\n",
        "    print(\"True\");\n",
        "   else:\n",
        "    print(\"false\");"
      ],
      "execution_count": null,
      "outputs": [
        {
          "output_type": "error",
          "ename": "IndentationError",
          "evalue": "ignored",
          "traceback": [
            "\u001b[0;36m  File \u001b[0;32m\"<ipython-input-2-67bd72984f4b>\"\u001b[0;36m, line \u001b[0;32m3\u001b[0m\n\u001b[0;31m    else:\u001b[0m\n\u001b[0m         ^\u001b[0m\n\u001b[0;31mIndentationError\u001b[0m\u001b[0;31m:\u001b[0m unindent does not match any outer indentation level\n"
          ]
        }
      ]
    },
    {
      "cell_type": "markdown",
      "metadata": {
        "id": "wSRiN-hi-rHC"
      },
      "source": [
        "Correct Program:"
      ]
    },
    {
      "cell_type": "code",
      "metadata": {
        "colab": {
          "base_uri": "https://localhost:8080/"
        },
        "id": "lYo2Cs5t-vkh",
        "outputId": "33728b7f-8a75-4d7c-c774-a269b4e2efb3"
      },
      "source": [
        "if True:\n",
        "    print(\"True\");\n",
        "else:\n",
        "    print(\"false\");"
      ],
      "execution_count": null,
      "outputs": [
        {
          "output_type": "stream",
          "text": [
            "True\n"
          ],
          "name": "stdout"
        }
      ]
    },
    {
      "cell_type": "markdown",
      "metadata": {
        "id": "i-d1pgpP-91b"
      },
      "source": [
        "# **Exercise 2 - Operations**\n",
        "\n",
        "**a) Write a program to compute distance between two points taking input from the user(PythagoreanTheorem)**\n",
        "\n",
        "\n",
        "**AIM:**\n",
        "\n",
        "Write a program to compute distance between two points taking input from the user(PythagoreanTheorem)"
      ]
    },
    {
      "cell_type": "markdown",
      "metadata": {
        "id": "9Y9Nfv3XVUTR"
      },
      "source": [
        "**DESCRIPTION:**"
      ]
    },
    {
      "cell_type": "markdown",
      "metadata": {
        "id": "JY-GlwscVfJW"
      },
      "source": [
        "**Taking Input From the User:**\n",
        "A function is defined as a block of organized, reusable code used to perform a single, related action. Python has many built-in functions; you can also create your own. \n",
        "\n",
        "Python has an input function which lets you ask a user for some text input. You call this function to tell the program to stop and wait for the user to key in the data.\n",
        "\n",
        " In Python 2, you have a built-in function raw_input(), whereas in Python 3, you have input(). The program will resume once the user presses the ENTER or RETURN key.\n",
        "\n",
        " **Input Function**\n",
        "\n",
        "input(prompt=None,/). \n",
        "\n",
        "Read a string from standard input. The trailing newline is stripped. \n",
        "\n",
        "The prompt string, if given, is printed to standard output without a trailing newline before reading input. \n",
        "\n",
        "If the user hits EOF (*nix: Ctrl-D, Windows: Ctrl Z+Return), raise EOFError."
      ]
    },
    {
      "cell_type": "markdown",
      "metadata": {
        "id": "kq5bADwx7961"
      },
      "source": [
        "**PROGRAM**"
      ]
    },
    {
      "cell_type": "code",
      "metadata": {
        "colab": {
          "base_uri": "https://localhost:8080/"
        },
        "id": "Rc6fBCyl_B20",
        "outputId": "48748be6-3748-48b6-bcac-f7a0833e1303"
      },
      "source": [
        "import math\n",
        "x1=int(input(\"enter x1 : \"))\n",
        "\n",
        "x2=int(input(\"enter x2 : \"))\n",
        "\n",
        "y1=int(input(\"enter y1 : \"))\n",
        "\n",
        "y2=int(input(\"enter y2 : \"))\n",
        "\n",
        "d= math.sqrt(((x2 - x1 )**2) + ((y2-y1)**2) )\n",
        "\n",
        "print(\"distance between two points = \",d)"
      ],
      "execution_count": null,
      "outputs": [
        {
          "output_type": "stream",
          "name": "stdout",
          "text": [
            "enter x1 : 10\n",
            "enter x2 : 20\n",
            "enter y1 : 30\n",
            "enter y2 : 40\n",
            "distance between two points =  14.142135623730951\n"
          ]
        }
      ]
    },
    {
      "cell_type": "markdown",
      "metadata": {
        "id": "S7m8__xh-LSk"
      },
      "source": [
        "**b) Write a program add.py that takes 2 numbers as command line arguments and prints its sum**\n",
        "\n",
        "\n",
        "**AIM:**"
      ]
    },
    {
      "cell_type": "markdown",
      "metadata": {
        "id": "JVohG0oZB72y"
      },
      "source": [
        "Write a program add.py that takes 2 numbers as command line arguments and prints its sum"
      ]
    },
    {
      "cell_type": "markdown",
      "metadata": {
        "id": "G_Z5aUk3-TQb"
      },
      "source": [
        "**DESCRIPTION:**"
      ]
    },
    {
      "cell_type": "markdown",
      "metadata": {
        "id": "9FKsoofk-XDZ"
      },
      "source": [
        "The arguments that are given after the name of the program in the command line shell of the operating system are known as Command Line Arguments. Python provides various ways of dealing with these types of arguments. The three most common are: \n",
        "\n",
        "Using sys.argv\n",
        "\n",
        "Using getopt module\n",
        "\n",
        "Using argparse module\n",
        "\n",
        "Using sys.argv\n",
        "\n",
        "The sys module provides functions and variables used to manipulate different parts of the Python runtime environment. This module provides access to some variables used or maintained by the interpreter and to functions that interact strongly with the interpreter.\n",
        "\n",
        "One such variable is sys.argv which is a simple list structure. It’s main purpose are:\n",
        "\n",
        "* It is a list of command line arguments.\n",
        "\n",
        "* len(sys.argv) provides the number of command line arguments.\n",
        "\n",
        "* sys.argv[0] is the name of the current Python script. "
      ]
    },
    {
      "cell_type": "markdown",
      "metadata": {
        "id": "ZbX1PXPC-2UP"
      },
      "source": [
        "**PROGRAM**"
      ]
    },
    {
      "cell_type": "code",
      "metadata": {
        "id": "tXGSbBUBB9pB"
      },
      "source": [
        "import sys\n",
        "x=int(sys.argv[1])\n",
        "y=int(sys.argv[2])\n",
        "sum=x+y\n",
        "print(\"The addition is :\",sum)\n"
      ],
      "execution_count": null,
      "outputs": []
    },
    {
      "cell_type": "markdown",
      "metadata": {
        "id": "FeAyp1Dy8mU8"
      },
      "source": [
        "output:\n",
        "\n",
        "\n",
        "c:\\ram\\python\\python39>add.py 30 40\n",
        "\n",
        "The addition is:70"
      ]
    },
    {
      "cell_type": "markdown",
      "metadata": {
        "id": "F5GzL8vnDq1p"
      },
      "source": [
        "# **Exercise - 3 Control Flow**\n",
        "\n",
        "\n",
        "**a) Write a Program for checking whether the given number is an even number or not.**\n",
        "\n",
        "\n",
        "**AIM:**\n",
        "\n",
        "Write a Program for checking whether the given number is an even number or not."
      ]
    },
    {
      "cell_type": "markdown",
      "metadata": {
        "id": "OREtHwTQVHnS"
      },
      "source": [
        "**DESCRIPTION:**"
      ]
    },
    {
      "cell_type": "markdown",
      "metadata": {
        "id": "DXChifIZTB-1"
      },
      "source": [
        "**if..else Statement**\n",
        "When there is an alternate operation in control flow, use an else statement alongside with if statement. The general format is\n",
        "\n",
        "if condition:\n",
        "\n",
        "        true statement\n",
        "\n",
        "else:\n",
        "\n",
        "         false statement"
      ]
    },
    {
      "cell_type": "markdown",
      "metadata": {
        "id": "mlb_gYUHU88C"
      },
      "source": [
        "**PROGRAM**"
      ]
    },
    {
      "cell_type": "code",
      "metadata": {
        "colab": {
          "base_uri": "https://localhost:8080/"
        },
        "id": "OWdLTz9LGVJl",
        "outputId": "a56d8c72-b52f-4b62-9b02-4860f1a53472"
      },
      "source": [
        "val=int(input(\"Enter a number: \"))\n",
        "if  val % 2 == 0:\n",
        "    print(\"The given Number is Even\")\n",
        "else:\n",
        "     print(\"The given Number is odd\")"
      ],
      "execution_count": null,
      "outputs": [
        {
          "output_type": "stream",
          "text": [
            "Enter a number: 5\n",
            "The given Number is odd\n"
          ],
          "name": "stdout"
        }
      ]
    },
    {
      "cell_type": "markdown",
      "metadata": {
        "id": "XQnXbweTNnmt"
      },
      "source": [
        "**b) Using a for loop, write a program that prints out the decimal equivalents of 1/2, 1/3, 1/4, . . .1/10**"
      ]
    },
    {
      "cell_type": "markdown",
      "metadata": {
        "id": "Efu8YMinVbPj"
      },
      "source": [
        "**AIM:**"
      ]
    },
    {
      "cell_type": "markdown",
      "metadata": {
        "id": "j4MihY_AHnIV"
      },
      "source": [
        "Using a for loop, write a program that prints out the decimal equivalents of 1/2, 1/3, 1/4, . . .1/10"
      ]
    },
    {
      "cell_type": "markdown",
      "metadata": {
        "id": "iT1kwdr-Vki_"
      },
      "source": [
        "**DESCRIPTION**"
      ]
    },
    {
      "cell_type": "markdown",
      "metadata": {
        "id": "0B2Ez61JVpj6"
      },
      "source": [
        "**For Loop:**\n",
        "For loops can iterate over a sequence of numbers using the \"range\" and \"xrange\" functions. The difference between range and xrange is that the range function returns a new list with numbers of that specified range, whereas xrange returns an iterator, which is more efficient. \n",
        "\n",
        "The general format is\n",
        "\n",
        "for x in range(start,stop,step):\n",
        "\n",
        "statements"
      ]
    },
    {
      "cell_type": "markdown",
      "metadata": {
        "id": "3phyqrqdW6_u"
      },
      "source": [
        "**PROGRAM**"
      ]
    },
    {
      "cell_type": "code",
      "metadata": {
        "colab": {
          "base_uri": "https://localhost:8080/"
        },
        "id": "XtxAn-y8H1iL",
        "outputId": "13529985-4d10-4aaa-fed7-29d217b3d8ea"
      },
      "source": [
        "n=int(input(\"Enter a number\"))\n",
        "for i in range(2,n):\n",
        "  de=1/i\n",
        "  print(\"1/\"+str(i)+\"=\",de)"
      ],
      "execution_count": null,
      "outputs": [
        {
          "output_type": "stream",
          "text": [
            "Enter a number11\n",
            "1/2= 0.5\n",
            "1/3= 0.3333333333333333\n",
            "1/4= 0.25\n",
            "1/5= 0.2\n",
            "1/6= 0.16666666666666666\n",
            "1/7= 0.14285714285714285\n",
            "1/8= 0.125\n",
            "1/9= 0.1111111111111111\n",
            "1/10= 0.1\n"
          ],
          "name": "stdout"
        }
      ]
    },
    {
      "cell_type": "markdown",
      "metadata": {
        "id": "fMioSoF0NvPa"
      },
      "source": [
        "**c) Write a program using a for loop that loops over a sequence. What is sequence?**"
      ]
    },
    {
      "cell_type": "markdown",
      "metadata": {
        "id": "GYqktsPdXAMC"
      },
      "source": [
        "**AIM:**"
      ]
    },
    {
      "cell_type": "markdown",
      "metadata": {
        "id": "EHTcoaYhLoXq"
      },
      "source": [
        "Write a program using a for loop that loops over a sequence. What is sequence?"
      ]
    },
    {
      "cell_type": "markdown",
      "metadata": {
        "id": "4_jTcjB4NZPW"
      },
      "source": [
        "**DESCRIPTION:**\n",
        "\n",
        "**For Loop:**\n",
        "For loops can iterate over a sequence of numbers using the \"range\" and \"xrange\" functions. The difference between range and xrange is that the range function returns a new list with numbers of that specified range, whereas xrange returns an iterator, which is more efficient. \n",
        "\n",
        "The general format is\n",
        "\n",
        "for x in range(start,stop,step):\n",
        "\n",
        "statements"
      ]
    },
    {
      "cell_type": "markdown",
      "metadata": {
        "id": "fiBlgfJOXrHI"
      },
      "source": [
        "**PROGRAM**"
      ]
    },
    {
      "cell_type": "code",
      "metadata": {
        "colab": {
          "base_uri": "https://localhost:8080/"
        },
        "id": "eWVS-gr66GZS",
        "outputId": "fd37f500-9571-44bc-a733-db72c8873b87"
      },
      "source": [
        "arr=[4,\"abc\",-45,'c',10.5,True,5,10.6,\"xyz\"]\n",
        "print(\"given array:\",arr)\n",
        "for x in arr:\n",
        "  print(x)"
      ],
      "execution_count": null,
      "outputs": [
        {
          "output_type": "stream",
          "text": [
            "given array: [4, 'abc', -45, 'c', 10.5, True, 5, 10.6, 'xyz']\n",
            "4\n",
            "abc\n",
            "-45\n",
            "c\n",
            "10.5\n",
            "True\n",
            "5\n",
            "10.6\n",
            "xyz\n"
          ],
          "name": "stdout"
        }
      ]
    },
    {
      "cell_type": "markdown",
      "metadata": {
        "id": "FxBo3e8YN3aQ"
      },
      "source": [
        "**D) Write a program using a while loop that asks the user for a number, and prints a countdownfrom that number to zero.**"
      ]
    },
    {
      "cell_type": "markdown",
      "metadata": {
        "id": "QXZeJok2X07w"
      },
      "source": [
        "**AIM:**"
      ]
    },
    {
      "cell_type": "markdown",
      "metadata": {
        "id": "RYV8X5Lnqucq"
      },
      "source": [
        " Write a program using a while loop that asks the user for a number, and prints a countdownfrom that number to zero."
      ]
    },
    {
      "cell_type": "markdown",
      "metadata": {
        "id": "nLJhgNMsX3hr"
      },
      "source": [
        "**DESCRIPTION:**\n",
        "\n",
        " While Loop is used to execute a block of statements repeatedly until a given condition is satisfied. And when the condition becomes false, the line immediately after the loop in the program is executed. While loop falls under the category of indefinite iteration\n",
        "\n",
        " The syntax for a while loop is: \n",
        " \n",
        " while [ condition]"
      ]
    },
    {
      "cell_type": "markdown",
      "metadata": {
        "id": "ezhxYGIDX5lc"
      },
      "source": [
        "**PROGRAM:**"
      ]
    },
    {
      "cell_type": "code",
      "metadata": {
        "colab": {
          "base_uri": "https://localhost:8080/"
        },
        "id": "YKS-CG6Lrd-u",
        "outputId": "35596c58-30df-4e94-cc8d-65981b14fff3"
      },
      "source": [
        "n=int(input(\"Enter Value of n\"))\n",
        "while n>=0:\n",
        "   print(n)\n",
        "   n-=1"
      ],
      "execution_count": null,
      "outputs": [
        {
          "output_type": "stream",
          "text": [
            "Enter Value of n10\n",
            "10\n",
            "9\n",
            "8\n",
            "7\n",
            "6\n",
            "5\n",
            "4\n",
            "3\n",
            "2\n",
            "1\n",
            "0\n"
          ],
          "name": "stdout"
        }
      ]
    },
    {
      "cell_type": "markdown",
      "metadata": {
        "id": "MlpDrHCNueaY"
      },
      "source": [
        "# **Exercise 4 - Control Flow - Continued**"
      ]
    },
    {
      "cell_type": "markdown",
      "metadata": {
        "id": "YdOa-lg6OAqq"
      },
      "source": [
        "**a) Find the sum of all the primes below two million. Each new term in the Fibonacci sequence is generated by adding the previous two terms. Bystarting with 1 and 2, the first 10 terms will be: 1, 2, 3, 5, 8, 13, 21, 34, 55, 89, ...**"
      ]
    },
    {
      "cell_type": "markdown",
      "metadata": {
        "id": "vF4fB526YJvO"
      },
      "source": [
        "**AIM:**"
      ]
    },
    {
      "cell_type": "markdown",
      "metadata": {
        "id": "f2FkgEaMvkgA"
      },
      "source": [
        " Find the sum of all the primes below two million. Each new term in the Fibonacci sequence is generated by adding the previous two terms. Bystarting with 1 and 2, the first 10 terms will be: 1, 2, 3, 5, 8, 13, 21, 34, 55, 89, ..."
      ]
    },
    {
      "cell_type": "markdown",
      "metadata": {
        "id": "MQqwOlADY0rH"
      },
      "source": [
        "**DESCRIPTION:**\n",
        "\n",
        "A Fibonacci sequence is the integer sequence of 0, 1, 1, 2, 3, 5, 8....\n",
        "\n",
        "The first two terms are 0 and 1. All other terms are obtained by adding the preceding two terms. This means to say the nth term is the sum of (n-1)th and (n-2)th term\n",
        "\n",
        "Here, we store the number of terms in nterms. We initialize the first term to 0 and the second term to 1.\n",
        "\n",
        "If the number of terms is more than 2, we use a while loop to find the next term in the sequence by adding the preceding two terms. We then interchange the variables (update it) and continue on with the process."
      ]
    },
    {
      "cell_type": "markdown",
      "metadata": {
        "id": "dXdryaSMZL1n"
      },
      "source": [
        "**PROGRAM:**"
      ]
    },
    {
      "cell_type": "code",
      "metadata": {
        "colab": {
          "base_uri": "https://localhost:8080/"
        },
        "id": "kfpM42c5vstt",
        "outputId": "05164682-8c35-443e-b7cd-0cd8c9ff7e0b"
      },
      "source": [
        "n=int(input(\"enter an Ending Number: \"));\n",
        "st=\"\"\n",
        "sum=0\n",
        "for i in range(2,n):\n",
        "    state=True\n",
        "    for j in range(2,i):\n",
        "        if(i%j)==0:\n",
        "            state=False\n",
        "            break;\n",
        "    if state==True:\n",
        "            st+=\" \"+str(i)\n",
        "            sum+=i\n",
        "\n",
        "print(\"prime Numbers: \")\n",
        "print(st)\n",
        "print(\"Sum of the prime Numbers: \",sum)"
      ],
      "execution_count": null,
      "outputs": [
        {
          "output_type": "stream",
          "text": [
            "enter an Ending Number: 200\n",
            "prime Numbers: \n",
            " 2 3 5 7 11 13 17 19 23 29 31 37 41 43 47 53 59 61 67 71 73 79 83 89 97 101 103 107 109 113 127 131 137 139 149 151 157 163 167 173 179 181 191 193 197 199\n",
            "Sum of the prime Numbers:  4227\n"
          ],
          "name": "stdout"
        }
      ]
    },
    {
      "cell_type": "markdown",
      "metadata": {
        "id": "J4-R3LcdOMuM"
      },
      "source": [
        "**b) By considering the terms in the Fibonacci sequence whose values do not exceed four million,find the sum of the even-valued terms.**\n",
        "\n"
      ]
    },
    {
      "cell_type": "markdown",
      "metadata": {
        "id": "opnKgWDbZfbZ"
      },
      "source": [
        "**AIM:**"
      ]
    },
    {
      "cell_type": "markdown",
      "metadata": {
        "id": "2VtnBadd6_Gf"
      },
      "source": [
        "By considering the terms in the Fibonacci sequence whose values do not exceed four million,find\n",
        "the sum of the even-valued terms."
      ]
    },
    {
      "cell_type": "markdown",
      "metadata": {
        "id": "lTc6Zt86ZjF0"
      },
      "source": [
        "**DESCRIPTION:**\n",
        "\n",
        "A Fibonacci sequence is the integer sequence of 0, 1, 1, 2, 3, 5, 8....\n",
        "\n",
        "The first two terms are 0 and 1. All other terms are obtained by adding the preceding two terms. This means to say the nth term is the sum of (n-1)th and (n-2)th term\n",
        "\n",
        "Here, we store the number of terms in nterms. We initialize the first term to 0 and the second term to 1.\n",
        "\n",
        "If the number of terms is more than 2, we use a while loop to find the next term in the sequence by adding the preceding two terms. We then interchange the variables (update it) and continue on with the process."
      ]
    },
    {
      "cell_type": "markdown",
      "metadata": {
        "id": "77IqtHLrZz2t"
      },
      "source": [
        "**PROGRAM:**"
      ]
    },
    {
      "cell_type": "code",
      "metadata": {
        "colab": {
          "base_uri": "https://localhost:8080/"
        },
        "id": "PTMKS22M7awj",
        "outputId": "74b72c1e-7132-4a7a-b6fb-944050a45614"
      },
      "source": [
        "n=int(input(\"Enter value of n: \"))\n",
        "a=0\n",
        "b=1\n",
        "c=a+b\n",
        "sum=0\n",
        "print(\"Even numbers in Fibonacci series:\\t \",end='')\n",
        "while c<=n:\n",
        "    if c%2==0:\n",
        "        print(c,end=' ')\n",
        "        sum+=c\n",
        "    a=b\n",
        "    b=c\n",
        "    c=a+b\n",
        "print(\"\\nsum of Fibonacci Series is: \",sum)\n"
      ],
      "execution_count": null,
      "outputs": [
        {
          "output_type": "stream",
          "text": [
            "Enter value of n: 4000000\n",
            "Even numbers in Fibonacci series:\t 2 8 34 144 610 2584 10946 46368 196418 832040 3524578 \n",
            "sum of Fibonacci Series is:  4613732\n"
          ],
          "name": "stdout"
        }
      ]
    },
    {
      "cell_type": "markdown",
      "metadata": {
        "id": "RvzOOXzrFtha"
      },
      "source": [
        "## **Exercise - 5 - DS**"
      ]
    },
    {
      "cell_type": "markdown",
      "metadata": {
        "id": "orE8wFF0OWYA"
      },
      "source": [
        "a) Write a program to count the numbers of characters in the string and store them in adictionary data structure"
      ]
    },
    {
      "cell_type": "markdown",
      "metadata": {
        "id": "jPP6ppoNbkDS"
      },
      "source": [
        "**AIM:**"
      ]
    },
    {
      "cell_type": "markdown",
      "metadata": {
        "id": "NOG8oVCdPLkH"
      },
      "source": [
        "Write a program to count the numbers of characters in the string and store them in adictionary data\n",
        "structure "
      ]
    },
    {
      "cell_type": "markdown",
      "metadata": {
        "id": "7hWtmYvLbnMC"
      },
      "source": [
        "**DESCRIPTION:**\n",
        "\n",
        "Given a string, the task is to find the frequencies of all the characters in that string and return a dictionary with key as the character and its value as its frequency in the given string.\n",
        "\n",
        "Method #1 : Naive method\n",
        "\n",
        "Simply iterate through the string and form a key in dictionary of newly occurred element or if element is already occurred, increase its value by 1.\n",
        "\n",
        "Method #2 : Using collections.Counter()\n",
        "\n",
        "The most suggested method that could be used to find all occurrences is this method, this actually gets all element frequency and could also be used to print single element frequency if required."
      ]
    },
    {
      "cell_type": "markdown",
      "metadata": {
        "id": "fDqwyTP3cG6o"
      },
      "source": [
        "**PROGRAM:**"
      ]
    },
    {
      "cell_type": "code",
      "metadata": {
        "colab": {
          "base_uri": "https://localhost:8080/"
        },
        "id": "Wu9BkjGsG5oX",
        "outputId": "5f46f52f-ace3-458f-a457-53acd0e6459b"
      },
      "source": [
        "name=input(\"Enter a Name: \")\n",
        "dic={}\n",
        "\n",
        "for ch in name:\n",
        "    keys=dic.keys()\n",
        "\n",
        "    if(ch in keys):\n",
        "        dic[ch]=dic[ch]+1\n",
        "    else:\n",
        "        dic[ch]=1\n",
        "\n",
        "print(\"Dictionary is: \",dic)\n"
      ],
      "execution_count": null,
      "outputs": [
        {
          "output_type": "stream",
          "text": [
            "Enter a Name: swarnandhra\n",
            "Dictionary is:  {'s': 1, 'w': 1, 'a': 3, 'r': 2, 'n': 2, 'd': 1, 'h': 1}\n"
          ],
          "name": "stdout"
        }
      ]
    },
    {
      "cell_type": "markdown",
      "metadata": {
        "id": "18LeKGuEOkFm"
      },
      "source": [
        "**b) Write a program to use split and join methods in the string and trace a birthday with adictionary data structure**\n",
        "\n"
      ]
    },
    {
      "cell_type": "markdown",
      "metadata": {
        "id": "Gw59Dq6sdDUR"
      },
      "source": [
        "**AIM:**"
      ]
    },
    {
      "cell_type": "markdown",
      "metadata": {
        "id": "T2BQfNVUIM3S"
      },
      "source": [
        "Write a program to use split and join methods in the string and trace a birthday with adictionary\n",
        "data structure"
      ]
    },
    {
      "cell_type": "markdown",
      "metadata": {
        "id": "INTW2KKIdU0d"
      },
      "source": [
        "**DESCRIPTION:**\n",
        "\n",
        "Python program to Split a string based on a delimiter and join the string using another delimiter.\n",
        "\n",
        "Split a string can be quite useful sometimes, especially when you need only certain parts of strings. A simple yet effective example is splitting the First-name and Last-name of a person. Another application is CSV(Comma Separated Files). We use split to get data from CSV and join to write data to CSV.\n",
        "\n",
        "In Python, we can use the function split() to split a string and \n",
        "\n",
        "join() to join a string. "
      ]
    },
    {
      "cell_type": "markdown",
      "metadata": {
        "id": "2NaJY3Scdhhd"
      },
      "source": [
        "**PROGRAM**"
      ]
    },
    {
      "cell_type": "code",
      "metadata": {
        "id": "Tab4Uy-BJLbZ",
        "colab": {
          "base_uri": "https://localhost:8080/"
        },
        "outputId": "ba64568d-61ef-4d45-d0ff-f3a01aa88cdb"
      },
      "source": [
        "dob={\"Poojitha\":\"16-july-2002\",\"Nani\":\"15-03-2001\"}\n",
        "\n",
        "name=input(\"Which person DOB You Want: \")\n",
        "I=name.split()\n",
        "birth=\"\"\n",
        "\n",
        "for i in I:\n",
        "    if i in dob.keys():\n",
        "        pers=i\n",
        "\n",
        "print(\" \".join([pers,\"Birthday is\",dob[pers]]))\n"
      ],
      "execution_count": null,
      "outputs": [
        {
          "output_type": "stream",
          "text": [
            "Which person DOB You Want: Poojitha\n",
            "Poojitha Birthday is 16-july-2002\n"
          ],
          "name": "stdout"
        }
      ]
    },
    {
      "cell_type": "markdown",
      "metadata": {
        "id": "KQpysg1ozVoA"
      },
      "source": [
        "## **Exercise - 6 DS - Continued**\n",
        "\n",
        "**a) Write a program combinelists that combines these lists into a dictionary.**\n",
        "\n",
        "**AIM:**\n",
        "\n",
        "Write a program combinelists that combines these lists into a dictionary."
      ]
    },
    {
      "cell_type": "markdown",
      "metadata": {
        "id": "HJ4-8A_9eL_0"
      },
      "source": [
        "**DESCRIPTION:**\n",
        "\n",
        "For this, simply declare a dictionary, and then run nested loop for both the lists and assign key and value pairs to from list values to dictionary.\n",
        "\n",
        "Most pythonic and generic method to perform this very task is by using zip(). This function pairs the list element with other list element at corresponding index in form of key-value pairs."
      ]
    },
    {
      "cell_type": "markdown",
      "metadata": {
        "id": "cM0r1blLgqdK"
      },
      "source": [
        "**PROGRAM**"
      ]
    },
    {
      "cell_type": "code",
      "metadata": {
        "colab": {
          "base_uri": "https://localhost:8080/"
        },
        "id": "LsPqJzPa0F0p",
        "outputId": "4196e9b0-b4b4-439f-a2f0-1d2add782708"
      },
      "source": [
        "subj=[\"DAA\",\"OS\",\"DBMS\",\"P&S\",\"PPL\",\"SE\"]\n",
        "marks=[85,96,78,68,98,56]\n",
        "\n",
        "print(\"Given Lists are: \")\n",
        "print(\"Subjects Names: \",subj)\n",
        "print(\"Mark Values: \",marks)\n",
        "\n",
        "dic=dict(zip(subj,marks))\n",
        "print(\"\\n Dictionary: \",dic)"
      ],
      "execution_count": null,
      "outputs": [
        {
          "output_type": "stream",
          "text": [
            "Given Lists are: \n",
            "Subjects Names:  ['DAA', 'OS', 'DBMS', 'P&S', 'PPL', 'SE']\n",
            "Mark Values:  [85, 96, 78, 68, 98, 56]\n",
            "\n",
            " Dictionary:  {'DAA': 85, 'OS': 96, 'DBMS': 78, 'P&S': 68, 'PPL': 98, 'SE': 56}\n"
          ],
          "name": "stdout"
        }
      ]
    },
    {
      "cell_type": "markdown",
      "metadata": {
        "id": "EG7j-fmgO0wN"
      },
      "source": [
        "**b) Write a program to count frequency of characters in a given file. Can you use characterfrequency to tell whether the given file is a Python program file, C program file or a text file?**"
      ]
    },
    {
      "cell_type": "markdown",
      "metadata": {
        "id": "BvqlX-Ubiuub"
      },
      "source": [
        "**AIM:**"
      ]
    },
    {
      "cell_type": "markdown",
      "metadata": {
        "id": "Gv8mS3lI3bNz"
      },
      "source": [
        " Write a program to count frequency of characters in a given file. Can you use characterfrequency to\n",
        "tell whether the given file is a Python program file, C program file or a text file?\n"
      ]
    },
    {
      "cell_type": "markdown",
      "metadata": {
        "id": "FVUBD4xKwcYe"
      },
      "source": [
        "**DESCRIPTION:**\n",
        "\n",
        "approaches to count the number of times a letter appears in a text file in Python.\n",
        "\n",
        "Method 1: Using the in-built count() method.\n",
        "\n",
        "**Approach:**\n",
        "\n",
        "1. Read the file.\n",
        "2. Store the content of the file in a variable.\n",
        "3. Use the count() method with the argument as a letter whose frequency is required.\n",
        "4. Display the count of the letter."
      ]
    },
    {
      "cell_type": "markdown",
      "metadata": {
        "id": "FgFm4Hddir7G"
      },
      "source": [
        "**PROGRAM**"
      ]
    },
    {
      "cell_type": "code",
      "metadata": {
        "id": "FTGl9PUA3_xK",
        "colab": {
          "base_uri": "https://localhost:8080/"
        },
        "outputId": "d3bb4df0-8078-460a-a108-ad257aa94728"
      },
      "source": [
        "filetypes=['.py','.c','.txt']\n",
        "fn=input(\"Enter the file name:\")\n",
        "f=open(fn,\"r\")\n",
        "count=dict()\n",
        "print(\"Given file is\",end=\"\")\n",
        "for ft in filetypes:\n",
        "  if(ft in fn):\n",
        "    if(ft=='.py'):\n",
        "      print(\"Python file\")\n",
        "    elif(ft=='.c'):\n",
        "      print(\"C File\")\n",
        "    elif(ft=='.txt'):\n",
        "       print(\"Text File\")\n",
        "for line in f:\n",
        "  for ch in line:\n",
        "    if ch in count:\n",
        "      count[ch]=count[ch]+1\n",
        "    else:\n",
        "      count[ch]=1\n",
        "print(count)\n",
        "f.close()"
      ],
      "execution_count": null,
      "outputs": [
        {
          "output_type": "stream",
          "text": [
            "Enter the file name:abc\n",
            "Given file is{'M': 1, 'y': 1, ' ': 3, 'n': 1, 'a': 2, 'm': 1, 'e': 1, 'i': 2, 's': 1, 'P': 1, 'o': 2, 'j': 1, 't': 1, 'h': 1}\n"
          ],
          "name": "stdout"
        }
      ]
    },
    {
      "cell_type": "markdown",
      "metadata": {
        "id": "A2wjNe5s98gl"
      },
      "source": [
        "## **Exercise - 7 Files**\n",
        "\n",
        "a) Write a program to print each line of a file in reverse order.\n",
        "\n",
        "**AIM**\n",
        "\n",
        "\n",
        " Write a program to print each line of a file in reverse order."
      ]
    },
    {
      "cell_type": "markdown",
      "metadata": {
        "id": "93ql4RbYkXqi"
      },
      "source": [
        "**DESCRIPTION:**\n",
        "\n",
        "The file handling plays an important role when the data needs to be stored permanently into the\n",
        "file. A file is a named location on disk to store related information. We can access the stored\n",
        "information (non-volatile) after the program termination.\n",
        "In Python, files are treated in two modes as text or binary. The file may be in the text or binary\n",
        "format, and each line of a file is ended with the special character.\n",
        "Hence, a file operation can be done in the following order.\n",
        "\n",
        " Open a file\n",
        "\n",
        " Read or write - Performing operation\n",
        "\n",
        " Close the file"
      ]
    },
    {
      "cell_type": "markdown",
      "metadata": {
        "id": "QaIBd1xXlswW"
      },
      "source": [
        "**PROGRAM:**"
      ]
    },
    {
      "cell_type": "code",
      "metadata": {
        "id": "pnfhhuU8-QgR",
        "colab": {
          "base_uri": "https://localhost:8080/"
        },
        "outputId": "62367f79-7b85-4da5-b1f7-95663e6107cd"
      },
      "source": [
        "obj=open(\"abc.txt\",\"r\")\n",
        "if obj:\n",
        "  st=obj.read()\n",
        "  print(\"File content is:\\n\",st)\n",
        "obj.close()\n",
        "print()\n",
        "lines=st.split('\\n')\n",
        "for ln in lines:\n",
        "  i=len(ln)-1\n",
        "  while(i>=0):\n",
        "    print(ln[i],end=\"\")\n",
        "    i=i-1\n",
        "  print()\n",
        "    "
      ],
      "execution_count": null,
      "outputs": [
        {
          "output_type": "stream",
          "text": [
            "File content is:\n",
            " This is Poojitha\n",
            "\n",
            "ahtijooP si sihT\n"
          ],
          "name": "stdout"
        }
      ]
    },
    {
      "cell_type": "markdown",
      "metadata": {
        "id": "dr4l6SjDPNv0"
      },
      "source": [
        "**b) Write a program to compute the number of characters, words and lines in a file**"
      ]
    },
    {
      "cell_type": "markdown",
      "metadata": {
        "id": "Jf5v8_QbnUSY"
      },
      "source": [
        "**AIM:**"
      ]
    },
    {
      "cell_type": "markdown",
      "metadata": {
        "id": "KgcIrMtJ9h0c"
      },
      "source": [
        "Write a program to compute the number of characters, words and lines in a file"
      ]
    },
    {
      "cell_type": "markdown",
      "metadata": {
        "id": "d08T4Gc6nXCw"
      },
      "source": [
        "**DESCRIPTION:**"
      ]
    },
    {
      "cell_type": "markdown",
      "metadata": {
        "id": "XcS_7Sf2nwL2"
      },
      "source": [
        "Given a text file fname, the task is to count the total number of characters, words, spaces and lines in the file.\n",
        "\n",
        "As we know, Python provides multiple in-built features and modules for handling files. Let’s discuss different ways to calculate total number of characters, words, spaces and lines in a file using Python.\n",
        "\n",
        "Method #1: Naive approach\n",
        "\n",
        "In this approach, the idea is to solve the task by developing our own logic. Without using any built-in function of Python, the total number of characters, words, spaces and lines of the file will be calculated.\n",
        "\n",
        "Method #2: Using some built-in functions and OS module functions\n",
        "\n",
        "In this approach, the idea is to use the os.linesep() method of OS module to separate the lines on the current platform. When the interpreter’s scanner encounter os.linesep it replaces it with \\n character. After that strip() and split() functions will be used to carry out the task."
      ]
    },
    {
      "cell_type": "markdown",
      "metadata": {
        "id": "c_pU_PiDokpR"
      },
      "source": [
        "**PROGRAM**"
      ]
    },
    {
      "cell_type": "code",
      "metadata": {
        "id": "GOKHXrLa9wtI",
        "colab": {
          "base_uri": "https://localhost:8080/"
        },
        "outputId": "dbab6bdf-f1ed-4500-dcb8-758a1874a788"
      },
      "source": [
        "nc=nw=nl=0\n",
        "file=open(\"abc.txt\",\"r\")\n",
        "\n",
        "nl=nw=nc=0\n",
        "print(\"File content:\\n\")\n",
        "for line in file:\n",
        "    ln=line.strip(\"\\n\")\n",
        "    print(ln)\n",
        "    words=ln.split()\n",
        "    nl+=1\n",
        "    nw+=len(words)\n",
        "    nc+=len(line)\n",
        "file.close()\n",
        "\n",
        "print(\"\\n No.of lines:\",nl,\"words:\",nw,\"characters:\",nc)\n"
      ],
      "execution_count": null,
      "outputs": [
        {
          "output_type": "stream",
          "text": [
            "File content:\n",
            "\n",
            "This is Poojitha\n",
            "\n",
            " No.of lines: 1 words: 3 characters: 16\n"
          ],
          "name": "stdout"
        }
      ]
    },
    {
      "cell_type": "markdown",
      "metadata": {
        "id": "UGInG1Th-1sa"
      },
      "source": [
        "## **Exercise - 8 Functions**\n",
        "\n",
        "**a) Write a function ball collide that takes two balls as parameters and computes if they arecolliding. Your function should return a Boolean representing whether or not the balls arecolliding.\n",
        "Hint: Represent a ball on a plane as a tuple of (x, y, r), r being the radius If (distance between two balls centers) <= (sum of their radii) then (they are colliding)**\n",
        "\n",
        "**AIM:**\n",
        "\n",
        "Write a function ball collide that takes two balls as parameters and computes if they arecolliding.\n",
        "Your function should return a Boolean representing whether or not the balls arecolliding.\n"
      ]
    },
    {
      "cell_type": "markdown",
      "metadata": {
        "id": "8wTkE7Zjo4vg"
      },
      "source": [
        "**DESCRIPTION**\n",
        "\n",
        "**Functions**\n",
        "A function in python is a block of code that is defined for doing frequent operations in a\n",
        "particular task. The general format is\n",
        "\n",
        "def  Functionname(arguments):\n",
        "\n",
        "      Statements\n",
        "\n",
        "**Calling a Function:**\n",
        "\n",
        "A function can be called by its name followed by arguments within parenthesis.\n",
        "\n",
        "function()\n",
        "\n"
      ]
    },
    {
      "cell_type": "markdown",
      "metadata": {
        "id": "s1GDAgJow1Vh"
      },
      "source": [
        "**PROGRAM:**"
      ]
    },
    {
      "cell_type": "code",
      "metadata": {
        "colab": {
          "base_uri": "https://localhost:8080/"
        },
        "id": "ltsGHCey_wuU",
        "outputId": "cd6bbe3c-867b-45b2-b662-fd1cb6810801"
      },
      "source": [
        "import math\n",
        "def collide(ball_tup1,ball_tup2):\n",
        "    x1,y1,r1=ball_tup1\n",
        "    x2,y2,r2=ball_tup2\n",
        "\n",
        "    print(\"Ball-01: \",ball_tup1)\n",
        "    print(\"Ball-02: \",ball_tup2)\n",
        "\n",
        "    d=math.sqrt((x2-x1)**2+(y2-y1)**2)\n",
        "    print(\"Centroid Distance of two balls: \",d)\n",
        "    print(\"Sum of Radius Ball-01 &Ball-02 is: {}+{}={}\".format(r1,r2,r1+r2))\n",
        "\n",
        "    if d<=r1+r2:\n",
        "        return True\n",
        "    else:\n",
        "        return False\n",
        "b1=(-2,-4,3)\n",
        "b2=(4,6,3)\n",
        "\n",
        "if collide(b1,b2):\n",
        "    print(\"Balls are Colliode....!\")\n",
        "else:\n",
        "    print(\"Balls are not Colliede...!\")\n"
      ],
      "execution_count": null,
      "outputs": [
        {
          "output_type": "stream",
          "text": [
            "Ball-01:  (-2, -4, 3)\n",
            "Ball-02:  (4, 6, 3)\n",
            "Centroid Distance of two balls:  11.661903789690601\n",
            "Sum of Radius Ball-01 &Ball-02 is: 3+3=6\n",
            "Balls are not Colliede...!\n"
          ],
          "name": "stdout"
        }
      ]
    },
    {
      "cell_type": "markdown",
      "metadata": {
        "id": "BvoGZIRkPsHK"
      },
      "source": [
        "**b) Find mean, median, mode for the given set of numbers in a list**"
      ]
    },
    {
      "cell_type": "markdown",
      "metadata": {
        "id": "HT9qgWutqxgR"
      },
      "source": [
        "**AIM:**"
      ]
    },
    {
      "cell_type": "markdown",
      "metadata": {
        "id": "cx1ZEpz54eYh"
      },
      "source": [
        " Find mean, median, mode for the given set of numbers in a list"
      ]
    },
    {
      "cell_type": "markdown",
      "metadata": {
        "id": "GUpEEjbrqOa_"
      },
      "source": [
        "**DESCRIPTION**\n",
        "\n",
        "Mean : The mean is the average of all numbers and is sometimes called the arithmetic mean. This code calculates Mean or Average of a list containing numbers:\n",
        "\n",
        "Median : The median is the middle number in a group of numbers. This code calculates Median of a list containing numbers:\n",
        "\n",
        "Mode : The mode is the number that occurs most often within a set of numbers. This code calculates Mode of a list containing numbers:\n",
        "\n",
        "We will import Counter from collections library which is a built-in module in Python 2 and 3. This module will help us count duplicate elements in a list.\n",
        "We define a list of numbers and calculate the length of the list. We then call Counter (a dict subclass) which helps to count hashable objects, and we then convert it to dict object. We then initialize a list with a For Loop to compare all the dict values (Number of elements) to the max of all dict values (count of most occurring element) and it returns all the elements equal to max count. If the elements returned are equal to the number of total elements in a list then we print out ‘No mode’, else we print out the modes returned.\n",
        "\n"
      ]
    },
    {
      "cell_type": "markdown",
      "metadata": {
        "id": "SRTkVDTKqvIg"
      },
      "source": [
        "**PROGRAM:**"
      ]
    },
    {
      "cell_type": "code",
      "metadata": {
        "colab": {
          "base_uri": "https://localhost:8080/"
        },
        "id": "fzzOqVJr4zPY",
        "outputId": "0ce80488-b3f9-4a3c-ded2-ef2761dadc5d"
      },
      "source": [
        "def list_mean(num_list):\n",
        "    return sum(num_list)/len(num_list)\n",
        "\n",
        "def list_median(num_list):\n",
        "    num_list.sort()\n",
        "    n=len(num_list)\n",
        "    mid=n//2\n",
        "    if(n%2==1):\n",
        "        return num_list[mid]\n",
        "    else:\n",
        "        mid\n",
        "        return(num_list[mid+1]+num_list[mid])/2\n",
        "\n",
        "def list_mode(num_list):\n",
        "    num_list.sort()\n",
        "    temp=[]\n",
        "\n",
        "    i=0\n",
        "    while i<len(num_list):\n",
        "        temp.append(num_list.count(num_list[i]))\n",
        "        i+=1\n",
        "\n",
        "    dic=dict(zip(num_list,temp))\n",
        "    mode={k for(k,v) in dic.items() if v==max(temp)}\n",
        "    return mode\n",
        "\n",
        "\n",
        "    \n",
        "lst=[1,1,2,2,2,3,4,5,3]\n",
        "\n",
        "print(\"Given list is; \",lst)\n",
        "print(\"Mean of the given list: \",list_mean(lst))\n",
        "print(\"Median of the given list: \",list_median(lst))\n",
        "print(\"Mode of the given list: \",list_mode(lst))\n"
      ],
      "execution_count": null,
      "outputs": [
        {
          "output_type": "stream",
          "text": [
            "Given list is;  [1, 1, 2, 2, 2, 3, 4, 5, 3]\n",
            "Mean of the given list:  2.5555555555555554\n",
            "Median of the given list:  2\n",
            "Mode of the given list:  {2}\n"
          ],
          "name": "stdout"
        }
      ]
    },
    {
      "cell_type": "markdown",
      "metadata": {
        "id": "E4sWIbk3-Ek0"
      },
      "source": [
        "# **Exercise - 9 Functions - Continued**\n",
        "\n",
        "**a) Write a function nearly equal to test whether two strings are nearly**\n",
        "\n",
        "\n",
        "\n",
        "**AIM:**\n",
        "\n",
        "Write a function nearly equal to test whether two strings are nearly"
      ]
    },
    {
      "cell_type": "markdown",
      "metadata": {
        "id": "36o7CtjHrMGB"
      },
      "source": [
        "**DESCRIPTION:**\n",
        "\n",
        "strlen() function is used to check wether the two string are nearly equal or not by basis of the Length of those Strings\n",
        "\n",
        "len() function is an inbuilt function in Python programming language that returns the length of the string.\n",
        "\n",
        "len() is a built-in function in python.You can use the len() to get the length of the given string, array, list, tuple, dictionary, etc.\n",
        "\n",
        "Value: the given value you want the length of.\n",
        "\n",
        "Return value a return an integer value i.e. the length of the given string, or array, or list, or collections.\n",
        "\n",
        "Syntax:\n",
        "\n",
        "len(string)\n"
      ]
    },
    {
      "cell_type": "markdown",
      "metadata": {
        "id": "5hqFvhKUtxLB"
      },
      "source": [
        "**PROGRAM**"
      ]
    },
    {
      "cell_type": "code",
      "metadata": {
        "id": "e6RDDH-8-ODJ"
      },
      "source": [
        "def nearly_eq(str1,str2):\n",
        "    count=0\n",
        "    i=j=0\n",
        "    while(i<len(str1) and j<len(str2)):\n",
        "        if(str1[i]!=str2[j]):\n",
        "            count+=1\n",
        "            if(len(str1)>len(str2)):\n",
        "                i+=1\n",
        "            elif(len(str1)==len(str2)):\n",
        "                pass\n",
        "            else:\n",
        "                i-=1\n",
        "        if(count>1):\n",
        "            return False\n",
        "        i+=1\n",
        "        j+=1\n",
        "    if(count<2):\n",
        "        return True\n",
        "s1=input(\"Enter String1: \")\n",
        "s2=input(\"Enter String2: \")\n",
        "bln=nearly_eq(s1,s2)\n",
        "if(bln):\n",
        "    print(\"Strings are nearly equal.\")\n",
        "else:\n",
        "    print(\"Strings are Not Equal.\")\n"
      ],
      "execution_count": null,
      "outputs": []
    },
    {
      "cell_type": "markdown",
      "metadata": {
        "id": "ZgNghtgYQPr6"
      },
      "source": [
        "**b) Write a function dup to find all duplicates in the list.**"
      ]
    },
    {
      "cell_type": "markdown",
      "metadata": {
        "id": "p6S3QLbzugTg"
      },
      "source": [
        "**AIM:**"
      ]
    },
    {
      "cell_type": "markdown",
      "metadata": {
        "id": "_fPxdqcHEBVp"
      },
      "source": [
        "Write a function dup to find all duplicates in the list.\n"
      ]
    },
    {
      "cell_type": "markdown",
      "metadata": {
        "id": "hsHUZhLiukIl"
      },
      "source": [
        "**DESCRIPTION:**\n",
        "\n",
        "To check if a list contains any duplicate element follow the following steps,\n",
        "\n",
        "1. Add the contents of list in a set.\n",
        "\n",
        "        As set contains only unique elements, so no duplicates will be added   the the set.\n",
        "\n",
        "2. Compare the size of set and list.\n",
        "\n",
        "            If size of list & set is equal then it means no duplicates in list.\n",
        "\n",
        "3. If size of list & set are different then it means yes, there are duplicates in list."
      ]
    },
    {
      "cell_type": "markdown",
      "metadata": {
        "id": "aHd2pGQ9vSos"
      },
      "source": [
        "**PROGRAM**"
      ]
    },
    {
      "cell_type": "code",
      "metadata": {
        "colab": {
          "base_uri": "https://localhost:8080/"
        },
        "id": "MQ6qhzEiEL0T",
        "outputId": "da89b899-101a-48e0-e101-255faa05bb6e"
      },
      "source": [
        "def dups(numlist):\n",
        "    temp=[]\n",
        "    for i in numlist:\n",
        "        cnt=numlist.count(i)\n",
        "        if(cnt>1 and (i not in temp)):\n",
        "            temp.append(i)\n",
        "    print(\"Duplicates in the list: \",temp)\n",
        "\n",
        "lst=[1,2,6,9,1,3,5,2,1]\n",
        "print(\"Given elements in the list: \",lst)\n",
        "dups(lst)\n"
      ],
      "execution_count": null,
      "outputs": [
        {
          "output_type": "stream",
          "name": "stdout",
          "text": [
            "Given elements in the list:  [1, 2, 6, 9, 1, 3, 5, 2, 1]\n",
            "Duplicates in the list:  [1, 2]\n"
          ]
        }
      ]
    },
    {
      "cell_type": "code",
      "metadata": {
        "id": "_MEK35UeQaC8"
      },
      "source": [
        "**c) Write a function unique to find all the unique elements of a list.**"
      ],
      "execution_count": null,
      "outputs": []
    },
    {
      "cell_type": "markdown",
      "metadata": {
        "id": "xKrUOQQPvpuU"
      },
      "source": [
        "**AIM:**"
      ]
    },
    {
      "cell_type": "markdown",
      "metadata": {
        "id": "Y_5v5x62GS6f"
      },
      "source": [
        "Write a function unique to find all the unique elements of a list."
      ]
    },
    {
      "cell_type": "markdown",
      "metadata": {
        "id": "lUeB2j4kvt0P"
      },
      "source": [
        "**DESCRIPTION:**\n",
        "\n",
        "To find the unique in the list .There is a Specific Method i.e.,\n",
        "\n",
        "Method  : Traversal of list\n",
        "\n",
        "Using traversal, we can traverse for every element in the list and check if the element is in the unique_list already if it is not over there, then we can append it in the unique_list. \n",
        "\n",
        "This is done using one for loop and other if statement which check if the value is in the unique list or not which is equivalent to another for loop.  "
      ]
    },
    {
      "cell_type": "markdown",
      "metadata": {
        "id": "ubbqaGATwPOl"
      },
      "source": [
        "**PROGRAM:**"
      ]
    },
    {
      "cell_type": "code",
      "metadata": {
        "colab": {
          "base_uri": "https://localhost:8080/"
        },
        "id": "2zqpTekCGYko",
        "outputId": "f5d3a951-e3ee-4dab-dee8-49d5b3b0a451"
      },
      "source": [
        "def dups(numlist):\n",
        "    temp=[]\n",
        "    for i in numlist:\n",
        "        cnt=numlist.count(i)\n",
        "        if cnt==1:\n",
        "            temp.append(i)\n",
        "    print(\"Unique in the list: \",temp)\n",
        "\n",
        "lst=[1,2,6,9,1,3,5,2,1]\n",
        "print(\"Given elements in the list: \",lst)\n",
        "dups(lst)\n"
      ],
      "execution_count": null,
      "outputs": [
        {
          "output_type": "stream",
          "name": "stdout",
          "text": [
            "Given elements in the list:  [1, 2, 6, 9, 1, 3, 5, 2, 1]\n",
            "Unique in the list:  [6, 9, 3, 5]\n"
          ]
        }
      ]
    },
    {
      "cell_type": "markdown",
      "metadata": {
        "id": "v2ImpJrYHhHd"
      },
      "source": [
        "## **Exercise - 10 - Functions - Problem Solving**\n",
        "\n",
        "a) Write a function cumulative product to compute cumulative product of a list of numbers.\n",
        "\n",
        "\n",
        "\n",
        "**AIM**:\n",
        "\n",
        " Write a function cumulative product to compute cumulative product of a list of numbers."
      ]
    },
    {
      "cell_type": "markdown",
      "metadata": {
        "id": "63Hk_KW_wwAP"
      },
      "source": [
        "**DESCRIPTION:**\n",
        "\n",
        "A cumulative product is a sequence of partial products of a given sequence. For example, the cumulative products of the sequence. , are , , .. Cumulative products can be implemented in the Wolfram Language as Rest[FoldList[Times, 1, list]]\n",
        "\n",
        "cumprod(A,1) works on successive elements in the columns of A and returns the cumulative products of each column. cumprod(A,2) works on successive elements in the rows of A and returns the cumulative products of each row.\n",
        "\n",
        "umprod() function is used when we want to compute the cumulative product of array elements over a given axis. Syntax : numpy.cumprod(arr, axis=None, dtype=None, out=None) Parameters : arr : [array_like] Array containing numbers whose cumulative product is desired."
      ]
    },
    {
      "cell_type": "markdown",
      "metadata": {
        "id": "czM_kkuoyw6q"
      },
      "source": [
        "**PROGRAM**"
      ]
    },
    {
      "cell_type": "code",
      "metadata": {
        "colab": {
          "base_uri": "https://localhost:8080/"
        },
        "id": "A4y85L_gHwPi",
        "outputId": "8f817d6d-33d0-40a8-f4d5-93a96049dc97"
      },
      "source": [
        "def cum_prod(numlist):\n",
        "    prod=1\n",
        "    temp=[]\n",
        "    for i in numlist:\n",
        "        prod*=i\n",
        "        temp.append(prod)\n",
        "    return temp\n",
        "\n",
        "lst=[1,2,4,5,3]\n",
        "print(\"Given elements in the list: \",lst)\n",
        "print(\"Cumulative Product list is: \",cum_prod(lst))\n"
      ],
      "execution_count": null,
      "outputs": [
        {
          "output_type": "stream",
          "name": "stdout",
          "text": [
            "Given elements in the list:  [1, 2, 4, 5, 3]\n",
            "Cumulative Product list is:  [1, 2, 8, 40, 120]\n"
          ]
        }
      ]
    },
    {
      "cell_type": "markdown",
      "metadata": {
        "id": "X6ApqdQvQpjB"
      },
      "source": [
        "b) Write a function reverse to reverse a list. Without using the reverse function."
      ]
    },
    {
      "cell_type": "markdown",
      "metadata": {
        "id": "zOTgwy7Fy9DM"
      },
      "source": [
        "**AIM:**"
      ]
    },
    {
      "cell_type": "markdown",
      "metadata": {
        "id": "qFE3CGFcJVUo"
      },
      "source": [
        "Write a function reverse to reverse a list. Without using the reverse function."
      ]
    },
    {
      "cell_type": "markdown",
      "metadata": {
        "id": "_tOdMx__zECn"
      },
      "source": [
        "**DESCRIPTION:**\n",
        "\n",
        "In this Python code snippet post, we are going to implement a list reverse function from the scratch without using any builtin functions.\n",
        "\n",
        "Let us see how…\n",
        "\n",
        "Iterative solution\n",
        "\n",
        "We can use a for loop to swap the first and last items, the second and the one before the last item and so on until the list is reversed in place. The number of iterations needed is half the list size. If the list has an odd number of items then the middle item will stay in its place.\n"
      ]
    },
    {
      "cell_type": "markdown",
      "metadata": {
        "id": "cp8vnvgFzjwx"
      },
      "source": [
        "**PROGRAM:**"
      ]
    },
    {
      "cell_type": "code",
      "metadata": {
        "colab": {
          "base_uri": "https://localhost:8080/"
        },
        "id": "fRZ_bbBiJfLe",
        "outputId": "b62eada0-7941-4ced-d5f4-8d88aeb6fbe1"
      },
      "source": [
        "def reverse_list(numlist):\n",
        "    i=0\n",
        "    j=len(numlist)-1\n",
        "    while(i<=j):\n",
        "        temp=numlist[i]\n",
        "        numlist[i]=numlist[j]\n",
        "        numlist[j]=temp\n",
        "        j-=1\n",
        "        i+=1\n",
        "    return numlist\n",
        "lst=[1,2,3,4]\n",
        "print(\"Given list is: \",lst)\n",
        "reverse_list(lst)\n",
        "print(\"Reverse of the given list is: \",lst)\n"
      ],
      "execution_count": null,
      "outputs": [
        {
          "output_type": "stream",
          "name": "stdout",
          "text": [
            "Given list is:  [1, 2, 3, 4]\n",
            "Reverse of the given list is:  [4, 3, 2, 1]\n"
          ]
        }
      ]
    },
    {
      "cell_type": "markdown",
      "metadata": {
        "id": "9N5GZ2F2Quy8"
      },
      "source": [
        "**c) Write function to compute gcd, lcm of two numbers. Each function shouldn’t exceed one line.**"
      ]
    },
    {
      "cell_type": "markdown",
      "metadata": {
        "id": "RCw0FIDJ0DTL"
      },
      "source": [
        "**AIM:**"
      ]
    },
    {
      "cell_type": "markdown",
      "metadata": {
        "id": "z_H4doxwManM"
      },
      "source": [
        "Write function to compute gcd, lcm of two numbers. Each function shouldn’t exceed one line."
      ]
    },
    {
      "cell_type": "markdown",
      "metadata": {
        "id": "CXHy-5KD0HVd"
      },
      "source": [
        "**DESCRIPTION:**\n",
        "\n",
        "Python provides you an anonymous function called lambda. It can take any number of\n",
        "arguments, but can only have one expression. It can be used to find LCM and GCD values without exceeding each from from one line.\n",
        "\n",
        "The general format is\n",
        "\n",
        "**lambda arguments: expression**\n",
        "\n",
        "The expression is executed during the function call and the result is returned. \n",
        "\n",
        "**Lambda as a Function**\n",
        "\n",
        "The power of using a lambda expression is implementing it using a function"
      ]
    },
    {
      "cell_type": "markdown",
      "metadata": {
        "id": "33QvaCqN008O"
      },
      "source": [
        "**PROGRAM:**"
      ]
    },
    {
      "cell_type": "code",
      "metadata": {
        "colab": {
          "base_uri": "https://localhost:8080/"
        },
        "id": "wy8fP0q0MhuT",
        "outputId": "ccd9d001-38f3-4f5d-9041-339325c5cb0e"
      },
      "source": [
        "gcd=lambda a,b: a if b==0 else gcd(a,a%b)\n",
        "lcm=lambda a,b: (a*b)/gcd(a,b)\n",
        "\n",
        "x=4\n",
        "y=24\n",
        "print(\"The Given Numbers: \",x,y)\n",
        "print(\"GCD is: \",gcd(x,y))\n",
        "print(\"LCM is: \",lcm(x,y))\n"
      ],
      "execution_count": null,
      "outputs": [
        {
          "output_type": "stream",
          "name": "stdout",
          "text": [
            "The Given Numbers:  4 24\n",
            "GCD is:  4\n",
            "LCM is:  24.0\n"
          ]
        }
      ]
    },
    {
      "cell_type": "markdown",
      "metadata": {
        "id": "L2KXx2_7Ny88"
      },
      "source": [
        "# **Exercise 11 - Multi-D Lists**\n",
        "\n",
        "**a) Write a program that defines a matrix and prints**\n",
        "\n",
        "\n",
        "**AIM**:\n",
        "\n",
        " Write a program that defines a matrix and prints"
      ]
    },
    {
      "cell_type": "markdown",
      "metadata": {
        "id": "DtKVfepz1d7z"
      },
      "source": [
        "**DESCRIPTION:**\n",
        "\n",
        "Lists are a very widely use data structure in python. They contain a list of elements separated by comma. But sometimes lists can also contain lists within them. These are called nested lists or multidimensional lists. In this article we will see how to create and access elements in a multidimensional list.\n",
        "\n",
        "**Methods on Multidimensional lists**\n",
        "\n",
        "1. append(): Adds an element at the end of the list.\n",
        "\n",
        "2. extend(): Add the elements of a list (or any iterable), to the end of the current list.\n",
        "\n",
        "3. reverse(): Reverses the order of the list."
      ]
    },
    {
      "cell_type": "markdown",
      "metadata": {
        "id": "54PngxXb1802"
      },
      "source": [
        "**PROGRAM:**"
      ]
    },
    {
      "cell_type": "code",
      "metadata": {
        "colab": {
          "base_uri": "https://localhost:8080/"
        },
        "id": "6x6PSc1EQxmi",
        "outputId": "f39e56bf-feaf-40af-e703-85ad681dc921"
      },
      "source": [
        "matA=[[]]\n",
        "rows=int(input(\"Enter row size of Matrix:\"))\n",
        "cols=int(input(\"Enter column size of Matrix: \"))\n",
        "\n",
        "matA=[[int(input(\"Enter [%d,%d] value: \"%(i,j)))for j in range(cols)]for i in range(rows)]\n",
        "\n",
        "print(\"Matrix is: \")\n",
        "for i in range(rows):\n",
        "    for j in range(cols):\n",
        "        print(matA[i][j],end='\\t')\n",
        "    print()\n"
      ],
      "execution_count": null,
      "outputs": [
        {
          "output_type": "stream",
          "text": [
            "Enter row size of Matrix:3\n",
            "Enter column size of Matrix: 2\n",
            "Enter [0,0] value: 5\n",
            "Enter [0,1] value: 1\n",
            "Enter [1,0] value: 6\n",
            "Enter [1,1] value: 10\n",
            "Enter [2,0] value: 8\n",
            "Enter [2,1] value: 4\n",
            "Matrix is: \n",
            "5\t1\t\n",
            "6\t10\t\n",
            "8\t4\t\n"
          ],
          "name": "stdout"
        }
      ]
    },
    {
      "cell_type": "markdown",
      "metadata": {
        "id": "WT4YABCRRBkD"
      },
      "source": [
        "**b) Write a program to perform addition of two square matrices**"
      ]
    },
    {
      "cell_type": "markdown",
      "metadata": {
        "id": "ObqQXJdc2dIj"
      },
      "source": [
        "**AIM:**"
      ]
    },
    {
      "cell_type": "markdown",
      "metadata": {
        "id": "PeftAPODRSuz"
      },
      "source": [
        " Write a program to perform addition of two square matrices"
      ]
    },
    {
      "cell_type": "markdown",
      "metadata": {
        "id": "mKoxGh1z2imX"
      },
      "source": [
        "**DESCRIPTION:**\n",
        "\n",
        "We can perform matrix addition in following ways in Python.  \n",
        "\n",
        "1. Using for loop: \n",
        "\n",
        "**Explanation** :- \n",
        "In this program we have used nested for loops to iterate through each row and each column. At each point we add the corresponding elements in the two matrices and store it in the result.\n",
        "\n",
        "2. Using nested list comprehension :\n",
        "\n",
        " In Python, we can implement a matrix as nested list (list inside a list). We can treat each element as a row of the matrix. \n",
        "\n",
        "**Explanation :-**\n",
        "\n",
        "The output of this program is the same as above. We have used nested list comprehension to iterate through each element in the matrix. List comprehension allows us to write concise codes and we must try to use them frequently in Python. They are very helpful.\n",
        "\n",
        "3. uising zip function\n",
        "\n",
        "**Explanation :**\n",
        "\n",
        "The zip function accepts iterator i of each element(list) of matrix, mapping them, adding them using sum() and storing them in the map form."
      ]
    },
    {
      "cell_type": "markdown",
      "metadata": {
        "id": "iVyKnrN54A8v"
      },
      "source": [
        "**PROGRAM:**"
      ]
    },
    {
      "cell_type": "code",
      "metadata": {
        "colab": {
          "base_uri": "https://localhost:8080/"
        },
        "id": "UPjP0RRBR2N9",
        "outputId": "ac48fa63-ea67-4556-8b94-86c1f48885e1"
      },
      "source": [
        "def matRead(r,c):\n",
        "   return[[int(input(\"[%d,%d]value: \"%(i,j)))for j in range(c)] for i in range(r)]\n",
        "\n",
        "def matDisp(mat,r,c):\n",
        "    for i in range(r):\n",
        "        for j in range(c):\n",
        "            print(mat[i][j],end='\\t')\n",
        "        print()\n",
        "\n",
        "matA=[[]]\n",
        "matB=[[]]\n",
        "matSum=[[]]\n",
        "rows=int(input(\"Enter Row Size of the Matrix: \"))\n",
        "cols=int(input(\"Enter column size of the Matrix: \"))\n",
        "if rows==cols:\n",
        "    print(\"Enter Matrix-A elements: \")\n",
        "    matA=matRead(rows,cols)\n",
        "\n",
        "    print(\"Enter Matrix-B elements: \")\n",
        "    matB=matRead(rows,cols)\n",
        "\n",
        "    print(\"Matrix-A is: \")\n",
        "    matDisp(matA,rows,cols)\n",
        "\n",
        "    print(\"Matrix-B is: \")\n",
        "    matDisp(matB,rows,cols)\n",
        "\n",
        "    matSum=[[matA[i][j]+matB[i][j] for j in range(cols)] for i in range(rows)]\n",
        "    print(\"Sum of Matrices is: \")\n",
        "    matDisp(matSum,rows,cols)\n",
        "else:\n",
        "    print(\"Matrices Addition is not possible\")\n"
      ],
      "execution_count": null,
      "outputs": [
        {
          "output_type": "stream",
          "text": [
            "Enter Row Size of the Matrix: 2\n",
            "Enter column size of the Matrix: 2\n",
            "Enter Matrix-A elements: \n",
            "[0,0]value: 7\n",
            "[0,1]value: 8\n",
            "[1,0]value: 1\n",
            "[1,1]value: 4\n",
            "Enter Matrix-B elements: \n",
            "[0,0]value: 1\n",
            "[0,1]value: 5\n",
            "[1,0]value: 1\n",
            "[1,1]value: 6\n",
            "Matrix-A is: \n",
            "7\t8\t\n",
            "1\t4\t\n",
            "Matrix-B is: \n",
            "1\t5\t\n",
            "1\t6\t\n",
            "Sum of Matrices is: \n",
            "8\t13\t\n",
            "2\t10\t\n"
          ],
          "name": "stdout"
        }
      ]
    },
    {
      "cell_type": "markdown",
      "metadata": {
        "id": "VRkj63vA4Zpd"
      },
      "source": [
        "**AIM:**"
      ]
    },
    {
      "cell_type": "markdown",
      "metadata": {
        "id": "4wc-Eu0haTk_"
      },
      "source": [
        "c) Write a program to perform multiplication of two square "
      ]
    },
    {
      "cell_type": "markdown",
      "metadata": {
        "id": "vetaWQVl4cCV"
      },
      "source": [
        "**DESCRIPTION:**\n",
        "\n",
        "In Python, we can implement a matrix as nested list (list inside a list).\n",
        "\n",
        "We can treat each element as a row of the matrix.\n",
        "\n",
        "For example X = [[1, 2], [4, 5], [3, 6]] would represent a 3x2 matrix.\n",
        "\n",
        "The first row can be selected as X[0]. And, the element in first row, first column can be selected as X[0][0].\n",
        "\n",
        "Multiplication of two matrices X and Y is defined only if the number of columns in X is equal to the number of rows Y.\n",
        "\n",
        "If X is a n x m matrix and Y is a m x l matrix then, XY is defined and has the dimension n x l (but YX is not defined). Here are a couple of ways to implement matrix multiplication in Python."
      ]
    },
    {
      "cell_type": "markdown",
      "metadata": {
        "id": "10eeFcOZ400i"
      },
      "source": [
        "**PROGRAM:**"
      ]
    },
    {
      "cell_type": "code",
      "metadata": {
        "colab": {
          "base_uri": "https://localhost:8080/"
        },
        "id": "V3SKv7JkaUc1",
        "outputId": "98a57679-c726-4ec4-94a0-e4a72e3b42a0"
      },
      "source": [
        "def matRead(r,c):\n",
        "   return[[int(input(\"[%d,%d]value: \"%(i,j)))for j in range(c)] for i in range(r)]\n",
        "\n",
        "def matDisp(mat,r,c):\n",
        "    for i in range(r):\n",
        "        for j in range(c):\n",
        "            print(mat[i][j],end='\\t')\n",
        "        print()\n",
        "\n",
        "matA=[[]]\n",
        "matB=[[]]\n",
        "matMul=[[]]\n",
        "rows=int(input(\"Enter Row Size of the Matrix: \"))\n",
        "cols=int(input(\"Enter column size of the Matrix: \"))\n",
        "if rows==cols:\n",
        "    print(\"Enter Matrix-A: \")\n",
        "    matA=matRead(rows,cols)\n",
        "\n",
        "    print(\"Enter Matrix-B: \")\n",
        "    matB=matRead(rows,cols)\n",
        "\n",
        "    matMul=[[0 for j in range(cols)] for i in range(rows)]\n",
        "\n",
        "    for i in range(rows):\n",
        "        for j in range(cols):\n",
        "            for k in range(cols):\n",
        "                matMul[i][j]+=matA[i][k]*matB[k][j]\n",
        "                \n",
        "    print(\"Matrix-A is: \")\n",
        "    matDisp(matA,rows,cols)\n",
        "\n",
        "    print(\"Matrix-B is: \")\n",
        "    matDisp(matB,rows,cols)\n",
        "\n",
        "    print(\"Multiplication of Matrices is: \")\n",
        "    matDisp(matMul,rows,cols)\n",
        "else:\n",
        "    print(\"Matrices Multiplication is not possible\")\n"
      ],
      "execution_count": null,
      "outputs": [
        {
          "output_type": "stream",
          "text": [
            "Enter Row Size of the Matrix: 2\n",
            "Enter column size of the Matrix: 2\n",
            "Enter Matrix-A: \n",
            "[0,0]value: 1\n",
            "[0,1]value: 5\n",
            "[1,0]value: 1\n",
            "[1,1]value: 6\n",
            "Enter Matrix-B: \n",
            "[0,0]value: 7\n",
            "[0,1]value: 8\n",
            "[1,0]value: 1\n",
            "[1,1]value: 4\n",
            "Matrix-A is: \n",
            "1\t5\t\n",
            "1\t6\t\n",
            "Matrix-B is: \n",
            "7\t8\t\n",
            "1\t4\t\n",
            "Multiplication of Matrices is: \n",
            "12\t28\t\n",
            "13\t32\t\n"
          ],
          "name": "stdout"
        }
      ]
    },
    {
      "cell_type": "markdown",
      "metadata": {
        "id": "IIpb3riQYWSq"
      },
      "source": [
        "# **Exercise-12-Modules**"
      ]
    },
    {
      "cell_type": "markdown",
      "metadata": {
        "id": "p_aLs3yWN7Cf"
      },
      "source": [
        "**AIM:**"
      ]
    },
    {
      "cell_type": "markdown",
      "metadata": {
        "id": "hagVntG5YwdG"
      },
      "source": [
        "a) Install packages requests,flask and explore them using(pip)"
      ]
    },
    {
      "cell_type": "markdown",
      "metadata": {
        "id": "IaCx0009OFFB"
      },
      "source": [
        "**DESCRIPTION:**\n",
        "\n",
        "Installing the pip Python package manager on Windows\n",
        "If you are on Windows, and your installed Python the current version, you already have pip! If your Python installation is not the most recent, the easiest thing to do is to simply reinstall it. Download the Python Windows installer at https://www.python.org/downloads/.\n",
        "\n",
        "In Windows, the variable that controls which programs are accessible from the command line is path. To modify your path to include Python and pip, we have to add C:\\Python27 and C:\\Python27\\Tools. Edit the Windows path by opening the Windows menu, right-clicking on Computer and clicking on Properties. Under Advanced system settings, click Environment Variables.... Scroll down until you find Path, double-click it, and add ;C:\\Python27;C:\\Python27\\Tools to the end.\n",
        "\n",
        "**Installing packages:**\n",
        "\n",
        "Suppose you want to install a package called requests (which is used to make HTTP requests). You need to issue the following command.\n",
        "\n",
        "pip install requests\n",
        "\n",
        "**show installed packages**\n",
        "\n",
        "You can use the following command to get information about a installed package, i.e Package name, version, location, dependencies.\n",
        "\n",
        "pip show package_name\n",
        "\n",
        "**install flask**\n",
        "\n",
        "On Mac and Linux, because you are installing programs outside the user-owned folders, you might have to prepend sudo to the install commands. To install Flask, simply run this:\n",
        "\n",
        "$ pip install flask\n",
        "\n",
        "**show installed flask**\n",
        "\n",
        "You can use the following command to get information about a installed flask, i.e Package name, version, location, dependencies\n",
        "\n",
        "$ pip show flask\n",
        "\n"
      ]
    },
    {
      "cell_type": "markdown",
      "metadata": {
        "id": "-cMBp0mqTurr"
      },
      "source": [
        "**PROGRAM:**"
      ]
    },
    {
      "cell_type": "markdown",
      "metadata": {
        "id": "LCBAojP6ZAhd"
      },
      "source": [
        "The requests and flask packages are downloaded from internet using the following commands."
      ]
    },
    {
      "cell_type": "markdown",
      "metadata": {
        "id": "gRTViQJm_XQO"
      },
      "source": [
        "c:\\phython3.9\\scripts>pip install requests"
      ]
    },
    {
      "cell_type": "markdown",
      "metadata": {
        "id": "XVo51MUtAcxx"
      },
      "source": [
        "c:\\phython3.9\\scripts>pip show requests"
      ]
    },
    {
      "cell_type": "markdown",
      "metadata": {
        "id": "PYV8BTnRAgWm"
      },
      "source": [
        "c:\\phython3.9\\scripts>pip install flask"
      ]
    },
    {
      "cell_type": "markdown",
      "metadata": {
        "id": "jPoq_KQOAjyX"
      },
      "source": [
        "c:\\phython3.9\\scripts>pip show flask"
      ]
    },
    {
      "cell_type": "markdown",
      "metadata": {
        "id": "WsSueSGFRhlw"
      },
      "source": [
        "**b) Write a scripts that imports requests and fetch content from the page.Eg. (Wiki)code:**"
      ]
    },
    {
      "cell_type": "markdown",
      "metadata": {
        "id": "ohOBJUNBxRYD"
      },
      "source": [
        "**AIM:**"
      ]
    },
    {
      "cell_type": "markdown",
      "metadata": {
        "id": "vgRw4wlT_Cqb"
      },
      "source": [
        "Write a scripts that imports requests and fetch content from the page.Eg. (Wiki)code:"
      ]
    },
    {
      "cell_type": "markdown",
      "metadata": {
        "id": "Wi7uKYU_xYt_"
      },
      "source": [
        "**DESCRIPTION:**\n",
        "\n",
        "The Hypertext Transfer Protocol (HTTP) is an application protocol for distributed, collaborative, hypermedia information systems. HTTP is the foundation of data communication for the World Wide Web.\n",
        "\n",
        "**Python requests**\n",
        "\n",
        "Requests is a simple and elegant Python HTTP library. It provides methods for accessing Web resources via HTTP.\n",
        "\n",
        "**Python requests reading a web page**\n",
        "\n",
        "The **get()** method issues a GET request; it fetches documents identified by the given URL."
      ]
    },
    {
      "cell_type": "markdown",
      "metadata": {
        "id": "rc22moRCyK7M"
      },
      "source": [
        "**PROGRAM:**"
      ]
    },
    {
      "cell_type": "code",
      "metadata": {
        "colab": {
          "base_uri": "https://localhost:8080/"
        },
        "id": "fWvuAGzKCG6I",
        "outputId": "424ab3cd-b1e6-41d9-b551-1b7433e63413"
      },
      "source": [
        "import requests\n",
        "r=requests.get('https://www.google.com')\n",
        "print(\"Statuscode: \",r.status_code)\n",
        "print(\"Header Content: \",r.headers['content-type'])\n",
        "print(r.text)"
      ],
      "execution_count": null,
      "outputs": [
        {
          "output_type": "stream",
          "text": [
            "Statuscode:  200\n",
            "Header Content:  text/html; charset=ISO-8859-1\n",
            "<!doctype html><html itemscope=\"\" itemtype=\"http://schema.org/WebPage\" lang=\"en\"><head><meta content=\"Search the world's information, including webpages, images, videos and more. Google has many special features to help you find exactly what you're looking for.\" name=\"description\"><meta content=\"noodp\" name=\"robots\"><meta content=\"text/html; charset=UTF-8\" http-equiv=\"Content-Type\"><meta content=\"/images/branding/googleg/1x/googleg_standard_color_128dp.png\" itemprop=\"image\"><title>Google</title><script nonce=\"xLSLxwAKMEwuuMvxaQW7eA==\">(function(){window.google={kEI:'uAL1YKmbC_q90PEP5qiA0AI',kEXPI:'0,772215,1,530320,56873,954,5104,207,2415,850,1539,2316,383,246,5,1354,4936,314,6385,1116131,1197715,176,392,328984,51224,16114,28684,17572,4858,1362,9291,3025,17583,4020,978,6244,6984,3847,4192,6430,1142,13386,234,4282,2778,919,2370,2711,1593,1279,2212,239,291,149,1103,840,1983,4314,4120,2023,2297,14670,3227,2845,7,4774,825,6755,5096,7540,336,3749,1288,1483,1924,908,2,941,2614,12710,432,3,346,1244,1,5444,149,11323,2642,4,1538,2304,1236,5803,74,1983,2626,2015,4067,7434,2110,1714,3050,2658,7355,32,3877,9751,2305,638,37,1457,5586,3772,5993,770,665,4248,1552,2557,4094,2257,882,5,908,3,3541,1,5349,9364,1,1810,283,912,5992,10619,1907,2,1394,738,18,653,1,115,8,1,1272,1715,2,3037,20,2538,1,2,2,2896,716,627,4,32,4,2243,2,3142,4,683,442,342,255,55,4,434,2377,93,30,520,1781,1274,4578,1576,3,472,1646,172,5451,100,3,365,80,595,76,568,516,1267,2,3425,3,1712,291,1440,33,907,1340,1,1377,1005,2354,350,2,327,2,506,3,125,3922,48,1378,13,1225,223,85,2347,1,12,3,1,725,586,235,228,1898,657,1,8,46,1,8,42,2183,120,394,993,1,2,317,682,5,126,899,1512,103,3,316,471,84,57,268,895,18,39,101,190,153,415,414,1,1105,358,7,1379,596,471,714,762,305,646,787,42,472,81,395,288,4,13,794,34,575,2633,226,5611789,194,32,220,59,5996809,2800697,882,444,1,2,80,1,1796,1,9,2,2551,1,748,141,801,557,1,4265,1,1,2,1331,3299,843,2609,155,17,13,72,139,4,2,20,2,169,13,19,46,5,39,96,548,29,2,2,1,2,1,2,2,7,4,1,2,2,2,2,2,2,312,41,513,186,1,1,158,3,2,2,2,2,2,4,2,3,3,233,10,26,21,1874751,21780085,299866,2866026,1146350,27334,1641,338,3,2339,75,906,7,94,1782',kBL:'01HL'};google.sn='webhp';google.kHL='en';})();(function(){\n",
            "var f=this||self;var h,k=[];function l(a){for(var b;a&&(!a.getAttribute||!(b=a.getAttribute(\"eid\")));)a=a.parentNode;return b||h}function m(a){for(var b=null;a&&(!a.getAttribute||!(b=a.getAttribute(\"leid\")));)a=a.parentNode;return b}\n",
            "function n(a,b,c,d,g){var e=\"\";c||-1!==b.search(\"&ei=\")||(e=\"&ei=\"+l(d),-1===b.search(\"&lei=\")&&(d=m(d))&&(e+=\"&lei=\"+d));d=\"\";!c&&f._cshid&&-1===b.search(\"&cshid=\")&&\"slh\"!==a&&(d=\"&cshid=\"+f._cshid);c=c||\"/\"+(g||\"gen_204\")+\"?atyp=i&ct=\"+a+\"&cad=\"+b+e+\"&zx=\"+Date.now()+d;/^http:/i.test(c)&&\"https:\"===window.location.protocol&&(google.ml&&google.ml(Error(\"a\"),!1,{src:c,glmm:1}),c=\"\");return c};h=google.kEI;google.getEI=l;google.getLEI=m;google.ml=function(){return null};google.log=function(a,b,c,d,g){if(c=n(a,b,c,d,g)){a=new Image;var e=k.length;k[e]=a;a.onerror=a.onload=a.onabort=function(){delete k[e]};a.src=c}};google.logUrl=n;}).call(this);(function(){\n",
            "google.y={};google.sy=[];google.x=function(a,b){if(a)var c=a.id;else{do c=Math.random();while(google.y[c])}google.y[c]=[a,b];return!1};google.sx=function(a){google.sy.push(a)};google.lm=[];google.plm=function(a){google.lm.push.apply(google.lm,a)};google.lq=[];google.load=function(a,b,c){google.lq.push([[a],b,c])};google.loadAll=function(a,b){google.lq.push([a,b])};google.bx=!1;google.lx=function(){};}).call(this);google.f={};(function(){\n",
            "document.documentElement.addEventListener(\"submit\",function(b){var a;if(a=b.target){var c=a.getAttribute(\"data-submitfalse\");a=\"1\"==c||\"q\"==c&&!a.elements.q.value?!0:!1}else a=!1;a&&(b.preventDefault(),b.stopPropagation())},!0);document.documentElement.addEventListener(\"click\",function(b){var a;a:{for(a=b.target;a&&a!=document.documentElement;a=a.parentElement)if(\"A\"==a.tagName){a=\"1\"==a.getAttribute(\"data-nohref\");break a}a=!1}a&&b.preventDefault()},!0);}).call(this);</script><style>#gbar,#guser{font-size:13px;padding-top:1px !important;}#gbar{height:22px}#guser{padding-bottom:7px !important;text-align:right}.gbh,.gbd{border-top:1px solid #c9d7f1;font-size:1px}.gbh{height:0;position:absolute;top:24px;width:100%}@media all{.gb1{height:22px;margin-right:.5em;vertical-align:top}#gbar{float:left}}a.gb1,a.gb4{text-decoration:underline !important}a.gb1,a.gb4{color:#00c !important}.gbi .gb4{color:#dd8e27 !important}.gbf .gb4{color:#900 !important}\n",
            "</style><style>body,td,a,p,.h{font-family:arial,sans-serif}body{margin:0;overflow-y:scroll}#gog{padding:3px 8px 0}td{line-height:.8em}.gac_m td{line-height:17px}form{margin-bottom:20px}.h{color:#1558d6}em{font-weight:bold;font-style:normal}.lst{height:25px;width:496px}.gsfi,.lst{font:18px arial,sans-serif}.gsfs{font:17px arial,sans-serif}.ds{display:inline-box;display:inline-block;margin:3px 0 4px;margin-left:4px}input{font-family:inherit}body{background:#fff;color:#000}a{color:#4b11a8;text-decoration:none}a:hover,a:active{text-decoration:underline}.fl a{color:#1558d6}a:visited{color:#4b11a8}.sblc{padding-top:5px}.sblc a{display:block;margin:2px 0;margin-left:13px;font-size:11px}.lsbb{background:#f8f9fa;border:solid 1px;border-color:#dadce0 #70757a #70757a #dadce0;height:30px}.lsbb{display:block}#WqQANb a{display:inline-block;margin:0 12px}.lsb{background:url(/images/nav_logo229.png) 0 -261px repeat-x;border:none;color:#000;cursor:pointer;height:30px;margin:0;outline:0;font:15px arial,sans-serif;vertical-align:top}.lsb:active{background:#dadce0}.lst:focus{outline:none}</style><script nonce=\"xLSLxwAKMEwuuMvxaQW7eA==\"></script></head><body bgcolor=\"#fff\"><script nonce=\"xLSLxwAKMEwuuMvxaQW7eA==\">(function(){var src='/images/nav_logo229.png';var iesg=false;document.body.onload = function(){window.n && window.n();if (document.images){new Image().src=src;}\n",
            "if (!iesg){document.f&&document.f.q.focus();document.gbqf&&document.gbqf.q.focus();}\n",
            "}\n",
            "})();</script><div id=\"mngb\"><div id=gbar><nobr><b class=gb1>Search</b> <a class=gb1 href=\"https://www.google.com/imghp?hl=en&tab=wi\">Images</a> <a class=gb1 href=\"https://maps.google.com/maps?hl=en&tab=wl\">Maps</a> <a class=gb1 href=\"https://play.google.com/?hl=en&tab=w8\">Play</a> <a class=gb1 href=\"https://www.youtube.com/?gl=US&tab=w1\">YouTube</a> <a class=gb1 href=\"https://news.google.com/?tab=wn\">News</a> <a class=gb1 href=\"https://mail.google.com/mail/?tab=wm\">Gmail</a> <a class=gb1 href=\"https://drive.google.com/?tab=wo\">Drive</a> <a class=gb1 style=\"text-decoration:none\" href=\"https://www.google.com/intl/en/about/products?tab=wh\"><u>More</u> &raquo;</a></nobr></div><div id=guser width=100%><nobr><span id=gbn class=gbi></span><span id=gbf class=gbf></span><span id=gbe></span><a href=\"http://www.google.com/history/optout?hl=en\" class=gb4>Web History</a> | <a  href=\"/preferences?hl=en\" class=gb4>Settings</a> | <a target=_top id=gb_70 href=\"https://accounts.google.com/ServiceLogin?hl=en&passive=true&continue=https://www.google.com/&ec=GAZAAQ\" class=gb4>Sign in</a></nobr></div><div class=gbh style=left:0></div><div class=gbh style=right:0></div></div><center><br clear=\"all\" id=\"lgpd\"><div id=\"lga\"><img alt=\"Google\" height=\"92\" src=\"/images/branding/googlelogo/1x/googlelogo_white_background_color_272x92dp.png\" style=\"padding:28px 0 14px\" width=\"272\" id=\"hplogo\"><br><br></div><form action=\"/search\" name=\"f\"><table cellpadding=\"0\" cellspacing=\"0\"><tr valign=\"top\"><td width=\"25%\">&nbsp;</td><td align=\"center\" nowrap=\"\"><input name=\"ie\" value=\"ISO-8859-1\" type=\"hidden\"><input value=\"en\" name=\"hl\" type=\"hidden\"><input name=\"source\" type=\"hidden\" value=\"hp\"><input name=\"biw\" type=\"hidden\"><input name=\"bih\" type=\"hidden\"><div class=\"ds\" style=\"height:32px;margin:4px 0\"><input class=\"lst\" style=\"margin:0;padding:5px 8px 0 6px;vertical-align:top;color:#000\" autocomplete=\"off\" value=\"\" title=\"Google Search\" maxlength=\"2048\" name=\"q\" size=\"57\"></div><br style=\"line-height:0\"><span class=\"ds\"><span class=\"lsbb\"><input class=\"lsb\" value=\"Google Search\" name=\"btnG\" type=\"submit\"></span></span><span class=\"ds\"><span class=\"lsbb\"><input class=\"lsb\" id=\"tsuid1\" value=\"I'm Feeling Lucky\" name=\"btnI\" type=\"submit\"><script nonce=\"xLSLxwAKMEwuuMvxaQW7eA==\">(function(){var id='tsuid1';document.getElementById(id).onclick = function(){if (this.form.q.value){this.checked = 1;if (this.form.iflsig)this.form.iflsig.disabled = false;}\n",
            "else top.location='/doodles/';};})();</script><input value=\"AINFCbYAAAAAYPUQyJatbO4L0hb9Ex1g8iExanOV5KzV\" name=\"iflsig\" type=\"hidden\"></span></span></td><td class=\"fl sblc\" align=\"left\" nowrap=\"\" width=\"25%\"><a href=\"/advanced_search?hl=en&amp;authuser=0\">Advanced search</a></td></tr></table><input id=\"gbv\" name=\"gbv\" type=\"hidden\" value=\"1\"><script nonce=\"xLSLxwAKMEwuuMvxaQW7eA==\">(function(){\n",
            "var a,b=\"1\";if(document&&document.getElementById)if(\"undefined\"!=typeof XMLHttpRequest)b=\"2\";else if(\"undefined\"!=typeof ActiveXObject){var c,d,e=[\"MSXML2.XMLHTTP.6.0\",\"MSXML2.XMLHTTP.3.0\",\"MSXML2.XMLHTTP\",\"Microsoft.XMLHTTP\"];for(c=0;d=e[c++];)try{new ActiveXObject(d),b=\"2\"}catch(h){}}a=b;if(\"2\"==a&&-1==location.search.indexOf(\"&gbv=2\")){var f=google.gbvu,g=document.getElementById(\"gbv\");g&&(g.value=a);f&&window.setTimeout(function(){location.href=f},0)};}).call(this);</script></form><div id=\"gac_scont\"></div><div style=\"font-size:83%;min-height:3.5em\"><br></div><span id=\"footer\"><div style=\"font-size:10pt\"><div style=\"margin:19px auto;text-align:center\" id=\"WqQANb\"><a href=\"/intl/en/ads/\">Advertising Programs</a><a href=\"/services/\">Business Solutions</a><a href=\"/intl/en/about.html\">About Google</a></div></div><p style=\"font-size:8pt;color:#70757a\">&copy; 2021 - <a href=\"/intl/en/policies/privacy/\">Privacy</a> - <a href=\"/intl/en/policies/terms/\">Terms</a></p></span></center><script nonce=\"xLSLxwAKMEwuuMvxaQW7eA==\">(function(){window.google.cdo={height:757,width:1440};(function(){\n",
            "var a=window.innerWidth,b=window.innerHeight;if(!a||!b){var c=window.document,d=\"CSS1Compat\"==c.compatMode?c.documentElement:c.body;a=d.clientWidth;b=d.clientHeight}a&&b&&(a!=google.cdo.width||b!=google.cdo.height)&&google.log(\"\",\"\",\"/client_204?&atyp=i&biw=\"+a+\"&bih=\"+b+\"&ei=\"+google.kEI);}).call(this);})();</script> <script nonce=\"xLSLxwAKMEwuuMvxaQW7eA==\">(function(){google.xjs={ck:'',cs:'',excm:[],pml:false};})();</script>  <script nonce=\"xLSLxwAKMEwuuMvxaQW7eA==\">(function(){var u='/xjs/_/js/k\\x3dxjs.hp.en_US.u-X60WtIi-Y.O/m\\x3dsb_he,d/am\\x3dAHgCLA/d\\x3d1/ed\\x3d1/rs\\x3dACT90oHH4aIsupOvO3lhHWc-TIx4ptE7pg';\n",
            "var e=this||self,f=function(a){return a};var g;var l=function(a,b){this.g=b===h?a:\"\"};l.prototype.toString=function(){return this.g+\"\"};var h={};function m(){var a=u;google.lx=function(){n(a);google.lx=function(){}};google.bx||google.lx()}\n",
            "function n(a){google.timers&&google.timers.load&&google.tick&&google.tick(\"load\",\"xjsls\");var b=document;var c=\"SCRIPT\";\"application/xhtml+xml\"===b.contentType&&(c=c.toLowerCase());c=b.createElement(c);if(void 0===g){b=null;var k=e.trustedTypes;if(k&&k.createPolicy){try{b=k.createPolicy(\"goog#html\",{createHTML:f,createScript:f,createScriptURL:f})}catch(p){e.console&&e.console.error(p.message)}g=b}else g=b}a=(b=g)?b.createScriptURL(a):a;a=new l(a,h);c.src=a instanceof l&&a.constructor===l?a.g:\"type_error:TrustedResourceUrl\";var d;a=(c.ownerDocument&&c.ownerDocument.defaultView||window).document;(d=(a=null===(d=a.querySelector)||void 0===d?void 0:d.call(a,\"script[nonce]\"))?a.nonce||a.getAttribute(\"nonce\")||\"\":\"\")&&c.setAttribute(\"nonce\",d);document.body.appendChild(c);google.psa=!0};setTimeout(function(){m()},0);})();(function(){window.google.xjsu='/xjs/_/js/k\\x3dxjs.hp.en_US.u-X60WtIi-Y.O/m\\x3dsb_he,d/am\\x3dAHgCLA/d\\x3d1/ed\\x3d1/rs\\x3dACT90oHH4aIsupOvO3lhHWc-TIx4ptE7pg';})();function _DumpException(e){throw e;}\n",
            "function _F_installCss(c){}\n",
            "(function(){google.jl={attn:false,blt:'none',chnk:0,dw:false,emtn:0,end:0,ine:false,lls:'default',pdt:0,rep:0,snet:true,strt:0,ubm:false,uwp:true};})();(function(){var pmc='{\\x22d\\x22:{},\\x22sb_he\\x22:{\\x22agen\\x22:false,\\x22cgen\\x22:false,\\x22client\\x22:\\x22heirloom-hp\\x22,\\x22dh\\x22:true,\\x22dhqt\\x22:true,\\x22ds\\x22:\\x22\\x22,\\x22ffql\\x22:\\x22en\\x22,\\x22fl\\x22:true,\\x22host\\x22:\\x22google.com\\x22,\\x22isbh\\x22:28,\\x22jsonp\\x22:true,\\x22msgs\\x22:{\\x22cibl\\x22:\\x22Clear Search\\x22,\\x22dym\\x22:\\x22Did you mean:\\x22,\\x22lcky\\x22:\\x22I\\\\u0026#39;m Feeling Lucky\\x22,\\x22lml\\x22:\\x22Learn more\\x22,\\x22oskt\\x22:\\x22Input tools\\x22,\\x22psrc\\x22:\\x22This search was removed from your \\\\u003Ca href\\x3d\\\\\\x22/history\\\\\\x22\\\\u003EWeb History\\\\u003C/a\\\\u003E\\x22,\\x22psrl\\x22:\\x22Remove\\x22,\\x22sbit\\x22:\\x22Search by image\\x22,\\x22srch\\x22:\\x22Google Search\\x22},\\x22ovr\\x22:{},\\x22pq\\x22:\\x22\\x22,\\x22refpd\\x22:true,\\x22rfs\\x22:[],\\x22sbas\\x22:\\x220 3px 8px 0 rgba(0,0,0,0.2),0 0 0 1px rgba(0,0,0,0.08)\\x22,\\x22sbpl\\x22:16,\\x22sbpr\\x22:16,\\x22scd\\x22:10,\\x22stok\\x22:\\x22pdrtNxJJHSBMKL6h-7eeFUcHd9U\\x22,\\x22uhde\\x22:false}}';google.pmc=JSON.parse(pmc);})();</script>        </body></html>\n"
          ],
          "name": "stdout"
        }
      ]
    },
    {
      "cell_type": "markdown",
      "metadata": {
        "id": "e9wRlTm8Ru3u"
      },
      "source": [
        "**b) Write a scripts that imports requests and fetch content from the page.Eg. (Wiki)code:**"
      ]
    },
    {
      "cell_type": "markdown",
      "metadata": {
        "id": "837h5EIlXYYs"
      },
      "source": [
        "**AIM:**"
      ]
    },
    {
      "cell_type": "markdown",
      "metadata": {
        "id": "0i_ie_z0E8-K"
      },
      "source": [
        "Write a simple script that serves a simple HTTPResponse and Simple HTML page."
      ]
    },
    {
      "cell_type": "markdown",
      "metadata": {
        "id": "59H5hq-CXeRi"
      },
      "source": [
        "**DESCRIPTION:**\n",
        "\n",
        "  **HTTP Protocol**\n",
        "\n",
        "The most important part of a web server is HTTP protocol.So now we will see what exactly this is –\n",
        "\n",
        "It stands for Hyper Text Transfer Protocol.\n",
        "\n",
        "It is an application layer protocol that allows web based applications to \n",
        "communicate and exchange data.\n",
        "\n",
        "The HTTP is the messenger of web.\n",
        "\n",
        "The computer that communicate via the HTTP must speak the HTTP protocol.\n",
        "\n",
        "It is a TCP/IP based protocol.\n",
        "\n",
        "It is used to deliver contents, for eg. images, audios, videos, documents etc.\n",
        "\n",
        "Using HTTP is the most convenient way to quickly and reliably move data on the web.\n",
        "\n",
        "HTML stands for hypertext markup language. It is the standard markup language for web pages that define the structure of the content. These elements are the building blocks of any website"
      ]
    },
    {
      "cell_type": "markdown",
      "metadata": {
        "id": "g21HdXxeYBRu"
      },
      "source": [
        "**PROGRAM:**"
      ]
    },
    {
      "cell_type": "code",
      "metadata": {
        "colab": {
          "base_uri": "https://localhost:8080/"
        },
        "id": "WarVCe1aNw-3",
        "outputId": "f7403cea-6345-4ebc-81fc-1f74cacd7ce7"
      },
      "source": [
        "\n",
        "from flask import Flask,render_template\n",
        "app=Flask(__name__)\n",
        "print(app)\n",
        "@app.route(\"/\")\n",
        "\n",
        "def main():\n",
        "    return render_template('abc.html')\n",
        "\n",
        "if __name__==\"__main__\":\n",
        "    app.run(host=\"127.0.0.1\",port=2500)\n"
      ],
      "execution_count": null,
      "outputs": [
        {
          "output_type": "stream",
          "text": [
            "<Flask '__main__'>\n",
            " * Serving Flask app \"__main__\" (lazy loading)\n",
            " * Environment: production\n",
            "\u001b[31m   WARNING: This is a development server. Do not use it in a production deployment.\u001b[0m\n",
            "\u001b[2m   Use a production WSGI server instead.\u001b[0m\n",
            " * Debug mode: off\n"
          ],
          "name": "stdout"
        },
        {
          "output_type": "stream",
          "text": [
            " * Running on http://127.0.0.1:2500/ (Press CTRL+C to quit)\n"
          ],
          "name": "stderr"
        }
      ]
    },
    {
      "cell_type": "markdown",
      "metadata": {
        "id": "VqF1S1lyN8YN"
      },
      "source": [
        "# **Exercise-13 OOP**"
      ]
    },
    {
      "cell_type": "markdown",
      "metadata": {
        "id": "k-O3EPtRYO4Q"
      },
      "source": [
        "**AIM:**"
      ]
    },
    {
      "cell_type": "markdown",
      "metadata": {
        "id": "qmkjBTG7dTxc"
      },
      "source": [
        "a)class variables and instance variable and illustration of the self -variable\n",
        "\n",
        "**DESCRIPTION:**\n",
        "\n",
        "Variables are named storage location. In python variables are not defined by its type instead it\n",
        "will be automatically determined by the value assigned to it.\n",
        "To determine the type of a variable a function called type () is used.\n",
        "\n",
        "**class variable**is shared by all object instances of a class. ... They are not defined inside any methods of a class. Because a class variable is shared by instances of a class, the Python class owns the variable. As a result, all instances of the class will be able to access that variable\n",
        "\n",
        "**Instance variables** are owned by instances of the class. This means that for each object or instance of a class, the instance variables are different. ... Instance variables, owned by objects of the class, allow for each object or instance to have different values assigned to those variables\n",
        "\n",
        "**self variable** is used to bind the instance of the class to the instance method. We have to explicitly declare it as the first method argument to access the instance variables and methods. This variable is used only with the instance methods.\n",
        "\n",
        "**PROGRAM:**\n",
        "\n",
        "**i)Robot**"
      ]
    },
    {
      "cell_type": "code",
      "metadata": {
        "colab": {
          "base_uri": "https://localhost:8080/"
        },
        "id": "arSVGlyodz1-",
        "outputId": "8e4e95ef-51da-4ddd-e4aa-dc9fa1727202"
      },
      "source": [
        "\n",
        "class Robot:\n",
        "    what=\"Machine\"\n",
        "    name=\"Chitti\"\n",
        "    version=1.0\n",
        "    speed=\"1THz\"\n",
        "    memory=\"1ZB\"\n",
        "\n",
        "    def update(upd):\n",
        "        upd.version=2.0\n",
        "        upd.speed=\"2THz\"\n",
        "        upd.memory=\"2ZB\"\n",
        "\n",
        "    def disp(self):\n",
        "        print(\"Myself is a\",robj.what)\n",
        "        print(\"MyName is a\",robj.name)\n",
        "        print(\"Version:\",robj.version)\n",
        "        print(\"Speed:\",robj.speed)\n",
        "        print(\"Memory:\",robj.memory)\n",
        " \n",
        "robj=Robot ()\n",
        "robj.disp()\n",
        "\n",
        "print(\"------------Update---------\")\n",
        "robj.update()\n",
        "robj.disp()\n"
      ],
      "execution_count": null,
      "outputs": [
        {
          "output_type": "stream",
          "text": [
            "Myself is a Machine\n",
            "MyName is a Chitti\n",
            "Version: 1.0\n",
            "Speed: 1THz\n",
            "Memory: 1ZB\n",
            "------------Update---------\n",
            "Myself is a Machine\n",
            "MyName is a Chitti\n",
            "Version: 2.0\n",
            "Speed: 2THz\n",
            "Memory: 2ZB\n"
          ],
          "name": "stdout"
        }
      ]
    },
    {
      "cell_type": "markdown",
      "metadata": {
        "id": "AMo-cIYyeLMr"
      },
      "source": [
        "**ii)ATM machine**"
      ]
    },
    {
      "cell_type": "code",
      "metadata": {
        "colab": {
          "base_uri": "https://localhost:8080/"
        },
        "id": "JMUTe89dePNQ",
        "outputId": "c1943b9f-4298-4ebb-af79-33762b704660"
      },
      "source": [
        "\n",
        "class ATM:\n",
        "    def __init__(self):\n",
        "        self.balance=0\n",
        "\n",
        "    def enquire(self):\n",
        "        print(\"Balance: \",self.balance)\n",
        "\n",
        "    def deposit(self):\n",
        "        amount=int(input(\"Enter the deposit amount:\"))\n",
        "        self.balance+=amount\n",
        "        self.enquire()\n",
        "\n",
        "    def withdraw(self):\n",
        "        amount=int(input(\"Enter the Withdraw amount:\"))\n",
        "        if self.balance<amount:\n",
        "            print(\"Insufficient Balance....!\")\n",
        "        else:\n",
        "            self.balance-=amount\n",
        "            self.enquire()\n",
        "\n",
        "aobj=ATM()\n",
        "while(True):\n",
        "    print(\"****Menu****\")\n",
        "    print(\"1.Deposit\")\n",
        "    print(\"2.Withdraw\")\n",
        "    print(\"3.Balance\")\n",
        "    print(\"0.Exit\")\n",
        "    ch=int(input(\"Enter Your Choice: \"))\n",
        "    if ch==0:\n",
        "        break\n",
        "    elif ch==1:\n",
        "        aobj.deposit()\n",
        "    elif ch==2:\n",
        "        aobj.withdraw()\n",
        "    elif ch==3:\n",
        "        aobj.enquire()\n",
        "    else:\n",
        "        print(\"Invalid choice:\")\n",
        "        pass\n"
      ],
      "execution_count": null,
      "outputs": [
        {
          "output_type": "stream",
          "text": [
            "****Menu****\n",
            "1.Deposit\n",
            "2.Withdraw\n",
            "3.Balance\n",
            "0.Exit\n",
            "Enter Your Choice: 1\n",
            "Enter the deposit amount:5000\n",
            "Balance:  5000\n",
            "****Menu****\n",
            "1.Deposit\n",
            "2.Withdraw\n",
            "3.Balance\n",
            "0.Exit\n",
            "Enter Your Choice: 2\n",
            "Enter the Withdraw amount:3000\n",
            "Balance:  2000\n",
            "****Menu****\n",
            "1.Deposit\n",
            "2.Withdraw\n",
            "3.Balance\n",
            "0.Exit\n",
            "Enter Your Choice: 3\n",
            "Balance:  2000\n",
            "****Menu****\n",
            "1.Deposit\n",
            "2.Withdraw\n",
            "3.Balance\n",
            "0.Exit\n",
            "Enter Your Choice: 2\n",
            "Enter the Withdraw amount:4000\n",
            "Insufficient Balance....!\n",
            "****Menu****\n",
            "1.Deposit\n",
            "2.Withdraw\n",
            "3.Balance\n",
            "0.Exit\n",
            "Enter Your Choice: 0\n"
          ],
          "name": "stdout"
        }
      ]
    },
    {
      "cell_type": "markdown",
      "metadata": {
        "id": "naRAGOW5cRJV"
      },
      "source": [
        "# **Exercise - 14 GUI, Graphics**\n",
        "\n",
        "**a. Write a GUI for an Expression Calculator using tk**\n",
        "\n",
        "**AIM:**"
      ]
    },
    {
      "cell_type": "markdown",
      "metadata": {
        "id": "HK3oTkSaeB-l"
      },
      "source": [
        "Write a GUI for an Expression Calculator using tk"
      ]
    },
    {
      "cell_type": "markdown",
      "metadata": {
        "id": "6zQRoEkIaRR3"
      },
      "source": [
        "**DESCRIPTION:**\n",
        "\n",
        "Tkinter is a Python package which comes with many functions and methods that can be used to create an application. In order to create a tkinter application, we generally create an instance of tkinter frame, i.e., Tk(). It helps to display the root window and manages all the other components of the tkinter application. We can initialize the tkinter instance by assigning the variable to it."
      ]
    },
    {
      "cell_type": "markdown",
      "metadata": {
        "id": "6kUzQMvHaq6H"
      },
      "source": [
        "**PROGRAM:**"
      ]
    },
    {
      "cell_type": "code",
      "metadata": {
        "id": "OXCYj3nleEAa"
      },
      "source": [
        "\n",
        "from tkinter import *\n",
        "from math import *\n",
        "win=Tk()\n",
        "win.geometry(\"312x324\")\n",
        "win.resizable(0,0)\n",
        "win.title(\"My Calculator\")\n",
        "\n",
        "def btn_click(item):\n",
        "    global expression\n",
        "    expression=expression+str(item)\n",
        "    input_text.set(expression)\n",
        "\n",
        "def bt_clear():\n",
        "    global expression\n",
        "    expression=\"\"\n",
        "    input_text.set(\"\")\n",
        "\n",
        "def bt_equal():\n",
        "    global expression\n",
        "    result=str(eval(expression))\n",
        "    input_text.set(result)\n",
        "    expression=\"\"\n",
        "expression=\"\"\n",
        "\n",
        "input_text=StringVar()\n",
        "\n",
        "input_frame = Frame(win,width=312,height=50,bd=0,highlightbackground=\"black\",\n",
        "highlightcolor=\"black\",highlightthickness=2)\n",
        "input_frame.pack(side=TOP)\n",
        "\n",
        "input_field = Entry(input_frame,font=('arial',18,'bold'),textvariable=input_text,width=50,bg=\"#eee\",bd=0,justify=RIGHT)\n",
        "input_field.grid(row=0,column=0)\n",
        "input_field.pack(ipady=10)\n",
        "\n",
        "btns_frame=Frame(win,width=312,height=272.5,bg=\"grey\")\n",
        "btns_frame.pack()\n",
        "\n",
        "clear=Button(btns_frame,text=\"C\",fg=\"black\",width=32,height=3,bd=0,bg=\"#eee\",cursor=\"hand2\",command=lambda:bt_clear()).grid(row=0,column=0,columnspan=3,padx=1,pady=1)\n",
        "divide=Button(btns_frame,text=\"/\",fg=\"black\",width=10,height=3,bd=0,bg=\"#eee\",cursor=\"hand2\",command=lambda:btn_click(\"/\")).grid(row=0,column=3,padx=1,pady=1)\n",
        "\n",
        "seven=Button(btns_frame,text=\"7\",fg=\"black\",width=10,height=3,bd=0,bg=\"#fff\",cursor=\"hand2\",command=lambda:btn_click(7)).grid(row=1,column=0,padx=1,pady=1)\n",
        "eight=Button(btns_frame,text=\"8\",fg=\"black\",width=10,height=3,bd=0,bg=\"#fff\",cursor=\"hand2\",command=lambda:btn_click(8)).grid(row=1,column=1,padx=1,pady=1)\n",
        "nine=Button(btns_frame,text=\"9\",fg=\"black\",width=10,height=3,bd=0,bg=\"#fff\",cursor=\"hand2\",command=lambda:btn_click(9)).grid(row=1,column=2,padx=1,pady=1)\n",
        "multiply=Button(btns_frame,text=\"*\",fg=\"black\",width=10,height=3,bd=0,bg='#eee',cursor=\"hand2\",command=lambda:btn_click(\"*\")).grid(row=1,column=3, padx=1,pady=1)\n",
        "\n",
        "four=Button(btns_frame,text=\"4\",fg=\"black\",width=10,height=3,bd=0,bg=\"#fff\",cursor=\"hand2\",command=lambda:btn_click(4)).grid(row=2,column=0,padx=1,pady=1)\n",
        "five=Button(btns_frame,text=\"5\",fg=\"black\",width=10,height=3,bd=0,bg=\"#fff\",cursor=\"hand2\",command=lambda:btn_click(5)).grid(row=2,column=1,padx=1,pady=1)\n",
        "six=Button(btns_frame,text=\"6\",fg=\"black\",width=10,height=3,bd=0,bg=\"#fff\",cursor=\"hand2\",command=lambda:btn_click(6)).grid(row=2,column=2,padx=1,pady=1)\n",
        "minus=Button(btns_frame,text=\"-\",fg=\"black\",width=10,height=3,bd=0,bg='#eee',cursor=\"hand2\",command=lambda:btn_click(\"-\")).grid(row=2,column=3, padx=1,pady=1)\n",
        "\n",
        "one=Button(btns_frame,text=\"1\",fg=\"black\",width=10,height=3,bd=0,bg=\"#fff\",cursor=\"hand2\",command=lambda:btn_click(1)).grid(row=3,column=0,padx=1,pady=1)\n",
        "two=Button(btns_frame,text=\"2\",fg=\"black\",width=10,height=3,bd=0,bg=\"#fff\",cursor=\"hand2\",command=lambda:btn_click(2)).grid(row=3,column=1,padx=1,pady=1)\n",
        "three=Button(btns_frame,text=\"3\",fg=\"black\",width=10,height=3,bd=0,bg=\"#fff\",cursor=\"hand2\",command=lambda:btn_click(3)).grid(row=3,column=2,padx=1,pady=1)\n",
        "plus=Button(btns_frame,text=\"+\",fg=\"black\",width=10,height=3,bd=0,bg='#eee',cursor=\"hand2\",command=lambda:btn_click(\"+\")).grid(row=3,column=3, padx=1,pady=1)\n",
        "\n",
        "zero=Button(btns_frame,text=\"0\",fg=\"black\",width=21,height=3,bd=0,bg=\"#fff\",cursor=\"hand2\",command=lambda:btn_click(0)).grid(row=4,column=0,columnspan=2,padx=1,pady=1)\n",
        "point=Button(btns_frame,text=\".\",fg=\"black\",width=10,height=3,bd=0,bg=\"#eee\",cursor=\"hand2\",command=lambda:btn_click(\".\")).grid(row=4,column=2,padx=1,pady=1)\n",
        "equals=Button(btns_frame,text=\"=\",fg=\"black\",width=10,height=3,bd=0,bg=\"#eee\",cursor=\"hand2\",command=lambda:bt_equal()).grid(row=4,column=3,padx=1,pady=1)\n",
        "\n",
        "win.mainloop()"
      ],
      "execution_count": null,
      "outputs": []
    },
    {
      "cell_type": "markdown",
      "metadata": {
        "id": "Ph2GF8HQmj6p"
      },
      "source": [
        "**Output**"
      ]
    },
    {
      "cell_type": "markdown",
      "metadata": {
        "id": "78ks2D1ETEai"
      },
      "source": [
        "![Screenshot (32).png](data:image/png;base64,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)"
      ]
    },
    {
      "cell_type": "markdown",
      "metadata": {
        "id": "veQrIcG9SJTw"
      },
      "source": [
        "**b. Write a program to implement the following figures using turtle**"
      ]
    },
    {
      "cell_type": "markdown",
      "metadata": {
        "id": "Ki8TMgR4m6l8"
      },
      "source": [
        "**AIM:**"
      ]
    },
    {
      "cell_type": "markdown",
      "metadata": {
        "id": "bDaw1Aw0HUgj"
      },
      "source": [
        " Write a program to implement the following figures using turtle"
      ]
    },
    {
      "cell_type": "markdown",
      "metadata": {
        "id": "1rz1YLxxnHtq"
      },
      "source": [
        "**DESCRIPTION:**\n",
        "\n",
        "The turtle module is an extended reimplementation of the same-named module from the Python standard distribution up to version Python 2.5.\n",
        "\n",
        "It tries to keep the merits of the old turtle module and to be (nearly) 100% compatible with it. This means in the first place to enable the learning programmer to use all the commands, classes and methods interactively when using the module from within IDLE run with the -n switch.\n",
        "\n",
        "The turtle module provides turtle graphics primitives, in both object-oriented and procedure-oriented ways. Because it uses tkinter for the underlying graphics, it needs a version of Python installed with Tk support."
      ]
    },
    {
      "cell_type": "markdown",
      "metadata": {
        "id": "rjF4gta7nM5C"
      },
      "source": [
        "**PROGRAM:**"
      ]
    },
    {
      "cell_type": "code",
      "metadata": {
        "id": "ptLcvDgqo09b"
      },
      "source": [
        "import turtle\n",
        "c=[\"red\",\"green\",\"blue\"]\n",
        "i=0\n",
        "turtle.pensize(5)\n",
        "\n",
        "for angle in range(0,360,30):\n",
        "    if i>2:\n",
        "        i=0\n",
        "    turtle.color(c[i])\n",
        "    turtle.seth(angle)\n",
        "    turtle.circle(100)\n",
        "    i+=1"
      ],
      "execution_count": null,
      "outputs": []
    },
    {
      "cell_type": "markdown",
      "metadata": {
        "id": "N2z8LwLppQ37"
      },
      "source": [
        "**Output**"
      ]
    },
    {
      "cell_type": "markdown",
      "metadata": {
        "id": "lHJLaYn3Sar-"
      },
      "source": [
        "![Screenshot (36).png](data:image/png;base64,iVBORw0KGgoAAAANSUhEUgAAAxYAAAKRCAYAAADJfD9zAAAAAXNSR0IArs4c6QAAAARnQU1BAACxjwv8YQUAAAAJcEhZcwAADsMAAA7DAcdvqGQAAAAhdEVYdENyZWF0aW9uIFRpbWUAMjAyMTowOTowNCAxNTo1OTozNEIzaZ8AAP94SURBVHhe7J0FvFRVF8U33d0t3SBd0ogSKiAGKAJKK2KhiKJ+IhjYIkqoIIgKAgISKiEi+QDpTunuru+ue859c2fevJyeWX9/V+acVzM3zz5nr72SXbly5baBAOtfENvrUOPmzVty/dp14zNcl+s3bhptkRQpkkmyZCLJkyc3/k0uN4z+dOnSSqpUqfRPEUIIIYQQQuwkwwBa4+51skuXLplRg2twES6BBSGEEEIIIcRz3AYTtn+TXbx4kYEFIYQQQgghJE7iDSwuXLhgxA23Yw0srH8JIYQQQgghkQPiAHswAdwFFNa/yc6cOWNGDvhBa7Pa9n8JIYQQQgghkQPigPgCC6VZhn7Z2E6ePGn8jCOocN2A9S8hhBBCCCEkMrEHFdZmBRbmv0eOHLl969atGAGFtQHrX0IIIYQQQkhk4hpY2IMK8/W+ffsYWBBCCCGEEEKisY//7QGF9a+1WUFFihQpHBoLQgghhBBCCEkqyYxohIEFIYQQQgghJMmcPXtWkuvXhBBCCCGEEJJkGFgQQgghhBBCPIaBBSGEEEIIIcRjGFgQQgghhBBCPIaBBSGEEEIIIcRjGFgQQgghhBBCPGLXnv0sN0sIIYQQQgjxDJSb9WpgsWrVKpk7d65s3rZdihcvIS89/5xkyZJZf5UQQgghhBASjnjFx+LGjRty7Ngx+fbbb2XCD+Pl9O1MUrBSU9m/b6/cvHlDfxchhBBCCCEknPE4sDh69Kj8MW+BHLmeWVLkrSQ3sleSM5JHrl+7KsyyIoQQQgghJDLwKLA4cuSI/Lthi2zcd0ZylmlgbE3lXIoCcuDkdUmbNq25mnHr1i393YQQQgghhJBwJcmBBVYjli5dKvOXrJGSjR6TK9duyrKV62XHtp2S7NZVSZEihVy8eNEMLgghhBBCCCHhTZIDi+vXr8upUyflxInjcvHCBZn47Ug5fSWVpJULIoeXm4FFlixZJFWqVPonAsOcnsmk3mc7dSu8wWdN1nOOboUuCTlm5met95lExpElhBBCSEJIlswYHyRiC2Xw/levXq1bsYPv8ddnTXJgMWvWLDl2NZ1UbPKo3Lx+Wfat/k0unzshN84fkdzprkinTp0kY8aMCf4gOz+rF32Qo7cQHjiaA1/XzxO99ZTgHv7PkZ5u3nekBGiEEEIICV2QVZOQLdRBNdbq1avHGVzga/gefK8/SHRgAc3EmTNnJCpqpZw8f01u3E4u8yaPlizF7pK0WfJK6hS3JX+uLFKlShVJnTq1/qkEUvdT2RF9wHfIp/KclEzEINwMToIkGGkx0nHizu5hdPSYHd2+fXuktFDflmR89VlVgNdSZLbj/Zvbjk9FNu/Q3xV4zP27pJ+U0G1CCCGEkEiiWrVqcQYX9qAC3+sPEh1YIAVq48aNciVZBkmVIZsc/W+nzJ/6reSp+rCkTZtOUstlyZw5s6RLl86c5U46JaTfuE+lroySX0M/uyc0mNNTSj4n8umO2zLSNfIp0U+WxOgkhBBCCCGBIrbgIhBBBUh0YHHlyhX5888/pXC1FlK4fB25fOmipM6Y0wgiksu1A0sk+dmdZkUor1CilFTQL2PTD6iZ+57Ss14yY1C8VGQpVjmM73WZzXdOtYq5CuL8dWNz+VtW3r/T93m0YrBTPjPes+tHMn+/rVN9PuPvGIN+9XfrSb14Pqsd589VT2LPZjLezzujpO6n46RfApYBYr4vvU93fib1ov+erd9EfeYY+zGWVam4vsft+RD9XvRm7RfX9+TRcSOEEEIICR5cg4tABRUgSalQMMS7agQYi6Z/J7/PmCJVu3wjKdNnlZtn/pOm9e6Url276u/2kJ3bZaPUlXIlRVq06SEy6leXAegcGWYMsHu8PlJGLrktOz6t60insqXJLH2upHSWcTqtZ7b0kFHS0jYoxSC15HMVZHZ06s8O+XRjyxgD1xi/BwN718GtL8Df+bWN/rtLZEkcn9WO+bkmPexIL5tdQZ4r6X4QLztnyaSldeXhVolILnJ6Xyq9a+eszfLwDv33jG12D+d9DZz3o/4el8F+fMfMFTMIabnRXG1RP2McQzMqnSM9Sz4nFWypXbMfNn+EEEIIiRicJt4SsJHQwh5cBCqoAEkSb2NwBq5cPC+XL12SVOkyypVd86RwzjRS7I4iZiqU56gB4dIer6sZ9Bb95dO6o+Qd+5T7nF9llDG47h9fhk6P2bIkehq+hfTHoHzj9ujZ7HdG4VvsugedhjXqHecZ/rh+j0/pIbMTm4Zkfq668uk4W9Ch92HCU8vUCkP0jSbGTH/M91Wi30inFQ+3AaHTfsTbMvb10kkyK8n7WgeYs5fY/rZxDEcan90WnFq06EdtBiGEkMjCmlxL6EZIUkhSYJE8eXIpnjOV5MuSUnXcvCa3jq6Wu2qUl/Lly6u+pGCl9phbS9n46Q65HT1wLSGtHq4rSyfNih5czvl1lNR9uFW8g8S69lGlQYlSFYy/tVlMKfKOzWIMSaWN67jdTMNa6qRXjvP3+JK65cT5LycA83MtledK2gKDZCUFGVQbtyc0FDIG50vUDcZcIXEllvfllMLU0ojaXHDdjx7vawSY7o4hKNFPXu+h9wNToAghhBAShtjTn6yVC7vmwl8kOrDAIPPq1aty88w+kUvH5frFU3Jpf5SUKZBB7qpdXYoVK6a/Mwk4VYW67TSrDUr0e116RM9sz5FfRyUydSfi6GFL74p9v5rowf0kp2WDxKLK1DqnX6EkVmCxKnTNrqADV3+krxFCCCGE+AFXTYWr5sKfJGnF4tq1azJ56lT5Z+kyuXJsm1yI+koee6St3HHHHfo7fEULadNDD34xS22lSXlCyXLuK0+5SaHxBa6rBzs2L9WvPCS2zxUrKt1o6XPDnNOWEoNeOZht03zs3L5Rv3Kw1LVsraf7OoGf1QwwdrhJcSOEEEIICUFiE2oHKrhIdGAB07u+fftKxrRp5PSJ41KoUEHp2LGD6VuRKVMm/V2+Azn7SycNk57vGENYl9yXJKUmmakyIqNaulQv6mzTd/gEndplH8jP6SluMofcEu9nje1z9Yw9HahEv3GmBqNlnNWj4sB1gL/zM+mM3CtXRrW0VcPywr6O67Ma76Gn/cOYKWKEEEIIIaFNbEGFRSCCi0QHFqlSpZJy5cpJ7969pXHjxkZgUUgeeeQRU7AN7YXPgQDZGLyOMv4fQ7Stxcktke6SiHx6zGTv+HSj+jlzKymTHrbrO3yDYyCv/+6vbdxrGdyRgM+Kz2VWXLJ/rnJxaVK0psKsHmX9jNpMfwu7ENwdxgB/nPH+R7XUP9dZZJybVKi6n86Wcu9Yv7ukPFdhtsf72u0x1J9143MldZ+xmZWj7CJvQgghhIQT0c/8eLZQJ66gwsIeXPiDZLeRfJ4E4GcxePBg2bBhg8yYMUP3+oOd8lk9NfB3qxUgQQyPHSGEEEJIOHL27NmkaSwAVi4KFiwoxYsX1z1+wvRb6CGvc2BKCCGEEEJI0JDkwCJFihRy1113Sdu2bXWPP1D5+PJpf5vnBCGEEEIIISTQeCSKqFixojRo0EC3fIvyRlD5+EyjIYQQQgghJLhIssaCEEIIIYQQQoBHGgtCCCGEEEIIsWBgQQghhBBCCPEYBhaEEEIIIYQQj2FgQQghhBBCCPEYBhaEEEIIIYQQj2FgQQghhBBCCPEYBhaEEEIIIYQQj2FgQQghhBBCCPGYZFu3bqVBHiGEEEIIISTJ5M2bV5KdOXOGgQUhhBBCCCHEI5gKRQghhBBCCPEYc8XiypUrcurUKd1FCCGEEEIIITFJnjy55MiRQ1KmTCnJkiXTvQozsDh06JAsWrRILl68KLdu3dJfIoQQQgghhBBFmjRpJF++fFKjRg3JnDmzpEiRQn9FER1YzJo1Sz7//HM5f/68/hIhhBBCCCGEKJo1aybfffedXLhwQVKnTh17YDFz5kwZOnSoPPvss2YUQgghhBBCCCEWefLkkerVq8uJEyfMVKh4A4sJEyZI69at9ZcJIYQQQgghRAHZRGyBBatCEUIIIYQQQjyGgQUhhBBCCCHEYxhYEEIIIYQQQjyGgQUhhBBCCCHEYxhYEEIIIYQQQjyGgQUhhBBCCCHEYxhYEEIIIYQQQjyGgQUhhBBCCCHEYxhYEEIIIYQQQjyGgQUhhBBCCCHEYxhYEEIIIYQQQjyGgQUhhBBCCCHEYxhYEEIIIYQQQjyGgQUhhBBCCCHEYxhYEEIIIYQQQjyGgQUhhBBCCCHEYxhYEEIIIYQQQjyGgQUhhBBCCCHEYxhYEEIIIYQQQjyGgQUhhBBCCCHEYxhYEEIIIYQQQjyGgQUhhBBCCCHEYxhYEEIIIYQQQjyGgQUhhBBCCCHEYxhYEEIIIYQQQjyGgQUhhBBCCCHEYxhYEEIIIYQQQjyGgQUhhBBCCCHEYxhYEEIIIYQQQjyGgQUhhBBCCCHEYxhYEEIIIYQQQjyGgQUhhBBCCCHEYxhYEEIIIYQQQjyGgQUhhBBCCCHEYxhYEEIIIYQQQjyGgQUhhBBCCCHEYxhYEEIIIYQQQjyGgQUhhBBCCCHEYxhYEEIIIYQQQjyGgQUhhBBCCCHEYxhYEEIIIYQQQjyGgQUhhBBCCCHEYxhYEEIIIYQQQjyGgQUhhBBCCCHEYxhYEEIIIYQQQjyGgQUhhBBCCCHEYxhYEEIIIYQQQjyGgQUhhBBCCCHEYxhYEEIIIYQQQjyGgQUhhBBCCCHEYxhYEEIIIYQQQjyGgQUhhBD33Lghcvx4wjd8PyGEkIiFgQUhhBD3bNkiUqNGwraaNUW2btU/SAghJBJJdubMmduHDh2SmTNnytChQ2XChAnSunVr/WVCCCFhy8svi+zapRtuOH1aZOFC3UgATZqIZM2qG24oXlzkgw90gxBCSChy69YtOXHihKRMmVJSpEihexUMLAghJByZM0dkzRrdiIWvvhI5eFA3/ECBAiK9e+tGLFStKtKihW4QQggJNhhYEEJIuHHunMjy5SK3b+sOF774QmTWLN3wkDp1RDJn1g03nD2r3os3aNVKpG9f3bCRJYtI7dq6QQghJFAwsCCEkHDgzBmHQHr9epG778YdXrWTSsaMImnT6kYszJsnUrmybrhh7Vr1XuLiyhWRCxd0IwlUqSLyxx+6YYD3jPdOCCHErzCwIISQcOD++1VAAa5dEzl8WL32BOO+Lx076kYs5Msnkjq1brghIe/lhx9EXntNN5IA/j7eh8Xjj4u8845uEEII8RcMLAghJBQZNUrk9991wwBCagiqE0qzZvFrGrASULSobviQPXtE/v1XN2IBmg+sjiSEYsVE7rxTNwzwOfF5CSGE+BQGFoQQEgqsW+esi5gxQ2TFCt2IhS5dRPLn1w0XqlcXadtWN0KAadNEVq3SDRsQoc+dqxuxgM+JzwuSJxfp2lUkTx7VJoQQ4jViCyx27drFwIIQQgKGqwAbg+dPP1WvY6NcOZFChXTD4PPPRUqV0o0w5bffRIYP1w2DTZtEDhzQDTcgsMD3Y1UDUPhNCCFegysWhBASLNgF2Bs2KNHzzZuq7Q5XkfKwYWqVIpJ5/nkxHla6YWDfp+5ACVt7ShmF34QQkmTiCizovE0IIf4EQYHlVg0BclxBBXjgAZGoKMf24IP6CxHM66879gdSxUqX1l+IBaxw2F3C339ff4EQQog34YoFIYT4ktGjnWfLFyyIW4ANITXcqZMlc7Qx407cgzQy7FOsWoCdO0UGDFCvYwMpUhCtW0D43bSpbhBCCIkLpkIRQog/OXpU5LvvcPdNvAAbJVWfftoRWJDEAe0FqktZJET43a6dSLVq6jX0GU8+KZI7t2oTQghxgoEFIYT4i4MHVTDxzDMqsHCHqwD7s8/iT+chScNV+L1xozpGsYGHJFzL4RlSoIDuJIQQYkGNBSGE+JqzZ0VOnhSZMkWkTx/noCJNGpEcORzbSy+pWXRrY1DhOzBRZt/X0KjYj4XxYHQCmhccv6lT1fHEcSWEEJIgGFgQQog3QDoTfBQGD9YdNiDAhj+DtbVvr79A/M6gQY7jgBS12Er1vv22Op6RXoGLEEISAQMLQghJKvPnqyAB299/i+zdK3LihP6iwXvvifzyi8jLL4vccYdjy5RJfwPxOzlzOo4DRNzwAcExwvbuu/qbDHAccTxxXK1jDJE4IYSQWKHGghAS8Ry7eEy+W/ud3LwVT+lXV1avVikzNiofEWl1Lo9yfoYIu2BB/RUS9OzfLzJihMi338qsYzVknVTWX9DYRd4JBOnHOBWoBSeEhAsUbxNCiMGh84dk47GNuuVg9+nd0ndOX7lxKw6TtQRy706R548VV4JhVBhKJJnTZJZaBWtJMuM/kjRQgRaG5ufP647EAI3FM8/Ix7vbyO9yj+5MOpBw4FRA1WBXKlRwFAMjhJBQgYEFISRiOHv1bKwBwo8bfjQDiGCmYp6KMv+J+ZI8WcygJEuaLJIyuYvYOIKB2bY7bTViA9hSoABUMIPiUx066IYLCEiyZNENQggJIhhYEEIihgcnPShrDq/RLWcuXLsgJy7ZNBBBSOoUqSV/JvfT2NMfnS6V8lTSLbJunUibNrrhgvFYk2vXdCNIgdwjY0bdcAGeiCgwRgghwQYDC0JIWPHf2f/klXmvuF2ZWLhnoZy8fFK3EsfQpkOlZPaSuqUZOFBkxw7dcKFJE+XarBmzZoz8vsvmsu1lmhRtItnTZdctxXtN35Pi2YvrVviya1dMQ+1Tp3yrp77nHpFu3XQDfDXC+IMLdcOFksZ5YzxD7eC0wemTFFAJt3Fj3bCBlYz33xcpXFh3EEKIn2FgQQgJWY5fPK6E1bcdwuqjF47K8KjhiRdbG+TOkFu63NlFUiRzvhmC3tV7S6Es2rju2DHlnv3ll0rUa6dzZ5Ucj3KkEPRqpm+bLisOxOOyHQdrj66VOTvm6FbCeLrG01Igs7ORW9c7u0rejHl1K/Q4fFhk7Fjd0MDTDociMbRsKVLZRX+dGGrVUpWCo8ESAgT7eDPff687NTA8hCkiytNqpTZOG7sJuAVStfD5cIolFjzD8Wfy5NEdBgg28Gdz5dIdhBDiQxhYEEJCipUHV8qZK2fM13vP7JWnZz+dKGF1mZxlpHAW91O6RbMWleEth8euVdiyRY0Id+9WIziMAi1QJrZ2bVWitEwZ3ek95u6cK58s/0S3HJy7es4MWG4b/yUEfL4YKy8G5XKVk4KZg6dK1YEDIps364aN7dtF+iZQCpMsmQoAMmfWHTaef17k3nt1w5vgHHn2WeWDYVeIY4RvKbURaJQtq7/gDLQhOLX27NEdLvz3n8jWrbqRAFKlUn8WFXSxkuGDU5MQQqJhYEEICXqu3rgqF65fMF+3+KGFRB2MMl/HRWxi5veavSfdqtpzWOIBwcMZFcjIK6+IfPONem2RIYNI2rQi5csr7woMIP3IhqMbpOn3TeXWbYeb943bN+TslcS5Qn/U/CPpfGdn3fK/GNxVbI1Ze5iQJwYImu27H8+0efNEKlbUHf7i+nWRZs1ENm0SuXJF5OJF/QXNU0+pnCWQNat6owlkzJiYaV8gNrG6ne7dne04oOGA8TshhHgLBhaEkKBnypYp0v+P/ubrQxcOmYFGfEx5eIpUyVdFtxzkSJfDLNuaYDADjZwXjNxOnhQ5d05/QQMX5scfF0mdWqVAYZrcj1y7eU0Onj+oW4pNxzbJAz894BRsxEfO9DklU2qHOd/0DtOlYm7/jcg3bHBOLcJkv/FsSjCo3jtjhki5crrDAIcChwSHxq+gpq3x7DQV4uPHi7z5pv6CBksoEEogCsKbTsQyAk4/nIaurFkTv2m79WctPvzQKVuPEEI8hoEFISRoeW3Ba7L95HYz5WnVoVW6NyZDmgyRUjlK6ZaicdHGZhDhEVD/YooX/xo3yxjgaw89JFI8uATSSBWbv2e+Mb51pEftObNHXvnzlQSnTDUt2lSypcsmzYo1k57Veupe7/P112qh5/Rp9W9CQMDwwQcqvccCfSgjiwWAoALK8kmT3Cu1EQ3hTb/6qns1diJAsLHQRTuOtLHXXtMNN9SoIVKkiEjp0iLvvKM7CSHEAxhYEEKChj93/+kUQHy96muzypMrdxe7W6rnr65bIr2q94pVN5EkIL6FCBdiXNe6npUqibRqpV6j6hPy5UMAGAAOXzlct5yBAP7IhSO65UzNAjXN/QvRt7eB/h0C5qhYMtvy5VPCY1cQRMC4PGQM5OxK7VmzRNavV68tsNSAPKXmzXWHd4AeA4Eb+O03tSrkDgQXPXXsiEe831PHCCFhAwMLQkhAgX/EioMrzLSdL1d+aVZPckfG1BmlVoFapjkcqh09UMZeksdLXLigRLdQByMFyk7NmiqJH3VGX3xRd4YHz8x+xlwZAueuKTG4HYi9v2ylyi6VzVnWI5E3RNnWru3TR2TnTvXawi62LlVKCY/DCuQf/fGHEkSsXKk7DZAHhuUFLCP4gGHDjMD9T/Uai284zXG6u9K/vxG4361eY0EFxyM2Pw1CCHGFgQUhJCBcun5Jrty4IltObJEm45qYWgF3pE+VXtKmTGtWLYLrNEzifMLVq2qgh9QUiG8tcGNEQPH776qEbJiz/uh683ggZeri9Ysx9Cwf3/OxdK7c2RR2J0arAm0AZCrjxom88ILu1EBADA08ViKQdYZFobBn1SoVpCLAsKqLIaiYO1edby4PZG8C6QdsVhDgQVt+6ZL+ggs4LjgekICgPkH69PoLhBASC3EFFsn1v4QQ4nWGLR0m1UdVl0d+eUSu37QN5F14ud7LsqrHKvmp/U+SKkUq3esDZs4U6dBBjX7tYNp8+fKIyQ9BOd6oHlHmPm9XNqayd+jioeZxe3zq47onfiD1eOwxFZcNdfaJM3nwQTXORkpUxJRDxfmE8wrmeRZIkULJ4thMF70EStD+/LPa51ihiA0EIA8/rI4bVjwIIcQTuGJBCPEaf+39S76McriYrT2yVnaecsmDMWh0RyMz1cnizrx3SonsJXTLR6CG58iRaqRlAVtlzChDDYzpXeSFRBhrDq+RUatHycjVxr5xIVvabNK0WFN5v9n7UixbMd3rDFJvRo1SgQWE2VbVXju9eil5QdWquiOSQE4SdgyKAFjKay8KuhMCUtHWrlXx9Msvx/R7tChhXIJ33qmCElTKDRFpESHEzzAVihDiUyasnyAHzh0wB6mTN0/WvTF5vNLjZu5+1XxV5aFyD+leP4ByoBDWLlumOww6dVLC7Dp1dEfkAkPCaVunma/Hrh0bQ+T9TM1npECmAlIlbxW5p4QRiGmQ0YOgYpr6USfy5nWIslHu1EeygtDhl1/UzrJEEACC7h49HIIHH4PAAnqWo0dVG1oY45EfA2OsYEqQtIG4FCyoqi0TQghgYEEI8TqHzx+Wjcc3mq+fn/u8bDq+yXztSv5M+aV8rvLm60/v/dTUUfgNd0JtqFShVv3ii1idkSMZuJzvOLlDDpw/IFuOO4vbW5VsJf2qDDJGpMb+M/j0U5HZs82X0WCXYiAalqJsT5k+XWTIEOcSWT4WdMcFvP3gTm69NoYCbqlQQeTjjx2vUcmLEBK5MLAghHgViLLHrRsnfWb10T0OUiRPYQp+kxn/gUcrPCpftnSkR/kNd0JtKFVR+QmpKcj3ILHy/brvpe+cvnLuqjYLvJ5B5Iax/45UFhm3QPVpMMNtVXn65BORJ55Qr4kbEFTce29ABN1xgdK+P/2kVjVc/SHtjBgh0rkzRd6ERDIUbxNCvMqHSz+UN/9ycRrWFM9WXJY+uVSiukeZ21sN39Jf8TMQanfs6CzUvu8+kYkT1UiYxEnbMm1lfNvxumXw90CRUcageJqtT4NVCoyXsbVtqzuJeyDoRkqeXdAN84m6dWPW5fUjbxmXKY4fpEhxAYPxjz7SDUIIcYGBBSEkUQxaOEjGrx8vxy8e1z0KmKtNemiSfNHiC9MhG2JfbLky5NLf4Ue+/VbZNiOJ3HKmfuoppVxFng5qnpI4yZQmk9QvUt88psVWTRLZ+KjI6WIi5wro79AU+1PStBogxYwvYcuUSfcT96CmK1TSn3/uEG6jHiyqRD37rMhff6k+P5PLuExx/PCWYCJuba7mhceNyx6SpTfe0B2EEGIjxYABA946f/68bN++XRYvXizt2rWTUkiOJYQQzcZjG+Xbf7+Vf/77R75d+63sOb3H7M+ZPqf0qdFHGhRpIB0qdJB7S9wrxbMXN8btARy4Y9QDkSy0FRYQakMkC20FSRCoIvTzhHRyelt5WTajvJw/lk1/RXPnWGOAPFekzHRJXnqu6VGC8wMmh3kz5tXfRNyC66N4cWXsgTJau3erAHjXLmU4gSpl+HoAQIpT+fKODQEHRNyokGsME8y3d+qUcvxGPPTPP+rtWkJvQkj4c9u4X10ybgbJkyc3NzvUWBBC4mTbyW1mUPHBkg90jyJfpnymmBf6CZ8Z2iUGCrW9AnYhcuwhyoY42w4We6J3Y6unZfOt6XLw3EHdoXiu9nPSsmRLU2cDF3USD0Em6I4N+F1AhzFrlsjhw7pTg4XAJ58UKV1adxBCwhpqLAghieLm7Zty5soZOX3ltHyy7JMYQQWcsh8o/YCMvm90cAQVGPVgir1lS0dQkdp4XyjKP2cOg4oEAB3x6dMiPXuKNG8eM6jATPZDD4n88Yfe+n1plgzGuWDn0+WfSvPxzaXXb73M8+fmLS1QJu5BEPHllyLZsjmE2wg2MIrHAbEE3gEGl9Po0ertugq3kXUI0T7eLhZgguQtE0ICAAMLQkgMdp/aLXW/qWu6L/+08Sfd6+Clui/J243e1q0gYMYM5ahtVX8C998v8uOPFGonEMRjcF/eulV3uIAJ9IEDdUPzWv3XZGB9l04NStXWGFVDtp6I5RcSB5agG9oLCwi64bESQEG3O942LvsXX9QNG6gohfOnXj2RPSpTkhASgVBjQQhxYtG+RfLq/Fdl1aFVcuryKbl686rZXyhzIfmq1Vdm+dh7it8jhbIEiS0vhNqffeY8IkZeRr9+aqWCQu14mTdPZNAgkdWrnWebIeaFWTlWKrCKUcBFt43VChge3lX4LnP1YtXhVeZKF8CqF1Ystp/aLgUyF4jVuZsYIPjNnl3lEqHgwN69qpoZlgC2bVMW2Hfcob85sEAWgpS4+vXV6gUqOiN1DtWd8Xahv8ClWLiwSJEi+ocIIWFFXBoLBhaEkGjm75kvX6/6WmZsmyG3jf8sKuSuIL2r95YnqzwpFXNXlOzpjEFQMADbYFehNiyCIdSG2pTEy++/q+ABufMW99yjTKERTHTtqkS8yNRxR7Z02UwDxHK5y4nxiJHKeSqbAu5dp3eZX999erdcvHZRsqbNagr7SSzEJ+jGAUCkFwTkyKHOCcTtGFPAWO/YMfU16y1fvhxUb5kQ4kUYWBBCYgWDviX/LTEHgiOiRsiULVP0V0Sq569uOmW3KdNG+tftL8mTBUn2JITaKEeD3Jw1a1QfhNp33SUydKhI1aqqj8QJZpuHDVOZZBbwD4QYt0+fxBXRgiFirYK1pFmxZpItbTbZeXqnHDyvhN1bTmwxVzJKZC9hrl6QOMCIHW6DGJ1bVtibN4sYz2kzVSp/ftUXBEASgmwtvDWARRfrLcPJG5cpgpB9+1TVKOg0CCGhD6tCEULcghKhaw6vkcbjGsuVG1d0rzFgSJbC9DGY89gcqV0wyGb+IdRGBZ0mTdRrgBGL5ajN0UucIGUFE+AAuxCad4BBIsazCxeKVK6s+jxh7ZG10mRcEzl37Vy0gPvOvHfKgs7KtRtpVGlSpDFfEzfgHMfSEfKMrPw0nONw6MaBcqnEEgwsXy7SooUKNOwpdbDuwHmFeJ+XJyGhD6tCEULcMmvHLHlo8kPROgoL5MMvfWqpORAMOuCo/eij7oXaqVLpDhIb06YpkS02q4AWQFrLqlUiZcroDg8pm6usRPWIkjI5Hb8Qgm4UBMD269ZfdS9xiztB9/r1QSnotkARtiVLRIoW1R0aBLPQ6aCEMSEkvGEqFCERyBsL35CvV38tv23/zUxTsQOzu3ebvis1CtQIjlKydiDUhmOxfURMoXaCQbnQ4cNVmoq9kmnTpiKDB6tgw1tFtFImT2lqcUrmKCmHzh+SPWf2RAu6se09s9c4XMmkWr5q+ieIE5agG89jV0E3nOqgoA4SQbeFXYO+f79KgbLAwgs+wp9/imzc6DAdJ4SEHtRYEEJMTl46aYqzR68ZLUv2L4nOgQePVXzMNDaDP8UDZR4IHj2FhSXURr6FBYXaCeb779Xus/uwAWTb9Ool4qsM2OLZikuG1BlMjYUl6AYINo5dOmYGr5XzeiH3KhxBoIwVCwi6EVAEsaDbAmMMvGV4XUCLjspQqJwLDhq3GwS1cO1GUIuhhqsnBiEk+GFgQQiRwxcOmysUL/z+gpy8fFL3GmMWY9CHcqFDmgyRjhU7Svnc5fVXggyMfpEaAijUTjDId4fOfcAAlUkDMmVS5UIx8MNiD8qG+hIUAICg+/il41I0W1E5cemEqe+BazfSo5A2lSt9LkmTkpoLt4SQoNuiQgWRZs1U8IDys8ePO7IXUfRq0SL11vPmVecjISR0iCuwCLIpSUKIt7lw7YI5W4wSsk/NeCpaT5EuZTqzBGiFXBVkdsfZZknZoARTmxiJIA3EAknccNQuV053EFdQ7hO7DUWz7r5bZc8AiGcRiyElBVurVqrf17Qu1Vr+7PSnuVXNWzU6zW7byW2mU/eaI2vM8/TydeONk5i0aaMcurNmdQi3f/1VOXQHsd01pCLQViDQwFtPl071Q3fx1FOqIhnOVUJIeMDAgpAwp9uMbqZYFroKO3DPXtVjlUx+aHJwV+eBUBWCVSufgiQILOZAM4FsMWTPWLRrp7LKAiVHQVnaCe0mSNsybXWPyK3bt+TxqY+b5+nQf4w3TtxTqZJ7QXfdumo1I0hJY9xeJk9WxQFcXbvfMG5LH32kG4SQkIepUISEOZ+v+FzWHl0rF69f1D0ibzd+29RUwFcgS9ospog2KPnrL5HXX1fCACuPolEj4wO8LVKyJMXasfDqqyI//6zGmhDNWnTvLtK3r/cqPyWVzGkyyx1ZlfAY5Y7BuavnTFE30qOOXDgiTYs1NfuJjdgE3bC7xpJUEDl028FlmiWLeut4izlzqksbXDRuS/goJ05Q0E1IqECNBSERiCXUnrd7npliAnKkz2E6aHev2j00XJAx+sB0pjXljpweaC1QXpZBRQyOHhUZMUJkzBjnijzgiSdEevZUVgjBQP5M+SV3htxy7dY1WXd0ne6V6IpRN27dkBI5Spgu3sQGzvvYBN0IulHzNYiBYV7hwiqbC7EQ0qAQF1HQTUjoQI0FIREGZnynb5suA+cPNMt8grwZ85oVn4Y2HRo9WxzUYNRhLysLEFCgID6JATS98KiASBszwACaXpSSxfbaa4lz0vYHcOoeWH+gNC3a1NwQbIAD5w7IgPkDTK8LVI8ibsB1gOvBDgTduG6CHEikkKqHtw/xNthj3KZgpA/NxZEjqo8QEnowsCAkzLh847IZVLgKtRFUfHP/N6HjdgzDhQ8+0A0DVIJCsjaJAWZ9f/lFpHdvx+IORLLt24vMm6e2YF2ILp2jtMx7Yp65tS/XXtKlUupezIj1+q2XTNkyhYLu2MD1gOvCAtcLrpsQAG8dtjSoSGYXdMOWhoJuQkIXBhaEhBkfLf0ohlD7xbovmrqKkOa770Qeflg3iB3M/r7zjm5oMPsLeUoo8Xr912XgXcYbtzH478Hy7j/v6hZx4pFH1Og8hIFcylXQPWiQyMcf6wYhJKRgYEFIGPHWX2/J+PXj5djFY7rH6Gv0lnSq1MnMZw8ZUCpm7lzd0BQooBSgxASpIx06iDz6qMiPPyqfAAsEGvharly6I0TIlSGXdKjQwfRUsTh+8bj8uPFHeW3Ba7qHRIPrAdeFHVw3uH5ChNzGbalTJ+M+9ZbuMDhm3L5g6GjvI4SEBhRvExIGwPBu5OqRMnr16Gh3Ywi1e1XrJT2q9TCrP4UEGB1//bXI6NFKlAowOkaOD9y2UAifmCCweO45kY0blYYX5Mkj0qePMiMPwuJACSJ7uuymiV7K5Cll56mdZjWzU5dPmVqhm7dvSsnsJU1TR6K5dUsE4skdO5QbN5TQUO6jH5XTQkAJDUE3HLqtj4E0qJMnlaAbH4OCbkKCC4q3CQljINSG+d2r81+NIdR+t9m7UjRrUbMvJIBqEzk8VkmjfPlUEvZ776mRBzGBUHvlSoeeAkCo3batyPvvixQsqDtDlIKZC8r7zd43vS7sgu5X5r0i07ZOo6DbDq4LXB+4TnC9AFw/uI5CSAUNQfe778YUdKN0MgXdhIQODCwICWEsofaT05+UqzdCWKgNrl0TOX9eNzT33KNWL1C/n5jEJdT+6qvwqcILb5WvW38tD5Z9kILu+EiVStUYbt5cd2hwPeG6ChEsQTeCCwq6CQlNGFgQEsJ8vOxjeXPhm7qleKHOC/K/xv/TrRDit9+UMMAywiNuwazuEIcEwQSzuignG4683uB1GVBvgG4p3vn7HXlvyXu6RdyCgAICnFmzdEfoAEH388/rhgaykU8+0Q1CSNDCwIKQEAVC7e/XfS9HLx7VPUqo/UTlJyRPhjy6J0RAxSfk8CCp2pqG79pVTcuTaBA8TJyoxK0WCDI6dlQi2HAERQc6VuzoJOhGcYKJGyZS0O0KrhdcNwDXEa4nXFdjx6q+EAFaoc6dncXbMH+EOzchJLhJdubMmduHDh2SmTNnytChQ2XChAnSunVr/WVCSLDS4LsGsvi/xebrHOlymAFF31p9g1pT8cMPIgcP6oadGdNFlizVDc0D94vUracb7nn8caUtCHcQSIwbJ/L55w7zOwy+4Kb97LOhr6lICNBYfL7icxm3blx01bOaBWrKim4rzNeRwMHzB+WH9cZFFBdLjetounE92alnXEcuZnrV8lczTQmDmcXG7a1BA90wqF9fxU5Y2CSEBI5bt24Zgf4JSZkypaSAjb5m165dDCwICTVQJWfVoVXSd3Zf2XBsg9lXNmdZWdVjlaRP5bvSKRcvikRFqSotSQWD4E2bdMMLfPGFSLlyumEDVWTCabD9778i1as79j2CqfvuCy9NRUK4dfuWVB9VXf49YuwQgzI5y8iIViOkev7qkil1JrMvHEAQtf1kTAftTcc3ybNzjIvIC0AY/0zNZ3QraaRIlkKqF6guGVL5pkrXBuP21revyKpV6v4DKlVSAXaNGqwURUigiC2wOHDgAAMLQkKJ6zevy9oja6XhuIbR4tVUKVLJnXnvlEWdF0WLXL0FHuY3bqjXW7eKNGokcuWKagczw4aJdO+uGy7gHmg3Kw52kCq/YoXa91Zggc82apR6HUkgsGg0tpGsOLhCrt1UomQMbhd2WSi1CtSS1ClSm32hwIVrF8zyue5A2ej+f/bXreAlbcq0sqjLIimds7TZTpkspddLAUOw3bChyNq1DvkVAopFi0QqV1a6dUKIf4ktsDhy5AgDC0JCCVSAwozl/nP7zQo5oE2ZNvLZvZ9JocyFzEo63gTaz9Wr1WsMcPfvdy5xGqzA+iI2L73Sxhjo119Dp9DUpEkiL72k9r1FpAYWAOf+S3+8JJM2GTtGg3P/w+YfysPlQ8OZ/catG9Lmpzay7eQ23ePM2Stn5fglm+NhkIL7Dfa9FdBVy1dNfmr/k/naW+B+g3Mfq51WhhfK5mNFEisXqLJLCPEvsQUWx48fZ2BBSKgAofZXq76S5QeW6x6RzpU7S+8avc3ZWk95802RbS7jnPnzvS+YhLYUVWTN0cLAV0Wu6yURTEsmUKyNH0UlJGs1JTHAY+/uu9XgxJXBg5WnWLDwzTciI0eqFDSLbt1EevZUqVGRStShKBm5aqR886+xgzQ18teQntV7ylNVntI9gWfHqR0yaMEg3XKAlZc/d/8pZ66c0T0JB8aB7zZ9VwplKaR74mHECJFFf6vXmN5/d6iMODJT/t6n+7xIzvQ5Y+g2kK6GohKesty47SH1D47cFrVrq1sGtEaEEP8RW2BhxBQMLAgJBX7a+JOMiBoRLdYGHSp0MIOK+oXr657EsWCBYzUCYPyxd69uxAEqEBUooBtJADOM9bJuUpWgPvvMER106aL6EgDMsvCjN91kkkAgbtzSksQzz4gULqwbGgjELd8xf2Lcis1jsmyZ7jDAe3n6aTWginSWHVhmXhMT1hs7SlOnYB3pU6OPPF7J2FF+5vD5wzJhg+O9gP/O/ifDVw7XrcQBY8DHKj6mWw5SJE8h/Wr1M00wEwSuKyj/AZbp+vWTn2ukl9XZPctphA7kx40/6lbsoJgE7lMWWNVoUrSJbiUOiLlxTfxkWxSBoBtu81hdJYT4h9gCi4sXLzKwICSYsYTaSH9af3S92QehJMSqX7T8Qirmrmj2xceOHc6pNODLL0WmTtWNOMAMfiHb5CgG9BUq6EZSwUAHAx4LqK2fekrk5Zd1R9KB2HPzZt1w4fBhkS1bdCOBYD+VKaOCi7JldacfqFnTsVKRKZNaocCMLVK5iGLria3SZ1Yf8xo5f02ZK/q7UtSWE1vMoAL/PjM7cWJoFF3Il8l91FouVzn5osUXuuUBKDeLpS/cBCxQfhb1XD1g47GN0m9uP91SKWo7Ttr+RizA8BDBnx2svpTMnrClwvXGbRBpUbg2Ll1SfRR0E+JfYgssrl69ysCCkGDFE6E2RI7WQxcgbQiD0vhIm1a539p57z2RXr10wxtAjYnAwp72hFEBIgIfg9UMzPi7gpWPCxd0IxawWjDcNvkMZ+DUPtAKW++lSRORNWtUX5UqqjKOu/StSAcC6BqjakRXisKM+PzO8yVj6oymsNvbQDQOx3sLBBP2VRN3xPZevmz1pdtVCa+D66ufIwgwbwYILCx7ay/w9aqvZcA8ZyPDqzevypUb8a+M9K7eW95t9q5uGcFByvTmvS42cG9D5uS6dRR0ExIIYgssrhsXJAMLQoKUGdtmmCsV/537L1qofX/p++XzFp9L4cyF4xRqQ+TY31ZU5vhx5D7qRhy8/nrMfGUIoaFL8BoQMmAZAI5XFn4KLM6dc/6zFqh41a5d3JqNzJmVd4QFzLuQFuZtsNqC97Jvn6MCFwOL2HENLFCpqEjWIjLtkWnmioC3+WHDD/K/vxzO9jCoPHfVOLFiAZoIvBercpIdGFlmTmOcWL7GNbDAiYy8P1zwXgJ6EVfB+bi142TIYhebeDdkTZtVcqU3bjQaCPFxr4sNY0wTLeieMUP14drAyio+qotlByHEy8QWWNy8eZOBBSHByPh142XEqhFOQu1OlTtJn+p9pHbBmAn2MJ0bOFBVbgLQSkDsGB9WfrJF1aoqK8lnQCH+44/OaRn/MwZpcLwKoGoaQdcff6gBiwVMi7FP3ek4QLVq6i0XKaLcr2331iSzcKHKXMF7sapvNW4s8sorIs2bR5ZnRUJB0P3H7j/k/SXvy8I9xg40QNDdvFhzeeWuV6TxHcYO9BAELwPnDzQ1E0j3WX3YJk6yAf3D0CZDpXAWh1AnebLk0rx4c3PwHDC2b1fCBFx/FrjQIUzA9ecj4MWx5rBedjNw1YnFBu5xd2S9w3yNilNDmw6VApliCrtwj4PmYvx43WEA/RHuaZ066Q5CiNeJLbDA/ZiBBSFByAu/vyCfLP9Et4znf4VHzbxkV6G2JcCGMzO0D1ZagDtgJNeqlW5oEEj4VfQIB2A4A4OcOdXTHzOpGJ0HGdBjYJ8i2PjzT1VH3x0wq8PMKWZMUW3qzjv1FxIJ/gZKyP7yi+4wwO/r0UOkfXvdQWLll82/yKjVo8xqSxYPlXtIulfrLncXM3ZkEkAqIn4fqjh9tuIzU0vhjip5q0izYs3MIKJf7X6SL2MA1P7xgdkGTOdjFG4MCExwPf7zj3rtB1CEwh5ogFk7Zsnm47GIogyQEgWxeu4MuU1tmWug6E7Q/cILIh99pBuEEK/DwIKQEAIP3nf/edccKFnAhKpBkQbma5jWIS0GM+l4oE6ZYnbHIEMGJfi1rvlmzZTWIiBYtt1Iv7Cst6EAxwdxFXUEIQgwrJQLgLeNtCpXECMhDcMSWyd0hQG/Dxli9r+Bnx80iGkdiQHpg4P/HmyKuS2Qvw937oSCByPK2cLADr8PAYUrSF/CINfigdIPyLO1vOOI7VOuXlUn1saNqu3nwMIduNfN2z3PfH3z1k3z2KFohTval2tvHk+sDKG8cPpUSqn9999Kc2GBQBz3OkycEEK8T2yBBWBgQUiQ0XBsw+ga85gBhZPt3MfmStVcdc1UJ3hN4CEKDbQrCCasaxzVg/DAhSA74GAggwENBjYA6ko89aG2DIHAwpWmTVUwgBUid8ehYkX10XAssP/jE3nXqiWycqV6jZ/BcURaFAdGiWflwZVSa4zD1wW+Fp+1+MysphYXEGVDaAzzOlyDqHrkSrqU6cwZdAxq5z2hBsMhhWtggbyh339XVvRBIOBBkQrse8s4EIGGuyADAQUmW0rlKGWmSq1ZmVbuvVfNX1jpjA0aqGuQEOJ94gosKAUkJIhBDfglXZdIlXxV5OOP1ZjgoYccol5XRo9WA15skycH8Zgdkxc//+ybskp+ANU6sY+xouAOpLSjXCyOlz21KSEgIESQgdQ14jm/bPlFOk+Lv7QqVgirj6puBiWxlU19o+EbsqrHKvmuTcL8VoIe5Pdh1WLXLt0RWCC8n/zwZHMfYxt9v3FDcwMCwPaT2pvH6+NlH5vFDbDwcoeSZRBCAghXLAgJEg6dP2QKRGfvnC3HL6rqKpmvlZXme1ZJytvp5d9/YzpjA7sAGzPpqOIUdLiuWKDUJUbnIc7u3Y6VBgQZO3eq13YskbfFO++IFC+uXiPt/bXXRObOFTl1SvWxApRnnLp8SubunCsDFwyUfWf2mX3Z02WXe0vcawqrUTEK7Dy1UwYtdESGcMlefSimKLtE9hIyuPFg8zU8MoplK2a+DkkwnY8VCtSQxnImwJIaTrjy5VU7iECVqfm755uvv4z6Uv75L2baVukcpc2JlxtX0sgfrwyVcwfzm/24D7ZsKca4RumgCCHeg6lQhIQAMPvCDJy59L+nsRFpGAPxi7lFVvQTuRmzMDsKKRUsGAABdmKBpsLVZTtMAgs7X3yhSmDCwAtjt9hAVV3LcNC49Zp6Wit9A0ZfXbsqrQYrQCUdiK0/X/G5fPvvt7Lh2AazD2mF0EHA0RrsP7tfvlgZuwEdAhEYUMK8rW9N35dC9it2N+4gDizswOX738P/mkZ8EIHH4GZqkeXGhbPWuICOqzLDSCnER4PBJSHEezCwICTIOXrhqPy+dbH0HDVarly7LhLVR2RzzFJAKD9vpchgnI5c/qDH1WUb0/dPPikywNlMK1yYPVvkww/Va1Tscifydgeqf3bvLvLSS7qDeMywpcNkzJoxZtnThABRNgz2QP96/aVFiRbm67DDHlggHfHrr0VaGJ81b17VF8SsP7penpv7nPl684nN5r3TiSkTRDYo00HETCNHitxzj7MHDSHEM6ixICSIgV5ixoa/pPPo9+XK2GnGA39BjKACM28waEOFIJSYxRYSQYU7MGUfpkEFQPqFdYyQBoXjhg3HMC6eM8ZKDCq8S/+6/eW52moQGhsojoCAwqr0tKDzAnML26ACYMSNDaAiBAL9uJbZgohKeSpFH6P7S91vHjcnYX6qyyIplQgN91Ysjs6cezlBDuCEEM9hYEFIgIEo+41HjdHopF9EbuiHvQvwN8CS/ttv6w4SEmBSGMcN28SJjopdJDhA2dKJ7SZGi4XHtgmv9LxYgSleGESxbzd+2zxuo+4zbpAWTQaJ1HF4AIFBC1538gUihPgOBhaEBADk1iOXvmNHke+/FznyXyaRM0VEbjsuybvuUoNRbDBKQwZRCGQqOIORNdIsIhRoKXDcsEFkP2GCQ7jtyrffqqpexHvAMA86C3dAlP1Dux+kfpH6UjJ7SXMrlFmLX8Id5AUFZZWHxJE3Y17zuMEAceKDE82tXlnjAkuvDQA1Rxa2l3Hf35KOUzpK1+ldYzU6JIR4TooBAwa8df78edm+fbssXrxY2rVrJ6WQ7EsI8Tp//aXKjyJNBoPIdetETp7UX9RAiI2a7Eh7gkAbKU/xpdEELRBt2x388IEeeECkcGHdETmkS6c8AX/4QeTgQd1pA8Hm0aMqQwUiboq3k8aRC0fk61Vfy9L9S2XChgmm2Z07MCD99N5PTW+KiGTFClWOzAInXvbsIkWL6o7QAelsENpjQ8naYplLS+EMpaPtOuRcITmZZpVszPyRbDm+xbi4jHvvkXWmd8kdWVmjlpDEAiPRS5cuSfLkyc3NDlcsCPExxrVnVnaE4Rmcsvv3F/ngA5XaHE1GY0R5h/ENxtb7+TMybJgag4cdcN5G3fwI5MIFFVjaxdzwJWvUSGkwAErXIt0N5wo2dwEIiZ2D5w/KtK3TpP+f/c0NZnkAefiN7mgkGVMbO5worJJyFj/9JDJ9um6ELh0rdpRh3e+T3r11h4URXMjhKnL15lX5YMkH5vkxImqELNy70DQkvXTduFETQjyGgQUhPgTOzJs3q4IrTZoo0zonUl0USWOMNEvNkORdm0mmng9IynzGD4QDsMF1ip4iG3hcNGsmsnWrasN8/M47RebNUyJvyysQ3wc/EpwvkybFboZInIE4d9KmSdJnljZ10cCZGZWe4JSN9CeLm7dvyrmr58x/I5J27VSt4zAlZUqRTJmMQY41ytn0kMhcZ53F5M2Tpcm4JtJyYkvZcmKLXL9l3LAJIR7BwIIQH4JMg7icsuX+HiI9ahijyDfMJfnFXRZLlbxV9BdDnG7d1CwocUubNkpzAUE3LD0efFB/wQZ8zGCoR+Lnnb/fkff+MXaYCw+WfdCtKHvjsY1S+5vaCS5FS0ILGE0uXpwwN+7L1y+bTt6/7wyNyliEBDMMLAjxERg0vvuucle2DNAAMoE+HHlI0jzSVaTYnyI5jIFNxiPmzGqJHCUkXaowyfmGW9yZM+o1VMxQqVO/FU2WLCJFlAm0KTl54QXlY2Hn2DEVm736KnJadSdxAmZ4r85/1TRNO3bR2GEGMMN7t+m7ppj3hTovSOEshY2HnepDShTACseOkzvk6g3tBk/UTMhbb+lGaANNU4kSjpVAkxNlJe1vE+WjOhOlXiFHSibOob1n9srQf4bKhPXGjZsQkmQo3ibEB/z8szJmWrJEdxjYRdkNWx+UMQeek+sp1MC7XK5y0uXOLubDDiUwwwKUOUJwATByhqOfJSaIMDZsUAWyli93BAhIb8e5YJE/vyrWkzWrSN26Irt3K13G6dMie/ao4HTZMiXkD7nqYD4A4lsMApceWGpWf9p3dp/Zj0pBvar3kp7Ve0rdQnWjnbaTJUtmpkL9898/8u+Rf80+APF2/sz5JU+GCHRQw0mFKgE7dohcvqwqScAdH74WYcJVI26EVukECkVdzyBpz1WUD1+uKAXzppVi2YqZlcA2Hd9kfu+Bcwfk1OVT5uROhdwVzD5CSEwo3ibET0CojeV3rFRAsA3Sp1elRjHrDFF20weOmqJSe2531XxV5eV6L5urFiEPtBX48GfP6g4CUfYnnzhWrjB3427+pmZNdY5gQ/EsBBsAA6OXX1bCfyz8bNum+iOVbSe3ybh140wB7st/vmyKtgGCiDZl2sgHd38QHVC4UjpnaSmZo6T5GjPV8DewRN4RB/KEcLMK00gVqxW4buwa9ZvGbRfXY9PcHWXY3cPk1fqvSv3C9SV9KuNGbbBo3yJ5d/G7svi/xRR0E5IEGFgQ4iUg1IYwF0JtlJEFEOiWLasyDFBCFMzbPU86/9o52gk2Tco0ZonEsAHT682bS3StR+yEkK2X6znQ17hqbOCyjSAhLmD/8fDDDoNkCxgqYiyIIDYSwWAPAz9XwzNcQw+Xf1i+avWV7nGP6cZdy9mNG9eidT1GPBh5nz/viILDAFxDadKo11iYeeIJVTQBVM5TWeY8NkfK5CwjqZIb9yqDdUfXSYsfWsjWE1sp6CYkkTCwIMRLIHiAABcPLgukPsG3wnVwaOeF2i/I4MaDdSsMad1a5YY5JTtHDu+/LzI4iYcXq1yvv64bNn79VeSxx8Jq7JcgsMLQcWpH+XWrsQNceL3B6/LqXcYOSwKD/x4s7y8xDhRRsyIQgiEXL0xAAYTnn9cNNyD1acrDU+SeEvfoHiXofnDSgxR0E5JIGFgQ4gXcCbUff1wNDJFtYKUgIif8y5VfqoYmV4ZcZl542AJdBVTKEer4BgE2jO8sEGTAST0h5M6ttDmWA3uxYqofWWaLFqngIozGf7GCVT64Jj829TH5e+/fcvaqSrMrnq14tOPyoxUeldwZjB2WAO4ufrdTMH/0wtFo4XfEgRVFGOs0aKDamBmB5gLihDABmV6uRuNfGrdh3LcBxP6oyjfwroHyeCXjxm1AQTchSYOBBSFJBKLaL74Q+egjkTFjlLDWAiksqLZap47u0EA0uuyA4xsfKf+IWWM/bNi0SamUkU5BzGBg7Vrd0CBLDNVqEkrx4sosEduzz4pUrqz6cf6hYhSsCHAO/vmn6g83/tj1h+mk/ePGH83KT6evGB/cACksfWv1lQ4VOpgbgoyEAtdtBBfEAPWOW7YMScftxACvGNyXLXC//teh4TepU6iOdKvazUyps1i2f5mMWTPG9EghhMQPAwtCkgBmoX/7TeSVV0ReeknNHgNLqD1woEjDhqrPYu2RtbL/rK6SpOlTo480KKJnCsOBVatEPvxQVZYBGEGXKaNeRyAohLV0qXoNl22cE54UxurXT+WHly6tOwzwN3AO4t/Vq3VnmLDq0Cr5fMXnMmXLFN2jKJ2jtHS+s7P0q2XsEC9x8NxBWXN4jW5FOFh2jYpyXmoLcXDt9XH2TjSL1rkG/g2LNJSB9QfGFHT/8678tfcvc4vY1S1CEgADC0ISCTIEEFRggGfXUyCjAGPoOXMcs8p2+s3tZzq9Aiy9Z0ydMXxKy8ZG374iAwboRmSDGGv+fM/jLPhdYJciiLUza5bIU0+JnDsX+gtGqJiGdKenZjwls3YYH8wgRbIUkil1JnNDJZ/na8eRNJ8ArN+HaxFM3zY9hmt3RGFXOMMxv2tXkd/DS1+AxRkE+FZq6mTjdoxCCq64E3RjYqjxuMbm9tv23+h/QkgsMLAgJJF8+ql7Qa0l1IYxU3yYLttdF0vVvLY6iIQkkLZtVX64S/lwswwtStZu2aI7QpTNxzdLrdG1zLKyFvB6ieoRZW5tSrfRvUkHPgXLuy03Vz+IAYzxsPQVxqDsLCphW8aUcQFB9y8P/+Ik6LZ4feHr8ukK40FACIkBAwtCEgGEt2PHihw+rDsMBg0S+eEHNYuMNGXXwd6h84fkyelPmqULLeBXgVr6YeOyDWCwgBqpRPbtE+nUSWTXLt3hZeDajdQOBBc495o2Vf0oa4vgAuNDrI6EGshlh0C7/x/9zaDCmhVuVqyZDGs+zAwCsGVJa+wAD0F52lI5Spnlni12nt4pnaZ1kv/O/qd7IggonFEtIIzBKl/Jks4F6hCEww/Qfk8HWMkqmrWoWWnssYqP6V7F4fOHZezasfLO3+/oHkKIBQMLQhKAJdSGLhleFSBbNpXp07mzSMeOyi3ZHeeunjOFf1ZebtmcZU2XbWuJPWxAgj+spS1QzsjuTBVB4Hz58UdlZAwqVFCBhjcLY2XPrgTdOPd693auNIUMlq++Cj1BN4zqJm6YKL/vcqTgNC/e3HTSvqd4zJljT8HgsVOlTtEuyycvnXQSiEc8qKG9cKFuhAdIWUWWF/yFAPRySIlCCqE74N7evVp3ebHOi9K3Zl/Jls648RtgogjBxRcrv+D5QogNBhaExINdqG3NQGNiD/YM8ChA1Z7EAJftV+q9Eh4u23HxzDMid92lG5EDZj6hYb99W3cY1KqltBGuq1neAv4pEHaj8o3FlCmhJehefWi1HLpwSLcU1fNXl2drPSsPljU+oA9AYPFCnRekVgHjAGluGwcOovEjF47ongiiYEGRKlV0wwDR8fTpuhEeQEaCe3li5jwg6P6w+YfyXrP3pHXJ1tFljXed3iUD5g2QWdtnUdBNiIaBBSFxAKE2RLF2oTYeTK1aqcyf+PQUN27dMJ2Cbxv/kchg9myR7t0dfiY4XyxNrC/BOfnNNyKZMjkCGEvQHcxGyvALwKreUzOfMgdoAAP+zGkyy5j7x0irksYH8zFIh0qTQh0kCMe7zegms3cYBzLSaNdOLc1GGJgEgJO9VcwuNlAl6vu230urUq2izxfc35E+h/Pl6k0KuglhYEFIHECo/dpruqFBFZEhQ3QjHubsnCPtJ7WXKzeu6B4SaUB7Ax2OP0AZWlQJLVdOdxhAc1GjhsjmzbojyNh0fJPUHF1Ttp1wCLXL5yovK7uvlDI5/FOqeFCDQTLgLlYvi1QwaYRVP2R+JYQhjYfIc7Wdy0kNXDBQPlv+mW4RErkwsCAkFt55x71Qu0sXkXz5dEc8YCZ2z5k95qwsgKsrvCtIePLddyKjR+uGBmlz0MX6A1QMRXABK5FQEHTP3zM/WqhtBd9NizaNFmrbhdW+BM73CXXtJuEBPC0eVybb5mrenj2x6yxcyZcpn6mTe72BozwgBd2EKBhYEGIDwuyPP1Ybggq7UBuSAQi1PfEhqJK3iikGJOEJtBUrVuiGAYTV7jxNfM0994j06hVT0D1ypMi8ebojwPy5+0/TUdsu1L672N0+E2onFjh+I/Ah4QmKbdjlJIkFHhddKneRZ2o+I9nSKkH3lhNbZOy6sTJ85XAKuklEAo0aAwtCbKxZI/Lii2qzC7WRv/7BB4kTakPYZy8xG9bAvvbgQd0gFhBU16unG36mfXuRZ591Fqmi+s3nn6vzPJDA4RqO2r9s/kX3qKIGEGq3L2e88QCQP1N+qZLPMdL8edPPMnXLVN2KYA4ciGlPHaZgIikxJaKLZy8u7zd7X1qWbOkQdJ/aJa/Me8XUXFDQTSIRBhaEaCDUxmbHEmqPH58w4zs7I6JGOC2Lw7MibCtBYTkHZYgAlMOwt4XNbQSBPO3r13UjSEDlsm+/dRZ0z5yp6vYHQtCNlMDz187LkzOeNN2LgSXU/vb+b6V1KeMNB4g2ZdrIV62+0i3F9ZvX5fJ1m71+JOBqT43rGnW1wxD4Wdjv6/ApQpnmxABB94R2E8zgwi7ofnzq4xR0k4iEgQUhGk+F2vEx+r7RMYyWwhIs6yxdGpgcoACCNDmsCAQbwSTohqN2jVE13Aq1S+cMPgfsyZsnS+dfjQMbSeC6XbJEpFgx3RG+PGbcjkeN0g0PGdpkqPSr3U+3FBR0k0iEgQUhBggeYH5nF2ojyMBgMaFC7fgolLlQtLlSWINlnlKlEr/EE+L895/ImTPqdZEiqhxxYj1OfIEl6B42TKRJE9VnCbr79xdZsED1+RpTqP1nTKH2B3d/YAq14YQdaEpkK2GWEy2cpbDZPnPlTOS5cOO6xfXrjxrJAQbauUKFdMNDLEH3a/Uds1OWoHvIYi/NThES5FBjQSIeOCQPH66q+WzZovosobbdnZWQxIBzCMLtHDl0RxBw771K0N2sme4wQHnNHTt0w4dYQu25Ox31PC2h9r0ljDcWJORIn0M6VOgQLcYlJDGUzVlWut7ZNaag2wguvoz6koJuEhEwsCARzfHjIgMHOgu1W7ZMmqO2nXVH1smBcwd0i5Dg4KGH1GYHgcX27brhIyZvmhxUQm1CYmP/fuP+vU43koA7QffOUztl4PyBcvyi8cAhJIzhigWJaOCyCsEtXFctMJs7YYJI+vS6I4n0m9tPJm2aZL6GOBUCvxTJI0vMHClAAH3xosjNm7ojyEmVyjlL7aOPRN57z+Es720u37gs1285VO3JjP+gNwqkUDsxwIn74vWL0V40JLyAVh33e0urPsm4baOamydYgm6k+lncNv5DIYAbt+Kx9yYkhGFgQSIa1PVv107k0iXd4SPuyHqH/PPkP6aHBQk/MNtfq5bIpk26I8hp21YFz8mS6Q6DadNEOnXSDS+CwRSq4/y69VfdE3psOrZJao2pJdtP+nhZhwQElGNevFjponzJxWsXpd2kdk6+LYSEGwwsSMQycaLIu++K7N7tKLmJCiFwY/U2KDFbKkcpcxaLhB+WENqa8W/USBUDsGZAg42sWdV7RHBRtKjqg+h84ULlRAwHYm+w5/QeM6j4a+9fpggaFM1W1JzJRbAdrKRIlkKGNh0qDYs0NNtYcUEVK5YNDU+wWgGtOkrPepunaz4tHSt2NF9jxWv36d3y7uJ3ZeIG4wFESBjCwIJELP/+qyoqWiDvvFs3z83MTl8+bbquRoy+4uRJ5bh26JDuINDmQKdjXxEINrJnV+Jy2BNUqqT6Tp0S+eEHkS++EFm/XvUllfVH18sXK78wB1CnLhu/2KBSnkrSt2Zfc6CVPZ3xBoKUZMaBQ348cuWJBuaXuM5xvUcA8AREUQ8U9/CEeoXqSfeq3eWhcg5h05L9S+TfI8YDiJAwhIEFiUgwaMKDww5WKjCL6ynHLh2TV+e/arpuA4j3quevbs6ChiVHjoi88opjmjtPHpFq1YJ3up448fzzIk88IVKypO4w+OQTVSo3qdWidpzcId+v/14+WW78Ik3JHCXlicpPyPO1jT9Igh9cv7iOcT0DXN+4znG9hyHQWVSvrop3ABTzePVV437uBePsRnc0kt41euuWAhNPCL4JCUf49CcRA1KeoKdAKdmfflJ9eH5iKdxXJtEoqTm+7figqNHvF1DTdOxYpRAmIcGLL6pBlKugG6mCiRV0I23o3X/elY+WGr9Aky5lOhl410B5sY7xh0hogLwgGPvcc4/uCG9w7iM10F6K2ZtgYgmpsCjkAX7a+JP0ndPXdOhmUQASTtwyBloMLEjEAAOzBg1EVq/WHQaFC4v8/beanCMkUoGge/x43dAkVtBtCbWnbTV+UIMKUNBUtCnTRvcQEnlg1XpRl0XRxotg1aFV0nBsQ9l/br/uIST0uX79OgMLEhksW6ZKCCINyqoCVaeOyGefqRxzT8vLkshk0SLl0B4qpWZjA4Luxo1VcOEq6EZwEZ+gG0LtTlM7xRBqj2833kwFyZrW+AMhDErOvjb/NVm0zzjghCQSrFZUzltZPrv3M6lT0HjwGGC1An5Hz855VpYfWG72ERLq3DQehgwsSESwd6/IjBmIplUbKxe9e4vcf7/3sna2ntgq49aOk+s3HTX7SXizc6fI7NkQrKl2kyYid9+tXocaEHSjKhRSBStWVH0QdCNFBELWDRtUnysbjm6Q4VHD5YcNP0QLtSvmqSjP1HhGHqv4WFALteMCaYxNihoH1ACCxFk7ZsmuU9pJk4Q9eFYgG2zrVt3hIamSp5L7S99v6i0aFDEeQAbwd5mxbYbsPWM8oAgJA9KnT8/AgoQ/KCnr+nC47z7v1+1ffXi1mV9ulaUslq2YlM5Z2nxNIoMHHxR55BHdCFFeeEGkc2dnQffHH6tVP3csPbBUPl5mfIOmZPaS0rlSZ3mhjvGLQphHKzwqD5Y1DiiJGMqUMe7bxdTrq8ZtHDqjNWtU21t0qtRJ7itlPIBsYFIKpWgJCQcYWJCwBh4DqJL49tu6wyBtWv9oi5+u8bQMajBItwgJHSDofukl3dBcu6YGW3YQRF+7aXzBxkt1X5IX61KoTUKPQcbt2hdeRq6kSpHKqaDH/xb9zyzPfOWG8cAiJMRhYEHCml69VCqHnZEjVcoHISThDB2qZnDtDF081NwIIQnn8UqPy9etv9Ytxfh146XXb8YDi5AQh4EFCWtQCcrydMqbV2T0aFVBMUcO1ectkF/+VdRXuhUh/POPyIABDuEKCSsg5h48WDcMDh+OaWNw5MIRcwOoADW48WBpXNT4QRJ+4DrH9Y7rPoIYMUJkopeNsnOkyyH3Fr9XRt03SvJmNB5MBicvn5T/zhoPLEJCHAYWJCyBYyoeCPttlfwyZ1b575bnkzdZc3iN6ahqAafVavnCvIYtxCu//eYoiQSHwebN1WsS8kBj0aKFbmhQVc0aZMFVG8JtO3CshsaChAmYhbGcQ3Gd43rHdR/GoPT4Qw6jbFli3Na9rbMAeTLmkUfKPyKZUmfSPcbz6tx+GRE1IrqyGiGhCAMLEnYcPy4yZ47Iyy+rqj0gVy7lrOorIzxXnq75tDS8o6FuRQgwQ+jYUTfCH5xbSXWnDhUyZhSpX1/9CyDghpAbQLC97IBSdGdMnVHqF6lv/hvO7Di1I7IqQ+F6bhNZHiSIo55+Wjd8TIrkKUyPi1zpjQeUwc5TO+XlP1+WOTvnyPFLxoOMkBCEgQUJK7Baj/Kfjz0mcvGi6oNQu2VLkR9+oF+FR1jW5dYGNa8d7Hz71/H9Ycwnn4i8/75uGPirKIA/KV1aGUjiXws4Bbs6BpfJWcY0ACuVo5TuCQ9QItQusn3vn/fkk+XGgQ9nXK9z11RHXPf2r4f5de5LMqTKIBMfnCgtSrYwBd3g4vWL0nFKR5mzYw5Ll5OQhIEFCSs+/VQZltl57jmRIUN0gyQdpEDUq6eWfrC9+ab+gmbYMMfXsK1bp78QGYwdK9K+vW6EMVtObJHqo6qb/4Y77cu3l7FtjAMbSeC6tV/HH36ov6DBdW99DfeD+NwTSbwMbTpU+tXqp1uKgfMHymcrPtMtQkKHZGfOnLl96NAhmTlzpgwdOlQmTJggrVu31l8mJLTo39/5OThwoFq9KFdOd/iIF/940amW/19d/pKGRUIsFQpK3e3bdcMNsGJGjllCbaaRn40ctNgoWFD9zZQpdUdogXQJ6Hgsli8XqVVLN8IMHHbEjXDilnyrRXoag0oNTORQYrZFCRdBRpiw4uAKqT2mtm6pMtLDWw7XrRDjxg1VU/XAAd3hBuSS/v67bsQDckuxHJwli+5wA5a7Xn9dN0IDOOpb0hKA8suu8ZW32Xx8s1kExF5lrX/d/vLB3R+oBiFBxK1bt+TEiRPG4zulcRtw5JhfvXqVgQUJH6ZMEfnySz340SxYoKrb+JqgDyzwpPz3X92IhS++8K8wM18+9cSOS/iCiDBIBeGRFFiAnj1FRk3fIFJ5nEjdj3Sv0V+tp7iWzgwnQiqw+OMPY4S6WTfcgEmBj4xjhxJf/gKOc3376kYsVKki0jB47peBCCzAwr0Lpck45fYOELT3qdGHRo0k6GBgQSKCJsb92Aoq0qUTufNOFWjgmeVrAh5YINd57drYVxMQNEyerBseUrmyKrF19KjzCkfx4iL58ytxC96LN3KvUZbo1Vd1w0aGDOrAJkumO/xPpAUWWLEYtWak7CzjqLWPClA9qvUwVyzClaAKLM6dizvFEGYjc+fqhgckT66uL4jSDh50nnAoVUqV1ovvvSQGlGFyF3xgJaRSJd3wH4EKLP49/K88PedpWXt4rVy+cdnsQ3Ax/4n55mtCgoW4AgtqLEjIc/u2yGXjHmwfUxcqpJ6v/ggqAgZsxS0B5bZtInffLdKggfstoUFF6tRqMBHX9vXXStHrKmZ59lnVP368GhC4+1lrw99JCMjBcfd5nnhC5OxZx+d3FZL7GOz6SLPv6PfCNXn2eef9/Gz1l8wtkrh+67p/HZLt1/nq1e6vB2tLaFAR33WeNau6jnE947q2g+se/V995f5n7VtCr3Pcn9x9nt69HZ89ANe5v6mSr4rMfWyuFMxcUPcQEnowsCAhD0zwsIq+apXuiBS6d3eIKKEaxgDEUzA1hx0Z14YVi7jAysXSpe5/1tr+9z/9zUkEtV7r1HF8fk9/XyLp0kXkl190I0IYsnhIDJdtTJBjiyQmb5osXad31S0fg+gV5jvWef7kk/oLHoLrxd11aW0wb0AKU1zgPuDuZ+3bCy/ob04iWPm0Pjs2q9YxISRoYSoUCXngJYBnDlbmQe3ayiAWmkJ/lf/0SyoU6uXaRZV4feyYbiQAVHBBonxc1KghUqaMbsTD99+LdO6sGwb42W7dRHr00B1xgNQKDF7iAjOmf/6pG/GAYKZuXd0wwIpGs2a64X1wjq1YoV4XLizy9tsirVqJ5Myp+sKNNxa+IT9t/Mn0cYhmofGhNz5qpkN16OD32M5vnLh0QmbtmGXuA8sZuXbB2rLsKeXh4XVGjxZZvFi9xjIs6mejcEJCwcplp066EQu4F8QXOICRI0XGjFFBgsW4cer6Sghbtjj/rDvwN+K7F1iULatu9ha9ejlf914iUKlQ4NzVc2bVNetagzP3/aXvl7cbvW2a6hESDFBjQcIa18ACgxzLHdhf+CSw2LrVObXh11/VEy8ukKtcoIBuuICdhBJZ3iIqSmk3sLOtPDQEGqi76g2mTnUMsOxAnAqRalw8+KDIXXfphsGjjxpP6Ly64Tn2wAJaHuyKEC1ulSAw0Fl9eLX5OneG3NKxYkeZ2PcFObajkNmHUwv7IFy5ceuGuQ/WHVWaAq8GFtAp2CtO/PijyMqVuuEGPMRxk4stiq1fX6RdO93wEFzPmEAA+LswzIMWApMI3gITJu6CD9hdI+UqLh5/XFllA8wi4f1ly6baHhDIwAJpdh8t+0i+X/e9bD+pNGxZ0mSRqB5RdLUnQQMDCxK2oDLivHkqK8gyxAvZwAJCEVRusgbpGDy/8456HRuYdbQHEsOH+1fsuGmTGlVaaVjeDCxiA7qLd9/VDYNdu0SMe1icQBdi1Rz2gvA7UgKLC9cuyL9H/pXuM7rLtpPbzL5q+arJqh6rzMOOlH+AiqKYaMdutVy6wwmvBhauomcE0DDgiQtLMA1womEVISErDp5iDyzgAIkAoHx51fY1kyap+5kFdGRxrdDi/WG/YAkReCD8DmRgYdFhSgdzlRBkSJ1BRt83WpoVaxbt0k1IIKF4m4Qt8+erSSq7y3ZC9YJBgXERmgEFNlRYQmlVS7joLqjABYySV9b2/PNqVs/aAlBBxe+gUpT9MyMH3b5PUNHGFaRMWPsVg6Xz5x37PcwFoZ6AYKLBdw2ig4qUyVNKmpRpzNdpjH+sYApjPuic4rJBiWjs1zlm4q1zEZu7oAI71n5Ow3vCOt9RQ9sfQUWgefhh5+scuYb2feI6MYDJDaxgWPsVZdusfY4txKotpE6R2nR+BxevKTfu+btZHYoEPwwsSFgRci7bdgE20nfwAIwLCEcwa2htiKoinZdfdt4nFSvqL8QChN9YcrD2OwQSJEG0K9tOxrcdb76GBKZtW/MliQuY0iEVzzrfEiLAxqDafk4zi0CZaVr7AymSd9yhvxALCOCsfY7tk0/0F0KDoU2GSr/azm7chIQCDCxIyPLTT84+AiB37tglBkEBcrQgfLQ2CLChGcCGlB5X7wf4QmB5H+kI2F55RaX0WFv27PobIxhoJ+z75L33HPsLUaZtmdYEM5sQlVr7HSeS/Zggt46YZl0QLNvJljabFMumZssxaW5PZ0fZ5zeMb7fLBSIW5IVZ5xNKiCG3xjrf9uzR32SjRAnHOYutnzGgtJ/TKP8a6eDGbu0PVKTCSo+1v1xLXwOUp7X2OTakaNqvc1SuC2IKZC5g6pnsjIgaEZ0eRUiwQo0FCVkwUQ3TLgtM+GP12x9O23Z+2fyLfBn1pfy19y/d46KxOH1aBRRYip8+3fii4/vcYhdgI68aJRuDNb8rEBqLxADtBZyGrYAN7ze+SlMJEH5HgsZi1OpR0vM3RxWxpkWbmmZ4D5d/WPeoNPhRo1RKogWK/CSkMFgokSCNxZEjKkgF8Qmwka6H1UZLgF2kiFpuDTYCqbFIDJiUsesxEiv8xv0V4jwdKQeDxgIs2LPADCambJmie0T61+0vH9z9gWoQEiCosSBhx4YNIgcO6IYmEEEFGL5yeHRQkS5VOqlTsI5ZxcME6nKIjV96Sekh3AUVRYuqgay1YfYNy/bYUDc3pEQjQQZWfBBYWPsTgzf7vs6XT3+jjSnGQxzHytpmzBA5fFh/MTLYeWqnudlBQGEPKgAydhAH20GmGbaIAucHzhPrnHEXVJQs6TjvoAF46y3n85IkHZSbtvYltj59nK/zXG4EzxMmOI4X7s+4T+N+7QaYj+OZ42/gut2nhvFZCAkhGFiQkASZApgUBNDwYTLNNeMlEBTOXFj+6PSH3JmtrNJLzJqlSrzazevcCbCRM2xt8RnQBTPIJ4dQNViBRsW+rxMi/Ib3B6bmcTyD+bN5kQ+XfijDljqWAyHYhnDbHVipgZDbAquIgZjdDQiWKPvnn2N6xLgTYFvnHfLFMBgOZvDZcD2HIriu7dd5fMJvHEPcp+EZYrxOfuOq07dhIcrVgDxQwPn96s3IuA+R0ISBBQl5UF0Qq97WqnZQgFwQpAi9/rrusIGqRpYIEZs3vSUCDQIpTGOHSqUlaFbsxyI24ff776vjiXQJqxxwBDGh7QRpW9a9UhuWCRByRxwYdON8wHmB88MVLOXYz6377tNfCAEQVOA6xvUcDqDCnnUc8LBA6pk7sFpsHM9qX/eI89sCyfj146X3b711i5Dgg4EFCXmQKYQ6+rAnCCR19hvji/GHJe2TRlBhibKxhm4xcKByrQ0nATa0IBCXI80DwCEYrtpQ8oYCrsJv+GPgGGHDYMRaBkOqC44nUtkgxkVOd5jy5l9vmsJtO0WzFTWF2+5AWjqy+exgQv7NN3UjzGhqnN5vfLNTpGtXdT7gvIC+AuB8wXmD8wfpTfZzK5QE2Lh+cY6fPava8NHAdR7UlTHiwC78higKwm/rOsd92QL3a+N4pl/8u5T5uIekORX4FMhyucrJ162/jnbdPnnppOw7u898TUgwwsCChBQYt371VUx9RaCpb9zne68SeWDlOUn5w48iR4/qrxhg5IWcX5SZRDUS5PyGCxgsYcUF5bjCAawmWVVjEEAg/8Eu3IYQH7nZJ07ojvBj1vZZ0Y6/qErTr1a/GNVpXEGNAewq6zSAnwWySsKNZkZQ0cu4zlssM44/zgOcDxY4T7ATEHDg/KlZU38hDMCBxXUeDtWpkKL2wAOO6xzHq3dv5xJnuH8j1xZmhgEmb8a88miFRyVz6sy6R2T/uf3y9aqv5cwV44FISJDBwIKEFNDWQc+8Y4dqQ5OHFKiA6CuQl7tsmVTccVaejhLpZDPTNbFE2RisQkAc7DnVxBnMcn78scj996vjaK3KuAJ3xiVLlOlemFEocyH59N5PzX/jopDxZUwCFyyoO8IJ47gmM45vlV0X5bnlIu03634LS5SN8wTnCwoGkNABpX5xf8Z9GsfRdfnNAqs3xv3evO/7mZTJUkq1/NWiXbd3nNwhA+YNkBOXwneCg4QuDCxIyIDUdmig7Vk2TZuqiSW/p0HhzSC6ad5cvhi6Vh7ZqPuh9rMEgkiFgHDwhx+UupyEJqifiuMIvYx1bO0ib5wHqE3577+hK3Y1uHX7lly+cdn81xugwi/GYK7WLCEFjqdxXFM0aCTffbhTWlnO4jj+1rmA8wLnB84TEprgOOI+jeOIyiDmsTXu2cls1zmub+N+b17vftZZZUidQX588EdpWsx44GluG/9duXFFbt6KPM0XCW4YWJCQ4Y8/lMUAJogDzty56s3AhMkO1H4ogg5jg3ASZRM1I43jiq1CBd1pAykVv/yiG6HH1hNbpcaoGua/3gAehMgG2rZNd4QiOJ44rq7g+FvnAs4LEj7A3wLHdRHU24V1pwb3e9z3cf8PMBevXZR2P7eTP3fH48tDiJ9hYEFCBqxEY7LImgGFbxmkC35l6FBlGoUqMCjWb5uOXVZI5JXWaeRKxbLKRCpHDv0VEhYgvxzHFRtmNF2BaB35QDg/UFo0xKbqsVqx6fgm81/Q6I5G8r/G/zNfJwQs1r39tsNYDKsV8CMMQOaIZ2A2GqsQOI44njiuNuYXMz5ni/SOc4Gu2OEF7ts4rmWN+7i9jjLANY37Pu7/OD9Q7MGP9Knex9RbgJu3b8qOUzvk7FUtsCckSGBgQUKCf/6JOUlUtapI/fq64Wsg0oRq/LvvlBMtlsw1U8qJfFbL+HJ1kemlRW7wqooojksu+UL6yhHJq+y4cX7gPPn8c2cRf4hRKkcpaVWylW4lDNgFoIBQyILqTjhucI/HcdT26reMoGliRXWdf21c53NikduQCAH3f5wf336rnguoKuIH6hepL1XzGQ8+QoIYDoFISABTW1QGtEAmgl8qH+7dq4S5iGpefNHZUhiz1rVryxd3Z5bnWoiMD2FfO6+CdAGIHIOgooqvqFTJUSzqoBSQF+Rj2Se2ovcoWwnjw5kz1fkT5FbURy8clXVHXKsPRBA4PjhOOF4vvOBUJvp8apF/Cou82VjM63xJzXxSKY9xAoQruG5x/bqmeUY6WbKY93un1UqcN3DtxvMB5w+eF34GFdz2nvH/3yUkNhhYkJAEk4odO+qGt4E6HCpxbEiFQKUQ/DErpwPlCiHGRjWYP/8UubOK6o9kYCZileZC6khjYxS2YYNqhyGjRiljOCewD3BepEqlOwy6d1fnz5AhjnMqCFOkpm+bLk/NeEq3jI+QPFWsTtuJBV6JQekpiONgHRMcHxwnGFta4Dgax3NzwdTSsKsxhtR2M+3KtpORrcNYqI3rtkkTkT17VBvXNc7tSKeKcZ+H0A/3fVzneA4ABGAwSsT589lnjnPKR14+uC5Tp3AcjzcWviEjokboFiGBh4EFIa78959Iw4bKURe16l3BTDQcXKdMEUmfXndGON98o0Qvkcy4seq8gL7ClenT1fmEDcKDIGdg/YHyWv3XdCvpYGyFGgbTpumOYGLjRscxwfFx5Y031PEca1sqjUQwaIY5HlHlB3Hfx3mB54ArsKDH+YTnB54jPqBTpU7yVauvdIuQ4IOBBQl63nvPj2ZbSAFAmViUFsQA8ORJ/QUNXFphnAZxH+qf28uORjKo/R7pYvWixdR5gYHY4MHO5wY0OjifsMGIZcEC/YXgJF+mfJI/U9L8GFBECZeIBRaw7D5yQcH8+SKvvuo4JvY3aLlnI1DG8SwWi69BpIDrOjZvh0gD1zTu+zgvcJLjHLKD5wXOJzw/8BxZvlx/wXvkTJ9T7sh6h24pZu+YLe/9YzwoCQkCOCoiQQ+yjXCvBijA0quXD4y4pk5V+VVffy3y668i16/rLxiULq0cdS1X3XLl9BcIcQMGHjhP+vZV50zFivoLGkTJ8DzA4DYMQRo6tqADyycwvcF1jv3vOluB44TjheOGQSOOIyGxgefAk086ng32qgV4fuA5gucJKo94GRhW9qzWU7KkzWK2Uc2NZWdJsMDAgoQUcNpGpb/YTJATDXQTmFXCDCWMkVDpwwIK8Xr11Aw0cmexcbBBEgIqC0Cfg3MGZSlxHt15p6rJCiZNUl9bu9ZnudgJZdfpXebmS3YZvx5bwLhwQQ3w3nxTXeeTJ6t+HA8cFxwfHCcck08+8VNlCBLy4HlgPRvwnMB5ZPe4QcWRESNU2p0XKZmjpLx/9/vRTtyEBBMMLEjkAkUpqnrATRVL1xYYbECc9+WXjsEIIUkF1cRwHmGQAU2OlSKFCkSYGYf4M4CC7mFLhskHSz7QLTGFoSmTeSbchq7VrvfFZMCHH+qGv8F1jgCuQQNlhGOB44CceRwXHB8cp0gH+wpqe5J43npLnUd4buD5YU0iYJXsmWd8KugmJJhgYEEil9isvAsXFvnrL5Fq1XQHIV4AqRLwRUB+tgVsqWvVcuT6BQHj246XtmXb6lbSaGv8uH3xL6DAPdsu+rDAccBqZUgbb3iZn34S6dZNN0iSwHMDzw88Rywg9oZzpI8E3YQEEwwsSNACb7HevUU2b9Yd3gQPUKjCXa28YYyFVAi472E2M5EcvnBYev7WU7adMAaMkQ5KeEIgQxSYxcRgFm69KOcJMIuJoAIi0CARdBfPXlyyp9O1VZNIduPHixfXjUACAzOkpNnzsJAXj+sc1z+OB44LUUB8bHcaR7lkn9X1Dl4Q7/fsadzPD+uOxIDnBp4feI5YYiNMXq1ZoypJ+UDQDTYf3yy9Z/WWoxdD15SThAcMLEjQAp8mrCLDDBdgYvGJJ7xQUh1C7dGjRf7+W3cYwJQANeyRZ43pVrsXQTygrn2VvMrL4tzVczJxw0Q5clG/6UgCqSZ3360bBnPmiGzZohskGthTY9TStKnuMJg1K6wF3X7HEmrjOrcGckhNQR48Bsu4zlu2VP0kduDNULOmbkQOeOZMnOjw+ISFRQzfmrjA8wPPEVQawT4EEHSj7rKXBN1IWXyi8hOm3gIcuXBEftzwo5y/et5sExIoGFiQkAGTQK+/7sEEo12obc0Oa/ds8xfD1C0JPFvrWWlcNGk/G1YgrQymBSR+Hn5YiYhjE3T7iXVH15kDEn+Awdo6f5h724XaVlCRMaMa4P3vf0FasioIwOqtZYpHnMACI4qFJRoEsH36+ETQnS5lOhnUYJBUzWs8GAkJIhhYkMgA6U5Ih7ALtSHeRL4GtBaYkiLe58YNtZGY3HefSslBcGsFF5agG0GwH4Se3WZ0M123QTLjPaRJkcZ4KHjnsYDLK00ax0dD9U2fp+9DfIzoxS7Uhi9F5cpqhdJr5eTCEKQuIm3Mwu6mT5IOVsmGD3e+GCxB99WrFHSTsIOBBYkMfv9drWXbhdr33KPSopKgpSAJBKWAWFUrduCRsnKl84wmErxr1PC7oLtszrKyqscqKZOrjO7xjLJlRaKiRMp459clDAi1MUtsp317NUtMEg4GwVhBQ9oe8Ry4cS9aFFPQ7UOHbkICBQMLEv7EJtSGAzJmMK3yn8RzkG6CmU/UGwVQPx48qF6TmMQl6PazQzdSKyrkrmD+6w2wEIN4Cf/6hdiE2nBADgoleQiBmXV4NMCRlHhOfIJuVIsjJEzgiIoEJYgBxo/3Qkl1iOVchdoQ1UHAiXQJHzF1y1RZe8R/ufJBAwZw99/PFIrEYgm6reACWIJuHwQXxy8el+Erh8uxi8d0TwiDVBJMHowZ4yzUxuQBcq+oqYgbpI9BqcxCCybIlMVCttexBN24zmGkB+yC7iVLVJ8HXLt5TcavHy87Tuk0QEICAAMLEpSsXi0yeLBKNQdFiiSy3Dx+ELNArkJteAYMGuQ8gPMCd2S9I7o6B/h8xeeyYE9wlA8NOMeMwSsEyQE0gfMHGzY4KpglCQi6MbsOPYAF0lEwC+9l1fP+c/vl2TnPyn9nVRpGngx5pFKeSuZrXwJd9dKlMa1jkgx+IQZkSLdbtkz1QaiNgdvbb4vUqaP6kgiE7RuOGgc2nMHgduhQlZIHMmVSwRjMHCMQPC4+/1w3DLCojeeP14CG6umnnf1soLWCoDsJ6Y+lcpSSIlnVG7x847K8vehtWXN4jdkmJBAwsCAhAe7DKOiSIOxCbSw1A0uoDV8FHwi1+9bsK282pJbABLPFyNG2UsxQdrZTJzWACSOQ7WVlfAEsgnk80wlBN/QAroJu6AZ8KOh+oMwD8u0D3+qWd8FErbWAtXWrypaDjMRjLKF2/foi27erPkuovXixV4TaWHnsPtM4sJqUyVOaW1hTyQgwFy4UKVpUd0Q2MNROUkWouICgGw7ddkE3Vo3woEukoPvtxm/L0zWMnyMkSGBgQcIPS6iN2UwLCrX9BwI4TEvbZ97DkFdeEXnjDd3wJhB0Q/Vsn9EMkKDbUzBm+uEHkTZtdIc3CYBQ+42Gb8jL9V7WLUI8gIJuEqYwsCDhxc8/xxRqP/IIhdr+xBIkh3kqRf78avM6dkG35a1id+jGbHIIgTgTTtxe5bvvYgq1u3b1uVC7QKYCkj+TLw56gMB9EsagLLDgfyxB98cfqxRdYAm6X3iBgm4SsnCURcIHiOBGjYop1MaD04dCbZIATp5UOcSoEkUSRuvWyrnXrgf67TePBd2bjm2SnzcZAXgAQfyfpMUXS6jt6qgNoTZy0bwo1J6/Z74s2rdIt8IU6J9QJePMGdXGKiOMLol/QJ4gVtdxndsF3Vhd95KgmxB/w8CChD6YzY1NqA1HbS8LtUkCQa3RfPnUawQUmIULc2dffDz7JLrHuBN0Y1QOh+7163VH4liyf4l8sOQDuW38B4pnKy7FshUzX/sKLCIU038CscEHH6hsuURhKb/dCbUhwPJQqO3KxA0TZdKmSebrZMZ/lfNUltwZcpvtsAVpOCh/SvwLBN1w6PaSoJuQQMLAggQd0GQm2KwZ6U67d8cUamMUA0dtLDUHiJu3b8qNWxHsOo0Zt4ce0o3wBFphTDpawA8QGUxexXLoRoqUJfScMUMNRhBUeyjo7l+vv7xS7xXd8g3Qo/TvrxtJAdc5Aikovy2hNq5zS6idqJJxiSdF8hQyru04aV2qte4JAxJ1o40MsDuwWwJCx45K0A3Hc7ugGw7dqLueiOscz52btwL1QUikw8CCBB2YjB04UDfiA8ED0p3cCbUxmxlAPln2iQxaOEi3SDjywAPq2e9z2w53gm6UWApBQXeSoKO298HKFwwESTRY4IZ0J2BYgu5ChXSHAQTdjRqJ7N+vO+Jn4PyB8vlKW81cQvwIAwsSdMALwH4PffllkRYtdMOOJdTGDKarUBszmH4WatcpWEfebfqupEmZxmwfvnBY9p9N+MMgIoAr97x5uhH6ZMumDIqtCUafYdlY2wXdKD+7cWNICroTBYTacCzeuVN3GECojZQdHwq1w54TJ9RqrwXMBDFrHsHguWPJwFAJFpebX/0VIeiuVk2d75agG5NmMHaKw6G7RYkWTtXK4E8DDxZCAgEDCxL0YAECYyonLEdtzO5YBFiojTz1tmXbSqrkttyYSAceA82a6YbB7Nlh7/C7ebPSF3uYoeQeCLpdHbq9IOgOSvwo1LZz6/Yt+XHjj7L5uHEgIwmkmVmDWRJtlG1pg/yGO0E3UqHiEHRXyF1B7iluPCgJCQIYWJDQ5IsvRObPV6+Re16zJoXawQjSVR5/XDfCE0wyYoxrZd5BV/z++45FNK+DVbl+/ZSRmYWHgu6gxFJ524XaEGj7QKhtB4HF+/+8L8sPqGAmY+qMUrtgbcmQKow8cLD6s3evbpCgBBqq3r1FypXTHQbQWn31lZq9ICRIYWBBQgsMNjB7Yx+1IR8VjtoBFGqTRBBmolHYo0A/bJc/+Jz7749d0J1I596gxLrO7Z+jbFk1W+tjobYr5XOVl8VdF0uJ7CV0TxiACnpIt7Gw26OT4OGxx2IKuuE4CYfuRAq6CfEXDCxIaIEkWJREhKCNhCbDhom89ZZukCRTpkzsgu5Qn9GEIB2fA47jxLdATDBpkkirVrqDBBUQdP/1l8eCbkL8BQMLElQg82HOHN1wZeVK5YUAIRscSgFSoKCwg7g1CFl2YJlZoePqzau6JwJBnvDgwSIpU6r2oUMiBw6o1yTpWILuoUPVIANA0L1hgxJ0YzASiuB9oywchOn4PACC9UGssOYTMBOOZTdUIohQsMiHU86S8gQVSAGEoBsO3XjeAUvQjechnotumLNjjgxbOky3CPEfDCxIUPH772o8AbJmVRrNggVV26xgMmWKciYFdesqgRucYu1mAgEkW9ps0qNaD8mfKb/Z3n16t0zbOi2y/SxQNqlNm4hKtUDBHXhbHT2qO3wJfC4g6LaqRYGZM9XqRSiC9433bwHdFD4fPqePOXrhqIyIGiEnLhkHMBxBGuKPP4buueEjLLNrq0hWfuP2jTogQRNrIRUKzzk87/DcA0iFwvNQm44WzFxQulftLlnSZjHbG45tkN93Gg9UQvwMAwsStOTKpbJmzJTqfftEduxQX7DAYBVlJ4MIOPN+1PwjKZm9pO4hbjl+XGTdOh8qnP0PFg/y5lWvsSDz7LPqtPULqJTUoYNuaDDgsJcTDQXwfl3d2fG5IFj3A3vP7pV+c/vJwfMHzXbejHnNijthA7RNWOGyypZmyqQqQaVPr9rEBAs4H31k3M+DzWgdzzs89+zguWjcaErlKCXDmg+TXOmNBychAYSBBQkNIGB74w3dMEBaDcWGoQPSLewCRJSdRbUoa/UpDBgzRlWJDBiuNuDIK4TPSyiB94v3bRFgUXG7su1kzP3GgQ1XUFkMqWdFi+oOEvTgerDSSgFSBPF8JCRIYGBBQhPU8+7USTdI0AMjM1T0sZdIJd4FM5njxzuCt1AHBpcTJih7c0KIAs89lJwlJEhhYEGCH3eKbrgWIVcqBIADd6/fesn2k9t1TwSCsqgVKyrTB4uDB1Uis91RmSSd7NlVDocdGEjC9yHYy1Li/eF92g0vAT4PPpcfWLBngbzz9zu6FYYgZQbXG647Eg0Kj8Eu4kioGFXjuefq2ofno32lj5AAwsCCBC9nzijX3W++cVZ04+EYregOTuDAfWfeO83XZ6+clQnrJ8iRC6Hy5PIhECBaqxanT4t8/72afQsnYzcbkyerIk1+A4MO1Li3ksO3G8Esrh+kShw7pvqCDbyv4cPV+8T7BXj/+Bx+nDzYemKr/Lb9N90SaVK0iTQs0lC3QhxcX7jOcL3hugO4DnE9RjgIKLAwdvasat9p3LbhuB3U4PmHyiZZlFDbfD7i+hllPC+tD0JIgGBgQYIXCHz793cMNnLkELn7blV2z3VmNsjoV6ufOTCxs/n4ZnP1IqJBecTOnVVqlAWOp+tMdYhyxx3Ok4kffqjM8/wGat3Dlb5lS5E8eVQfat337Svy33+y5/Qe2XPGRRwdIKDRNnXaULhD6W7V5Mf7hqfC558HdALhsYqPycPlH9atEAc6CrshHq4/XIfPP687IpPDxu3Y1fKlaVNlbB/UoKIJ7pt4HuK5CPCcxPMSz01CAggDCxKUJJdbklJcSrTiJgojJ3s6TRCTPFlySZHcITztPau3/LjhR92KYBBcuHoSoDoUSmGGOHiuox5+wPnuu5jTrjduyPuL35X3/nEIulMmT2mep/4Akgm75hT2Mx+8Zxx3Vxd2vO9vv9UN4jG4rlyrr+H6w3UY4aDybp8+umEAXTTO05AA/hZYEm3WTHcQEhwwsCBBSXP5Q6ZJW8koF3RP6PFC7RfkncZhnLPtTZAfTDdu3/LEEyJTp+iGYnzb8fJgWf+kwyDrBtpyJ1CHH++L+I4331R1u0m8DBkS8Ys4hHgMAwsSdDwsk2SAvCelZZukED2L/fDDyhwohMiXKZ8UylJIt4gTEeTGjfxtLCD4HQzYu3TRDQOId0+e0g1FiewlJHs6/4ijkbEBr0SLLjJWnjj5ibN4H+83AIHGd2u/M3VQYQmuK1xfANcbrjtcfyQGyCTMl083QgU8F/F8JCRISDFgwIC3zp8/L9u3b5fFixdLu3btpJTpSEaI/4G2sMGecdJRJuoeA5SbRNkOOPCGGHA/nbplqm6JZEyd0RzIFc9m0xiEERDA/rzpZ4k6FBX3dmWXRKU/I1F7l0hU3lsSVUAkqnhaicp5Nfp70qVMJ3kyap1ACHH1qsiFC47cbYzrcuYUuf9+1fYbGCVB/Iw3s2mT2fWbcWtfrUzhTewu8f4A41vUYwB9ZIQ8INNVAyVyMTjCdW45C/uRL1d+KTO2zzBfIzUM2orWpVtLocyhNzGAYgG//GJcT1F6W3Beog7mlyipKVHJa0tU7Wck6mgRx9fj2KANxrkbjvz5p8i0aSJbtugOA6yqoXhdSAFhFyzCz52Tqzu3yajqIqfSqS8Vy1ZMnqjMFUHifW7fvi2XLl2S5MmTm5vFzZs3JdmZM2duHzLu9jNnzpShQ4fKhAkTpHXr1vpbCPEvzzTdInUWDJHH5AfdYzB/fkgGFeD3Xb/LK3++YgYYt26rPGeIQie0C+3Z0b1n9rqtcjV7x2wZ/Pdg3fKMF+q8IA+Ve0i3Ek+uDLkCFsCtXStS3XjAW7KRp55SBnoBYc0a9WaMB0Ev49Y+0nhpEdU9Sqrnt3X4mFWrRGrUMAZvskEGyyBHYIEHE0ayVauqtp/pNqObfPPvN+Zr6E5W9VgllfNUNtv+Ztcuz/S3SLuHrtcbwJO0RQvdsAGHeYxnQxn4c/6gHzPQVsA5HxmZzZurvpBjwQI527KpVO8pslMvQjYt2lTmPTFPNQjxIrdu3ZITJ05IypQpjevHoSW9evUqAwsSJKCOPUScuKujggnALCaW7v/4Q6RRI9UXgmAWv/qo6nLx+kWz3aFCB/m+7ffmACZYuW38d+OWi6jWxvNzn5cvo4Lb7bVz5c4y+n49PW6QIlkKvwmVXQOLrl1FRo1yFi/7jX//Fald23Q579XqdkADi9WrbkvdGtdludSWKmK8L2C5si9bJlKliurzIzjPe8zsYaZDAX8GFu501d26qZXbYOaZZ+IOXnCeB7NPIx41yLiDeBtAB42gt3Rp1Q5JjOfm2fuaS/WnbsjObMq3pukdjWVex9+D/4CQkCOuwIIaCxIcIF8EwQPu7hZI5UCQgRFaGDFn5xxpP6m9XL5xWfcEH7tP7Za639Q1AyJ3G9Kdgh2kttjf8+RNk/VX/M/06SIdO8YcRPqFMmXUakDZsrojcJSTLRIlNaSMbNU9BuXKqfeH9+lnbt66KR2ndJTp2/TKiZ+BJyBub/Zt5kz9xSDmp59ivm9rg3zDLCMcpFy6pFKeXD1XQx7sfDwv7SWaVxrXVePGYatfI8EJVyxIcAABJ26M2txnpdSUaSX7yxtR90u6LKnNvlAFBnkzts2Qdxa/E+2+XSZnGXNWNEOqwJbOXbp/aXQKiJ3Tl0+bA3MMvBJLgUwF5I2GbyRuRWbiRJXypnm3vmM531vUKVhHyuZyHlwjLc3Vb8QbnDplBDYzRN5+2zHIgvEW4mbb5I5/Md5Qrx0fy8gLDs8Qf69YROdCWWAyAWVP77tPd/gXrFbUGF1D1h5Za7aRkz6owSC5v/T9PhG1L1jgSL8B8DiBpt7blJCd8qq8q1sGzZqKdDAi2wRy/bo6d6GJSSw4vyGLg5epK1iNqVNHNwIEJEd41MBxG2CV4rXXlAbK8psLVc5ePWtOouw8pQoiNN0tMm+GcSAQuNsrJxDiIUyFIsENggo8bd9/X+SymsX/SR6VN0r+GC0gDAcajm0of+/723wNUfIr9V6RR8o/4jfx7LaT22Tebud825UHV8r365KWd1E6R2lpVixmDXVUw8JnS1RggcTwkSOjg4uP6hoDcgxMMIsNx6pEgv0MXUt8QKTboEgD3VKgXTG3dxSctWoZ+3ileo2JxFdeURplyxjb3/T6rZeMXG3sZ01U1pelerMnRMqX1z0+BAJy5Pggkd0CFW3gCB0Ajl48KpM2TZIPlnwgB86pGd1aBWrJ8m7LzdeeAhH13+pyjwZtWPHEBwTEDZxPy4SB62frVikqe+RF+Uj14frp2VPkoYTrlRBY4DDBQM6VecYtxBqUJxZ48tnjSgAbBn+lICFQwmoLPtvRo6qvYUNH9m2o4zawmJxO3Xgee4zBBfEaDCxIcPPzzyKPPqobIv9JYflenpBRhQabZTrxIMqcWX8xhIFB3vSt053ctxd1WRRjYOstLl+/7CQan7tzrvxv0f/M1wmlfK7ykilNJt1ypkWJFubKhNeYNUu5y2FEBs0NQPnRJNRq/WjZR/LL5l90S2TjsY1y4VrCPFFeqvuSk7dDhdwVzGpeSQGibXwsaxADVqwQqVlTN/xMjMBilEj1N75WA09f87Xxd1D1SbNbikmyXj2l6Fcv6x7/suLgCqk9prZuGcF+hjzSulRrGXN/4lX2OL6u6T+w6IDzeny4E0K3by/y4ou6kRhwvYwbp15DEA9FMpwI4cTuJbCSEVsa0fnz0QXIEgxsNu69V93jkRXnS2Dwb5frobRsmzYiI0bojhDm3NVzEnUwSrpM7xIdKJuBhTVvhIjqkUd0gxDPoMaCBC9IOndJPB8uz8ggGSz796vZLLvsIpT5qtVX0qFiB91S3Lx9M3rg7y3w+5DisfP0Tmk0tpHU+aaOucUWVCQz/sPqgrtt5H0jZdlTy9xuXg0qQKtWyvQhVSrdYYBzw1JAJ4IX67zo9F4hxHX9bPjc7vhw6YfR+wzb+qPrzf1p3yBuTwjffKPyue24E+wGFDfXoNdx8zfekwHygQQmqMA14prm92C5BxMcVFi1JqwNqxBI8bFvsQUVVk0Ka8MKFnTr9i1JQYXriYXrCCvBXgwqACpFub5fa8Oio/2z2bfYtMPQmWB/Iba171Nvn5L4fa63kg7G7Tgcggqw6tAqaTa+WXRQkdw4R1PYb1NurkFCfAEDCxJYPv9c5NVXdSPy6D6zu0zcYPPs8AKYrcdy+EOTHpKrN6/q3tgpmq2oLHlyian5cN3uzHun/q4A8dtvapYNuRke8F2b72J8top5Epbu1OXXLtECcGvDCkhSQToIZrODhqFDleWwL3nnHTVzHiRgNQvHNalgUc0SK2NDFmdCQZoTJkus7WVvxFbXrqnrBNdLALF0RK7bkiXGfaao/qZYQPEy+z71VslcC8RYPXroRgTwxDojaLKfDnjO4nlLiI9hKhQJHMOGiYwfr57SFv37y8sbOsmwuY5BXwjbWMQAmoYx/46R0asdZVA/vudjeb7287qVNA6fPyxv//22XLt5TVYcWCGbjrvPR4CeAysNqZI7VgWyps0qD5R+QFIkD5Sq2Mbp00r1jIGo5cgM8ycoKwcNEinuPV+K37b/JscuHtMtxZDFQ2T36d26FTv3lbrP9MkAMFHDPo2tlC1mcmEKZ8/owiypLSvIb7hNhYJAF0nuKFuF6Whvgql95M6grqdOzL8tyeRteUN+lA7SuFfpgEgsRkSNkKdnP61bIl3v7Crdq3U3Bf7uwEQvPgZWUcEx47RJyBi+WDElDLYDfY1XH7G4TnC94LrB9QOQS//66+q6wfUTYLBSgMpoZ87oDgPEQtin7nQcALIfaJRQiRinpaeO2AhU7CtB3bsrMXmg0hK9zYI9C6Tp9w492suZW8j7h4ydaF86Q1SLOrsvvaQ7CEka1FiQ4ASiQpRJAVBoQ1yIwGJMKTPmsAinwAL8sOEHeXzq47olZj5/r+q93Aqh42La1mly6Lwq23L0wlF5f8n7ZmDhStsybaMF4nkz5jWF1alS2NKNgpGPPlK54vagc+lSlTPhQ5AGBfM/cOLSCZm8eXK8qWoFMxeUl+u9bAYWDYs0NDUZriAlCoMYC0iKMHuKSpD+JNbAAlSrpqaXvQkCC0w/w6TP4JjklsnykLwvr8h+KRQQ7fbCPQvNfWAvmYwUqKeqPKVbDjZuVHn5CCywKnHwoP6CG/LkUdoIO9BO+HwMh+sCNV4tMHjEsliS8qn8BwIL7FPoU9atE/nnH/0FFxBYQHuM/Vu5sshdd+kvJAK4bEPiM3Wq7jBA1iX0zOFCjMDCuCe9X+hJFVigOIauuGg+d6HAJ8QDqLEgwcWVK2oAc+6c7jDIlUvdAEuV0h3hS870OaVSnkrRM9xTtkyRceu04DIeMNiF6BTb24velmdmP2NucLu2BxX4G6hwgw2z6cNbDje31xu8HvxBBcCgyNUUcfNmZxW0D4Bw29pXg5sMltoFa0fvR2yoFuWqzUBO87NznjWPAyps4dhANG/XYWCWGuM9K88cOkpU2A1rLl5USnX8q0FhhmdkuBlUBAoE9lZQgWOJY5o7vaNMF2IhxLN46yhiBTO4Z5+NGVTgWOKYYlYdG+bjhg933nweVOB6wHVhB9dNkAcVAAEDFiGxn55+2rEfseXMqb/JAAHI4MHqOHz5pTou1maMaxIE5iisoAJjoEqVnP9G2IKVSMzS4flKiJ9gYEH8D8x67KpsPKFtEW+4c0/xe+Tn9j9LupTpdE/8QGgK0fDsHbPNSjbYrNr7dpDOBGFyq5KtzLKZ2AKuk0gqqGqDzQJT/ph58xMls5c0tSfWfsQ2od0ESZMyTbQA3DX9adjSYeax6TS1kxno4ZhhxQM2DRik2j8OZsGToEv3HZYiGf96gy1b1AqTVZsUHz7A1zmuI/sKFK4XuODfV/o+83jg41+9KvL448qs3L5yCvARLDFy2rRq1nv5crWNSXwxKc+Bahw5PRbYv/aTLETACp61H7FBb4597Hq6ICDHcbG22bPVMUvMdZTOuO1it91zj+6INLx9nRPiQujdgUj40by5yK+/imRMWknPSAAib4iGBy0cpHvcM+a+MaYw+e3Gb+ueEKZ/f5G33tKN4KBkjpKyotuKaAF4bJWxYIRYc3RN85jZy97awSmPVAwMaIMCBAJIW9pqc8X2JiiPBU1VgEBA0XFq7C7bvxiHCR8fM+axmdYh198SJGMAXLKk/kKwgOsF102IgxUK7OP4gjWseOCY2WMrEg8w1kEOZlx5fYR4AAMLEnhg0QojtAhatXBl2YFl8vqC16OrOP288WfpNqNb9DZn5xxZd3Sd/Hf2P/PrFo9WeNTMD7e2e0vca5ZWLZylsP6OEKZAAZFCLikzyB/69lvd8D9YZUIaG/Yxtg4VOkTve7g2W1y+cdksU4tj9tmKz8xj+O3u/8nIUbeiq+PAnXv79sBOHL7TUGSR5aEAc0oku1+6pDu8y18bcsg7PwduJI7UNAR8py4bO94Ax+urlqPk208Lm4thn32mPv769dE+nSYQYGOAiw3lSZHnjw3pNJj9Dhi4DiCKt4PrBddNiFPYuH1hH8Pfwtr3WKFw5T/jdohjBl8NHENsCPgssPoEDbu9L+JIn15VfrOcCWE9DvEQdg4hPiDFgAED3jp//rzxgNsuixcvlnbt2kmpCMhzJwHCctmGBS2WYwFMnGyqRwjtoEe0gA4xvlKFoQZSMjD4RKBw/tp5OX35tGw/tV3Spkgraw6vkQkbJsjULVPl3yP/mpvd3C1b2mzSqXInM/+/U6VO0q5sO6mar6q5JdXILWiBHgcPQsymYwSONDqU5MmUSblpxVYc30/kSJ8jet8j9QkrGjgGlgAc7D+33zyGh67slNo10srS2XfImeMZzK/BagApNRD5ZlBdPgXn2snLJ6Pf37acxoBtv0h1e2UeqMrze+gGj7x/DHpRZ1Qz90R1+WibozAIpADG48bUKfgaVP+C/uWPXX+YRmJyrIJk2f2U1JSnZcxX6UyBtlXxyQKTukjJQdYm8vurVjWOdw79xUCCJS7k8qC0mDVixqQMDDGQcweL9zABi9jY79iQGoWYCeNjlLXdvVvdHgBuEShXiw1pUXDYjopSOgxUWLWOLU5rFEXCMQ23BfI9Z/aY57hFvcL15O5id6tzAyW2UAXFci/ETQfXefbsqk1IIrltPI8vXbokyZMnNzeLm8YFyKpQxL+4uGybU1OdOqlyiRrUdQ/nqlB2Go5tKH/vM4KsBFAkSxGzqtMdWe+QsW3GStqUxsMhEti1S0WXmJrECAJgNIpcCShAg4yZ22aaZWsByv7GcPye/q3I9lYiFx2CYQyA/FX2ctTqUdLzN4fT9tczRXqu1g0wdqxIixZKcZ5U4JSGkk8WRYvK19JTeu95RXcY72OU/1JYUOa5Fly2jYBCrqU3AtUHjaAnZsoQBpsYgwGUicU4PajA+Y/rANcDrguAN42RNhTKWF6JALCiBJPxfftEjhxR/yaEhg1F/vpLN8IMt1WhmtkMVvDcxfMXYGIG1zmiewYXJAmwKhQJXlAOxBZUEAfJkjk7Yj9f53lTQPxT+58iJ6gA8K5ALUr71HYQCxAhBLbE3qg4FEPk/cCTImWdHfIwyxowrUUK473ZBb8YsU2bphteAuZcLzuCCn+C/XrzZjLjf0YQOnW8yJjlMYIKS5SN9CYsAmALuqACHwRT8qi3agUVeONVqogsXhwxQQVAChrGyDhOzz/vENQHeAEzuMG5Yl3n588rzRPLzhIfYHuaEEKCiRYlWkhU96jorWOFjvorxEypq1vX2eciCMHKEo7doAZxi+4xlg+YG/erA2O6uIUR2K9dWpYXGY36pO7TfCECRuqM3cQw6ED601MuXhtIf4JJSgQDX0ccO2TXFimiO0lMoLNA3WRCfAwDC+I/UHYFKRJEjlw4In1m9THFpO54pPwj5lI2SsVam+X0HLFg1tvKiUNyNVJCoMy0TBaDkFI5SpnHrmPFjtEi76JZi4pUniByp8O7BCLuTxdMMEXe8CdB/qrfKFTQu3n5qKsbwOpPAJP7//ufEvN++qmxfzelNy66yiI3HGpruygbg1NkEwWtvBBCbYgF7OWqnnxSDRSDrjSVf4FFA44dtBewQsLxfOQR/UUXUPkYi+RIn4o4IOTy1L6ckATAwIL4D0wrLVyoGwb336+W8SOIJfuXyIioEfLVqq/km3+/MQMMd9y4fUOu37yuW8QEuSk9ezoLbmbOVMFqEAcXAAEGnJ2xwWW9T7s7pVGDlPqriqX/pJRvpu2SMWvGyIhVI8zzZNMxLbb0IYv2LpK/9i3SLQ3UzElNRodg2ybahqP+X8fKmTPKvgbaVGia4eaNASYm8+2FIABE2X36KAkIFgCwBW1AgQgJOT+jR4ssW6b6kM6CkTMEKj52og8lkAqF7B6sWlh1QVxBQIFzAi7cCOYjnj/+cJxXhHgJBhYkcPTrJ3L33boR/mw5scUcLD49+2lzVtpyykZp2JoFakrFPBUdbtybp8hHyz6SDUc3OBl6RTxI/XjhBVVJzEqoRorIJ5+oEopBqLlwBStRX7b8Up5r8pgpFI7OC9/4qMj6x8wqUnDxxnkyfv14U3jszQAjd4bcUj63Vigb/LjxR/nxyJ8O1TJARSfXUqZJAR9uwACZuK+e06/Dn/JEG24HhxwBBcrzY6EEM9Ko4oQCYtGkvijJCkRJhSqX5LnnlINz0Ns9QKiNQR/S1KzqTxBqI5gYMsR9/dUIBjEYMiM/+siRVogYDNIsFEZAnRCAKqtYzUK8hnMGBeciBqxYoLS7BaIsGOoQ4kUYWBD/gLs+tiSAHwuB8WKc3Lx9U3rO7CkTN0zUPQoEEi/UecE0XZvcfrJZqjSZ8R+Yu3OuPPLLI3Llhq6pSBStWqlBL0omWqPy335T+SxIkQqRk+WBB9RA2NJTmtw2Gtg07y95X2qNqSWPT3tcrt+6bnoxeEqbMm3k+zbfR59nJm3bqqpCnpKA6xyHDNlS+PyegkN9/bpyyoax3fu2IjgmyYz3kuymEcVskOQ96sj42dvNhdKgBx8MqX52oTZ2HHJ+UMgABQ1INNhdiMMeesi4b85VfdhdiMNg1o+qaxB52681mB3inMHKVVA54CcBpE4maAIKFRiHD9cNQnwDAwviH3r3VqOJJIAbfxJ/NCiAZ0D9b+ubXgaujL5vdLQoG2VkF3ddLFXyRVZ6WJIoUULN5torRUHQjdncIBd0x8lWY7Q9xQg+bcEF2HZym9QYXUM2H9+se4IQjO5gJe7tilJxgJUKzEYjd94tDQeL9KxuBE6ddUeIgFW4rl11Q4P0pwCaQwYzKJZVv75xr3XYx0QXy4K0AODURIljV9asEWnQwPlnQ43v138vvWbZyjsTEkAYWBD/gFk3GJsB5EB88YVI2bKq7QK88pBKb2H/0VBj+YHl8tIfL0nUoahoPwMY21lC3pYlW0aLstOkTGO6OttN7g5fOBynyDtiwWoFrHlRqtjSXFjO0UEu6LaD9Aykz0cbQF7OIYWvNzMDTgSaFpevX5Z1R9bJwPkD5a+9firED53FYGNgnhiQuH7ypHqNER2EDj4q1QMJCLKEcMjtTtnYl6NH35JCnf5nBJ5GkJZ3rRQtft3cpyHhSI/gATbgFGonGKxWwDHdMpNu3lzk7bdV+eA0aVQfRN5Y7EQaXN68qg/gZyH/Q2ocVjZCERhA7jqlV7YMelbrKe3LOUxn4wS25cgfI8RLMLAg/idzZrUkG0uFCsxAwrcnlJm+bbop0IYZ2ZQtU+TGLaUmrFuorvSo1iNayAvDO1ceKP2AGWCAM1fOyLh142Tk6pGy/qjx5CTOQNANB1koci0g6MbUpL1QQJACJ2dMTGPQY3H7Ug65tuJJaVe4l/Su3lsa3eG4GGZsm2GeUxBcex28CawsWm8GywDTp6vXSSFnTjUg9oFdNYIKHOIZM3SHAe4ZePttHz8m1yp/LberGEFNDhWQI3jvWqWrZE8XxGZgSCHDSoWrUBu6Igq1YwUBhetpCgkWgghXEFBArI9VcJwrqFgNkE6HooU4pyD89+S0DwYaF20sNfLX0C0XUAEO1yWewwArvAguCPESDCyIb0HOO9aaz53THeEN9BCrD602xdlYafhuraMwftmcZeXpGk9L1ztdUhxcgOYC31Msm8Pw6uNlH5u/a/fp3bqHRIMUEVdBN5SZH38cMoLucuUcYub9+5UA+dGCr8iIViPkudrPxRBbf7LiE+9XjMLyCUoqWSrXxHDxolLC4l8fg/QnlJC1xOA45BCDQ5SNt/9Iz72m8P3AOaXehli9XC5jBwczllB74MCYQm34D1Co7Zbdxu0Q3iO41C0gPylUSDfcgBWMN99U5wquM/vCORaLUDEMqx2rV6vHV9hRurRaobDPZhDiRRhYEN+C0ixNm6q1ZoBRgJNaNXyAgG7P6T3SaFwjWXPYCKZspEiWQkbeN9L0M0gIGEy+3fht8+csPl3+qbyx8A1TCE5caN1aZOJE94Ju5EcEeXCBwRFKZdqxihZgBWtC2wmSKnmqaMH19K3TpdOvnbwm6Ibw0634E28Aytb49h9K62Dwa4kdbNd5AvTcCQJvwRJqWzPK+DOpUolMmKDE4O5ErA+WfVC+eyCIne/wwdwJtZHqR6F2rOC0hAAbQaZFCuN2iaAAQWZCwO0BpWfxc3YwF4YVsD174j/1wwJ8yFBXsJOggYEF8S8oLwtxJ2bjwgxUcXpw8oNy6fol3aNArvzfXf+WKnkTJ8qG8/akhyZJ2pTGYFkzZ+cceXjyw6wU5Q4IumFa4E7QjZWLEKNzZ5WeAUrnKC0ru690mnnfdmKb1Bxd0yuC7mlbp0mnaZ10y8bWrcp5DP8mhnbtzIoLGK8gEPBGRcvNxsd0FWpjpQd58ZiEBb9s+UW6/NpFNUIFpD8hNcUO0p8o1I4VaGpQAcqewZMunaoA1aKF7kggVau6d+2+ZNzGEez//rvuCGcw8QetmlONZkKSBgML4l+yZVOjAdcponiw8l+DkWFLh0n3md3lg6UfyJbjW6JnTB8u/7ApGB129zDTp8Iuyk4IyAdvUrSJfNXqK9NgDZy6fMrpbxAbGFmgHKeroHvtWiXoDnLNBarWIJiwwAAaGl5UgU2XKp3p4D2k6RBpWKSh+XUEsGuPrJXX5r8mi/YlTnNRJEsRGX2/QyB+8tJJM1Axwb5qqP6GObpCyR38mxigr9CjfXwOu54bEoLE6rktoTYOpSXUxowy7BxwyHHooUX6bPlnZgUti86VO8tjlYwdG6xgqQqO2na3NohuINQOWte+wIMVMCySnTql2thV0EZAaoVHTGLAHJfl2o1zEzEdsP7GBx+o2C9Ygf7ul816BiKhpE+vUuyqV1ft8+ed1e+EeAADC+I7MFuM9JQk3Kww+dyhg0jq1KqN9O1gGxdCWA2X5NGrR5v/2qv1IH0FIu1uVbuZ1TlSJnd2WU4oWdNmlS53dnESeZ++ctr8e6gYRdzgTtANlW+QC7rr1VMaXczEWtlcMLDGYAczsZj9x3nVs3pPaXiHHvgboFDAyFUjEyXozpE+h1k8IGd6IwBwpU0bZxOt+MBSguVIFg+INyCeTYieG58XnxsDRhw6u6AWQQUOsZX+NHnzZPM6hLM9SGbswIfKPWReg/UKGTs22MCo1RJqW9bgllAbH8xSFZMYHDZueyg2duaM7jCAKBtBedasuiORIJ0O1Qi7dVPXoN1jBbcMHCach/CTs//dYGDhnoWmiSZInSK1mW5bIrvxAI0LPFhxrhVz6PgI8RYMLIjvgPoNKjlrihGKugTmC2MiBe6omIkMRk5ePinzds+TZ+c+KztOOcpCIm2pWv5q8kbDN6Rp0aa613Mg/LaCiyMXjki/uf1k5raZ5mviBneC7p9+CnpBN4ILVHhFyk+GDKoPwcWgQQ5tdIcKHeT5Ws+7FXRjgIHt4nUvi6ihmD5+XDdcgFnAe+/phgGWJSzzgCRiacHxuSGmdXXtRg49Jh4uXrsoKw6ukEELBkUHFRlSZ5BaBWrJO03eMauwBR0QakOgjSUYq/oThdoJ4ohxu8McAY4/XgMEFbFULk8SzZop7Ua1akqyBebNU+chFpLw2lqBCzbSpUwn/2v0P6mWz3jziQUaC6xaWMtAhCQRBhbEfzzzjMpdCHEwQwo9xUOTHzL9BQBmSOGiXTRrUfmr819SNV9Vs99bfN36a3MmCn/HoudvPc0BJd4PcYMl6LaWvYAl6L52TXcEH8ggwrgTA2jrcCOdCONNjO9xuB8o84CMbzPeaSUMgm64dGPbfGyzZ6Ju/GHbuWZOByfU+O7VV0UGDNCNxIPPh89p14JbpDQ+brRQ2/hv47GNUuebOtHpTxC3V8hdQZY9tSw6fTCowIfD4A0RJFZ0AfYzDBco1I4T7DpczigVa4FdZwmwvQl0F0i/gyeK/TJARqDl7h0Wt137dY50KGijEDkR4gEMLAhJJJ8s/0ReX/C6bimer/28rOqxSqY8PEXSp0qve73LC7VfkMGNnQ3LPlr2kbzx1xu6RWKAnDqM0l0F3Ri1BrlDN9zmkZ5h54knHFlHpXOWlqjuUVI+l2PlwgJC7CmbE5ae5BaUPcWMegDA58PndAWBFjSm0ULtzb9I51+dHbWRdjiuzTjdCkLcOWojJQVaCxInWL2yl5UFWN3DwqQvgAwB5+I99+gOG5AhffKJboQyWGnEMgwhXoSBBfENPlBbIzUCY51A1BZHytEzs58xRdpj146VvWf26q+I9K/b3/SdQNWnsrnKmisXvqBA5gLySPlHzOACubTg4LmDsu/MPvM1cYNd0G1pLkJE0I0BdL9+MQXdKK+JoAMBrKug2wIz+ChP/P064xsTyL6z+8zzG/+aaYtxmQFYjB+vlhDcsNe4RJCvvi8Rpyc+Fz6ffaUCnx857gkRaver3c+soBWUUKidJLC4iKAC1jQHD6o+eFEgqEDGY4ECqs/bQPKCFKuXX1bnH5y5LXBujx0rMmyY7ggAWC2HE3/UIV3KPSkgZTF/ft0gxDukGDBgwFvnz5837nXbZfHixdKuXTvjHsebHPEQlLKxDziQloL8hUQs9SPlE+nIMAzDKu3p0yqvFuJPPFj8ycHzB03TreUHlsuxi8fMPgirH6v4mDxb61kzoPAHqBQFF2GIt+FhAJBXmylNJimTs4zPgpqQB6N0nDRIjsaoAGD0isICJ06ogvUYRdjzHoIAeNXBxwr+kqhQA3A94C1nyaLeMo47Ak0YwRXJWsSsGmZ+37n9cuLSCcmSJkusBnHQCqEIwPFLx80qU/BfebzS45I/kzHYgEYKqWMW+INQX9tLOsFlzJ4ihfqcEM8bbxwLQ3A3tiRWKAaHgWD9+qptB2klU6eqXwdNCcChwIoNTMwsPTnSn7ASMyJqhJNQGysVT9d8OniF2pho+fJLZ0dt68NRqB0nuESff94Rj+XLp1a0EHQnxcsxsSAdCqlROO2RCoVbBSa3jhmPAQTN0EJBA23pMfzFpRuX5Lm5z8mu08r7pECmAmYFtLuL3W3qjBIMLjh7+hPKasGtEw7dhMQCUrAvGRdEcuNehs3ipjFw4yiE+Aeo7Zo3142EgXsblput1IdAgcHXhqMbnIzpcqTLIc2KNZMvWnwhJXOU1L3+AYEExHmZUmcy2xCvDpg3QJYdWCbnrxkRGHHPo4+qvAm7eAGCbox+sRQGQwREskEG0vGx4IKSmJagG+n40Plaed7Q36As8ZDGQ8zSxhlSqW/8579/5LWFr8Uq6H71rlelfmE3I32AiAbRgMUPP6gk99jAPkUKFYze3NCggZJfuAKhNlKccAjwuQA+Jz4vPjc+P8D7jzoYZaYh2oXaNfPXNIXaQRlU4HzCeYX9Yhdq16qlDiAE2yRWMKGE+NYKTkFJ43aLMswQbfsTzLd+8YUSd1tVzRDs9O2rxuWB1jwjNfKTez4xJ54SBSI1+0MWyzMJ1VMR4gYGFoTEQWxC7XtL3CuTH5ps+gv4m2jDvXxVop2YkZrV4LsG8u/hf81ZXRILmE1HiSG7oBvs2KFmjqG7wAxzkCkz8dzH+NQ+zsdbxFu1g8HFim4rpFzuctHnBvwpkiTobttW5Sb5EHwGCLUxzrbSnxCfIPazG98BGAHic7gKtZd3Wx586U/WwcH5hPPKVaiNErPQ/5BYwS6EhQoCUmuREbsPW6CA7gIlkO+91/E+sIqBxaeQFXR36qRW0wjxEgwsCImD2ITamCENNGPuGyMdKnbQLUW3md3kxw222pwkJu4E3RZduqhax2+/rTuCFwzEMauPgbkr49uOlwfLPahbCgi6p26ZqlvBgTuhNrKpEhLPBLVQG7WycR7hfLJDoXaCweIYfCXsoAIUJtQDDVbSkJ5lBytu0AcREukwsCAhBfJaoXW0izt9xYdLP5Sx65yF2i/VfUm6VO4S7VgcSJCC9UzNZ+TJKk/qHpEdJ3fI8JXD5dt/v9U9JAaWoBvqTxQYsKujkduAaVKsasCoDBuSqoMEZNTYTbEtDfoiF288zOD3q9VPOlXupHuMa0YLusevH6973DPk7yHy976/dStp/G38eHyVpaH7RkqL/VrG5Cly513TH2H+N3TxUN1SwNwvqFYqdu92nDM4f3Ae2YXaCDIo1E4QMKIbPlwtJFpAW4eK5UiFCjTQPONwvvSS7jCwBN1w8PY1W09slX5z+kXr/QgJJhhYkKAH2SuVK6vXZ88qXfihQ6rtC85eOWsOzEevGW1qKwCE2nAq7lG1h1TM42amO0DUKVjHdBdGtSjL0wBai1GrR8nPm36WG7dumH3EDSgmgLJFGAiiOL1NgGaOdjE1im3kSPfLAgEAIma8XSu4AL/+quIj1+DirsJ3meerfeUCmgucG/ZStA2KNDA3i2lbp8mWE1opnkQgNMf7ssD7hWgbHnvwHMCG92xpKpBWgpUKfDZXicaifYtk5OqR8utWxy9EFaz6RWLRhgQCnB84T6xzxh5Q4LzC+YUPR6F2nNwwbleo/oRzA4uKAN4lEP1j9wWTdyAWPHH7ePJJVdcAwKIEh//bb9WzylccOn/IrIx27uo5s105b2W5r5TxoCQkCGBgQbwPBmWHD+uG5yRB951kTEftPfOk75y+sv2kGhwEUqidEOAy/GajN6NL0AIIul+d/6pZxYqC7njAYA/T60j0R24RqgbYef99lZsDhTEGkAFOpEY6CK4Ju94CaSNIw9i8WXdoEFzEJ+iG8BvVzRIElgytP4J/3bhxY+bWtcTsY8avx/tGP7Ty2FyF2jgErkHFpuOb5JNln5hGkBbw7Xi+zvOmA3lAsQQiOC9wfnzwgf6CBucRPhiF2gkCQm3o2+GtiNLiIFMmtdtgtwA3+mDDLujOnl31BULQ3bxYc3mutnFT8BZ4fvsjLYCEJQwsiPdBCUXkOVgEWnGXCH7f+bu0n9TeLL0JIBC9p8Q9ARNqJwa8V0uwC/ac3iP1v6tvCrpJPCC/AoJajGgwu+x6zmLQiJENRsiYVg0wWLnAJZYihe4wwAoBUoliFXTbSs5GC7qPu0QiNqKF3vb9gGoxligC/9qrx+jve/ddtVnYd6W7mMydUBugClunqZ1k+rbpusf4vMlSyPh24+WB0g/ongBy/bo6H3Be2IMK6wPjPML5RKF2gnAVaoMqVVRaHVKPghUIulFNGEZ61nluCbp//121gx77RQoQKCPvjJAkwMCC+BaYbMGEDDN3IQhmgYY0iSdZPAgomrWo/PPkP6b7N2ag7cD0bOKGOMqEEmdeeUVk1SqVJ28fuQNMR2IGeuNG3RE44OuAyXL7ysXWrepSc125AN+3/V4eLOss6H5i2hMyZUtMh27oGUxNA4wysC/wb1zgTeDN4E3ZwFgFdjYIhBIj1EbAU2N0DScDPARGcBoPCl0Fqj0hL8ee8gSQt4PzBvsM5xFJEFhxQ1qRHcRsSCsKFbAoBX1QSIKbBp7T9K4gXoCBBfEtMCWDQAJr2kHO5M2TTeM5O3C7DgahdnykTZnWdGGumq9qDEE3Uroo6E4ECIbhiHX33SpvHg5ZFiioj6lVKKaR9A3BT4DATClmdJFCZBd0r1mjKtS4ai5gpIdAuVMlh6AbIlAIuuG2/XoDR/Wz/87+Z27mH8G+wL9xEcf3IdaYM0elaiHwscDqClK6Ygi19y2S1xa8Zq60WSuHDe9oaAb4KLGcPlU878WX4HjjuMMKGueB3WABLmkQj+C8wb5IiHM5MfUIEGrbYzRLqB1KOnesqri6gI8xHidYzQh68HzGc9rfzrMkLGFgQUKSmTNF1q3TDS8wY9sMU9S6cO9C3SNyf+n7pXIerRoPISjo9hJImsYIp2dPkV69RBo10l8wmD7dIdTFyME1/8iPJFrQbZwbroJuVIG6ecthAAmwauBuNSMusCrhulqCPrtQG8Ql1MZ56irU7lmtp7QpY3zQQIHjCwMDfBAccxx/C5wXOD9wnuB8sZLtSZzYhdqWd2CwCrUTCsbm99+vGwYLFqjPh+eVt1h3ZJ3M3O7FX0iIl0l25syZ24cOHTJO/JkydOhQmTBhgrRu3Vp/mZAkACXb/PnqNXKLkSKRNatqJ5HPP1elKVHR0QJpzf3760YSuXLjilkBp/uM7rL68GqzD7P/ZXOWldH3jzYdrkMVaCzgXbDu6Dq5cE05ShfNVtT0OEDAlDF1RrOPxM9//4kcGzNDlah1BdOqyOdxTZuKBWQVWQ7a3gTBBFYq7AN7BB1Y0bCnSwGsVCANCsGD5ciNlQCkG6HPWinA+Y/0OtOTARbIZqdxTSDVx95nvL69MsrswooJwGfEZ8X7wUqK1Yf3gt3lkjVl/l2sVNiDCryfoU2GygNlvK+puHjtYsKrX900gi4ssdjrn1oMGiS5O3STwlkK6w4SHzAkR6lkpMZZ1ZxhSI4q0Dg37IuEoQYuCaR1oTLalSuqD9cFAgxcD2nTqr6kMmzpMHn5z5d1S6RYtmJmaelnaz2re5LImTPqje7apdp4jv/5p3pNiAu3bt2SEydOSMqUKY1Hn+PZd/XqVQYWxAf4ILAAP/0k0sFWCMYbgQVyuGuMquFUOQk53FE9oiRT6uBP30oIDcc2jOFLAOfu+oWDqFynj/G0kBPqEXz1lW54CMpouqtwY9dOJhUM6pEubV9AQVYOLkF7NV0L6BhWHTKCBAMEETjvcT1YQbbVl6y68UvjCSxurTB+1vg2K7DAlyHKdu3De3EFQu2ao2vKmsP6Gw0g1MbfrpK3iu5JOu4cx1ccWCF1vvFOpaY+NfrI8JbDdStp2AsvhCvWdbh4sfMKG4Bw23WFLVRBhSuc9/bCSpkzKy2/a+pfYnENLH5q/5O5Ou0xDCxIIogrsGAqFIlYUAGq3c/tomdnwb0l7pWpj0wNbB63lxl93+gYgu5uM7o5lfAMd7p2Vc/MpG7ezJOGH5+v/kZiBd12MHtffVR1p1n86L7jcc/s43fjb9g1FO763GEJtbGKYuFNofYvm38xP4Pr1uVXF1dsD5i8abLbv5HQret04wSNAN54Q53rrkLtYHHU9haQGk2dqipFWVy8KNKuXQhViiIkiXDFgngfP61YoDgPUppdH1IJBQPrjlMcA+725dpL7+q9pUnRJronfIDGAsJ0u4C7bqG6UiF3BcmXMZ+8Vv81SZUilf5KaAPbCXvKHECaECwYghnoDVxTliygA0aaU0JXNTCgx6KCnbZtlVgaM8MWMMODeDs+p+1VI0WqWdY0blYsVkl1qSFuliJs4O/i7+N9WODv4u/jfVjArA8i87ZlbN8YB7du3zIrWO0/t1/3OIPABTqSYCZPhjxO6V6N7mgUeJ8OL4LKvEjJQ/Un12wyGMx16xaeNh/QWGCl0z5pgH1gf44lBpi2frPmG9OnyIIrFiQQMBWK+Idz59Q0DUZ21jSlFwMLjGU++kj9iWvXVN+jj6rqjokFxnFj/h1j3qQtPmz+obxY50XdCj+Q+vHx8o9l6papTgJuBBYD6w80A6u8GfPq3tBhyRLn6q9IkXMNLLwBUhjs+u0YwNMhtuilTBk5Ub6hee4mJS0LgcXAge4DC8yC5sqlGxr4SMCMDnne8AGwQAlPOGDnzKkE1OCHDT+Ygum4ggunwKJwYfVmUF8T4hOD+AILBBXQNmNmGkAUfuLSCfNv2kshI6iAUNt1hQ0cv3hcpm41dqALt40dOvQfI7A46z6wiIvkxrFoa+yjnI5Fy5jkyS3SJvYg5699f5m+IN4EgcWjFYybmw1MAtQrVE+3QocjR9TAGqeL3TcVQm2cuy+8oCaJwpUPP3RO2cVkGAKppIjTO0zpID9t/Ml8DUPUdmXbmc+s6vmNgMBTXAMLLH+iZDIOEvK4CLHBwIL4B9yQcGPCDQqgOgpGFFDjeancLGa78CcQwwA4ciPYgCgugdpZU1fxzt/vyIT1E3SP0lUMajgo4Q7EIYo7QbfFmPvGyH2l75PcGVycp4MIU0TtMnYfNkxk0iTdiAOMh11NtRMDqr2gymisdOminJiNm62Tyxd44AHZ/vDrDgO7IkWcogEEAEiVSAqogOq60mEJxN0JugHGDLgs8XP4PgQWPX8zRv6xMB5pHTuNt+xmAH5ccslcuVeeEOMXxgKEq1hZhFAcKwgQjttTnwDSn1BSFtWf8H2u6Vf4uc6/dtatxAHX8bK5jJ0CcGxwjAxSGMfieyMeLHXSbDqD+qGIwODgN3as7ozJ4L8Hm1Xlksqxi8dUad94wKz0S3Vf0i0FrtVgFo0fPaoqItlXlfPkUYEyRMyhLtROCMaQSt55x1lv8fjjqmJ1QvUWqNiGtMQX/3hR/tj1h9mXJU0Ws7BCiexeMl+EMARqeghdTp9WfZgQxIxe8eKqTYiGgQXxD66BBeoGIn/JiyCwQJrH2bO6wwCmyVgUyZJFd8QBRJxNxjWRv/b+pXuUaHJB5wXmLGGk0OC7BtHpIXZh66f3fmpWFwkGIam7mf2+fUW+/FI34sDdzD5q5ffpoxu+BIX5MSUZ19LEiBGqRKmmdu1ksjKOTKLErnJAJIpLEcBuAdeMGdC4YH0fUix6GYFFTJEzdqTqG2kMEHtorbadkdJTesnXuhUTHIuRI29LN2NwCaE4RNquQKi9svtK06cCRB2MMp3BE0Nc52zN/DVkebflqoFjg2MUF3jT33yjxDk+5suoL6XvbOPE1rgTmscGPGs+b/G5bsW9D/wNzllU8nv+ed1hgN0KE7lPPtEdEcJfxuOmSRPn6xirn0iVcnevcuXMlTPmdbPjlCOPLGvarKYOyWuBhQWe29ZMDQMLEgsUb5OwAbPOuElbgyaAWWzcpF1zyl3BrGDD7xrK6kOO0RFm+xZ1XSTV8oduWdmkgFK6qLjzVqO3dI/io6UfyVt/OfcFCqQQYEBs3xKyMgGQeoBg07499JD+oq/B0sYPP7gvw2Tx3ntOH2zsy5tivF9rw4pDYsHEI3418tqxOoEAAqsYrljft2VqW7MMsRNb2opMdelLJBg0jTd+xaYcQ8xqU1ipcAUrFRj0YxUR34MtKSsTrzV4zTynY2zZX5GxQzY59veMeFYX8JBEIrzdkMCHPFzuYaf3e1+p+/RX4mfSpknR+wzbb9t/018JPG++KfLxx7qh+d//VOpTpAFZEp5beH5ZQJ6E55bOJoyVqENR0nhcY/nvnOMbaxiB8sLOC6VQZpowkuCDKxbEe/hhxcLiN+P5+cUXIn+oVWETzP40bqwbLmAG9KNlH5k52tdvXjf7ahSoYeantivTLmyEy4llx8kdMnHjRBmyeEj0fimZo6R0rNDRHKilSu6//bJ0qbORNbQTyCxKCHXrqmpLFvXqqQyWgHHypNJcYJkAIiCMKuIChhNWnpaLUhtyJbtOwgIDEuStx7WagaDCEmvj7VhVapCeYQffd2+7E1K23VRTCA0nblndQ2S+EZmUnWr8kqFS/8w+c8Xi8fX6hzSxrVgg22vgwNuyJddQmXtoQozUJziAQ3iN1A6kP0HADd1FXCQz9gkKDbgbUEGfAXdxM9UJIhML5IHZ3fncgQgLJw1AQAiFeY4cqu1nsJoKt3w749aNk6X7jQskHrDqWiqHs111lzu7mKaZ/sKdUDuVcRvBKQ2NDVaYIxHoAnENInUXEwYgdWp1qr34oop53bFgzwJp+n1T3RJpXry5PFvzWWlVqpXu8TJcsSAJgKlQxD/4MbAAL7+s8ustMBOGwWWlSrpD406oXbtgbelWpZs8VfUp3RO5HL5w2BxMoiznkQtHzL78mfKbgu4Hyz7oM0H3qVNKiA/vMQD3XXtgERvwo3MNIFFRxh5YBBUILOwF+uMSeQNXpTZG/a5F/w0QWGD8bA8sIB2A03VsQLyNX+saWABLk70ttxEIHJ4gW+bWF5k5Un2xh3Fd518tPY0xxtcuk+LuAgusjtzb7riUbqsCFXcagscrPW4GFnbxth2k9UCcmjN9Tt2jAouBdw2UQllsgQV2AE4krZswAwusCMUFxCVQsVtA/GIFFkEIAotl+7U9tWbh3oUxAhB3ILDA/Q4g5Qz7NHs637iDuxNq5zVuH+3bq3MrXz7VF8kgw27MGOVnY4HsPIi6XQXd0MKNWztOPlnuyB3rX7e/fHD3B6rhCxhYkATAwIL4Bz8HFsjfxWY5twIEGi856xul/5/95cOlH+qWMTDNUUpeb/C6OWNKHMDbYub2maaY1GLM/WPM1AxvCrr371fjapwuGM9ZFb7cgUljaGjt4Pb0VnBkayUNREDWUgwsqbEkEdeyA1YzoPS0QATgWgZKg1+FfYpfh8Dj+HH9hUSAoGPq8aEydZrxS/7WeVjtHhcp8bu023dC3plvBA62hQV3gUW7x09I2/5zzUIBiaFIliLRgQSCiAntJrj3skDJKyuQwKoQPrRdHesKFOoI0Cww0h0wQDdCE6QsWqlPt4z/th7fKpdvXDbbsYFKQkh5K569uHlNezOVBtc0hNoYJFtgEe6++9RAmjhAeiAE3dttcSHSN1HRzo6rGV7RbEVNl21sPoOBBUkA1FiQsAQiQMyMJZaRrUcyqHADggjX2vm+MNJD8If4E8+vuIIKgEEJnmv2LaSDCoBlGevDxKfFACjthB1mbXEsSWDsjDQL/GqrnGxiQcWaqc8PdAQVYKoRbWxpJ1PLGmP4drovDqZumZLooAIg/Q6VbrDFaZCHUZm1P2BjHldQAZAXZ+1zbCEeVADoo6x9teypZWawEB/Xbl6TR355xDTls0+2eAMszNmDCoDUJwYVMUEc/HXs9Q5iZWiTob4NKgjxAgwsSFiBFQy72LXXb71k/DrPBKiRxIt1X5T/Nfqfbikg6MZA5OHJD5sDk6SA1QmkK2Ec+PPPutMNsD1BSpQ1/oMANKxBvUkoq60PbF+ZiA3kP1mDamyutWQ1r77q+LXY3Im3fUKDIaYmI6FAvG0NkGM1xUN+jf0zI9iKCwRrSPK3PnxCcuxCmNTJU8vP7X+O3o/RwUa22IMN+CHguq77TV3ZfTppxi9Xr6qiCDgk0A7YefvtyBRqJxWU3rUVipOB8wfK5yscFb8ICRWYCkW8Ax7eru51Pk6FAhiwYqYMYsErV1QfXE0xpgAoLYtcZAB3W8yIti/bXvJlYrJvbEQLuv8eItdvKUE3yJY2m7Qt21ZSJk9p1tRPiEM5ggiI6qGngLTA0lPYgQdTsWLqNaxP4McU3yR+2OKq1MaJbNdnuAPqz1hSo0w7b0yPGmD/IzVq8WL3Got4KWL8YLVRUi3nBFk1SvcZOFKhbquAopLxy3M6C7XdgVXDuwrfJbky5HIEFMgRcSe0TogAG58TnxcEWIAdDNy8fVOmbZkmpy4bF5/BrtO75IMlMXPzUyRPYRawyJYumzS5o4k8UsG4b8fD/PkqW+bGDXVeWbYHgELthGEMu8x4Gc8uS3IF7djsP66YxTR+3PCjecxAupTpTM1bh4od4gwWvYI9FQrqctyQoS5H9EiIhhoL4ntwI8INyQJWqlCj2Z2RfISraR6qa3R75qxI2Wny8Yr3TEM8AG0FZvIypfaOWV84c+j8IfPhBpduS9BtB4MPDEIwGMGgBIMTCwwyLFG2FVi4AgG25WINET5TeGPBNbCwooOEAoEycpts2AOLadLWNLhLMNVGSpEGvWSgEfu02yKy5VJ9GSU9ZILgbxiBRU/jQsy3Rn2vC2WNt13fpuF+3Ags6huBhRN4Y3iDCQECbCuQAPbAgsRg1ykjsFiqAgt3lacAJgswaYDJAwR7uL4tcD3jusb1jWva3cojhNpIwUNgQaF2/OCZhWeXVT0LC5h9nj8nQ05Ul2M3VCcKaTxU7iEzsPCLeSncLKEwx0qqBQ72ww/rBiEMLIg/cA0s3n9fjRj9AESqGFPACAzmoZLulMgdxmCsrdGZWtkZowpKwyINTTFo+lTpzT4SP9BYrD2yVk5ePil7z7i4SRsUy1bM3KcQhUIImuJKbnM2E8fDnX4CD86MGcNAgB0oUBbVSn2C8BuW3R7QScbLFlE5UpckffTrWEHp2aavi+TcIqtGGmOQwyPNwEJSGe8ll/G+2hkH3mW1AgFF+uvGgNN4q68mMGZwSxgKsAOFJfyG+7418WIH1zOuawQaN8/nMAsu4HpGjLrbTdYUCixgcejOO6mpSAxw28c+jTa7Tm08wPIZDzJcR1lUFI5jMP8J46bqT/D8tl9bDCyICxRvk7AGRXJwY45eqS3+uxHktIsOKsA9xe+RqY9MZVCRSCDoxiqPq+7CArnZyNFGrjZytuEvEpcoG4bHyJpjUJFEkIht6QYwu+9hzth4I7RYJdXNDa/jZYtxXU1xo1lCUNGjRoygAgVzJxixCFKnPAoqAFYorM+OjUFFkrGE39884CjBbQdaKmiqZm2fZaaa4t4Krxh3QQWA8R0OCYOKxIFYGYuQlr+M5Dd2YteG0UEFIaEIAwsSNqDKhk4nd+K52s/JkCZDdIskBZgxWaLQynkq614b07+RD7s86jZgwOqENRZ09RghHmAvAeVuS0RZKKREYfUiQZwoKzJylXQ6sUqmihFoYBUDM6w2kCaFFY0oYysTt+ddTPC+3X0eBFXEq+Batq7r1qVsmQo3U4tMniRvdmwVQ5RtgdUJ69C08pFXW6SA6oaocugKdEhftfpKtwgJDZgKRbxDAFOh7PT/dop8uMi4ERdzLB0Pu3uYvFTXxdyCJJnp26abugsYPI39Tndue0DkgrORHuqyQzvhztCO+AFoFWKpGBXNu+/KD/vuMtOZ/hZt0Z1Ycm2RIoXHy6vicLsuZwQT9ffphh3YcaNcVVy4mtcRv2AZ7qEgxrD3U6rVqcsOjYVFly7KyA16igeMy554h2FT/5CXpww3bpgzdY9xD/W1GV5sMBWKxANToUjkUMgY7dqCCtluBMlHOU3uTZIZQUSy1T3NTazNHlSkOy1S9RtJVn2U2or+pb9A/AostuPbDG5LMikjW43QAuGF+y1n2VGxV3o6XtY8B5Kt7hG9yb44AgN378N1I34n2d7Gjut6zVPOQUXGI2ZFMGzR13WZGfqLxCvkXecUVMiepiIHaukGIaEDVyyIdwiCFQvMtr3z9zsyfr0tpWPsAnmuTWN59lmRokV1H0k0J0+K7NXabRT7Wmc8A10pVEgkRcaTsje5EdghNSaFElogxQI53QCGZxlTZzRfEw+Jz7UbfhdxmOnFx4n0RnyQRb3u9KDIlmUjJefqdpIr1T7ZAnNspERdd69ZaidTZaAoL4uyskXSi/FeEwpSodytariKt4nHXLjg8BZEGiM0UnYgyr6Z9pjsT28MeO93dr+7M++dpgYL3JH1DsmRLnJL+3rKntN75LMVn5lbNL/8KJ2qPGpa22DV169wxYLEA1csSETQa1Yv56BC42qaRxLP7NmqjC82d0EFeOklY3AycZbIQ49GBxUA1WdqjKphbuuPrte9xGMQVMB12jowrpsHQQWYZsQNNXqqzQwkDBAwfJ/T+N09jS1n7BWpoL2oIVFSU1bKVklkMID37e7zdO6sv4F4C1zL1u51DSoARNkvfveTEVTELBuOanHWdT17h3GDIElm4AL3ZniwdendWzcICREYWJCQZ//Z/dJobCNZdWiV7jE4W1hk7F8ih6ubE7q//64mQjHJSxJOt25q0AEHbOxH18lxGNstWaI0xI8a8UTrUq3kp/Y/muUq7dzW/z014ympMbqGWe6SJAEMrq2RICoVwFzAOjCuWwJ5t77x63rE3IYY/fgt5m+aaoxwtrSVZEar3InbEjXqtpRpYPx9VIKq79BW2EGK1S3jEQNROIKMdyUebYUdd59n0ybjjenPju299/Q3k8SC1QnsQlzf1u61A180TFJDlN2h4qMS1X2lLHlyiVle2o51Xb+58E3zuu4203lVg8TNxWsXpd3P7eSPXX+Y+9HkWgZj508V2dVctQkJMZgKRbxDIA3yTu0wy52eu6oc8mrkryFPlXvRHAh98mHq6KV+LCejgkkm+uPFi3FLMCuVYPL4SEx/PPNQQ5BtOWXbVkJNp18Y68H59+dNP8vCPcr53A7MChvfoRTd/ev1972bbKgCgzy7EzccyhJjkAfDOFeDvP/+kR/WO6y3/y5iXCrxeeSNNC6cw9Wkp4yUr6WX2TW1rMindYzfl854sU8LvxcPVEG9G8rJZqkvjpqzeFsx/OxQQjc+h20LV5G3219ILExR9jD1eqFxSW6P6Y9nXtO4tlOmVNd1NpvM4uatm+Z1ferKKVmwZ4FM2mTc813ImzGvtC/X3jRzy5eRDnnxgWcWnl14hgGkivau9IoMfbydHNuv8hDz51dZSMgOzO0HfzwZPVoZ5K1YoTsMmApFXIgrFSrFgAED3jp//rxxk9kuixcvNm4m7YwBmL8T+kjIc/mycqfD0wqzqAcPiqRPr0ysfMiu07tM/wQ4yd64dcPsgxHeu/e8KdWrpjDHYZY2AA/LzJmV7wWDi9iBC+y4ccag8VOHmznAIKNjRzXTiYnzhx4SKV8+ppVCulTppGq+qlI9f3VJmyKtZE+fXYpmKyrbTmyLnpWD4d7qw6vNLV3KdKYfBl7vObNHyuQsI8kiVcCL9CactKtXq23sWBXdWW13S25t24o0MAb21arF3PC1J580jQimZdwvi3NdkmkZ/pPvUqyX1caABduJDPr3uONSTpH1xoB95z3GEyOrZJBLklXOSlnZKmVPiCwvaPyOEsaL/MZ7y79GaS7OG78UP+cCHL5XS/Xo7Ubl6nK8SHX5L3d1Kft4dWWWkCqVSC4jynH9HOnSKSdMOwiwrP2C7YZx/Vt9cMtEBSrcgyIUyykbcRp2ybx5Ip9/rl5DM2WBMQFu04jJcE3j2q5aVe1yO8mTJZfyucub1zUMR9OmTCuV81Y2jTOv3Lhifg8M9/498q9kSJVBCmQuQN1FHBw6f0gmbpgof+7+Uy5eV55LlfJUkk/u+VQunUtrPkJhmofHKlLWcCoXKKAmc3zKBx+I/PGHeo2lK5wUWLpChEOI5vbt28bj6JLx/E9ubhY3jRsPVyyI98CUGAYHZ86oNqa+fvpJvfYRCCo6TOmgW8aN13iYPVHpCRnaVAlHe/YUmT5d5OhRs2mC2bpGjXSDOHHggMh334m88YbuMChoDB4xU4a0px9+UM+axLLr1C55bNpjcv3mddl/br8cv+h+1r1E9hKm42+q5MYA0wADkyJZjQFiuIJAAUtqVi7Kr7+KDB6sXscGIuOctoE7ErExe+/Cf2f/kxOXHCYSnaZ1ks3H4yk/awfBAQKKqY7VDVDNCAtgqAeGGPHMKGPc/58WeZv8/Zoxeu0R68qFK3jr+AjA9aNF88v/2zsLOKmqL44fuksaRFBEQEBCUgRFQEUFBRMpC+zAxIC/ioJii4GIAYJYCIpYCCgqDUqXiEV3N/zf9937dt7Ozi4bs7sT58vnfZh7Z2FnXt5z7/md32dGjO7x99+JR8fB8KDjZPUmyRB+Y/seo3D6EJMyv+Nx6JBIly7mthwK4jcKLnA9s6u4vtPKgcMH3Osa8fHGPRvlv53ODcTSv1V/ua7edXJiUecGoiSB8r7nDT/PtkTKFiorl9a4VN665C23zQoF1wUBhgdmhaScZio8t8lAgOLFzTI/dcMVxYeKt5W44Z4m98jTrQNmeJjmBWWCKCnw/PNGT+EHUTbPFp416QkqoOoJVWX6jdNdI66ra/lS5oL4Y+sf0mxYMzc9gO3xn2Jci0FQgQCbgJztqafsGynAiMNzJmMLEVTAwF8GJuxHtjQFFbC0oxNU2BF/Mjwy1dmCHbVbOkF9CxPYpwasNryvT1wVEqbU/d/5ssvsG8ngPPTc5TXvP45x4TdO94wHva/L1qxZ8kEFMEBlV06blr6gAvLlziefXvmpe10HewX1m9JPXpiejLuekoRudbvJkEucB5aFVNRQpnmKEuloYKFELVTReHRy0nJPOZw/HqHK4t9yi0nlVhKDkJMZMb+Qc9gwkc6dQ+/HtMJx4Q+mT7N7zpaPrvgoicgbPEEof8avGO+KQv3bEz89YX8ySsFhzBMgE/UGC7CDwYUMdby3UYXAOyBBB2XZ5mXS+O3G7n4as2SMb0+G+H+T4YOOH0inzc7v+ZlrK/H/T1WoDyTgsu2+m+S/Pubm56fFKNv76sRV3q4h3vL0US7+70wNTm9/kAseajXCv08XLQr8x2yU04xyqNjkfZ2zznKC8j8Sf2W2YJgYYBGZ3caEQYhTKM1413Xn2p1lWHtTfhY450YvHC09x2e+zi7aGLlgpNz6VeJyT95+9Ah1XKhuSDqbokQymgqlhI8sToV6cOKD8tw0q0Z06N20t/So10Pqlq1rewzTpxstGpsHs3loy9ninXXrTJbJp58GhNrly4s88oiZKMZhNzNA5D1m6RhXFAoz/pshw+cPd1+nBALHVicntvJudmIz6V63u21FGERrwQLsjRttIwTkp7Aq4Y0satYUOecc89oHqU7P/PKMO4Dz2LR3kxtQJMe1da51By+jFo6yPQFOKnaSPHz2w7Ji3OXy3djSIU27/eJtj7fOdIL19rZhOb306XJB+a5y2oaH3XMrWB4BxFQsLKBPDwVfnxjKnxpFH7uGXZQAI2h0KJtt2heiquMFDoiDgoXfzZvbRuSB5gmnez+kdCYKvJKBxRqcsoGMBfZpZuXp48j/6ZJPZeDPA2XdbufG4oCIG0H3wy0eVkG3wzu/vSPvzHtHpv/nPJgsN9a/UW5qcJM0PdEeKAvaCmRW6N08HnjAyCAyDU2FUlJBSqlQGlgo4SMLA4sJKyfI4JmD5btV39kekck9JidUGgpm1iyRF14QGTvW5B4DM6L33Wf0rWhG4xGE2ox7mSn29ku1aiaLhNmxrNwv0/6dJu//7jxFLbQXb1psWynTvFJzN6j0oM3gNtsg/5+8Hm/k/ONx3MdZlfBKvjBqZkbeBhaI3qf+4wtMLAQWT//8tDOuDjE1bUEI3+IkM4Aeu2ysXHjqhW5gEez3ws9dUL6L1NrymDz9tJEwBENFJ1y4u0ri5b5QgQWgjXn07Mdk8ZjLnECllKsB8EO1XD46paD5+uwuLzZIDnYJuyZRYGFBv+4uXKxenViPQYRETeSUYPTtBRboM7gpZLpKNjQ//ZS0YhODS1KWjgfxZ3DtleuvNxMpWQU6qqd+fspdrfCqHeXJlUcea/GYdK7TWaqd4Nxg4pCDRw7KuGXj3PSwWWucB5IDK7aX1bjMTSOjmmEoJk8Wad3aNhwuuEDkzjuNnjpT0MBCSQUaWChZQxYEFogFl21ZJjd9eVOCbwV5vjVK1nBdYKlYkhzMmiJm/P13cR1nAbEowsV69UQKx5EhNAMX9sGECUmF2gxEnnzSdmQjg34d5Jar9YNnCbPyx+Oh5g/JVbUSl0esVKySlC54vLqqYYCgYuJEc7IRWISCkTHqWcvyFx+RPaeFtoZnMNJ/6nEE3UEQKBTMU1A61ugo9za7102RCiXe9n6uZelO0nDvoynqkd6Sm93AIpjkAgsgiEGMP2v0+fLzd6USzML9IBEhbYrg1lvZ2LMndbPxfvr2TUZ68dlnUujVgYFsqeMJv3lIclNo00akZOZXNaKQ1b//2oYDHhPO4zhVeAJsD9KjIuXx3XdKX3eiQAXdIrsO7nINBbt+3tWdEIAieYu47uVcH6wWJgdpa1Rt57pxxmwupL9RFRYj+nz5TF/Y0MBCSQUaWChZQxYEFsyA4fS648AO2yPuDNjsXrOlWD5/aZrQMEN63nmJJ5CZBWVWKJ4qRTG769kF+Ce8WXK/666EyfJsJZQu4M6v75TXZ79uW8njz1X2eO2i1+S2RrfZViby7rsB57HkeOMNI/axNH2nqcxa44wgkiEtGgmY1XNWQpD927rfXM3F0WNJgxzv59524oVbbsmR4kdOT2ABHIu3LhnqpnowRmGlMBieS6wq1q9v2gymsMJJCymds40bHQukEnFsOEYpwX9G7iRRdibzunM6MwPtkdIxCOaOOxLn3EfCdevBOfvKjFek93e9bY85F+5uere8dMFLtic+oBw6FaD81/G5Vc51V9lD3auC4ZHKdcMKswdjfq6TU0+1HeFCAwslFWhgoWQNwYEFqQSszZMgHCbjiGAzvPOrni/Pn/+8m/aSK0fg5E4JZn5I93BO9QSY+SHFgknmWIYske7dE6/aeDAD1t4ZIJYtazsikL93/O2WtfTz3K/PuXndx6NyscpSplD6HabaV28vfVv2ta0QMAjFHZopaM88xaNDB1lx61XSfVx394YsVSqLlA58liWbl7guvOnh/cveT5L2RRsvAVY7KHAQvFJRvVR1GXHZCNeXgJ8b6sQLlGZOjhHSXS6Ub6W0JF0t2lRI5BtncNOjo+0IwdD2Q6Vng57uSgS7iHMweEWClQuuS1Yd+LlgjQdtdO/pgWqzCcWzVjvHZrP5HrnkiAyXHnKahHCLO/lkI/BAj0EN5mSgOnBqVxhCgdwmVOpZMPiTIbj2w7XKqmuksmH3BvlyxZfSa3wv22PKqjJDjw/GiI4jpErxKvad2AShNqlhpDR6dD2jq5saxnWYGqjvwPnP8fcsJooVM2P+sAUWGGZwYaIH27rV9GlgoSSDBhZK1oCbGiJKlGVevgN3PaZVuEFlEFKfXpz+oiv4JV8Vrql9jYy+fLT7Oi2EEnRTahXNRaxC8ZyXXjKHCC8xD4TaCGLxQcosoXZm8ss/v8iijYtsywk0pj3nGu6FG9KGmGX0c9Y/It0W2EYIUfazZzsxBqe+E7lublzbPXdT0kQkR6WilVzxa6jZzctrXi6lCyVO8aLULCkXSzctlZ/+/sn2GvE2mgtSwi4//XK3DwnIW28l1pcHg28F/hUujGQ5YXyq7DkVRBoFxo5JwLSy15m93N8PnIPEXz//nFi8zTxEL+f/QeMTDD/PvwuG3clH8acTpZacctStdFVKUhB3lHFG752Sj5pY/QxO78oorJ4yceynTp2I1pcnCyLuz5Z8lkjQDblz5nbP3d7NekuTimlcnooinp/2vDww8QHbMkLtGxvc6BacSCtU6POSAKjwhRCfZxYekhmGCUEmBpkgBGbbHnzQ/BKcZRXFhwYWStZCbvKkSeZ1GAOLYDM8HkbcoJkJTQ+Ilv0DGAbWt94q0iq0/juqIZCidKw/AwRBZ+3aJrBgtSZWBOxUSgoOLL5Y/kWSlY6M0twZU/ecJ9Ljd9vhY0sBkXE1jYHc6lSe+s1Pai6nlwotOEcfwgxnah3JSX3yNEgeiESpnNaysvOhLAimCTZTCiogUWDBKIZZTAYh2Dg7HC+wAIKLe5re434OD4TKpN/5/SsILu655/hWFR4sALHSkVxgkRrtdnaDbh8Buwf3IAaRsUIoQbfHDfVvcNPk0jPQjnQmr54sb8550w2sPD68/EO3NG96YFWZyTAmiTwINIKD0HQRHFjwHEcrpigh0MBCyVqyKLAY1HaQ64mQXr791sz2MNvI4AQuvNBUj2KyxudSH9WQl4sg1D8zTOUnhJ6xNHhJiR7jesjCDQttK+3gFo6LdYHDItU3i+Q4JvLwL04wGlS06t+iIpsLiqwo5QStlzvnVYg4gHK5CKaDYUXiytOd6DYD7D20V5ZvWe6KRL30J34XvxORaHDKFCJQYgQo6HwkBM6kKCGy9veNWt5Qau5NPrBYUrmgdH24uvu7+Qzg/V5/H3oOPEz8kBqFaJyCAt7vJfuIVEV+dwEnSMsIlFH2F4nyIN0quPpSeiFjKlSlqtRyxhmm8lOsg6B7wooJsvvQblm5JRBgsJL1+DmPS7WSsVExCj0TBRPu+/4++fYP50HjQKouqU8vnP+CW50tvTz3nFlI8NDAQskONLBQspYoCSxIoWAQhSiO9FJgQpjBDELSMMlCsh1mgEk58WfgMEN99tmRJfbMTEIJl9PCHV/f4c48nrHBOZ2HiuR2/juCi+Ddd8dFIm/aqpGhggqYceMMaVQxaWlJViNSI+RMCU+ofeSY8QaB+uXru4P5UBokf2DRoIG5VOmbNy9xX85GzoBjXvKBhTQ8U47Mmun+bj4DnFnhTJl5U+K+UIEFkJrHdfib+TEX53nl/m4qtmUEzvtQ2Wdc4+Eqw3rbbSKDB9tGOomViYyUIA2QP6QvnvO+c2OycN63qNxCfroukLYXzVAFCqNKdBWeYLtovqLu9UBwkZHrXAMLJRJIKbBQ520lKsBl+7HJj9lWeGBQXaWKyZH2clQZgKC7JcfZGzNFKwi18QBjsOYNrNCjEmRQfSdeggrImSNnhraHzn5IZpXtKx+OEcnjjNlzOvszYfdhHECumTNSfeDlWTKjl9mouBRqq12mdsjfkdGgAqF217FdEwUVpB2N7DgySVBBQE3VpaVLbYcDfRip+UXVnCPugPe4Hy1Hku+wbNMyaTasWSLRKpqPJsOaJOoDgghWKPzpTwQbrGR88YXtSCfedwje0CwQXKRqm35EZlXrIrOkcdKt73h3oBfqd6RliwcInjlPCHanXj81QbjN4Jvgs+V7LeWv7UGFD6KMuevmyrnvn+t+Dy+oIMie0mOK+30zep0Ho27cSqSRq0+fPo/v2rVLVqxY4Qw4fpZOnTo5z8kghx1FSQsUpWdUC1SGQo2ZP79ppxNEr1+t/Mq2jMs2wr9yhTOmNmZAg8YA0bITfMuff5oBDW7UuFBTJ/6UU+wPRxHk4OILwITT/v2mj4EkWorzz8/w4Ygvnn1Win/2lVT8aZ6UWfxX4mEBalqe7MzunXiiFC9ZUSoWSXnDFCvcfLjwQ7cMr19XQXrJ7Y1vT2K8RZnhAQNEfvghYIrI6hVVhz7+OHEfLr9uNSXKRnFRQIUK5poO6svh9JUqUErW7l7rCscPHT0k63atkweaP+AOsLy+NbvWyLo966RCkQqJ6vdzrXEtHjwostBmrSHY5ldQq59AIJwgfq1YMZWb85Urlj8mFdfMlor/zpSKsjaw5VwnxZc5FxxijmhUV2cD+XLlM9dD0YquNw3nBAU51u5a626cF7wXbUz8c6JbPILysoePmgoZbU9pKw82f9At/IBgPaPgt8T92yufvG2buTbatjXtdMODgmua/xB48FElSlFCwOrj3r17JWfOnO7mceTIEV2xUKITSn/WLVfXtjJOhw7GhMgv3P7yS5H5820jiuCBg8iPQaJX/YmZaL4fS+YEU0oqoOQiandKJg0Zktj8hBMGPwR26hVXZOuUM8L0oXOHJqr+dGmNS90qTAim/RBUMHbwV1cigMDXxLea7UJAQUGYtEClqWAdBxMAFFjADd1jzJIx8va8t+XXfxOrqr2qUH4hMwJvPnNGVy4yBMeX6g4cb447x9+D84Lzg/OE88Ur1amkCIPsq2tdLT3P7ClNT3RuUA4MxjHF5NyY8Z9nPBI9zF8/X75c7jw4LK2qtHK/X/vTUjB6SSN1ncceZcEVJVLRwELJXA4cEFmwICBiiGCYsWXM4Gft2qSWBJEIk00EQaQ9kevtL6OLUBsDrhtvtB1Kyvz3n9mRLPcwyvVW3wAlMUn/lCEieuvRw76R9SCIxs330UmPJgQVCKbrl6svA84bkCSoIMWJCkwffGA7HNATUYGpcmWzwuWBENkVI6OmZl94qurkSOHnEG9fXO1ityIUYm6PEfNHyMszXnbf90Nwwe5lN3vCbcbuLAzhv7Jvn+nLFjDS4Lizs/wfEFjuxAyEpSD2BeeRclwov3pn4zsTCbeHzRsmr816LZHAO9Ih9YnVFj8EFRktyJAl8HzmOc3zWlEyiAYWSuZCDUiWAVBhRiGU4iR9KNJh7MvMM9o7yuj6ocxsvFR/CgvPPmt2JLWIcabyQ5RGnhl1erMZdAoIoxdvCpSmQhiKC33wqgF062asNvwQZHTqZBs+HnnEDOTdkmnsC78YIxSkAaH69gs0HEiBokLV2GVj3dWMDzr6ohoHVi66j02abkFVKG4ZBD4eVI8K8SuyB3JPWBrkfPDDEiEXG/uM80hJFZ3rdJZh7Z0blQ/S+24aHzTTE8FgRPnyTCdyj0a42HhOazCshAENLJTw89prZhTjQS3XUGVZIpALLjDlKSmzCXxsytKSBZGtM6WpgN3s39UItan+FG9C7XRBTV7y4xGifPJJYGd6oM4loBg1KiIMP75Y9oV0G9ctIY8bSH/64LIPQgq1SYVj7O+dGwzYGReT7hTq3KDP7ecf+PdDx47GSR/426+2tiffw2c/LH3O7mM7ne5jR90AA9FqsA8H/QRGTd9pmqyg258WFS5Bd1hApMH5wHmBGMXDO3c4jzifOK/++MO+qYSCcwNBN1WhggXdVI+KZEE3K4dXfnqlfPfHd87pby4wVg4/vfJTOb/q+W474gm+ztFWZLTMmRK3aGChhB9MIFBhhgnSJRDFZQUlSxodLlU2vBoGW7aY7Ia77jLjz0iDcc2TTxrRqwfjGWr3U04zVsrmZhrTppnpeUbalAAKcs92gwoetNRDZaUim6O00YtGy0szX5LFGwMrFRhu9W7SW2qVqWV7DBjDseLGOYJvA7CyRSYP50ihQsbfxO9xkiI4ubGcAPxNOwgGht7g0GPUwlHu565crLK8cfEb7oYhIOw5uEdm/TdLHpvymPz6T2LNBb+CVC3/ihsrF6R0Ba/MZTmcB5wPnBecH/4aoMB5xPnEecX5ReUwJVmK5C0iZ1U6Swa2HiiNKzr71IGyrdP+nSYPT3pYZq1x9mWEsWLLCrnrm7vkhz9/kC37nAeFw2klT5NX270qbU5pIyULOA+ULICsTa6JsMHzm+e4oqQDDSyUiGf8ivFuLjlQC7x73e5SoXAFt50ZYLmBHgG9hVeJhhLfpBSRXu1VrIkEPKE2tcxVqJ1GUOd7B5VlKv+MHVElJwDbLbcEBtPZDELtt+a8JT/95RNqV79Ubm54s5xTJbGmgqAC0fNnAdNfN6hANoLe3INVLQTSHixCZHRMUaNUDXcFxYPPO/XvqVK6UGm5teGt7tarQa8EQTez07gTD503NImgm9LPwYJuNBeUTY4YCDDQV3jnjL+yord6wXlGEKskC4Lua2pf44r9/YJuPIwiTdC9cONCVwvyzm/vyPb9zgPCoU6ZOq6LOLqR4vkz7t2UHBRmI5YtWtS00R6NH29eK0p2o4GFElWULVRWBrcb7OaSZzZkN6DVxOvCA3MiHHIjQdDN6okKtdMBOW08iZnKJwLzWx4zICR3DH0FA0E2csoihKenPp1IqF2vXD15uvXTyQq1qfzs4Qm1/VmKoWC3IKDOCHyex1qkLE5igiC1gm6CC1fz4YPy0BGht/CgPKd3zrDEwnnkDzDee88shYbL7juGYXB+R+M7Qgu6t2b/sjGpWe///r5bWtaDVbrr61+fIdPW1ELgz6kUYsFQUbIdDSwUJQUYiPXvbxsWBmx9+9pGNsKYODgdxBvTKClAvjs5YosW2Q4fDP4QMkbCAT4OBNcY7oUSajOb6S8pCwQZoYTa2QmlaId3tJoNC541PcYev9oWKzEE/hFJv37mPOJ88sPKxQ032IaSEtfWvlbebu/c0Hx8uOhD6TW+l21lH32n9HUDYD9PnfeU3N3kbttSlPhFAwtFSQHK17drZzJlvMqSZDZ88032CbpZLWFGed48o7kDVlVIZ2nQINslAJHNV1+Z1QjKKno7D1jqIXfojDOMoUM2+lKEghl8BM5LNi+xPUbwilDb7+TrCbXRIXhfzxNqk82VpnNj3LhML6eLmLt26doy48YZCauQCGAXbVpkBN2+lQuE5nwPr1IU34+0RGLEiFq5AM4fziPOJ86rU081/Xxo6kKroPu4cG40KN8gsaDb2X8UA8guPKH2Nyu/SfgcnlD7wlMvdF3Fow5Kw91xh20oSsbRwELJGl55xSjM0sDGPRvl3u/uTVItJqtB0I3Wwm8glp2CboKZOXMC1iCeUPuss1SonSIIUV580axUeKPua64ReeMNY5zAiBxb2wgDzUHfyX1dgTNCZ0D4TPUlr8oSK1e33ZZUqM341S/UDuaZZ1LQKiA+JkLxICBLaTmMfcqJiAtfCNBYPPOL8wuDKJS3kDQ+sbE81eqpJIJuvrenueDzo5NmBdEzuOZ78n1ZYGL8HnFwPnFecX4RAcHu3SroTiUIuhtWaCgFcgf8QkiFuufbe2T97vW2J2uIFKF2chBc33uvcatPE1jbU1baA42Qv9qboqSRXH369Hl8lzNCWbFihfOA+Vk6deokp/nzQhUlPezYYZKgPTECecUIHL0RQSpYu3ut3DbhNtm019wpTylxilxV6yppdXIryZMza0t+IozmKzEBeeiQGXNhSseqASsZFNHIinzXVatMNgXiVc9i4bzzzMAqwibZIwuUja+/LjJliu1wwL6WmTqWntI8nZ81UBHn7blvuykgHgieMd66ts617moFGnS+GqlBlJT14FIjXY54IDl69w64y5cqZeIGVugoYCBz55oVHg/2VbAV97ZtZiSDXw3wARhIn3mmHDxy0K3q88/Of2TfoX3udbzjwA7XETwYvgcpXbly5pJNezbJvzvN/7dk0xI5cvSIO5D7b+d/UqNUdfdQEeRzDfp/LdcD16Br7BdJcF7xoblA+dB4BRCEEbSx/BmRHzpyQNjPubNm1xrZtm+b7D642y3mUSRfEalYpKKcUOAE+5OZw49//SiTVk+SiasmymuzX5P9h50bv0PtMrVdTQVakPy587t9WQmnEI9YTFy5DJlowm6GRcYT0rJLiMiZJfN46CFTd11RUoDVw7179zq3tZzu5nHEuRHrUETJHCg7Q5WUMEIJwgGtBySavcoqypUzgzeKCF1/vXEq9hg0yOh/0QNzY/cXFwona9aIfPyxCSK80rIVK4qcdJJ5rYSA5R1GzswOe0EFkWDdumYWGVOoCIUZUvK4h88PaBCYIUXw3KNuj4SvhpkdgaYf5obQB6Ulk4lzmvPbPbcZsafGLAsxRzJqcNJXhnUY5paYTS18L74f39OD73/TlzfJI5Mekfnr57tBCt+L7+efA8NWA/1TxGqjuXHcfXdiUz00GKzmRmId6wghb6680r9Vf7m61tVuIAEHjhyQxyY/Jh8v/tgNODIDUp2Wbl4qg34d5J5/fqE25/T19bJGqJ0c3MYGDDCmkemGiT9WLBQljGhgoShphAEN6SV+cOjGbJcJXSeIzxTI4gnWFN93n/GwUJKBPHZm0P1CbfLdSUWJAPfslMCR+rOlvlqxDiM6jnAFz0D2AoMK/yqFB2nTwYsLaYIRC4FXNsD343sGw+oFTuOe7oK5C8+rz4NVm0yWhWSMq64KLegm6FBShODi3mb32pYBEfWL050bYyaAnuLyTy6Xb1d9a3sCINQmAI56Hn7YlJdSlDCigYWSdeDIHVwzMgph1S+UoJtUjNWrTWlMUqTCCVYKmJj5V0PeesukrmgKVDKEEmpfconZkfnyRWTqE3hCbQTMnpMvJVkROCN0RleB8zQLBaTleV8Nnwf0BmwZzuziP/WfbIzgcd1ODegsEG+kk0SCbl8pWlJiDh09JF3HdnX9PPh+aJ+QKYQSdEfkygUfmtWyUIJuTEbIdVRCgjCa9L8hlwyxPWZV4cOFH8otXzk3yDAyb908OXf4ubJ62+qEaxA8oXa7au2iU6gdDNe4d50j0Pv8c+MQqygZQIckSuZx5pkijz8eGH2TXpHKB+fctXPl8R8fl32Hs6HsUirwHLrJYvBnNqC7IDUdgemkSbYzDJBitd5qFUnLIuUDiQCvlRAwC8wykl+ojWMgooIIcM9ODjQVzML6hdq4ETNbi8AZoTNCbY6/X1dNgMlKGuJmtlBC7QxBpFK6tG0E0aKFycv2IL0ig0YvnqCb7/36Ra+7pmkeOI6TIoZpGt8TYTrXG8ULwC/ojkg/Ok/QzbKnX9BNhMTEC6tpSkjKFS4n7U9rLy9d8JKULVzW7UPETcpSuEBP0X9qf/cZ5OkpWp/c2j0PX7nwlYgQaicH6ZE8cnkGpRmvilmaBBqKkhQNLJTMgxm5Ll3M7HAaofIHM1EIQAF9xblVznVfRwoIXBHHUkQDQzpWKjyo1ImnBOZ1+Al4rthpBcdvJou9oAJKlDC/F8G4EgKE2iznTJ5sOxyIwtD8oHSPUAgqhs4dKp8u/tSdnQeCCsTOV9a6MkGojZu2X1PRoYNxpvaff8eDqmbvvmvEn0lgOcRfJeZ4UAfWb+WdApv3bpZ3f3tXtuw1VXVSgu/L976t0W1y85k3S4fqzhe1IKh9a+5b8uXyL90YEf09+8ALLoglI9rsmmVGAl0uZC+4YOYYERUfWqtFJUuFIhXc4gUl8js3QgvBBeaKO/bvsD1pg5UwnN9x0eYaHLfMuYFbeO5wDXIeYtyXmY7a6QGZGJMJgPZu1KhUVDLmB1lyZ4ldUcKMBhZK1kL5CqbfvZJGqeSK069wBxeRyIMPGtErTt01a5oxAzBGIOi4/37jlcWkZFpgV6E3Jg3KS+sgqMB1VdOfQuCpmam56gUVUSLUhpELRqZJqO19NeQQaQkq4O+/zbnpLSywApcghGb6H1MUKFhQpF4983daIGKxJy3fw5vhxbEYIezfO5wPkAYY3FG4oW65ulIgj1kBJbh4dPKjKQq6KarAQCtiCSXoJuJTQXeKkIZUo1QNKVHABBcUOiAdaspfU2TbfufGmQaoMjV7zWx5YOID7rn5yWInInXgd9QsVVMebP6gW40wUmG+JJVxfQCEgOgreDABaVDkFaZjElBRgtHhiZK14GVBrnZaR9lRALoLxKPBYzAGcS1bivz2m+1IJZ4JH+lVHp62I3/WVzeMfJimY8qaJHsPVs2Y/Y1woXYohl82PEGoTY16ZiX9Qm0CzFmzzIJBRuGSRPCdBH4Jgw/+Tgtjx7oVo1h1GNlxpFxWI+N18SlHO+umWYl0F6RFNRnWJEHQjWCdYCKq4CInmPDDRa4O3clCZcDPrvxM2p3q3BAtpM1e8ekV8u0fScXWKYGe4pz3z5G/tycOdtFTfHbVZ3Jh1QttTwxDFQgmYygzqCgZRAMLJXM58URTI5uSSUCOQhpXK6IFUjJOOcWsMtSvbzsd+MqkQrHyQH58aiCHvl+/xLuK2VgqQPmN+hQLQm3S7pja9zQVCLWZriYKi1BNhccNX9wgY5aOsS0Dng7MmpL+hFCb7AXvqyHUHjFCJG/e8Hw1VsBCnlf857lzH/+XsFRHAOepqEnrsSev9z0yCkEKpUc/6PhBQloUKWOkS3Yb281Niwr1PUhFjOgxOh+aVSGMBatWNX3sP+pXq6A7WTivnmz1ZKLqTHieoFF6ZeYrtidlRi8aLbdMuEUOHz2ckH4I9cvXlyk9prjeSZ4JZUyT2utcUVKBBhZK5sKgDhF3sWK2I7bh6xJDERTge3HddfYNB2ab6TvejCqaY37GP55Ac8z/5Y07FB+eUJuVCm/kTVlPdhrL+1HwsFy8abHrNA+VilaS1y56TT5+q7LcfntAg+7hCbXDvgjzzz/i/kL+TiueijrsqvGkYEzWu2nvBEE3A8JFGxfJSzNektu/vl0+WTPILUDHnAZs2JBY6B6RIOhGa+E5wIMKuo9L1RJV5bp617nng8eqravknx3Jn8N4YDzx0xPuufL6rNdl6aaA8BtvCkTa/Vr2cx2/s8P4LtNh+ZP83DRbdCtK6tDAQsl6du40eRfJGPPMWjPLzZ+OZi67TOS220z+K+kZTAYBVSbRFSPqZvOLsj0QfpNPDwjEyR1ntYN8eiWIKBVqe+Ao/d5v77lu0x459pWSfAtulTEjysgbb2RcqJ1qGGjwC70BB6sPLI2kF3QWpPigFA8zaC5CCbrfmP2GfP7PEMnX9B3JcaZzgZU0Og++EvYRW7e6zciElQsVdKeZumXrJkm1I9CcsHKCbQVA5P3OvHdkyJwh7rny67/ODdkhT848RsfX8GZXpB2O1L3shFVzTz6RBIwvefjwHAYmX8ixVZQwoYGFkjWQI1SmjHm9caPInXcaEXcIqM5BxRcPZqXKFLL/Nspg8vG558wqhjeZy+Qjwlk2dBTeOA67BSbd/fITKj8x1vMLUhUHhCcLFiQWarNcRLlEynhGQVABzKz2HN9TVm+31Vn2nSD//HaaO7b0V2xFqM1XS49QO92cc05SR8bjgQgZJTjwBTjJERllAgQXT5/3tJxR9oxEbvzsy55f3ST/1nd+d53RImXny+qdK919mp7FmCyHvK277gr4XAAB2uDBqSj3E58UzltY6pSpI/lyG/Hx96u+l35T+snCjQvlwGHnxuqwae8m+Xrl1+5KBQGGB/+W1Ynn2j4nTSo2sb3RBY9W/2o2cy3o/VIFQQVOq4oSJjSwULKGN990xZzp4c1L3pRuZ3SzreijShWRn38WadDAdvhgsINfGzAOwxIgrSLvuIQBFrO6fqE2g1pmdZmBi1aWXSby+SiRY4lvzSweMAMZDqF2pkHKGZqW1BrphYFaZWrJrJ6zpHqpgKA7Eec8KXKzE9VfFsl23CEI5dDNyoUKukOCJuLnG36WKsWdm63lt3W/SYt3W7iVyGDUglHSa3wv97WfBuUbyNTrp0rl4pVtT/SBBotHrKJEAhpYKFkDisp01kjNlSM84s/swtPFDRli8uP9oG8lh56VDcYSu3YFZAIXXijy0UdaASoJEyYYR+1QQm2m9qNEgIjYuPvY7q57cAIEFEcD6mNKGbPCReZguITapNqRXuftOhc6/YKg9JKK6xxNRI9xPVz37IziF3TPuGmGWxo0ETmcfZvzsEjZhXL0hqbSfWpTGb98vH0zgklO0M2sgwq6k8B5UCRvEfnkik/kgqoXuH2cZ7sO7pKrPrtKmg5r6mpwjhwLVMN44twn3HNmyMVDJHfO3O7/Ea1wuqSqqMfIkSJ33GEbipI5RO9oTYl+Xn3VVIyKE5htRhuLsJQMEwaKQKYITsFk9jB2AHQZrE6T/pLOeCw2iQGhNqlxPNtffnujmwueUI1m0TXO97rWFR2T9cJ5wkwkmuhwCrXJRAwWg3duHaozKApODxyjZ5+VzjsrJ3LP5nt7YvWMwoAQQTdpLKxsInwf3G6wnFjUqrch7245VnGmLNw2U16a+ZLc8fUd8tw050BEMp6gm9S+YEE3KYAq6E4Ek0+kxd131n3SqWYnt4+gfcGGBTJzzcwEQXe+XPmk3zn93PORc6Zm6Zpuf1ywdm1i80ucXREEKkoY0SGLknUgNPAniOPwO2+ebcQHzZub4OLWW01WQ7ly9o0g8uQxm+KDkrIkD0+aZDscWKmIAqE2XnGkybORsvD6l9NkyiojHPU4q0JLuaFVK1eWwDnClhX2G0gpkug2QnamErxEPAtscILBVnvLyDmVnf8zkyHAuL3R7a4A98b6N8oN9W+QZidaIbRlyuop8vrs110BLy7gbBisRSTMKlzjBGTkTHrBBbMPLGUi6NbgIgFKxn6+9HP5d8e/rhg7FOUKl3PPiVsb3uoaN8Y9558fKBSgKGFCAwsl68AIivJGiivKZoCZnCibcQMz21SH8ra4rw6IcjlYqE15zggOKjBP5tjhX8LkINtqdNpnjBSpF6g7XO2EanJPr1JusZb//S+LF16oEsMWLsizSqeeKlwwe/34uY/LOx3ecX0OqhWpK7LBOV8OB0Tef277U2788kZ3w89g/ob5snJrhLpdJyfoZtU3zgXdiLI5dnPWzpH7v7/fPZ4fL/7YvpsYzBXfuPgNN8CIO1gaT6YSo6KEEw0sFCVC+fprs8jjbZ7IW3HwHLUjXKjNGJtjh7FhSgzvOFwuP924bGc5BGwEaDEKZUSHN58jMnSWyObQkfyTPz0pDYc2lOvGhUFnkllQipZgwo8KuuXDhR+6x67FewGhthKChx82gaiiZDIaWCjZC45x5AsrSSA9Hcdub0NawKo1qe9UW40bEKpSLstfAcpTxEegpgJrDY6TV7SKY+dpZ1wuvVHk9M9tw5CtBQr4cP4PiDtjuCs7PfOMyKBBtpG1sF9z5XDOlSN5RcZ+IDLMCUh/fcC+ayAXn1Qa8vGbvdPM3b5a8ZV9N0LwBN2UmAt26G7ZUuTPP01fHLDv8D655rNr3OOEKJtjF+yerQThv87R71CPtnVr01aUMKKBhZK14ML9+OOmeg9QWD4Ol/JxA7733sRfvWxZkRdfNKLdUNk9rGSTUv3ddyJ3320EwBghxTR8YQLPadOMcBXINX/kkYDrYITgibIJAPnYbH5PEk+UXbnRIpFCzglAX9ETXaGxv0xmZkJKFluKIOzwPGfSC5WLKGnlwaDXzQELMHrhaPlo0Ue2lblQ8nnw4BxyYp46Iv8558/87lJl8WvyartXE4m8dx/cLTP+m+FuDFgjTuRdpIjRr/gF3ZSS4/rAoZsqEDHK8PnD3ePBds+397heFRynv7cn9knBiRsBP9uLF7woZQs7N1YLqW73fX+fbNhjrr+4hXsnQarnOaMoYSRXnz59Ht/l3JhWrFghP//8s3Tq1ElOUzcuJbM44QQzwiKZHEc4YCBzxRXmtcPEPyfKtH+dB6WlR90ecnKJk20rNiClHc2x5wTMBCQVgO6/38x058snUqyYSP36ZiM11huksloxd67xNTh4UGTHDlOFkq1CBTMZFTNQNYw0Ha8CFIMphKzsrAhYrUCUTQ0C9j0BxfffJza2A44nGskzmmyVSu0+lp83fCPb929338P8cWiHoW6pzKyABcIxY2zDoYN8Ke1lvFQR3+AMa29OpIxAYFKihBEYW3afUUO2tT5Llm9Z7rZJWyldqLRcctolbjszwZySOQ2qbbpu93vKyAn7G8t5NRtJibK7pHbFqpI/d375b2dAa4LR3uy1s2XVtlXu8flt/W+umVrJgtk8GOO8557JCgYlvriZcH1Q1YuAjgFjjLBh9wb5ZPEn7r5/e+7b8vmyz91jMnfdXNl/OLBsi2biqlpXuX4Wvc7s5VaFalyxsetRsevALlm7a61s27/NLT+LaV73ut2lVMFS9l/HBsTtI0bYhgOFQtq2dV7wkBg71hS/oCoUoFHjOud5rCjp4Jhzz9m7d69zG8rpbh5HjhzRFQslAtjuDLKWO4MNTB3iFAafjJ8JKIBCMMRe3oanBVrlSpXM+x5+UTAbTt6Urf33X/sD0QwPwWBRcZcu2ZpTTlBHehP7mM2///2ZKCzIIf/gmLG6xDG8ofc/0uurm2T1NjNzf0KBE6RayWrZWj+/r/SXc+Qn0/Dsvb3VxDBzbpE60rdCGErYphPG43goemMpjtctvXLKDacYkffdTe92y5Xi4EyQ4REs8iZdio0Bqn9wm+VwHeDn4ofrxRs8RjFUdmIff/PHNwn7fvp/0+27ASoVq+QeswtPvdA9hmxNT7QrOQ6UlsWd3d8XdziDP1dfwUwUMPNUq1ag3rmihBkNLJTsZ+JEU0vbnzeiJIKJ3zlzRPr3tx3JwGQ+YuF+/WxHNENOPmlzEQQrFPhKeIL65I4Hi76zZpljRjG0UFxW4zIZ1WlU5Jg/1qxpPjB/ZwYslbDSlE0wqUYBhEsvtR1BXHn6lTKn1xyZ2XNmsqVIn5xqRN5smK5FXJlaSoplk5YlnPSd0tfdxz3HOze0FOjfqr97zN5uH1gZU45Do0Ymh5bMAUXJBDSwULIebmgEE+QmAIIyFK5xAhoJViQwjk4tpMTia3HxxaYYElvduvZNH+zGQ4fMqrcnIKbcaVTCeeFfxSK68qXMZTaUiiWzxNuPbIyLWbVgH7MFL7I98IA5Njhls/rEMWNAO37FeOk+LrHLNgEFjr8RA1P6fOBwpZgRoJD7X726aUfAdc515Fu1d48flXER3HM88D9gtQIn7+k3TpcHzkos8j5y9IgcOnrI3RAQdxvbLUHsfdOXN9mfykKIWocOtQ0HvpAn0I0iKA/r7Ue2CSsnuPsYQbYfTO04Lt52cbWL3WOWluto36F9cvVnV8t3q5wbcTzCBRDO61xRgtDAQsl6yO9k1gQRgQcmDQgMmBKOcTZvNoN97/mPyzZlSVNDqVJGZsDG5CRC72Anb+B3eALiJ54womI2NJ8MiCOeF14Q+fFH27CwfJ+co2CYeP75wL5inxIkePuRjfQnT+7hQZxMFUeOA4NUjk2wCTgu0ws3LEyoWsMA6do6QWkssQbCBnYGf1tO2uHsp69FKjl/Zxdk01G5FTiWpLYhVfAgNY30GtJnyMVHBIzIu2LRivYnDOQYk67jib2/WvlVgrjY256f5pxQmQnXA9eFH64brp8I5+CRg9J/an93P70267WE/ci2ea9zA7PkzZVX+rbs6x4HzA85Lt6WWp1Ej3o9Ety4jxw7IvPXz0/0O2IWUoyZ7Yh7EyQlK1HxtpJ9UBqJjac6Qm5cuAsWlIl7F8q0A4FySbEk3iY9Ztw4I772IH2JwU5aYUK4cWOz1ahhRNykyKPV8z9Hli0z6bVsPGeI5xggU6WSDbExl7x/Jjfb2LZN5NNPTXksPjggAr7qKpGLLgqr2HDCBJFffw3sBzYE2Kwosa8WL04aRHhg+I04EmE9BtU8u0mRClVMidzwccvGye/rnV9gwRma1JushpUs/7nXS96WCrLWnACsBqXXbTslUEuT979lixRygtpGa0R25Xe6ioicfGrDLBFv+znZuZVwy8EnxoPiOBy7YA1TmUJlXBFwowqNZOeBnXJKiVOkfrn6bpCxcktiM709B/e4wmL/hj6jSL4i7rH3NoTEYXV95t7JxU+FPZbT+HIISIoXdyK5kzJNM5MWWOn5YvkXbtDg7QcE2M9Pf14mr54s/+xwPnsQtUrXcs+NhhUayv1n3S/nnXyenFTM+T7pgCIJa3aucStJeRCUlC1UNknAGK0kEW8XXSht17xvZjy8QinMeDhjPPfmpSgZICXxdo7t27cfW+vc9MePHy8DBgyQkSNHOg/NrL3RK3EMI7mXXzYPRYc/nTFk/3NE3vcVNpnUfZL7UIkF7rvPjJk9qAaFjKBrV9sRBkixHjXKjDEoZ3u8zIhTTjFO355w3A+fzzfhnPkwfYx4gegICCqovYtKmuX7dMJ+QMPoh7QmAqzjgRefE+8mgupCqfXmu/3r2+WN2W/YlvP/nXCqKyilik1Wg/H9W2/ZhsNsaSQNK64zFWIyU5jDshmpbGucqMLSq71IrptvkTcvftP2ZB34ylHF2F/u+bbbTNWs1MBKBWlQHlv2bpE1uwLfLSXqlq0rIzoGRoAMcCsUyWAVLq4XDG7InSc4By5oNDNUkMoi9hzaI6u2rrKtAAeOHHB9Jwi0kqNQnkJS9QTrz+HQ9YyuSVLRMsIHCz6QJ358wq3y5XFvs3vlhfMjf3UnNUyenNiW4kEZJM/KQ7blQJB5zz0ivXvbDkVJP0edgcXmzZsld+7ckitXLttLDHtAU6GUbOauu0QGDrQNZ+DjxLQjQmgHYhXSo4MLu2QUghfGE0z8hwoWgmGmiwksT5Ds35jFz1baO6NPop4MBBVw/fVJv5vfby8l8Itjf/q3jIzVhl823HWDjhjwBMEDITNhFE9lmggBaQLHNb1QOQrRsLc91Nw3gDsOCzYuSBCAsz3767P2nQxAHiTRUjZPCrIS4f9u3tb8neYJ1dCSg1Kx/n3KoD+cdKnTRd5q74uq4w2eszxvFSWT0cBCyV6IdH3R7hHnjDxqc9MrFa0kE7tNlDMrWJF3lMOMaLA5WbCYNBywOxmHU1qTCUz0s2zJTUiT7uOJkYM3vDbw4wq1Ha9CVZohN4VlBH6xBzuHnZRGSDH3f1YCpODvllyaE4GZt8/YEMmzP/1banWPCHo/X5rYZRuhacRUgoKgazBTCPE7+vwi8sCvtpHFhDqtPncO002p1F/ncE4ARMPedmWtK2XajdMSbfc1c06kEJBC4AnA2fBpOOudsxJtL0xPxyx68M2Ek5ylUH/OVxhAFxH8eb3t5q9uTvTd/Ftyrtj9zunn7q8hFw9JtE9xow8noYolUD6YFcVYgFoo1ERB89Vf+sptElgldcmK61xRHDQVSsl+KL9D7s6gQdL6qn0y2copqp1QTWb3mi3F8vlE3lHMOeeITJ1qXuOyjTEx1aEy6kWWWtBX8ODxg+aDCkbpAV1Hmza24aN8efPd0hQPsLxCjs6kSbbD6ZIrZWoNJ7Jp41vfTyU//ZS6FQmkGy1a2IaF45TaNKfj0WRYE5m1xtnJDjg8P9j8QTcFitzu7CBJKtQDn0jDHrWSCoAzAwzcSALHotyDD/Rm1qdCAfIuJvn5OJ5dCjoZRPrhAJ+Ln/6yHiGWqX9PlU+XOOf6cahTto6cU9k5EdMKhpLLlsnJ20Tu9WwfuEiZIUhDRTUCgUG/DpL1u3ETTMwPf/4gyzZb/VMaQQyPXsVP26ptpXpJWzksk0Hfgts7q0QUVAD284/XBRWKiFKQ2rAa+9Qf18jV4pzcgMaGGzJCPmabFCUMpJQKpYGFEhmQ7OzcEVtftiPmAgtu9pSzZIbfK3rFoJyUmizVL4SAGflhw2zDB2nafObgcqqpoWJFU7EqLYFF01F3Sc1Jg21LZIJcLC9Jb5kkaQ8qkoMCRcEWDUzoIuEIN1v3bZXxy8fLE1OfSEgBqVeunpviEe6Z2FTjHNBbXjxN3voxMIhDpM5AJMvgpKcinAdi8XvvNSlv2QDVb/k4XsofeiNW9vg4mWFKPGn1JBm1YJRtifzyzy+ycmtiEXg4OHWryCN2EsOlrRNcpCHn8tCRQ/LkT0+mWjfiJ1fOXNLhtA5SPH9x2xPgpgY3yVmVzrKt7GH3wd1uepbnAE9Q81jLx6R99fZR/6zZt+OgPNFwvHT6Y5A0FjOh4Yr4udARiylKmNDAQol8sIq+5hppXX+BTC5tjPKqFT5JZp87WopVP8O4hUYpFDdi8LZnj2lzn2dWnLSoCCjYEpJVq8xqiqehDsa5ZbglbcNBVVnlLt13lkCeWHP5VaZJxgYg6L79VX6QEnhlRjMbL9ec0paAy3brk1vLR1d8lPVpUBimsCrYubPcsuQueUtutm9kfWCxb/4cWXlBI6m2xTn3PYsCVku4GBj4ZPEFQeCM5pmFsq3OYBwIiIl/QvnEhJt+U/q51ZL8/LvzX9m2zwqwI5SUBOe4XXOeU0ErEtl7aK90HtPZXT3avn+721c4b2E36M+qlZNMAYNZqlFw4+Z5Cjw3OZG5voJLnilKBlDxthL5kBiKIMA/yvnHuTm2amWe8jFEu3Ym8ydSgwpg5pZSrAw8Q23hHKC/KzfIVfKJbYUPZp39nzk5B+ysoEP1DjLq8mxy2SaypSbx0qW2I/tYUtr5KL2cj+S3H1iyxHw+r7xwFsLzkCzMDh1sRxaDvmB2z9mJtqwuv5se8GEJ/tze9ssNv0R0efCCeQrKZ1d+Ju1OdW7EsQTPSZ6XXl4fsBxHuSh12VayEF2xUCKK1iNau3XNgVnN2UNFin09KXPyVbKA778XeeghM5HklX0l1ZVypdEM3hfr1tmGj2++Sb2o+xT5U96T66W+/CZFZJfbt0qqOj3vye9ST3reWyRDRtv4ElAuNzsIXrG4sf6NMqxDiJyzrAB/GAL2Y8fkFhmSrSsWc9bOkUZvN5IzNjjniXOZdzDZKEZ0zIdp0MB2ZC2Itt95x7zOyhWLUFCudeNek/+fHj5b8pm8ON1X0zoDYEzXrlrSAXj5wuWlSvEqthWddP28q4xaaNLSSE9E1/Jsm2fl/Krnu31RR1C92VHSRWa2fkRe/eF026Mo4UNToZSoIWRg0e4yY4XsL9IdJTAb6veowJsIvWrbtrYjxmDSGf1oaii5bpFcNaih5DpszZuaNJEtXe+WT+QqOSK5pGVLY/gXbWCI98rMV9xqP1QAgmwLLBDRYAuOStkhUgILGPqlSE8n5nGhzBZKesphUsYri/EHFsQ4fJS77za6nGgDjw3SfBJgFmPmTPOaqAkhLxUWUkGbU9pIjVI1bCu2mLhqogyZOyRR1bZRnUZFpyM+uXwY4eG+ahkkD8r3rZ9N9f1YUdJCSoGFEFgsWbLk2LPPPnusWLFix5wAw3kWKkr2cN7w847J4+Ju1e6UY9vzuVVBjx276qpjx3780f5U9DBypPn43vbCC/aNeGflymPH+vc/dix37sDOue46+2Z0M2zesIRzmK3ZsGbH3v3tXftuFjJtmtmnvhPwZhnibx6bPdv+bBYxe83shP1y3WVybFol34dh4/PyubOYd53D06xZ4o/yzjv2zWinR4/Al+J647rj+lOOvTDthUTX6qgFo+w7UcSUKeb56Dt5p8i5x66UT461bm1/RlHCzJEjR45t2LDh2JYtW44RR3gbfaqxUKKDTz4RGTLENqIDUoU8DZ0SBAKOvn1NWR6g5m6M5gHjIHx9vettKwuhtKvfBQ5xdFCpI4qxeaLlzIZKWX9sDVhd464/opXzefzVavi8fO4sBgPFcLrfRxRcV15Na643rjuuPyUJCOfX7Q6R4xnJ8Fzk+ejASu9yqS7PSB+3XLeiZAcaWChKJvHSS+YZrqSCBx4wNWqVzIMBe6fLbcPQvbsxhssKxiwdI93HOr/Qz+XO5xk+3DaUTOHxx0Xuv982lJR4bPJj8vKMl20r+tgthaWjjJWJEqO5tkpUoIGFEj2QLErys1e3NcKhlKU3IQ9vvGFKW8Y9L74o8tRTtmEhR5P87yjn+WnPy8CfB9pWNnLDDSJjx9qGJU8eefDhnG4xAQ/MmdPjVZIejhw94hqvefQ5u4880KKPsTL3w+e+8UbbUDIM15UvB9qF64+Zjzinc+3O8vpFr9uWc78+etg9T6MCysvyPAwSURySPHJUh3ZKNqJnnxK5lCntunHLaaeZNsYJWEffd5+pyx/BoJelSIcfyvWnUjMZuzCYYYaaHByP3r2NsUcMsHr7alm1bZVtidx/1v3SonKQtXdmQu4dAugJE4y1NFC/nhPypJPcMsJskQA+B67XQeXKIq+8Eqizz+f+6iujnvaXzsxiPvwwIcMk+gYjzGAAAGw+SURBVOH64jrz4PrjOozz4KJ8kfJSq0xi13mKh7w607leIhmcVnkOUnZwyxbTx3OS52Vp57mpKNmIBhZK5FKsuMjNvczsZe3apm/7dpG33srWAUdqIL3Ec/MtVszkb5cta9pxzWefmdq7gFNgt24it90WneWfUsGVp18pdcrUsa0sYNMmUx1moy1XymCD1QuqqlF/NxLhc915p/mc3iQCn5/vwffJInDDv/hi23Cg0M5PP9lGtEPt3FtvNdcb1x3Mny8yZox5HceUK1ROutTpkuC6/dv63xJViopIeP4NHSqyY4dp83zkOdnLeV7ywFGUbEQDCyXyoTwirnJ+Vq8On/VzJsMqBfq66lFs6pph9u8XWbRIZO9e2+GAqPTttxOLd5X0gwrbvxIEzFSTY08510iGz8fnDF65ykJ1OVY5Ma2JqlbNXG9qlpaI6qWqy5BLhki5wuVsT4TDc4/nnx+ejzwnFSUbOWxzvzWwUKKTm2/OluoxSjpZtcr4EzBLqmQO1LBnaYyCk7EAjpK4SX7xhe1QFMV97mGGpCgRBr4WoIGFEh3cfrvIE0/YhgORcVapTpWMw2D34MHAoJcZtg8+SCrcjWJ6ju+ZvSkUXA+osT2otOVXakcDfF4+t0dWqstDQEpjz562EYuQltiqVdIZcCVyCa4K8uST5vmoKBGCBhZKxLJp7yZ5cOKDsmLLCiPw9PKvPZjJ9NfpjwBIDaeyY3BGihIEefX16jl3oNi5BS3csFDW717vvq5YtKK8cuErUrm4c95mBThrf/SRbVhQaVetahtRAp83WF0+enSWqairVBF5+WXn+FU07fXO4Vy40LyOCagQ9fDDIo0bm/auXSIzZiROUVRcv5X7v79fNu6xWqVIgedd8Aoez0Xn+Yiem2yoLJQlKUpINLBQIooLql4gtcsYofb2/dtl6Nyh8t9OK9Q++WSRTp0Cs9yYPCFeYFrRP1ObjWzbZrTla9aYNmOkjh1jopJq+iENiodhHK0wlS5YWm5vfLuULZQFin0qKHHS+cuQXXJJ9Ip6+Nx8fg++F9c53zOTocACk7+lStmOWIOys9deK1Kzpu1QIE/OPNKxZkdTpcxhza418tbct2TbfueGHgmw2stzjuvAMzfMm9c8D3kuOoTSc59/vnmtKFmJBhZKRPFg8wel3alBQm2PJk2MB0KDBiKFCpm+mTNF+vQR2bfPtCOMZs1EBgwQyZfPdsQjv/wi8thjgeV71OzelLCSfjjnFy82M9BTppi+AgXMiOKZZ0yKSzTC5x440NRnzp/f9PH9SPlQwg/piSyxUnEvTsmXO58MbD1Qmp7Y1PZEEPg2zZsncu+95nkHPP94DlIu2Ft9CuKii1TPrWQPGlgo0cVJJ5kakA0b2g4l6iCH3q+XUdLH8uUijRqZ4MKD2f7Zs0VOP912RCkEFXyPuC6llkUcOGCM1rJgRUhJB1wH554r8s8/tsOB6/7HHwPeL4oSQWhgoUQXlKVk+t+fm48pGGu+zOookQ95YTGUG7Zy60pp+V5LWbzJN8DPbL78UqRHD7Nq4QniO3QwpmfM8kd6ednjEeo6X7pU5OyzjTlYFkLc1rJljOmmWEG85x7bcCDVRothRB64NOJBQ/DnXeeksuHxwvUR7de5EpNoYKFEJxhqtW5tXuORwBLxU08ltbtWshcM8UaOtI3YZM/BPTL9v+my++But93sxGbyUPOHnJtrJt1eEWrjVO0ZDcLVVxun6lgyGmTQRC4H+YSw29m/06aJ/O9/ItOnm75MgFiG4lRNbVYMv5ZfR0ZKzIB3jM3NVyIUhNpvvJF4RfK664yhKCt6ihKhaGChRDzfr/peFm8Mmg1GEU0dSKYSPcaONQZQU6fajqzlzz+NlYC/EmDc8/PPIj/8YBsOlJmNceHo6aVPl2tqX+OMizNhNnHChKRCbeyi8XXB4S2WYP9dc43ITTcFRvnM2lL9atgwU80oEyCw6Nw5+rPJ0gyi4FmzbEM5fPSwjFs2TlZvy+JSvBQi4VkWLNTmmYd/RfPmps8Hscf339uGomQzGlgoEUfZwmWlUtFA7uizvz4rX//xtW35YJYW4TaOsl7KBIMOhKsrVxqDrSyEWU0+DgsoUK6cmtwmgRSMNm1sI/qhasyqravkmPMnU+GkYvTACeYXajNzGc1C7dRwww0mbcdfOvfdd01dWCqOKemjZMnEpX2ZlBk1yjbikxOLnpjgwL3/8H7p80MfdzUyy/CE2r17hxZqU8AkBF87j8dnn7UNB6QXVDhTlOxAAwsl4ri7yd0yoPUA2zoOF1xgZncKF7YdDt99Z8rwkcOQjVDEg+wsJXb5YtkXcu3n18qRo5mcn56SUDse0iKuuCKp0z5pduhMlPTBatA779iGAk+d95T0buoM6rOLOXNEzjkntFCbwiWphKJqd91lG4qSxWhgoUQcuXPmdrdUwUoFM5kEE8zqACsVzGQSdGSjoJuS8XHtX3HrrSKffmobscmRY0fk4JGDtiVyX7P7pM/ZfWwrTIwfb3Kr/ULt9u1NDjarFhlMuXruOZFBg2wjk2DV8flpz9tWOuBiQj9Cap1nlInYeP58kw6ZyYJufhWHgEy0mIF9GkPO9+EAP4tcOZ39kh0kJ9QePDjNQu0Yq4+hRBkaWCjRD1VwyMF+9NFAnjmDMHKwn35aBd3ZBZbF69aZ13hXvPBCzAtGMdg69YRTbSsM4DiNUPv3322HA6VBSQ2qW9d2pI2zzjIVf71xCjF4ZmcUkS62apv5JTmcPw+c9YCcdaLzQdICq5Lklz/+eGJBNz4p9IVZ0I3O4sorzWvGeRyCDRtMO2ahlDcpZkrWQjU3hNqLFtkOB1bjEGrjS6MoUYQGFkrsQPpTsKAbt9JsFHQrFvK5sTQmwFBShyfUnjTJdjgg1EbAmQGhNuMUsmCyE8TttcqkI4WLaIgRf7Cge/TosAu6kQJhHxDTlCkj0rWrSPHips0KEClmStbgCbXffDMg1GYVCaE2K74hhNqKEuloYKHEFoyYIkjQHZd4QuO9e21HbLJ211pZu3OtbYURv1DbW21jVS5KhdqsVmzdt9W2wkQ2CbrXrHGOeyYc8myD+yQTL+qEn/WkU6itKJGOBhZK7IFZ3pgxiQXd1OK7/PIYK0YfoVB3l5k2Zj9jGHQD/af2t60wglC7cWORJUtshwNCbUqBRlkNVKpldR3bVcYtH2d7wgiCbnQmfphtRwyRSfR3Dndm61GUOAGhdrCjdsOGaRZqK0qkoYGFEhW8MfsN+d+P/7Ot44AoEQMov6Ab9SXWuQQdv/1m+sII+ronn7SNeIdVIWbdvdUhvCuo6BNjQlHq3B86esi2RIa2HyqdanayrXTiCbVZ7fH2nyfULlgwsAoXZr74QuTGG20jzCBu96pm1ShVQ36+4WepXtIJlDIK13m9eibN0S/oRgxBOiQrlBmE7MqhQ23DgcyVmPepQRtFqt3qLPZviFCe+OkJeW3Wa7YVJkjdQ6jNfdIv1MZRO43O+f36GXmGokQKGlgoEUmD8g3ksZaPSYHcBdz2X9v/khVb0lD5hWo5yQm6M8Gh+6+/EhemodRfLFsLpAnyuOvXz7RBcaRwRtkzEmrgp4vkhNo4ajOADiPUuedXeROjiJKzYoGpcN7C0rxScymUt5DtySCsSp59dmhBNw7dGdRc4EUTS2bmISHgf/hhs0oGO3caIXyMpzImx3lVzpO7mgRqtfLc4fkTNsIs1Oa5w/MHeOz17RuYT1OU7EADCyUiOa3kadK9bnfJmyuv7UknnqC7RQvb4eAJuildmUnwaxlLxx3ktzPrzsyxknpwuAoWal90kXHUbt3adoSP0qVF7rzTxHxRj1/Q7eWl+wXdXv66EhpWfrp0EalRw3bEN/XL18/4ymMoWO4aN844ahP4AkHdZZeFTaiNQXf37kY6oyjZhQYWSuzjCbpJjwoWdJMepYLu8MED85FHAvkiTPmqMDR5SIVASxEs1EZLgZVuBqo/pRUW9NCM83c42Hd4nyzeuNj9O0tA0I0Q1u8mjQEcgm50P0rqITBjkmD7dtuhZAi0faTgUnDAW0VDqM3sE+enCrWVGEIDCyU+wCyPlQpu5h6eQ7cKujMPDBNIU1FC4wm1QzlqZ7FQe9kyox3l73CwdNNSafR2I1m+2fmOWQWCblJN/GDSqA7daQOTNtLwYsoRMBsJ5ajNxYZviAq1lRhDAwslPvAE3VSH8nKUMlnQrThg/6ruvqHJJqG2HzKFLr3UvA7W3GeUo8eOyv7D+92/4bIal8mwDs4vzEz8gm4vHyTMgu6Y5bHHzIy6B8GFpjRmnFBCbVL30iHUVpRoQAMLJWqYt26ePDX1KXewki78gm5PWe136J4yxfSlESpCpfOfxhasCH34oW0oKcIsuifU9gYb2DxnglA7JTDvJlstK0DYXrds+tzC04Rf0O2Z6PkdusNoohdTEIjFuDN+epny15T0VYaiGl6wUBsRRBgctYlTqEOic2JKpKGBhRKxFM1b1HXo9SrtUJ1jxPwRbvnKDIGfRa9eiQXd+F4g6OZBgMAOoV0q4Z96N/eiRc1kVNmyph1XsKzPipDHhReK1KxpG0oCCLURcAYLtXHUzgShdlzCLDDlO4MF3QS+LNNwnXMclJTBDZq0vDijbKGy0rl2Zymaz7mhOzCpNWapc6NPLZ5QG0ftUEJtAt8MwoISWX9eNUImCJATFili2oqSXWhgoUQsZQuXlSGXDJHTS2dCrnkoQTdL1uRikw5ApJAO7UX58qbuvRZYcSC1om1b21BSFGpTSCALhdopgc552zbbSCfb9m2TP7dFgGAacw6u52BBN9c5JVY5HhwXxVCyZOJVC25mo0bZRvyA3wq+NOULOzf0tHI8oba3ihZmuI0wXxGXk1pKRKGBhRK/eIJu8tn9ILDDEXXuXNuhKGGAqUVmz4OF2pRDrVXLdmQ/3bqZyyIjfL7sc+k+rrttZTOhHLqB9BQGeX4Dmnjn6qvNio6SfnhuBDtqn3mmCrWVuEEDCyV+CSXoBlIm0F4guCNd6okn7BuKkg5efNGcRwi1mc301NGXXGIGvMxmZqN54P33m+JdHqRYZNRdGlfyA4ed/8jyYPMH5f5mzi/KDigggG6FgZ2/wD/HAe0Fx4Xjw3GKd9hX+fLZhpImeE5wHvHc4PnhaadYHVehthJHaGChRBWb9m6SPj/0kZVbw1TdBUE3jr0IulmmRljnsXChyY8lRYplbTaqSCnK8VizxngqcM6QCM15RHqEX6jNewx4s3mwQWzNlpmcesKpUvWEqraVDZB4zqAP8TbXOfsfOB4cF44Px4ljcu+95vgpyvHgeeA9G9DvcB7x3PDgeXL77SJ16tiO8EBxMzIqN2+2HYoSQWhgoUQ8bU9pK7VKm1SR7fu3y5tz3pT/dv7ntsMGgm4q8iCgRWDnL5GK1wAVfNjee8/kZStKcjDY4Dx59VVzzixYYN+wxLhQe8Z/M9wt4vAE3VznOJpzHPxwnDheHDdWknQSQUkJngPvvht4NvhT6sIs1A7m33+NnsLzLySTUuVsSqSggYUS8fQ5u49cVC1oEJBZsHrx0ktmJhk1HGJGPwMGmEEHDxWcacNV9D/a+esvka1bbSNOWb3anBe4uvftm/jcKF7cnE8RJtROjnXrzJYe3vv9PXn/94Cm4ZQSp0iJ/CVsK0IgqBs4MHBMOD4eeDdQeODjj83x5LjGM1u2mOtbMdc0933OC54DnEN+eF5wPvH84DmSCUJtDsfff9uGhRiZFQxFiQQ0sFCUYCpXNvnYuKV27Wo7fZBKgWsqrt2Ymymm+g4D6niGXH3OiyeftB0+cKHjfGKLIKF2chA/Y+2SUXI4f0Z2Guma40Uc+Ah4x8RzCfTDceR4clzjGa5ryvYq5n7PfZ/zgudAMDwvOJ94fvAcyQQ++MAshChKpKKBhRKV3P3N3TJ60WjbCjOkTKC9YCNt4uefTclF2kCNcsR5JLri2o3JWbzjV/xS2pNyqmHOK44kbv7qZhm7dKxtWfY7+4Dzwu+BQrlOzh80PN45lY1C7eTo0CFxMSC+QhqsXFIkX658kjtnbtuKIDgO3jHh+HCc3nrLvulw8KB7PE8/8Jv8KOfKqWJSo6iYRSZVzMJ1i8eKV3aW65rrO95Bi8P9nvu+/zqnqiD6Cs4fnhfeOZVJ2il+rf9woBnHb09RIgUNLJSooH319tK9bkBYvXDjwvDrLELBw5Uc2XbtRJ5/XqSqT4DKw2X6dJEdO2yH4sKD9qyzjFtgjDJ//XxZt9vkClXcKfLCdyKV/adBxYqmylD79ub88VcjikAw18pCw+/Ig+PDcSLCeuEFkQoV7BsiRWSXtJCf5XHnz0vSW85aNyaJbCam4Lrl+g0uwx2ndJsv8tK3IrdPdC5w7vfc9z2oevDcc8YMlPMnG5zLqVhdpYptKEoEoIGFEhW0OKmFtDvVGdz7wA31539+tq1MpkQJMy10ww2m0H8mCPKU6KT0XpG7ZjqD891Oo3Fjc36QPsPsJSP2KIWJ2bSaU09YOUFWbglTxbbsgOPFceP4cRw5ng455ah0kVFyj7wst8gQuVCckaYS0+Q+6sSZy0VunSNyzwyRK5bYN4D7P+fH9deb5wLPhyyARZF582xDUSIUDSyUqKFY/mJu2cqcOcxp+9Gij+SN2W+4r7OMRx4RGTHCKOVYvQhOazlwUGTZMiPuQ2WnxA6UYOG4svlnLT2YraTELOfHU08lPTciHLI30J1Sbh+mTBHp18+8Tg3HnD/9pvSTKX85/9Ahf+78rms+f0cV+NsgMOE4cjyDZqHbyA/yv33O9e+dC15pHiU24L7tHNf8i5bJoK8OSLN/bT9wTXPf5/7P+cHzIAt5w3nceVI2PgoLJsWKmbaiRArR9eRT4przTzlfPr/6cymUt5DtyUZY+g7l2k25jpYtjLgPXYYSO3z5pTmubLg2B0OVGFyeo5QaNYzutGZN25FBCCpm95otNUo5/3G0kpxrN14F3rnAeaHEDiNHmuPasmXS8kvc77nvc//PZgoXFhk7VsvMKpGHBhZK1JArZy539pNKMx6T/pwk1465VvYc2mN7sghmNcnL/u67xMnpx46K7NtvZrSpbc7DiUoh+50+JTpBqctxZBab48rmLyXLtCHT+7i341wcpXha5nAttLCyWCB3gYQVxqiE4+kc1yNTpsr1p06Vr8WWveb4e+cC5wXnB94kSnTCcezSxRxH7tvesbWGlh/XFrnrEef65n7PfZ/7fxaCYT8WLGjqPdCGs7qYxR9FUY6LBhZKVFG6YGl5pvUzbkoU4MQ9Z+0cOXL0iNvOUhiFIXJMbi36zz9NUiyJ6vffb+qfK9HD2rUi991nZqQ5jn4DLD9MHZJzjbtzjIERF9lA/J0S/+74V3p/2ztrCipkNc5xPXZ2C/mtUAt5We6RMXK5fcPCecH58cUX5nzhvFGiB+7L3J+/+cYcxyDfkg/qirzeSGThac59nvs99/0shsJcrCZu2mTaxDZYaJQqZdqKEkloYKFEFcXzF5dbG90qlYpWsj0RBhVVrrlGpGxZ2+GwbZvzZHrduDFThPyXX+wbMQD55ZRa3LjRdkQ5335rjhEbKTDMXq5fb990QKTJzGYMP9Ex2/KKWHFYKdd/vMO7Yc8GeWXmK7Jxj/nBaiWrZZ2pZRYyUdrKELlFvi3VzZwHftEu5wnnC+cN58+sWfaNGIATgOs8FvQkjNIJAr3rHPdsxAvcpz2c+/fha6+RLxoXlTcbOvFG5lhSpApOK7wad+60HQ6VnMcfXhZ+X0dFiRQ0sFCinoNHDsryLctl76EIMKsrX17k7bdFLrjAJKv7yla6KRPdu4s8+6zI0qWBLZodq9esMeZ4lBACVm/wscikGu5hh6e2/1ggyuQYseFtgAszUC2I43nOOSLDhycuOxxj4AsXbAzOJG5yY8rt+7fLX9sTOzOfV+U8eeLcJ2wrtvhB2sgTp44wAQTnA+eFV/2L84XzhvOHIMN/bkVTWWquX65jbzWWVRmuc673aIRVJO84zJ9vluG86xw3SA/u187x3Hve2TL/+ful97UlZXo2z2FRH4BszA0bTBtz75NOMq8VJRLRwEKJev7Z+Y+c8/45bkpUxIDRFmvXVAcKhllxT/jJxkxgrHDJJWZ6LW9e2xHhEOT5jwWi3FAQcHA8R4+Oy6RmKmuiWQ3FmKVjpNtY5wfiDfQXnA+cFw89ZDt9fPJJ4nMrmkTe+fKZz3/xxbYjynnsscBxaNEiqSjbg8kf53jOe/wWafFeC/l7RzI/l41wLQ4ZYhuKEoFoYKFEJa9c+Ip0rt3ZfX3s2DHZd2ifHDmWDTqLIP75xyxW/L4sv6kgwoOZKiNeDU9gKX7v3sD20ktGNOhtzKhFKwy2/N810kDv4t/XBEH+Y+EXZXsQJF51lTmekfzdwggp5w88YBsO1B7wjNWDOXz0sOw/HChO8MBZD8j9Zzn/QTzA+cB5cfXVSUd7wdc5kwzeeceSUKRrrvhu0VqMgKDIf51PmBA4Doiyg69zdBNU8eN+7RzPI/nyuM+UoxTjcLi61tXuMycSyJPHxH2KEqloYKFEJXXK1pETi55oW4bXZ72eUEM/K7njDpFzzzWveWZNm+bLeihTxiSt49pNAOH9oB9P5O1tzJqxVM/2zDMiBw/aH1TSjCfA9vYnggH/vl5n3LMTcfnl5lh5G27MpLjFERS6YvPDWI3NzyeLP5FPF39qWwYKK3jFFeIGzo9LLw2cM9ZYLxGeyJtt6lSRxx9PfF4q6YcgzduXbGja/Nd5KJEQ1fq848X9uV07kdKl7ZuJ4VlzRtkzbCvrmDzZyD8UJZrIsX379mNrnYfv+PHjZcCAATJy5Ei5hHQGRYlwRi8a7Rrk/fJPQAz9XNvnsmW2lLHriy/ahsOPP5r06yQwK0YqlMf336esjCXnt3//QGoRZl3Nm5vXkcDixSa9wCun26NH6Lr/WQklIb3yKZQz6ts3oJUIBXqJZs1sw4Hv0KaNbYSm6bCmMnPNTPd1vXL1ZHbP2ZI7Z/SWmg0FFXSfe84Uy/Eg19s/MX/zVzfL0LlDbcuJoatd5F5/raq0sj2xAYsPnObeYmLTpiLTp5vXIUFnRfAAzI6zUpaS8Jko7n//sw2H6tVFGjWyjWyEawEjOGAFg7SvWrVMOzvhgHBiejM4y5eHTjv1gxbmzDNtwwH1M1WeQvDT3z/Jue8HJoHua3afPH++E3xkMVx/Dz5oGw4Un8Pou7NZrFeUbOOoc1/bvHmz5M6dW3LZ9OD169dLiRIldMVCiV5Ihbq90e22ZaAqzZpdESwwpJKMV42EzRN5syGWDDYRYMYd0SSJtWyxJPwOF6EE2N7+whk3OKggjwA3OG+/U8XLf0yOE1TEC62c2ICY1g+Fc7xqnKu3r5Zt+wKVdPCX6d+qf8wFFemiZ8/A+YTY3xN5s1WpYn/Ixx9/BM5ZNlYw/Od0NAm/Mwu/AHvBApG77w7sr1BBBSlq3j5nI0jyX+fJBBWRAjr54Dmn253HnQYVSqSjgYUSU7w882V5dNKjthUFDB1qZgHZxow5fo10Zuk8ESIb4tF4Z9CgxPuEQUdKUEt1xozAfu/Xz76hHA8E3IzjoNvn3WTssrGmoSQPOoWPPgqcb5Q3PR7Bwu/x4+0bcQwrj97+SEmA7YFhpbfP2UiRiiKYE6GwmKJEGxpYKFFN65Nby6hOo6RQnkJu+9CRQ2752ajBE3+ynXaaSeP56SezUckkmFDCb2ZDve14g+pYgFQy/3dOjQD7zTcD+5VULfxGvP0eLRWssgEycthlnJrA6edlvSHYRrgN1UtVlx+v+1FOK2l/UEmM/zonHcc7F9nuucf+kI9Qwm/vfG/d2uiyYp1PP018nX/1VeJ9Enyds49ZifD2KzoLb59H4XWOtO7QIfO6kPN4I4uWQ68okY5qLJSoZ+XWldJwaEPZecA4CJEi9eHlWVvCNdUai7SwbFniBHdMnXhgpgTViypWtI0gGNCQihUumAUcPNiUy2UgBOHUWDA9HspMEF0H2pSU6NTJJCR7kO4URgF2PGgs/DBJPHeueU09Ak6jUYUbysZcprNhhYbuPohVOL3ZB6nWWKQF/lNUuh6sQs5OYV+Sz3zttcmbNHLec/6HA7/GgpUXfu+dd5qdES4YMXsnl595845/v+NE9HQTlEvi851wgmlngOzUWBC48yxhtyMdAexEOCU840pFyW5S0lhoYKFEPcGBRbMTm0mfs/tIu2rtJE9O52GTBWRKYBFMWoXfwSD6vuUW20gGBgzoD1IDTz4GHh7825tuMgrf48GMK+WzUoLZx+MFEB7BAmyMr9q2tY3w4w8sKherLE+2etIVLpcqGJuO3GShsDDk+SC6nOd01v5Yqp3qxG21r3H3QSziPDtd7TX7gHLSENbAIhjSI6lkBOiDmFxIi+P1+ecH8tWSA30Bmq7jQanlYcPMJIIHmhGur9TA5Ij/34aCagC//mobx4F7kz+o4X6WCcUssjOwwGGbr+hda3gvtm9vjCs9H0ZFyW40sFBiGkyMrvzkSlm8aXGC+zYpGcygFs1X1G1nNlkSWATD4MGb6TtwQOSvv0KnAaWFhx8+/qAE8SlakODAgoTgu+4ynwWF77Fj9o0QsPrC70ovCLCpkOU5fHfsaMr0ZhHXfHaNfL/qe9m2PyBennHTDGlSsYltxR4ULWLMi1beo3zn/0mvXjnk8XMftz2xx0wnfiSQ8HCem27NhSyRN5ELc8UVgVEm9ay5zjPKwIGmPG5ycF1xfXGdcV3707W8wIJ0pOPpHLhHUDI7vZDCVLmybTjweynOkMlEUmCB5cmkSea1okQKWhVKiWkqFa3k5neTjhFXUNKS9XE28pHJMc4oL7xgylymtB3PwI+a8swihvq33kYN/4xAeU5WPLzvn8UC7Pcue0+uON0Z8MURiEnZ/DzS4hF5uEUGAsQo5MorU6e/Dguk9yD89s7zd96xb2QQrr9Q16W3kU51PB0H94FQ/9a/+Wdb0gMCbO+7s917r31DUZRIRQMLJerJmSOnFMxTUHLlMFEz/LvzX2k3qp38tv432xODEEig6mMjRYC0IU+4GLwxGkoNKAb37El5o/47yzEDBth/ZHn1VdPPrCKpG6H+rbexqpEaLrww9Pdh1rR48cD3z2Ir2gK5C0ieXFmTZhcpDJ77vLM5gaePV1/KJ6+9HF82wIz1j1e8Lazwy7zznKnsUNeDt3G9pAauv1DXpbdRV5iVS65ndFR+uO7p5z4Q6t/6t9Sae3J/CvV9EGB7350txgst/OY8rvDp++8/26EoUYimQikxw2dLPnMN8/zu25N7TM6SuvrZkgqVFnhII4ZMCQYQnklBVkDCMDvOLqOGBDMucsYjkNu/vt093zxiPRXKNcP7errI79eJTA/MHAeb5sUawalQeAm89pptRBpUlVuyxDZCgGaDVUl/Pltmg5bjjjtsIxkaNIioG2Z2pUJhSknqkwdeMhjikQ2nKJGEaiyUuOGBiQ/I89MCD4BHWzwqXc7oIjVL1bQ9mUPEBxapAXXgihW2EQJWIRCPp+Ri7YeAoHRp2wjBiSeaMppUm4lC4imw+OaPb+S5ac/JlNXOyGftmSJDA4JcBkIPPJD6yfJoI6oCi+NBeSvKWKc0JY5rfWqLJjCgYIqdskXJQc1ilO9RRHYEFsSD1OfwLwRzXWHToyiRhgYWStww6NdB8srMV2TtrrW2R+TB5g/K3U3ulgpFKtie8BMTgcXxwB2YqTMvjQk34HXrzGsoW9YoWz14SjITGaMEBxYfX/GxnF/1fCmev7jtiR2oujZ3nSkUkH/rmVLl+zmuhtjztCBDhxT4WINYmjH21VfbDoeoDixSAyub/rLUpEVt2GAbDpRt9gIJUhAx9qQqWwyR1YGFMwRzzdafe852OFRwHldo5gkuFCXSUPG2Ejfc0/Qeefq8xNWBXp7xsjw6OYrcuCMVUhooC+k52T7xhH3Dcv/9gffY6ta1b8QH1427Tj5d8qltxS41a5rDy9+xDjURrrvONuIFrlv/dcysiR+ue+897gdUj1IyRCiXbVYu7r7bNhQlitDAQokp8ubKKxdXuziRGzdO3BNWTpAun3dJKEerpIOczu3CL6QMFkwjrPS/n5J2Igbo3bS3PNT8IdsS2Xd4n+v8Hkus2LJCznn/HFm+xTp1OXinAX97YOR17rkpZ9JFI1R7pcKrx0PO4Q5llB1TcN36r+NgwTTXvf99/4mgpAn07SwO4ZPi6dzZpSz2XnRRzGvVlRhF7whKzFG6UGnXHO/Zts/KqSec6vZt2rNJ5qydI0eOpVIfkEHeeMPopeOKceOyqLh/ZMC5Va1kbFvh7jq4S6b+PVV2H9zttjGf7N2st/u6t/OXpz3YtUtk6lSR3ebHYpbTTjOVjuMGXPW5ruOIH//6MVGKY2aCXI0UQmQtwLn17LMmqEhJnqYokYwGFkpMUiJ/Cbm90e2ux4UHztyfLP5ENuzx5QuHCaQEmNl6fPJJwLsuZiE16uKLAysTlDShKo0SE/yx9Q/59g+f07vDGWXPkC51TP49M61nnOG+TACTaKQ4SozA9YxgDLjOud5T49gdxaAl4jnh0bxSc6lfvr5thQ9kKzwnCMo9KjmPKzQ8VNJWlGhFAwslpqlUrJKcUOAE9/X63evlpi9vku/++E627tvq9oULBlmUBYwrMNFieo3C/krMMXn1ZHls8mO2JVKucDkpW7isbRmoGMwGGK1TcGjyZNNWYgyuc653rvs44rZGtyUE0+Fiq/P4IWbr2TNQ+fcE5zFFYKEo0Y4GFkpM89Ylb0m3M7rZloF6/B8s+MC2FEVJDZRuxmnbTyg3bkVRUuYD5/GD/4sffEXfess2FCWK0cBCiWny584vdzW5S/q2DNRR3394f5aIbNFZYNOgKNHGC9NfcDc/FEbIlyuxYB8db7DAFP81NkWJNvpP7S9vzn7TtjIPigJ4pZqhXz+RO+90nlf5bYeiRDEaWCgxzyklTpGapRPXxhy/YryMXDDStsLDmWeK9OkTKJa0apXIsmXmtRIffL70c/l48ce2FZ28NOMlGTF/hFsRyoMKWAi3Q9HM6UbI7UFlqBEjnP/nJdsRpXzsHMbPP7cNJS5YtnmZrNrm3LgdCKL7nN1HGpQPrxfPSOexM368bVgo3Rzj0hUljtDAQokLqhSvIu1Pay95cho9AJVuqPxBgHHoaHhWL2rUMDXvVXIQP1QtUVUuqnaR5MiRw21PWj1JJq6a6L6ONtAdjVo4SgbPHCwLNixw+9AnkV9+Z5M7pU7ZOm5fMAi4mW299lqTJw4LnH8+eLApKkQ+eTSCMd6kSeY1h5dKPTHmA6ekQJ5ceeS6etdJjVLOjT0MsEpBQMFKNhXUgGdFhw7O86mKaStKLKCBhRIXMNv6artX3cFRwTwF3b7p/02Xu765SxZuWKj+Fkq6OLfKua4hY64c0e3ZsWP/DrfMZtfPu8rq7avdvmL5i7nfb2SnkXJy8ZRN0PBIYyYWt3nPlHm189907WrKLmPSHs1QEAnDsphz01eyhL3O44Vg+667nOfOdNNX0HkMEZS/+mqgbLOixAIaWChxw0nFTpKp102VM8ufaXtE/tnxj7R8v6VbYlBR4pXPl30u3cYmLnLQqUYn+aBj6oscMKtPcNGpk+1woFIUwcXYsbZDUeIQTMoJSv/5x3Y4NGxogm6tBKXEGhpYKHFDzhw5pVDeQjL4osFyda2r3b6jx47KnoN75MjRzDHOmzjRVPvwC/Vimm+/Fbn+erPur0QFiLSf+eWZRKt29zW7z80v91b3UguzsOiM7rvPdjgwWztwoMiLL9oOJfLBBpq8zjjxpcE1n8D6hz9/sD3hBSM8XLaPHjXtq53HDysValyuxCJ6SitxR92ydV1/Cz/oLUgFyShlyphBlJeLvXGjcVblwRKTYGJAbXtyYQDXJ6bnvCeoEtEkJ9TuXre7nFbyNNuTNnCnJpgOFnQPHx79gu64geuX65jrGbi+uc4905IYg4ml2Wtmy8Y9zg3bAe3UwNYDpUxB54aeQfAXfDOo0BSrFHXr2oaixBgaWChxSf1y9eWsSgGr7E+XfCrD5g2Taf9Osz3po0QJkTvuEDnxRNsR65QsaRKHK1SwHQpVZb754xs5Rh5QhIJQe/Si0fLarNcSCbWvrXOtK9TGYTsjkDvOddC5c2JB92uviYweHdmCbg4bDuJUdVMsFSua65zrPQ44seiJckfjO6REAeeGngGmOY+Tt992ni+f2g6Hs5zHTv3wG3krSsSggYUSlzCAwuwLUSopUkBFnNdnv+6+DidkFaxcKbJvn+1QYop8ufO5s/t4pgArX49MekSOOn8iEYTaP/39k3QZ00X+3Pan2+cJtUd1GnVcoXZqoXzmqFGJBd1/Or8Ol/q//jLtSITVxYcfNvnvgLcAqzBeGWkltiAFcOXWlXLwiHOjDjME0lRGA1KeWPjBUJIKaooSq2hgocQtF1S9QD6/+vM055GnFQZRZ58tMm+e7VBiiuolq8vMm2ZK7TK1bU9kg1Cb6k/HnD8eaRVqpxZP0N2xo+2IQmo7h3XmTBNcKLHHvHXzpMV7LeTvHX/bnswBPQW+KBdcYDsUJUbRwEKJW3LnzO0GFTmcPx6I9xDxZbT87Msvi1x5pXlNujLCvZjVWcQ5rHgVzls4akrO4jrvP7/vbXZvuoTaqQVBt9/bhVSjXr1EJkywHREOpWYLFzYzzkrsceTYEbeAB4U84KpaV8nLFzo38AxAwYJu3QI+KECQzbWQO7ftUJQYRW+VSlxTulBpebr1065YDxDvTVgxQfr80CfBgTU91KunZQSVyOOzJZ+5mx/SuNIr1E4tBNmXX24bDnPnirzyisiYMbZDUSKESkUrSb1yzg08naDNoTIagTPFO+DUU0Weftp53pQ2bUWJZTSwUOKaEvlLyJ2N70zksLpt/zYZPGuwvP/7+7Js8zK3T1HSwrZ922T0wtGyZd8W25P9fPfHdzJkzhCZ+GfAGfyCUy+QU09wRj2ZTNu2IrfemjgNhFLMVMuJpIqmW5zD9dFHzvHbZjsUJQ0sXSry/vvGdd47h2rWNJV7KWZAcQ9FiXU0sFAUh8daPuYGF+WLlLc9Ik9NfcoNLtbtWmd7Msa//8bJgOXAAVNfNM7U6hgwFs9f3H1NvjYpdau2Zn9pof2H98vyLcvl/on3y6TVJjcDoTnakOfbPi+tT27t9mU2rZ1f8/zzItWrG0E0kCrywAMiy5dHhtfLH3+YFBbPyKy4czhPOsm8jhu4brl+uY5jHCYA/t3h3JjDwDrnMUFQ8dRTtsOhvPM4Iah49FHboShxgAYWimK5p8k98lQr31PB4eWZL8tjUx6zrYxBXjlVcmIecgGaNxeZP992xAfvX/a+XHH6FbYVOSzfvFwav91Ylm5aanucwX2p6jKr5yypWbqm7ckamL2dNcsEFx5Llog0aWKCi0jjCudwMliMK7huqTZBCa8Yh0qAN391s21lDIIH0vv8kP509922oShxggYWimKhbKhXMtTjwOED8tWKr6T72O6uO2tauO22xDNVCPooPRuTsPbfqZN5jVp91664U6sjfs6bK69tRQbohW4cf6PsPLDTFanCJaddIu+0f0eK5iua5YJzhNBFi4q8847IxRebPk6THTtEbrwxewXdX3xhrlk/eZ3DieA2ruCAcP16JpeIY7CJjkEoMesvZMDK9a2NbrWt1OEJtTl3vUUezpkPPjDnuJYpVuINDSwUxUeD8g3k+fOfdze/oPurlV/JQxMfSpOgG/dtZmjjAhyf4sYVMPW8MvOVDJsuppcxS8bIK7Nekblr59oecVdU7mpyl5xZ4Uzbkz2c6fx6ZnIjSdC9Zk3iktBXXx2IleMarus4cXSrWapmwn0/NYQSanPff+YZE1SUybhxt6JEHRpYKIoPBNz3NbvP3XrU6xEQdO8zgu7hvw/PkKD7t99Epk+3DSXmaFi+oTSu2Ni2RD5c+KH8vv5328o6vlv1nQyZO0QmrvIJtateILc0vEXantLW9mQvCLpvuUXk/PNthwOC7iFDRL7/3nZkI3wudCFKbDL9v+ny23rnhpxOljmPgeHDEwu1aziPix49RO68U4XaSvyigYWiJEPfln2lR90eUr5wQNDdf2p/GT5/uKzbnTpBN2kfVao4F5q90jALez385t5KhHB9/eul15m9bMvAiteG3RtsK3MhdW/FlhVy//f3u54s4DmDswqXVULt1NKmjRF0+52tf3A+9v33Z61+eINzeLwZZyU+eH3W6zJygXNDdsCLpkrxKm56YGpAqE1Q0b+/7XDwhNp9+9oORYlTNLBQlBTo3bS3PHVeYkH3SzNekscmp07QfeGFIp99FqiCo8Qfz/76rBuQZgWspjV6u1EioTarbrN7zs5yoXZqOf10I+hmttcDQXfjxlkn6GaA+OyztqHEHQXyFJAxV41xyy+nhsec2/9LL9mGBaH2PffYhqLEMRpYKEoKMNuL2HVExxFSIHcBty8tgm4chwsVMq6rSnxwUbWL5O32b7uzoEC5V7bMJpRQ++LTLs42oXZqQdBdrFj2CropdeuVu+XzDBvmHMeLTDuu+Pxzk8cTZ+Rw/hTKW0jy5PRZxIcAoXb37iJffaVCbUVJDg0sFOU4lClURi6udrE80+YZOaXEKW6f69C90jh0/7ktbWUZEYgOGhTDFaI8yPn65RfbiB9InWtYoaE7WPGYtWaWu9J19JittBNmxiwdI6/OejWRUPvympfLXY2zX6idWhB0V6hgG5Y5c0xBIsa7mQGFj5h5ZsXEg0mAhg1FypWzHfHEf/8ZIZjHNdeIXHqpbcQGB44ckEG/DpJ563xK/ePw00/Gb+Xhh5MKtQcOVKG2ovjRwEJRUsEJBU5wq+n4Hbq37tsqr8581TXRG71otCsGDAU6iyuvFCld2rRxZ33vPZFDh0w7ZmjQQKRpU9twGD06cZmdOAJH92tqXyMlC5R02ws3LpQR80fIMedPuKCgwEeLPnLPPRy1v18VUDx7Qu3zq/qU0VFAo0YinTsnFnQj5MahOzME3QQWI0Y4x2ehaZd0DhfVoDDGUxzatRNp1co2YoNDRw7Ju7+9K0s3m3RBJo6ollY0b2h9BcU2WMFCC0SQu3Wr6feE2nfdpUJtRfGjgYWipIHkBN3XjrlWBv48UP7a/leSWWlmYQkk/KVnWa3A5TemzKl5ylLmR5HKxSvLyE4jpeoJqS9dmRZ2HNghP/39k3T5vIt77oUSarc5pY3bF0307Cny4YcpC7rZSJPKKKQ+rVyZWCB+6qmmwELlyrYjnli/XmTTJtuITfYd2id/bP3D9a/woMTse5e+J+WLBO7pQND5118iAwaYc8IPQm1udyrUVpSkaGChKGnknqb3SP/zkopxv/3jW7nikyvch9fx4IHVokXirANFSS3jlo2TrmO7Jglia5SskS2O2uEGQffMmUkdulnRYMPMLqMsWmQW2AhUFIf//c9EdDEM6U8t328pf+/42/YkD5M+OK9/953t8IHYX4XaihIaDSwUJY3gzo2ge/hlwxME3XDo6CF3ef2iDy+S+Rvm294AL79sUqLAM6c+fNi0Y5bXXjNuUYo7U9pmRJsM+aAAWo2BvwyUPQf32B4DOqBhHYZJsXzFIlaonVr8gm5PRI2ge+dOszGLzPWUEbz/j78BKUFcl4L2K9ixHH/33cQ5aTHA4WOHZdeBXQkB+ZWnXykvXRhU3slhvnP75rwjbdVLWa1XT2TyZLNdcolW+lOU5NDAQlHSQdlCZd3gAkH3c22fk5aVW7r9ew/tlal/T3XTovjbD+a1lSrZhoXc8amJfyy6QfV6330iuXObNrkmOEnFKehyzqp0lvt698Hd8uNfP7pVm9ILTt6YNC7fHKjDeneTu91zkN+FaDxW8ETUOHQHO2BThvb9903Oe7ioWNEIyBUHjHeo9xtDCnbux2/Odm64PioVqyT1yyV2FUeojSCb+zJVoOCcc4zDNnITtrJlTb+iKEnRwEJR0okn6L7/rPulZ4Oe0uzEZvYdkY8Xfyxvz3s7iaCb4KJZ4Mfko49E5gYK+UQ/tWoZlyimnBXpUqeL1CtXz7YMiKxZvUgtq7atcgXabBQL8FbDShQwAnHvHIw2oXZqYdL81luNqJsiRZ5QllllAgtqBLCtWmX6UwPxLi7figNLNl9/LbJ6te2ITeasnePelz24XwcHFZ5Q++PAj7n365tuMqJ+RVGOjwYWihIGup7RVfqc3ccV7Xr+Bbi6PvPLM24+r7f03rWryO23uy8T2LzZ6CZjFvJN/v5b5Fj4KiJFE6ULlnZXuDz6TukrE/9M3aiWssYfL/rYFWizeaWNSXdilWxUp1EJJZBjGRy6EXWPGiXSsqWptAYEE9deazYGg6l1zyao8AtvmYH2qrbFHeT6PPigyM8/mzY5PqjYSYeKEdbvXi+b9zo3Wh+3N77dvW8Dqancolip8ITaLNog4qfELPdtRVFShwYWihIm2lVr57q34uLq8c3Kb1xBd0oGaS++KNKvn23EIrhJMd0X88YdoSHg7HtO+srHEJiGcu2+rMZlMqrjqIQgNl5gsEdwcdlltsMHgtr0ynkIMkh1URwQE/z6qzFpiBEI5tEmJQdC7csvF/n2W9vhUMC5jY8ZI3LhhbZDUZRUoYGFooQJXFspXfj1tV9L3bJ13T4E3Us2LZF2o9rJgg0L3D5mX4cPD4j/0EvGVNnZk082pVRq1zZtZkT3JBYaxxOI/dn8vDzjZXl+WsoVeG6dcKt8sviTJEFp76a95eGzH3adguMRnOwfeSRpVR6uo08+EbntNtuRDM89J/LKK7Zh4VpUMa6FNEaWhIjiYgQq9XnXEQU3KLzhlWMOJdSu69y+yQ6jRHielM24FUUJQgMLRQkjBfMUdFNUmKVOIuj+ZaA8OPFBmbxptKuL9MsQ8JFjwBMTk/qM/FA7UtZHcWlcsbFbpthbYVixZYUs3xIQYHvg0M05wkZJ2TW71rj9FYtUlGfbPCuD2g5yfVSql/LVYY1DKEOLjwAO9s8+a4TXsMbZXePGiTz0kMjataYvGITfXolZxs4EKFyPcQl1r4nSNmywHbEFfhXPTXtO5q0PGHXmyplLmpzYRCZ/WdbNAGOVyy/UJtWO1Sv+LljQ9CmKknpy9enT5/Fdu3Y5N9oV8vPPP0unTp3kNJyJFEVJN7XL1JbcOXPLut3r5L+d/7l9izYukmn/TpP1e9ZL7mMFZeL8RXJkZ1mRQ4VcX6p//zUiwZhJbaZcJV8KcDrDVQq3wDh8WqOxKFe4nLw99+0E9+0G5RtIh+od3NeAuHTYb8Nk8KzB7nlCFSlAQ3FtnWulX8t+0vyk5u7/o5iCRc2bG3EtOiUCiW3bRHY7uw0RLpqJ/5xLDwM8TjskPrh3k5nHeBoI7ikxywx1XLJ4sUivXoFRNc/+Ds45GSNu2/uP7HdX/hJKPO8pIzlXXionHbhIhr9dxC2egZ+JB+cSHp9odhRFSZ5jzg11r3PfyJkzp7vBbufmW6BAAV2xUJTMotsZ3dyUlcrFAoJu+PWfX+W+6Z3lQPvOIqWW2l6zWoEYNWbSok48UaR4cfOaAKNbN3Uj87Fj/w75Z8c/7ut/d/4rL854UYbOHeq2PcoUKuNWfhrYeqDkoP6qkgSeaYhuqRhVpozpQ4zLrDOVpNAwcfp5fVOmmJ/xNMqeu7figKDgiSdsI7rZd3ifrNq6yrhs73ai0C3VRP5sK/s/ek/u7VnelZF4cA6pUFtRwoMGFoqSiSDo/uyqz5Lk2IeCWdSzz44hN27czRjtKSEZt3ycdPm8ixw5dkR6jO0hY5aMse8EcIXfLdMn/I43khNgf/aZSZsKBgkQ7t66QB+b/LbuNzn7vbPlr+3OjXVyf5Ghc0S+fMu+mxgVaitK+NDAQlEyEQTdp5c+Xb7u8rVM6j5Jrjj9CvuO5cLeIqc7Ix+HmHPjRmsRQyUrM8qpJ5wqE7tPlBqlarjtQ0cOyfz186XtiLYyd91cM7PqwM/90P0H93y5qtZVqQpKFbMCcdVVSd2zWQnEK6ZtW5E/fPYhnkY5bi1Xxo417oMxyuF1p8uuoePk6PsTRVa0FzngHOxDiQseXOHcjidNEpkwQYXaihIuVGOhKJlMnlx5pErxKnJyiZOldKHSUqtMLdc0jZz6I4X+E/m3mch/Adc8qtvM2j5eNuedJ3XK1LG9UQr1G5kW9uDLkRx/0km2I37ImyuvnFz8ZPlgwQcJomyCCWZUDxw54LYReWN2RzlZtBVF81nDBiVVECiQgYcvBYHEjh1G0I3OghVBf3EEfg5NU9yCmQc6KA9WFxEXUNUtisEs8YMPnIDhu/yy6Bfnu2x3toOF7btmruPee03J4ksvFTnvPJEqVTSoUJS0kJLGQgMLRclCGFg2r9TcDS4wP6tZuqYc2llCtmx0nnY7nZGOA2LCaQffkg0lvnCrTCH6RvwbleVFcSxbt86M7mDhQlMnv0kT044jtu/fLl8s/0K+WvmVbNu3zfYGaFihodzU4Ca5of4NksP5o6SPIkWMqJuNVUBOP7ZgSH8hxqWiVFyWmiXg9xs3PPBAaIOQKIDiF+PHm3snK1bBomygkhjBZv36Io89JnLBBVEfQylKtqHibUWJMCoUqSDvX/a+jL58tHTvnkPKtjLpUAnsLSW/LFkpncd0drcfVv8gf2z9QzbsibKykCS333qrbcQfVATjuLH9/M/P0mVMF1dQGgoCil5n9rItJRzcfLOzX2+wjSBIi2KCHsNpXrNRRSouoLwspbSiHL4Gx+2HH4xQn80vypYcTmRZ7B8pe9Iu5z5rVjPee88UqFMUJXPQwEJRspl7m90r/c970rYs0+8VmRJwXO45vqc0HNpQ+k5WIW800WNcD/e4sV075lpXqK1EDkecw0Fw0bCh2a67zr4R6zz+uMjzKRs0RgMI9jluPXvajmBy7xe5+nJ56qNv3fQnRVEyHw0sFCWbQZzb/sKC8v77vpSMw86LQwVsQ2TPwT2y48AOGb9ivLQe0drdFm5caN+NMl57zbiaxSjf/PFNwjFCR8NxY/N8KZLjlRmvyAvTX7AtJRwwdn71VdtIBnwv0GKwzZ4t0rq12fxZQjEHNa29utaIDqjgdv75ph3hLFgQOEakP3Hckhj7UxCjR2vJ36OTvH/Tg9K+Tkt1VleULEI1FooSARQubIKKYcOceOKQ7Tya2wkwCopUcEY7OY+6XQxOV29f7W7k7M9cM1O27NviGvJFLKgiSWhn1EbS+5YtJrE9SvO5kwNjO0rGfrniS/nhzx/cY+SJsv3c2fhOtzpY26ptXa0NbtuY5nEc1+9eLwcOH5AmFZuI+lakH06zV14RN1hfssT0kQZMESTnEefm2teoITJrlnnPA5H36tVm4zRlELtsWQxKgrAnnz/fvOb6fPJJkVNOMe0IxRNlU8GJgIJjRFCYQK6DIme96BzYL0RqOtvJUyRfyfXyZJu+bvEMRVHCR0oaixzbt28/tnbtWudCHS8DBgyQkSNHyiWXXOL+kKIoWQfOwRg0ffONESNC0YprpO2zD0vufAflt/W/yYotSQ3mWpzUQm5vfLv7+ryTz5PSBUu7ryMKlJTkLDByA7QXjPqinD+3/Smz1zoBk8Njkx9ztRTBnFn+TLeErMdT5z2V0KYi1COTHpHvVn0nW/dtdfvql6svc3rNSWSqqKSerc5u/O47kUceCThsn3CCEes6jzi3AhCQm4+I14M2ZWmDwUTvqafM68aNo1zwS8SF/TiOglOnmj5mNObMEalVy7QjCO6Dkyeb1yx0/vKLee2HeVAE2Ydz7JGJpzSUnXmNyzb3QXyEMJdE06YoSvg46txLNm/eLLlz55Zctmb3+vXrpUSJEhpYKEqkcc45gWd+1apmcpG/X5ozQN77/T23RClOzcwYBIMYnOpCQHnTSkUrRcbMd3Bg0bGjyMsvi1SqJM4HNH1RBKLs/Yf3y6dLPnUDg2Dy5conJxY70a3u9Pi5j0uXOl3sO6FpMqyJu3IB+J6MvXqs69ieL7faQqcVViH8KwzFipm0GQzQUmLUKCM94LJCxO2dqn4Yj+N9wFiccrVRB1+K69ArmcQX4eaCp0W1aqYvG2Hf45LulQVmkRMNTDBMkLL/yeK6/nqR3g/ukz+2/CGXfXyZG+xDy8ot5afrfnJfK4oSXlIKLHRKTFEiGJb7KZuJGzcib2ayP7syeSfvm8bflCAWvvLTK0Om4kQE5DNcfXViY4Eo4rpx17n7uP/UgMDez2klT5NZN81yj9eVp19pe1PH8s3LpfHbjWXxpsW2R8kIBALDh9tGClzpHCYm7qnCmtwYm4yhmBJ5160rMm1axKRBYXPD8WIfsyUnyiYeIlDkeCHKTuSyrShKtqKBhaJEGC++KHL55eY1mQs7dxo3boKJYvmKyellTpevr/3adWfuVLOT+UGLJ/JmW7xxsbQb1U7ajGjjbs/88oz9qWyA/BFyvLx0CwKKRAnSkc2rM19N2I9spD+xj/cdsgJYy11N7nKPy7AOw6REgRLu8WLl6Hi8dtFr0v609u5rKkfxf9/y1S2uWF9JPeTe33GHbVjy5TMapuPB7DerG6RNoWWmhOldd9k3LeidEQszoG3TJrAdTyAeseTOne324884tyVvP150kdHEeGL6YFE290WOC/MSp59ujhdBxuGjh2XngZ1y9JjRoqFhevEC50aqKEqWo+JtRYkwKlQQmTHDbB5kMJQpI1K5sklxQoyIMzN5xLVK15K6ZevKnHVzEh6scOjoIXcGzxN7Iwz+e8ffrrDY28jrzxLhN6M2ggvyTch1AKImaumjoi1e3PRFEOt2rZMBvwyQiX9OlM+Xfi7T/puWsC/9K0Hkbz/S4hE5v+r5cvnpl8tZlc6SikUrpsnkrmKRilKqYCnZd3ifLNlk1MZrd62Vzfs2S4HcBdz0KCVlPvtM5M03jS+FB7PfXbqYbJ/UQmYetQWYxMdAj79JpWLA68XCXI+eyJsNP4U//zR6AGJnTPoiDgQn5HJh9LB3r+nDAT85o49MAOM6BNgEB97GygOrROxHPmJC8QoL2vLevQNO2RwLv1M2/jBD5gxxjUQ9Ljz1QrmuXrzUDlaUrEfF24oSZYwYYQZJ/uACgye85po2tR0+1uxaIw//8LCrvwACCipGHQ/ykG9rdJttGeEwaTyZRr9+ZnSxcqXtcCC/5JprsjXHmwpbBBD+wOzv7X+7+onkvCc8UXbl4pVlQOsBkitHxmd9J6+eLM/++qxMXDXRrRQFCPIfav6QW0VKHbmTQl7+xImmgrEn9CU4oPJTnz4irVqZvoyA3wVi8L//NqfuvHn2jSCY+Gfsznjdg2cunyVbY2c+NNcd158H1xvXHddfJrFihUnj9MAV2x/4JQf3OCZRgDkJ9inBXjAz/pshb855U0bMd26YlqYnNpXbGt4m3ep2sz2KooQbFW8rShTyxRcmFYMJfk+nzYwdaRfH0zyPWzZOHpj4gG2JbN672R08H4/HWj4mPer2sC0DM+nF84dxVMRA5o03zDSvB1/qzjttI/MgXWLjno22FWDZ5mXS8eOObkpFchTNV1TKFCpjW5IqUXZ6YMWCz8LqEqVnQStFJQ+D/kaNAgNYUmMY2FP0oGZN0xdOnEekPPGEbThsdE4n0hWTg2wjPkv16rbDB6uQZCJlOlxf1Nr1KFtW5PbbjcNcmNju3F6Czbwp/Pb007aRAgRdpUrZhgP+I9zrkoMJAAoo3PXNXfLFcudG6cC1cWLRE2Vwu8HSoXoHt09RlMxBAwtFiUKQIfz+u8i55yb2sqpXT+THH401RHKwcrH3kE13cGDmnZm940HaTXAlIso13tLwFtsKA3wZRhy3BVZKsiqwGLVwlNzxdVASvsORo0dk18FdthWarmd0dQctHgXyOPsqV/irNnmf5bwR57miVNDAInmCA4sGDUQmTTLpSJkhHSANyrsegdOWYCMlkvsslFAlVSvTCQ4sCOxRoKd0E0kjQ4aYctl+gvdVcrASSylgj4IFzb0uObi3nTv8XJm/fn7CKm3BPAXlxx4/St1ydVOla1IUJf1oYKEoUQriRUouMibArAsKFTIDKcYKdeqYvuOB/wUlav28MfsNVztwPEiNomytxysXvuIau2UIyvT4S+ug67rxRpEHH7Qd6YdZTE+nEMza3Wtl6aaltpU6EFbXKFVDKhSuIDVLZ8IUeDJQGcrzyCiSt4g0qthI3rj4DaleMsTUd5yCeR0T71wju2xciNcEOftZxVLndHIeoe7faY2NWVFBUxUKxMlc4xlm0CCjRicvyYPAHi+ZDEDF2nvusQ0HVlb9vyI5MCj0zykAK7CplXYu2LBA7v72brc8szd5ckbZM9z7UuOKjd0AQ1GUzEUDC0WJcnCdDRamUt+dmb6zz7YdaWTS6kkyd23AEYwVjdSUa7y2zrVuykF6IU2h+Y5iIu+9Z0ZOlLwCAg36UgFCdCo1hdI/jFww0hU+p4fbG90uJxXzJcg7dDujm5QvUt62so4PFnzgBn/kkXvwWdDEkEce76A/YuIdMbAHufkMWrtlQ3o9wUXwysU//xhdQXog4Oja1TZ88AwnRRJhearguvLq7ZKX5fzjTwpdL3MPZKxoA14fH35oGylAzYZbfAuelJE97zzbSCMItd+c/aaMXuTcEC0YhN7a6FbpXLuz7VEUJbPRwEJRYgDGBgQX/tlYJh0JLvyGYOml35R+snzLctsyICZGnxFOrq93vVu1pdgf/0rbqx6WnAdtGZhzz5UdvW+Viac4N63jaJRZfenzQ58UNRHJUSx/MWl7StuQaUW4Ylc7IfuNwjyGzRsmb819S+asnWN7RHo26Cm9zuyVYIQYj1Du9a23nP0zzHY4MGC9+WaRm26yHREAmmm/u7eH80x2BeeUVE0rxAaUaGWWP1UQff1kjeLyOP944DPyxvhKCV3hBJ1EcNBA0Te/JiW9UIyCoGL4/IApSZOKTdygIlgXpihK5qKBhaLECAi6SbdgttATdFOGkYl/nGjDbWJ99WdXJ6xqkMv8367/3DJz4eC0LSLjPhI5eZtIfhsfLC/pfJ/OIn8VF9nvjIHSC4JzPCRCUb1Udfnimi8kd84M/IIs5JPFn8h939/nilU9CC6Gth9qW/EF5/599zn75RPb4cC5/8ILIlddZTsiHEqqct0uTxzHJ0DA4TyzIx7uN54DNpx5psjHH5vX4YL7Def+nd/cmSDUzuH8Yk+ofWn1FFTeiqJkChpYKEqMkBFBd3rYfXB3wqoAlZMQTHqVijJKLic+KeL8V999INJ4jek74gxUduUTuaCbyKwQ5SVTy6C2g9zBdygoC1skXyQaDYSGgI50qFbDWyWUw43XwIKZfsrHkgblmbbzTKPMLGlQKQl+Iw00IQjPQ/H222GRG2U6VODivuNVvGI1JTVmhGkBE0ruO7+v/12F2ooSIWhgoSgxhCfoJs964ULThwiU9BCqqWQWuHrPWjsrkddDWrn7m7tl8abFtmVouFbk0akily2zHQ7NbxSZlopUj1fbvRrSPA6Bc0Z0IJHGb+t/k4ZDGybse0z50Kq8cdEb7uxtvEBgQcqTVwGKNBs0DBQziEhTunTCqkyo1QxM+oLdwNNLx45G+J4RGE+w7ykokRl4Qu3Za2bLnkPGhluF2oqS/WhgoSgxSMuWATF3yZJGb3HHHUYsGakgrMbML5i2L30pDcZMsy3n584QWdO1g8hZZ9me0CBmZpAd62zYs0GG/z5cBs8anJASVbZwWTe3/M7Gd8ZUEJUcDLYHDzZaI88CJasrQGU3a5xLx3lEp8w05zr68kvbsDR3rqP2ib0dSFtq08Y2IpSpf0+Vc94/x7ZEzj7pbLm14a1uAQlFUbIPDSwUJQb53/9MtSi/iTUiyc6ds9XEOn1QDYpC+LNm2Q6H66835WQYPSou+JGguVi1bZXtEdf1+6paV0nVElVtT+yxyvm6aCpwv/ao6nxdNBXOY0vx4PrhOvJXV+P64TrieooiKJFN9afHf3zc9oj0btpbXrzgRdtSFCW7SCmwULclRYlSCCK6dzfuvR4EGyNGGDfgqIJBD0nlfktxBkeUwVISIIjoXKezlC5U2vaYYGP0wtGyac8m2xNbbHK+FmVN/UFFaefrU25Zg4ogqADlBRVcR1xPDz0UdUEF7vgj5o9IFFTgel+yYEnbUhQlUtHAQlGiGKrjPPmkbViojtOvn21EE+3bi3z0kUiePLZDCcUjZz8ij7VIXMN0wC8D5Kmfn7Kt2KJ/f5GBA23D0rdvUpdnJQiU7JRoisIMhL5T+sqL0xOvTPRv1V/ubXavbSmKEqloYKEoUQxVoDp0MMa6+fKZPqpFkWKNkfWB8BRwyhoYCAUrcL/7TqRXr4CJniIF8hSQy0+/XN68+M0E4TaVc8YsGSO3TrhVjjl/YgGqGuPRMmZMoAIaX5dFrMsvD38FtKiG+rU9e4p8/73tsHA9RVGpLCrO3fjljfLl8i9l32Fz0PPlzifvdHjHLVZQILcedEWJdDSwUJQop3x5kUsvNWkhnnB73TrjeUH6yOrVpi8qwE746adFKlc2bb7IuHFmehobY8WlYpGKblWcHM4fD0TxY5eNdY0D/Z4X0QhC7T59RMaONY7WgF8CxnBUM8KVWrH8/be5PrhOuF6A64frKNX23NnP6u2r5ZHJj8gXy75wnfXh5OIny4DzBsilNS6VcoWj57soSjyTq0+fPo/v2rVLVqxYIT///LN06tRJTjvtNPu2oijRAGVmmzUT2brVDMT4m1ne6dNFTjjBDMSoHBXxULeSSlBbtgS+yN69ptINSt1U2w3HPvuP7Jd1u9ZJrTK1ZP/h/bJt/za3JPCv//7q5qOXL1JeTijgHPwoA6E2RQlI8aO0MiDURlNBil+4fRKiHmrQYjfOdQKnnirSpYvIo49mbv3pMLJyy0oZtXCUDPxlYMJKxWklT5OuZ3SVh1s8rGVlFSXCwLhyr3PPyZkzp7vB7t27pUCBArpioSixRMwIukmsb9fONiwEGjt32obCbO5HV3wkH1/xsRF0FwwIuh+e9LARdO+NLkE3Qm2CChVqpxKuB29Jx4PrhusnSnCF2gtGyP9+dG5UFgJjSkk/fm5AvK0oSnSggYWixBj33ptU0P3ii1Eq6PZDZRtqjipJePjsh+XRlo/aloHZ36enPm1b0QHZO8FC7cceM2lRSggQZ99wg21EJ/2m9Asp1L6v2X22pShKNKGBhaLEGGQ/BAu6yZKIOkE3tsAPPGAbDrt2iezfbxuKH1JFrjj9CiPotrqLvYf2ymdLPpO2H7R1N3wBIhEcptu2NdtnnwUyejyh9hVXRE1GT9bD9cB14UHJ5ozaaWcRfqE25yokEmrnUaG2okQjqrFQlBiEYjAnnSRSqpQx0Nu+nfxHo39GvlC9ukjx4vaHIxU+PFbDqNA9qA6VP79IrVq2Q/Eomq+oVCpayfW4WLZ5mew8sFN2Hdwlf277091o41IeSS7duGazmoZI+88/A2NkhNpIBK65xhQnUELw6afG4IMd50FlqNatbSNyQajNitrHiz6WjXtNjiapfay8XV37ajcVSlGUyEU1FooShyDWJi2KQZoHQQUDuQ8+SOzYHbFUqSJy/vni3LlMe+JEYwJGWc2jR02fkkDZwmXlweYPSpc6XeSUEqfYXgOGY+/+9q7MXTfX9mQvc52Pwaoa+h8/pzgfu2tXM/letqztVAJw3nP+cx388IPp4/rgOuF6iXBWbl0pIxeMdNOftuxzbkgO1U6o5gq18akoWUBN8BQlmtHAQlFiHCpCMVjzC7rRWxBcMNlJaU88AyKSc88VefVVZ+RRzaxUwI8/itx/v3pbpMAzbZ6Ra+tc6wYXFYtWtL0iQ+cOleenPS9rdq6xPdkDC1HPPSfy9tu2w6Gi8zE5TxFqB+ssFAupT8wI3HWXuQ6A64Isg8GDRc45x/RFGMxuUgKZlTMCXHQVHqxOdK/bXZ5sFSQMUxQlKsmxffv2Y2vXrpXx48fLgAEDZOTIkXJJFDp1KooSGtJLGIOje77lFtvpQN46GgzSoqZMCYzbI44jR0z1mwsuEJk92/TVqSMyZ05UmX9lNeStHzhyQBasXyCthrdKMM7LlyufNK3UVKb0mJLIByOrIIht1UpkxoyA3ocJ98mTRc44w5yTqqlIhlmzRC680FwPXBfQuLExkiT/MVcu0xdhUA6Zc3D55uXuOelpKmDIxUOkW91uWlJWUaKIo0ePyubNmyV37tzObcfcd9avXy8lSpTQFQtFiXUYbzjXuivoHjYssaB72zaRhQtFLr5YZNEi0x9xcNPiCzg3sARw/bvoIpGlS22HEgwDtRL5S0iD8g3k+27fu74AwMBu3rp5cv4H57vbhJUT3P7M5quvTLYO27x5gaCCwJZxcYMG5jBrUJEMaI3uuMNctF5QgTPma68ZwVSEBhWLNi6Siz+8WBZuXOh6rfiF2sM6DJMONTpoUKEoMYSKtxUlTvAE3WgvnMvdFXTDoUNmnM7KBgsCeNJFpDaa1Yn1603u1sGD5kMzc4u7sBrnJQsDOFKiEHdjqIdD98EjBxNE3eS5F8pTSGqWrmn/Rfj5/HNT4QlpAOl3HD5o0kSkd29xnjuBgFcJAULtIUPEeUjbDocrrzRLkC1a2I7I4pPFn8jIhSPl65Vfu5WfDh1xbjSWKsWruELta2pdo0JtRYlCUhJva2ChKHEEs8EYWxM8IIzFxZh8d1iwQOSXX4xJGboMdKCeZjoiqFvX1CBdty5gCsaHJreGD0ySvpIs9crVk6PHjrrBxbrdzj60rNq6yg0uqBgVLPgOB+iLX3rJ6O79nHmmKWIU5TYMmQtCbXYcO5BcMeCipDYvlRkisALUkWNHZOKfE11xNm7arFR4NK7YWM6qdJa0Prm1PNriUV2pUJQoRQMLRVESQY47E55UdP3118Sl8P/+25QBJWWFVQ5/BlK2U7++yAkniEybFvjQv/1m0kOImPjABB9KSM6scKa7cvHb+t+kRIESbloKA0FWLui78NQLpWDegpI7Z8YPOqlOnEvXXWfOJ2BVonJlk/JEAQFc4pVkQKjN8k6PHqaEFiCEQuFOKa2GDU1fBIGW4o+tf0j3sd3d88kjh3NNUuZ4QOsB0vecvtLqZOcGpChK1KLlZhVFCQkyBUTdwWkojGeaNxf5/XfbEUlQXGL0aJE8eWyHw/jxppwQeV1KinSs0VFm95ztbv70J7wvGr3dSJZtWmZ7MgbyF3TFGOB51HR+Hel2bJddZjuV0CB+Ilj+4w/b4YC6naD61FNtR2Tx+/rf5ez3zpbV21bbHgMFAz658hNpV62d7VEUJVbRwEJR4hgCCsYqEyaY/PeOHU0/2lAWAahqycrFoEGmPyLgQ9erJ/L112akCkyPs3Khgu7jgubihAInuNuQS4bIxdUudvsPHz0sW/dtlZu/ujnDgm7OJ9L/SbnzqgITDyITYMGJTTUVKYBQGwdtdmCwUJudF2FC7UG/DnILAdz1zV2ybd82dxUMOtbs6BYOmHDtBDmjzBlugKEoSmyjqVCKEuegiT75ZJGqVY2wmzH64sXmPaQMrF6gmaa/UaMI0V3woUkJKVpUBd0ZgPQUDMn2HN7jrlgA4m40F4s3LXb7yItPDUhdGPeOG2fGxT/9ZN9wQJx9660Ra7MQWUSRUPvQ0UPy6sxXZfj84TLjvxmydpfVPjlcVesqubXhrdLmlDZycomTJW8uLQ2tKLGCaiwURUkVnpEeAcVff5nBImzcKLJkidFIk9rCuJ6J02wHQTfwgf2CbuDDsikpcuoJp7rBBYPC1dtNCguC7l/++UWWb1kuFYtUlCWblkiB3AVcXUYwBJ6TJpmFov79TVnZVavsmw7oi6n8xMqXkgIItVG6Y43vF2q3aRNxQm10FJNXT5aFGxZK/6n93bZHrhy5pG3VtnJfs/ukVRXVUihKLJJSYKEGeYqiJAFzX3wvWKXYssUsAvj53/9Mpkbp0rYju/nsM5F77jHBhRcNXXGFyMsvm+BCBd3HBb+BDqM7uAEGXhfBILzt2aCnlCpYyvaIbN4sMnSoyKOP2g4fpDpRqOvLLyO0fHEk4Sndueg8UQo7EKU7OxCzjwhh095N8tqs1+TJnxI7ZVMUgAA1f+788mXnL92AVVGU2EQN8hRFSROsXKARxdy6c2fb6eO550xwETG0bx9a0M2H95L8lRSpUaqGzOk1R2qUrmF7EvP01KdlwM8DbMvw9NNOwJG4KwFPqB1BY+LIhVW2Zs2SCrWnT484ofb/pvxPnp/2vG0F6Fy7s3v+/HrDr27qk6Io8YkGFoqiJMEzuybdiTSWBx+0b1j27jW59PgQeGZn2Qqzu5SiDSXobtdOBd2pgBKzCLrfuuQtV3B7T9N77DuGPYf2yKdLPk1w7D7/mpWuHGDPHvsDFhaOKATgCbUjqlxxJJKcUPv11yNKqI2pYs/xPWXc8nEJ7tkeDzZ/UHo36+2eP6TLkQ6lKEp8ohoLRVFSBK+L8uWNFpo0byZVd+wgn1Lkn39M9agpU0QKFMhmvbQn6MbLYsOGxIJuPC/4EieeaH9YSQ4E3VVLVJVyhctJ5eKVpfUprV0R966Du2TngZ0Jjt1/rtktu4rOdIK6XVIxXw15+GFzfpCBRqli3dWpgBS+t95KLNRmByLUbtnSdmQv0/6dJm/OeVN++PMH+WjRR7Jxz0a3H/dsAgrOjytPv1JOL326268oSuyj4m1FUTIEgm4K0rCRV4/5NROsrFyQMoVjN2AjgZM3VaayTdYQStA9f775QCroTjUEFrWLtJAdC1vIlNkbZNthZ18W2G7fdSj3u0hl58AX2CrVy1eQEa+e4p4fFORSjoMn1MZRG+U7eELt++7LVqH2lr1b5OuVX7uCfbaPF38sg2cNdgMMb6UC/cS1da6Vfuf0kxYntZAyhZwbhKIocYOKtxVFCStPPGEyNTZtsh0+mJdAb8oCAhQunE0ibxV0ZwgWeX780eiJXVo/IlL7I5HcB0SK2IDNUqdMHfmi8xfu61IFSkmRfEXc10oIPKE26U7LrBlhBAi1EWXvPrhb5q6dK1d+eqXtTUrpgqXljsZ3uEGFoijxiYq3FUUJK/ffL/L447YRBKVGMQzG84KNICRb8ATd/iR/FXSnmrFjRbp1sw34+VGRobNFPv/AdgRYunmpNBrayN3GLnP+oZI8nlCb0mseESDUfvzHx93jd9OXN9me0Dx+7uNy31n32ZaiKEpiNLBQFCXNFCokctllIt99ZzZ/OVH0p6RJUaaWjQHqBReYDS+MLINZ4FAO3b//rg7dKXDHHeZYPfus0dIkcLCQXHxeSfnuvYbyXdfv3O2ias5+dMC1G1M9tmd/fVYuGHmB3PG18x8piWFFgh3sF2qzJJRNjtqYIHKs2MYtG+cevx0H/AfdUKtMrYRjflmNy6RQHucGoCiKEgJNhVIUJcN88IHRSlOEiUpBycEMOKJeCjhhJpxljBgh8uabIjNm2A6H7t2NHXTTprYjfpk1y1T5gvfeM2bmfhgLkz3GcbvwQtvp8M0f38jQuUPdQWkwaDSur3e9+7pjzY7SqEIj93XcQmre22+bklkepOZRWi2L3AMJAF+f/bps2L3Bbf+38z/5YEHSFSgqhJHu5GknKhWtJF3P6Oq+VhRFSSkVSgMLRVHCBjn5aC88WBzwl+b3OPdcU2HTg4WFTM8CGTbMVODBnMPjppvM9Hzx4iLnnWcEtHHGvHnG5I5dEwwlh9ERs3pBwa1QTPxzohtcHHP+TPpzkmzf7xN4W25peItrrtegfAPbE0cg1EagPXCgKZ8GnGfsWEpptcp8d2qcsX9f/7sbWDz4w4Py745/7TuJQZRdr1w9yZMzjzzb9lk3oFAURQlGAwtFUbIF9BXvv2+qvlJJytNQB4Neo0cPI/imKmym6apZTkHQHfxhSJUiTYV6uaRQxTgcDzTtgGv2hx+a1x4lS5qqvbVrG1lKaiCwaD+6vSzeuFh2HdjlptX46VKnizx13lPu6wpFKkjeXFbdH8uQevevM4hH7+MXap90kjnfaoQ2IwwHHI91u9a5/hPv//6+PPFTaLFTDucPxyNPrjxyXb3r5H/nRJLzpaIokYgGFoqiZAuYp+3fb+QMTNAmZ6aHZiN/fjO+Z3LXqygVdhjokffDh6E2rgc3RlYtvv1WpGFD2xm7oB9mFxBbecfIzwsvmEAP3XuxYrYzFezYv0MOHzssw38fLvd9n1jgmz93fjc3P4cTNU7qPknOKHuGfSeGYXWM3LHt2wOaCioacJ6xYzNRU0FA0XpEa1m6aansP7zfNTgMRb7c+dzjgfO6d4wURVFSQgMLRVGyFcz0kDeQFfLGG8ZsOBSUpkXyQKbIbbeZipxhhzqqM2eK3HVXUgF348YmwCA96t57bWdsgE7CK0S0c2diuQlUq2Y0xHD66RkzuCN3Hw8EuP3r291UHD9NT2wqRfMVdV+fVvI0GdxusPs6ZiAyQ0tBQEEg64FQmyUizrNM4Llpz7lGdnD02FGZ8d8Mt4RsMA+c9YC0OaWN+zpnjpzu8Sic17n4FEVRUoEGFoqiRAyMt/wyB3L7cfAOBj2rf/Hg5ptNBknYGD7cuPnNnSvy+ee204LJ3sUXm9e4IGerpXjqIb3Jr3HxgyibDLBQMImOjv16o7UOK+/+9q4MmTNEZq+dbXsSU75I+QSRtx9SdG5rdJubphMVkPI0ZIh5/dVXZlnIz+WXi/TqFXah9j87/pG35hqBzPjl42XhxoXu62AqF6ssvc50fr9D++rtXe8RRVGU9KCBhaIoEQsTuMuXG88wf8ARjHN7cs33/KB7pUpnhpg82fznCGtZUgkG0e1VVyWvXs4mmAzno/ulIqtXizz4YOK+lECv7jwHXMNn4qfMgsCCmfRt+7fJ5NXOh04FpEwNajNITi5xsu0xwcZ5J58nxfMXtz0RAuYt6HcQYwfD8hs7+pFHMizURrfy418/2pZh+ebl8uhk5yJKhoYVGrpBRfVS1eXp8562vYqiKOlHAwtFUSIeqnE+8IB5zcw6cojjMWaMSIMQhYY88XGqISWKNBWM8zDfIF3KT//+Il27GvEHdVezGL/Y2mPxYvORQ8VCyRG8X9AP18nCieuFGxZKh488K29nN4cQeacEaTtfdv5SapX2Gac4ZIsYnOiNE5WDQ73lfkFO1OxodjhCFef5mhahdnL7Zd66eXL5J5fbVmhIMTuhQCDafv785+Xymin/G0VRlLSggYWiKBEPgQRaDGjXTmR26MyZRKB/ZdwWzDPPmEqyqQZhLUsA8NBDIu+8Y157eOpynABRl4f6pZnIwoVGbO0PIoiBEhnYpQJPlO2R3P7LLCh36jdgo1rR/d/fb1upo1j+YpI7R+BD58qZS37o9oPUKZvFqT2I/1nqIcJD/Y4K3s+NN5o6vYBuxz58U8OwecOkzw99bCtA8P4LBWV9B7YZaFsihfMUdgXaiqIo4UIDC0VRogq01d44/6+/jPCYgXRqobpUcnqMk08WGTw4hQE1qxeIPv78U+TOOwPVfIBZ6GbNRF55JVNKhVIs6OWXbcOHJ7ZObYoT3w8xdjDERRkRZYebf3f+myDy9rNiywq565u7bCtlSI/yi8H99G7WWy6oeoFthRFKxyL+56D4V7c4qdj5nGScgJ7jexAECHd+c6es3rba9iQG3cTSzal3hqdU7GvtXpPKxSvLScVOkpqlQv9eRVGUcKCBhaIoUcumTSLvvpt4fL9hgxEp+/tSS5kyRqQcagI5kU5740bziyljhTDXD9P+FSuKnHmmSKdOttOkFhEUpRcMBb/+2jZSCdWz+Ch++H74gUQr+C+89/t7tmVYs2uNvDHbORZp4OJqF0vdcnVtK+00qdhEOlQPpG65In/E/oj+Ef/74cTB9ZGdz0nmgBHdkLlW0O3jyNEj7vfbuMc5x9IIKzS3N7pdyhYqa3uceCZnbrm+/vVSumBp26MoipJ5aGChKEpMwYICIuVQqxhosLdutY00gk47yUw/gtyVK6WK/CVnijOo9NO6tWy/9WGZIufJUckhb78t8t139r1MwBNb+yHtK9NdyyMAStYGpwdt3bdVpvxl3awzgQtOvcBNLUrgdSewQTEfCioLDBxgG4aVW1bKw5NCCLpTATqJVlWSir0JIga1HeSuTCiKomQHGlgoihI3sIAwb55tBIGGA212erhKPpGX5R4pL4lrti6R06W9jJcjkku2ygmyS9KiGk+K5z4eClZEzogDX7nUMn/9fLn0o9BmJ+t2G9fpSKZkwZKuBiIUDco3kM+vDiqDrCiKEgFoYKEoStyAoNlvqu1n9GiTGp8e8st+aSIz5QdpI7klsFRy2GltF1P+9EEZJO9JxswgqNL0ww+mSmkwaIBJ41cMaBW277diHB9Hjh2RNiPayKKNi2xPZPJqu1elc+3OtpWYPDnzuEJ1RVGUSEMDC0VRFAdS4xeFGGui0ybgOJ5AvIjskmYyXXLIMblDXpNL5Cv7jmGp1JR/5CSRqqeIDH4tdHRwHIoWNe7jOXLYDiXNHHP+zPh3huw8uNP2pAGEO3fcKS+V+1O+q2r7MgCpSziL+/04PGqXqS0ViwQJZBRFUSIcDSwURVFSAJ02ztRpEYNfKN9Jg7lDk7p2Q9myRsSLmDeSyjApKYNIH7H+u+/KhOIbZX5AH20gzw7BfhpAbI2zeJlCRtCtKIoS7WhgoSiKkhngacFAFH78MalqHB8DlNVVqoR28lOyF+r3ovb3ahuvXCnSJ8g/Amv3c881rwkUUdAriqLEMRpYKIqiZDaXXWbqxYZSiF99dcAsDRispskaXAkbHBvPiZElqvbtRZYk9dJwXbMLFxapV09k3DjbqSiKoqQUWKQ9AVhRFEVJyvvvi8yZI9K3r+3w8cUXIg0bBrYxY+wbSpbTv3/gODRpIrJihX0jiH79zPHkuCqKoiipQgMLRVGUcEDJplKlRC6/3Lj3+YXb+/eLbN4c2J57TqRdu8C2fLn9QSXsfPVV4n1NUOc/FsGKfWbfSG/jOHI8Oa6KoihKqtBUKEVRlHCDNTiu3UePinNzPb4dN0LvChXMa0wssNPWslDp47//RIb43K5xyv72W9tIho4dA6JsAsIbb0xwz1YURVESoxoLRVGU7GLo0MR23IiFt22zjRCcfLJZ0fACCxV+p0ywAPuPP0Qeesi8To5TTjHaCQ8CudatbUNRFEVJCQ0sFEVRIoVLLxWZP9+8PnhQZF1iJ+8kXHONyDPP2IaDCr+TCrA7dBBZvNi0Q5Evn0i5crbh0K2b0VooiqIoaUbF24qiKJECYuDZs802cqTJ6U8JKhI1ahTYQvlmxBtPPRXYH7gJHk+jcvrpgX3OdrwVDUVRFCVd6IqFoihKdrFzp8j06SadB0iZevll8zo5atUSqVTJNhxeeUXktNNsI0aZMEHktddswwH7dLQUyYFOYvBgk/IExYqJNGtmXiuKoigZQlOhFEVRogF8MBhEe3z5pcisWbaRDH7hdzCUVMVfI1pgdYYSr8GkR4B9ww3GAV1RFEUJKxpYKIqiRCNvvZVY+I27d0rC72DathW59VbbSIb69Y1APLNZvdoETinx5psiEyfaxnFA5B4swG7TxjYURVGUzEIDC0VRlFgAl+gFC8xrhN/OjTzDDBwocu21tpEMCJ/z5rWNEKTms4waJfLII7aRDvj9fgF2164iTz9tG4qiKEpWoYGFoihKLMBqhWfoRoBx/vnc4U07vVBhKn9+20gGVhHq1rWNELASwWdJiX37ApWc0gOrE99/bxsOBQqIFC5sG4qiKEpWoYGFoihKrBEs/A4G8fLXX9tGBkH4jAA6OXbsMJ8lHFx0kcidd9qGDxVgK4qiRAQaWCiKosQb33xjRM8pgUP1mjW2kQVUrChyyy22kQwIsNu1sw1FURQl0tDAQlEURUnKAw+IrFplGyHAzRpX69TSqpVI8eK2EYKqVY2ruKIoihK1aGChKIqipJ2FC8V5INjGcciRQ+Srr0Rq17YdiqIoSiySUmChztuKoihKaGrWNL4SqdlwtK5Rw/5DRVEUJR7RwEJRFEUJTe7cIqVLp37j5xVFUZS4RQMLRVEURVEURVEyjAYWiqIoiqIoiqJkGA0sFEVRFEVRFEXJMBpYKIqiKIqiKIqSYTSwUBRFURRFURQlw2hgoSiKoiiKoihKhtHAQlEURVEURVGUDKOBhaIoiqIoiqIoGUYDC0VRFEVRFEVRMowGFoqiKIqiKIqiZBgNLBRFURRFURRFyTAaWCiKoiiKoiiKkmE0sFAURVEURVEUJcNoYKEoiqIoiqIoSobRwEJRFEVRFEVRlAyjgYWiKIqiKIqiKBlGAwtFURRFURRFUTKMBhaKoiiKoiiKomQYDSwURVEURVEURckwGlgoiqIoiqIoipJhNLBQFEVRFEVRFCXDaGChKIqiKIqiKEqG0cBCURRFURRFUZQMo4GFoiiKoiiKoigZRgMLRVEURVEURVEyjAYWiqIoiqIoiqJkGA0sFEVRFEVRFEXJMBpYKIqiKIqiKIqSYTSwUBRFURRFURQlQ3z88ccaWCiKoiiKoiiKkjEKFy6sgYWiKIqiKIqiKBmjSJEiGlgoiqIoiqIoipIxNLBQFEVRFEVRFCXDFCpUSAMLRVEURVEURVEyRoECBTSwUBRFURRFURQlY2hgoSiKoiiKoihKhsmbN68GFoqiKIqiKIqiZAwNLBRFURRFURRFyTC5c+fWwEJRFEVRFEVRlIyhgYWiKIqiKIqiKBkmR44cGlgoiqIoiqIoipIxcubMGQgs8ufPL23btpWyZcvaHkVRFEVRFEVRlOPDikWO7du3H1u/fr0sWLBALrroIjfAUBRFURRFURRFCebo0aOydetWyZMnj+TKlcvtI5YoU6aMCSwOHToku3fvdoMKog1FURRFURRFUZRQEFzky5cvUWBRtmxZ+T+u+hzWCShUQgAAAABJRU5ErkJggg==)"
      ]
    },
    {
      "cell_type": "markdown",
      "metadata": {
        "id": "d9DLxqCcnYIE"
      },
      "source": [
        "**PROGRAM:**"
      ]
    },
    {
      "cell_type": "code",
      "metadata": {
        "id": "7DwDJsWcsvm3"
      },
      "source": [
        "import turtle\n",
        "turtle.pensize(5)\n",
        "\n",
        "for i in range(36):\n",
        "    for j in range(4):\n",
        "        turtle.forward(100)\n",
        "        turtle.left(90)\n",
        "    turtle.left(10)"
      ],
      "execution_count": null,
      "outputs": []
    },
    {
      "cell_type": "markdown",
      "metadata": {
        "id": "dayuTrpnsuEh"
      },
      "source": [
        "**Output**"
      ]
    },
    {
      "cell_type": "markdown",
      "metadata": {
        "id": "z2qMFzGjSkYs"
      },
      "source": [
        "![Screenshot (37).png](data:image/png;base64,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)"
      ]
    },
    {
      "cell_type": "markdown",
      "metadata": {
        "id": "BPkNOpROHieU"
      },
      "source": [
        "# **Exercise - 15 - Testing**"
      ]
    },
    {
      "cell_type": "markdown",
      "metadata": {
        "id": "Y_bhDMh3S2JX"
      },
      "source": [
        "**a) Write a test-case to check the function even numbers which return True on passing a list of all even numbers**"
      ]
    },
    {
      "cell_type": "markdown",
      "metadata": {
        "id": "JM4YdKueoIfn"
      },
      "source": [
        "**AIM:**"
      ]
    },
    {
      "cell_type": "markdown",
      "metadata": {
        "id": "aoPE__GuHwHL"
      },
      "source": [
        " Write a test-case to check the function even numbers which return True on passing a list of all even numbers"
      ]
    },
    {
      "cell_type": "markdown",
      "metadata": {
        "id": "itrTr02eoLaG"
      },
      "source": [
        "**DESCRIPTION:**\n",
        "\n",
        "TestCase is used to create test cases by subclassing it. The last block of the code at the bottom allows us to run all the tests just by running the file. Basic terms used in the code : assertEqual() – This statement is used to check if the result obtained is equal to the expected result\n",
        "\n",
        "**test case:**\n",
        "\n",
        "A test case is a set of conditions which is used to determine whether a system under test works correctly."
      ]
    },
    {
      "cell_type": "markdown",
      "metadata": {
        "id": "DpwL7LKWpTAQ"
      },
      "source": [
        "**PROGRAM:**"
      ]
    },
    {
      "cell_type": "code",
      "metadata": {
        "colab": {
          "base_uri": "https://localhost:8080/"
        },
        "id": "EM69MRLOHyMQ",
        "outputId": "24a13ea4-a368-4ba1-e765-383ca88d7d1e"
      },
      "source": [
        "def evnNo(num):\n",
        "    state=True\n",
        "\n",
        "    for i in num:\n",
        "        if i%2==1:\n",
        "            state=False\n",
        "            break\n",
        "    return state\n",
        "\n",
        "numbers=[]\n",
        "print(\"Enter the FIVE numbers\")\n",
        "for i in range(0,5):\n",
        "    numbers.append(int(input(\"Enter a value: \")))\n",
        "print(evnNo(numbers))\n"
      ],
      "execution_count": null,
      "outputs": [
        {
          "output_type": "stream",
          "text": [
            "Enter the FIVE numbers\n",
            "Enter a value: 10\n",
            "Enter a value: 20\n",
            "Enter a value: 30\n",
            "Enter a value: 40\n",
            "Enter a value: 50\n",
            "True\n"
          ],
          "name": "stdout"
        }
      ]
    },
    {
      "cell_type": "markdown",
      "metadata": {
        "id": "ow7Hu968yaeN"
      },
      "source": [
        "**AIM:**"
      ]
    },
    {
      "cell_type": "markdown",
      "metadata": {
        "id": "AIgoNaI5Jxkh"
      },
      "source": [
        "**b) Write a test-case to check the function reverse string which returns the reversed string**"
      ]
    },
    {
      "cell_type": "markdown",
      "metadata": {
        "id": "DJ0kqiiIqeTP"
      },
      "source": [
        "**DESCRIPTION:**\n",
        "\n",
        "Python string library does’nt support the in-built “reverse()” as done by other python containers like list, hence knowing other methods to reverse string can prove to be useful. This article discusses several ways to achieve it.\n",
        "\n",
        "The reversed() returns the reversed iterator of the given string and then its elements are joined empty string separated using join(). And reversed order string is formed."
      ]
    },
    {
      "cell_type": "markdown",
      "metadata": {
        "id": "UUe2kAM0qwR4"
      },
      "source": [
        "**PROGRAM:**"
      ]
    },
    {
      "cell_type": "code",
      "metadata": {
        "colab": {
          "base_uri": "https://localhost:8080/"
        },
        "id": "6lEsv72QHrlD",
        "outputId": "2953bf87-b6c4-439f-e6c4-79483b0c73a0"
      },
      "source": [
        "def rev_str(st):\n",
        "    return st[::-1]\n",
        "\n",
        "st=\"Poojitha\"\n",
        "print(\"Given String is: \",st)\n",
        "\n",
        "print(\"Reverse is: \",rev_str(st))"
      ],
      "execution_count": null,
      "outputs": [
        {
          "output_type": "stream",
          "text": [
            "Given String is:  Poojitha\n",
            "Reverse is:  ahtijooP\n"
          ],
          "name": "stdout"
        }
      ]
    },
    {
      "cell_type": "markdown",
      "metadata": {
        "id": "V4gf7AdJLNz5"
      },
      "source": [
        "# **Exercise - 16 - Advanced**"
      ]
    },
    {
      "cell_type": "markdown",
      "metadata": {
        "id": "QhnDwP6WTQSV"
      },
      "source": [
        "**a) Build any one classical data structure.**"
      ]
    },
    {
      "cell_type": "markdown",
      "metadata": {
        "id": "Y3P8McidsUTy"
      },
      "source": [
        "**AIM:**"
      ]
    },
    {
      "cell_type": "markdown",
      "metadata": {
        "id": "-M7ScFtMLXZJ"
      },
      "source": [
        "Build any one classical data structure."
      ]
    },
    {
      "cell_type": "markdown",
      "metadata": {
        "id": "PGTQcBQtsXFV"
      },
      "source": [
        "**DESCRIPTION:**\n",
        "\n",
        "**What is a Data Structure?** \n",
        "\n",
        "Organizing, managing and storing data is important as it enables easier access and efficient modifications. Data Structures allows you to organize your data in such a way that enables you to store collections of data, relate them and perform operations on them accordingly. \n",
        "\n",
        "**Stack**\n",
        "Stacks are linear Data Structures which are based on the principle of Last-In-First-Out (LIFO) where data which is entered last will be the first to get accessed. It is built using the array structure and has operations namely, pushing (adding) elements, popping (deleting) elements and accessing elements only from one point in the stack called as the TOP. This TOP is the pointer to the current position of the stack. Stacks are prominently used in applications such as Recursive Programming, reversing words, undo mechanisms in word editors and so forth."
      ]
    },
    {
      "cell_type": "code",
      "metadata": {
        "colab": {
          "base_uri": "https://localhost:8080/",
          "height": 915
        },
        "id": "u99qVkGQLeNx",
        "outputId": "5ca3350f-783a-4067-b146-66342adf0676"
      },
      "source": [
        "import sys\n",
        "a=[]\n",
        "\n",
        "while True:\n",
        "    print(\"\\n1.PUSH 2.POP 3.DISPLAY 4.EXIT\")\n",
        "    ch=int(input(\"Enter Your Choice:\"))\n",
        "    if ch==1:\n",
        "        ele=int(input(\"Enter Element: \"))\n",
        "        a.append(ele)\n",
        "        print(\"Inserted\")\n",
        "    elif ch==2:\n",
        "        if len(a)==0:\n",
        "            print(\"\\t STACK IS EMPTY\")\n",
        "        else:\n",
        "            print(\"Deleted element is:\",a[len(a)-1])\n",
        "            a.remove(a[len(a)-1])\n",
        "    elif ch==3:\n",
        "        if len(a)==0:\n",
        "            print(\"\\tSTACK IS EMPTY\")\n",
        "        else:\n",
        "            print(\"\\t The Elements in Stack is: \")\n",
        "            for i in reversed(a):\n",
        "                print(i)\n",
        "    elif ch==4:\n",
        "        sys.exit()\n",
        "    else:\n",
        "        print(\"\\tINVALID CHOICE\")\n"
      ],
      "execution_count": null,
      "outputs": [
        {
          "output_type": "stream",
          "text": [
            "\n",
            "1.PUSH 2.POP 3.DISPLAY 4.EXIT\n",
            "Enter Your Choice:1\n",
            "Enter Element: 5\n",
            "Inserted\n",
            "\n",
            "1.PUSH 2.POP 3.DISPLAY 4.EXIT\n",
            "Enter Your Choice:1\n",
            "Enter Element: 10\n",
            "Inserted\n",
            "\n",
            "1.PUSH 2.POP 3.DISPLAY 4.EXIT\n",
            "Enter Your Choice:1\n",
            "Enter Element: 16\n",
            "Inserted\n",
            "\n",
            "1.PUSH 2.POP 3.DISPLAY 4.EXIT\n",
            "Enter Your Choice:1\n",
            "Enter Element: 4\n",
            "Inserted\n",
            "\n",
            "1.PUSH 2.POP 3.DISPLAY 4.EXIT\n",
            "Enter Your Choice:3\n",
            "\t The Elements in Stack is: \n",
            "4\n",
            "16\n",
            "10\n",
            "5\n",
            "\n",
            "1.PUSH 2.POP 3.DISPLAY 4.EXIT\n",
            "Enter Your Choice:2\n",
            "Deleted element is: 4\n",
            "\n",
            "1.PUSH 2.POP 3.DISPLAY 4.EXIT\n",
            "Enter Your Choice:2\n",
            "Deleted element is: 16\n",
            "\n",
            "1.PUSH 2.POP 3.DISPLAY 4.EXIT\n",
            "Enter Your Choice:3\n",
            "\t The Elements in Stack is: \n",
            "10\n",
            "5\n",
            "\n",
            "1.PUSH 2.POP 3.DISPLAY 4.EXIT\n",
            "Enter Your Choice:4\n"
          ],
          "name": "stdout"
        },
        {
          "output_type": "error",
          "ename": "SystemExit",
          "evalue": "ignored",
          "traceback": [
            "An exception has occurred, use %tb to see the full traceback.\n",
            "\u001b[0;31mSystemExit\u001b[0m\n"
          ]
        },
        {
          "output_type": "stream",
          "text": [
            "/usr/local/lib/python3.7/dist-packages/IPython/core/interactiveshell.py:2890: UserWarning: To exit: use 'exit', 'quit', or Ctrl-D.\n",
            "  warn(\"To exit: use 'exit', 'quit', or Ctrl-D.\", stacklevel=1)\n"
          ],
          "name": "stderr"
        }
      ]
    },
    {
      "cell_type": "markdown",
      "metadata": {
        "id": "Fn_JSmo3TZx6"
      },
      "source": [
        "**b) Write a program to solve knapsack problem**\n",
        "\n"
      ]
    },
    {
      "cell_type": "markdown",
      "metadata": {
        "id": "NWFUTquMtHT3"
      },
      "source": [
        "**AIM:**"
      ]
    },
    {
      "cell_type": "markdown",
      "metadata": {
        "id": "rkVCjPAiPuvp"
      },
      "source": [
        "Write a program to solve knapsack problem"
      ]
    },
    {
      "cell_type": "markdown",
      "metadata": {
        "id": "vaYvLbR0tQgV"
      },
      "source": [
        "**DESCRIPTION:**\n",
        "\n",
        "Python Program for 0-1 Knapsack Problem\n",
        "\n",
        "Problem statement − We are given weights and values of n items, we need to put these items in a bag of capacity W up to the maximum capacity w. We need to carry a maximum number of items and return its value.\n",
        "\n",
        " Brute-force approach.\n",
        "\n",
        "dynamic approach."
      ]
    },
    {
      "cell_type": "markdown",
      "metadata": {
        "id": "9QmvgpxItKAJ"
      },
      "source": [
        "**PROGRAM:**"
      ]
    },
    {
      "cell_type": "code",
      "metadata": {
        "colab": {
          "base_uri": "https://localhost:8080/"
        },
        "id": "mCK9UoNNP35k",
        "outputId": "1b1c3f07-555d-4b22-90c7-cfc9eaf4002d"
      },
      "source": [
        "def knapSack(W,wt,val,n):\n",
        "    K=[[0 for x in range(W+1)] for x in range(n+1)]\n",
        "    for i in range(n+1):\n",
        "        for w in range(W+1):\n",
        "            if i==0 or w==0:\n",
        "                K[i][w]=0\n",
        "            elif wt[i-1]<=w:\n",
        "                K[i][w]=max(val[i-1]+K[i-1][w-wt[i-1]],K[i-1][w])\n",
        "            else:\n",
        "                K[i][w]=K[i-1][w]\n",
        "    return K[n][W]\n",
        "val=[5,3,4]\n",
        "wt=[3,2,1]\n",
        "W=5\n",
        "n=len(val)\n",
        "print(\"Maximum value knapsack of capacity W: \",knapSack(W,wt,val,n))"
      ],
      "execution_count": null,
      "outputs": [
        {
          "output_type": "stream",
          "text": [
            "Maximum value knapsack of capacity W:  9\n"
          ],
          "name": "stdout"
        }
      ]
    },
    {
      "cell_type": "markdown",
      "metadata": {
        "id": "cz7tUzy8UR8r"
      },
      "source": [
        "# **Exercise - 17&18–Data Analysis**"
      ]
    },
    {
      "cell_type": "markdown",
      "metadata": {
        "id": "6qUuFgDYt_Sg"
      },
      "source": [
        "**AIM:**"
      ]
    },
    {
      "cell_type": "markdown",
      "metadata": {
        "id": "HyQp2kI3VxQ1"
      },
      "source": [
        "1. Data analysis or manipulation using the following packages                                                                        \n",
        "a) Numpy b) Pandas\n",
        " a) Scipy b) matplotlib"
      ]
    },
    {
      "cell_type": "markdown",
      "metadata": {
        "id": "JVtFWdWOuCmu"
      },
      "source": [
        "**DESCRIPTION:**\n",
        "\n",
        "Learn how to analyze data using Python. ... It includes following parts: Data Analysis libraries: will learn to use Pandas, Numpy and Scipy libraries to work with a sample dataset. We will introduce you to pandas, an open-source library, and we will use it to load, manipulate, analyze, and visualize cool datasets.\n",
        "\n",
        "**SciPy** is a free and open-source Python library used for scientific computing and technical computing. It is a collection of mathematical algorithms and convenience functions built on the NumPy extension of Python\n",
        "\n",
        "**NumPy** is the fundamental package for scientific computing in Python. ... NumPy arrays facilitate advanced mathematical and other types of operations on large numbers of data.\n",
        "\n",
        "**Matplotlib** is a plotting library for the Python programming language and its numerical mathematics extension NumPy. It provides an object-oriented API for embedding plots into applications using general-purpose GUI toolkits like Tkinter, wxPython, Qt, or GTK\n",
        "\n",
        "**Pandas** is an open source Python package that is most widely used for data science/data analysis and machine learning tasks. It is built on top of another package named Numpy, which provides support for multi-dimensional arrays.\n",
        "\n",
        "**Scikit-learn** is probably the most useful library for machine learning in Python. The sklearn library contains a lot of efficient tools for machine learning and statistical modeling including classification, regression, clustering and dimensionality reduction.\n",
        "\n",
        "**Seaborn** is a library in Python predominantly used for making statistical graphics. Seaborn is a data visualization library built on top of matplotlib and closely integrated with pandas data structures in Python\n",
        "\n"
      ]
    },
    {
      "cell_type": "markdown",
      "metadata": {
        "id": "TyOLRBZ_vIVl"
      },
      "source": [
        "**PROGRAM:**"
      ]
    },
    {
      "cell_type": "code",
      "metadata": {
        "colab": {
          "base_uri": "https://localhost:8080/"
        },
        "id": "HflXFPQQWHJq",
        "outputId": "9fc24c4c-3e12-4f91-e15e-c8e60845986f"
      },
      "source": [
        "#Phython version\n",
        "import sys\n",
        "print('Python: {}'.format(sys.version))\n",
        "\n",
        "#scipy\n",
        "import scipy\n",
        "print('scipy: {}'.format(scipy.__version__))\n",
        "\n",
        "#numpy\n",
        "import numpy\n",
        "print('numpy: {}'.format(numpy.__version__))\n",
        "\n",
        "#matplotib\n",
        "import matplotlib\n",
        "print('matplotib: {}'.format(matplotlib.__version__))\n",
        "\n",
        "#pandas\n",
        "import pandas\n",
        "print('pandas: {}'.format(pandas.__version__))\n",
        "\n",
        "#scikit-learn\n",
        "import sklearn\n",
        "print('sklearn: {}'.format(sklearn.__version__))\n",
        "\n",
        "#seaborn\n",
        "import seaborn\n",
        "print('seaborn: {}'.format(seaborn.__version__))\n",
        "import urllib\n",
        "print('urlib: {}'.format(urllib.__name__))\n",
        "import csv\n",
        "print('csv: {}'.format(csv.__version__))\n"
      ],
      "execution_count": null,
      "outputs": [
        {
          "output_type": "stream",
          "text": [
            "Python: 3.7.11 (default, Jul  3 2021, 18:01:19) \n",
            "[GCC 7.5.0]\n",
            "scipy: 1.4.1\n",
            "numpy: 1.19.5\n",
            "matplotib: 3.2.2\n",
            "pandas: 1.1.5\n",
            "sklearn: 0.22.2.post1\n",
            "seaborn: 0.11.1\n",
            "urlib: urllib\n",
            "csv: 1.0\n"
          ],
          "name": "stdout"
        }
      ]
    },
    {
      "cell_type": "markdown",
      "metadata": {
        "id": "1PPdNvVGXeyS"
      },
      "source": [
        "# **NumPy**"
      ]
    },
    {
      "cell_type": "code",
      "metadata": {
        "colab": {
          "base_uri": "https://localhost:8080/"
        },
        "id": "DNivmfT0XiV4",
        "outputId": "e91386de-7484-4621-ae89-daf4084ad20e"
      },
      "source": [
        "import numpy as np\n",
        "a=np.array([0,1,2])\n",
        "print(type(a))\n",
        "print(a.shape)\n",
        "print(a[0])\n",
        "print(a[1])\n",
        "print(a[2])\n",
        "a[0]=5\n",
        "print(a)\n"
      ],
      "execution_count": null,
      "outputs": [
        {
          "output_type": "stream",
          "text": [
            "<class 'numpy.ndarray'>\n",
            "(3,)\n",
            "0\n",
            "1\n",
            "2\n",
            "[5 1 2]\n"
          ],
          "name": "stdout"
        }
      ]
    },
    {
      "cell_type": "code",
      "metadata": {
        "colab": {
          "base_uri": "https://localhost:8080/"
        },
        "id": "pSQkPslEXy40",
        "outputId": "57899e46-3c7d-42a5-9e70-b45ddca827e5"
      },
      "source": [
        "import numpy as np\n",
        "b=np.array([[0,1,2],[3,4,5]])\n",
        "print(b.shape)\n",
        "print(b)\n",
        "print(b[0,0],b[0,1],b[1,0])\n"
      ],
      "execution_count": null,
      "outputs": [
        {
          "output_type": "stream",
          "text": [
            "(2, 3)\n",
            "[[0 1 2]\n",
            " [3 4 5]]\n",
            "0 1 3\n"
          ],
          "name": "stdout"
        }
      ]
    },
    {
      "cell_type": "code",
      "metadata": {
        "colab": {
          "base_uri": "https://localhost:8080/"
        },
        "id": "2wj95CoLes1Q",
        "outputId": "ada64ecd-e5ab-47dd-db0f-0dae80c12ea1"
      },
      "source": [
        "import numpy as np\n",
        "a=np.zeros((3,3))\n",
        "print(a)"
      ],
      "execution_count": null,
      "outputs": [
        {
          "output_type": "stream",
          "text": [
            "[[0. 0. 0.]\n",
            " [0. 0. 0.]\n",
            " [0. 0. 0.]]\n"
          ],
          "name": "stdout"
        }
      ]
    },
    {
      "cell_type": "code",
      "metadata": {
        "id": "Kg_oaAyTgF1P",
        "colab": {
          "base_uri": "https://localhost:8080/"
        },
        "outputId": "75eef61d-b1ed-4342-b9ec-af4a86cbd729"
      },
      "source": [
        "import numpy as np\n",
        "b=np.ones((2,2))\n",
        "print(b)"
      ],
      "execution_count": null,
      "outputs": [
        {
          "output_type": "stream",
          "text": [
            "[[1. 1.]\n",
            " [1. 1.]]\n"
          ],
          "name": "stdout"
        }
      ]
    },
    {
      "cell_type": "code",
      "metadata": {
        "colab": {
          "base_uri": "https://localhost:8080/"
        },
        "id": "ojAnQeGEbwCq",
        "outputId": "d4d33aa1-af77-411a-a92c-90d30579c622"
      },
      "source": [
        "import numpy as np\n",
        "c=np.full((3,3),7)\n",
        "print(c)"
      ],
      "execution_count": null,
      "outputs": [
        {
          "output_type": "stream",
          "text": [
            "[[7 7 7]\n",
            " [7 7 7]\n",
            " [7 7 7]]\n"
          ],
          "name": "stdout"
        }
      ]
    },
    {
      "cell_type": "code",
      "metadata": {
        "colab": {
          "base_uri": "https://localhost:8080/"
        },
        "id": "1jIBn5M-b84B",
        "outputId": "b79e077d-22d3-4afd-b981-063ead684d16"
      },
      "source": [
        "import numpy as np\n",
        "d=np.random.random((3,3))\n",
        "print(d)"
      ],
      "execution_count": null,
      "outputs": [
        {
          "output_type": "stream",
          "text": [
            "[[0.81016965 0.93708625 0.64555727]\n",
            " [0.69457725 0.87169481 0.89364639]\n",
            " [0.10066267 0.41921179 0.16202094]]\n"
          ],
          "name": "stdout"
        }
      ]
    },
    {
      "cell_type": "code",
      "metadata": {
        "colab": {
          "base_uri": "https://localhost:8080/"
        },
        "id": "zeZQWW9QcVR5",
        "outputId": "b8a74b88-7b90-4b35-f154-cff6c74bc3f5"
      },
      "source": [
        "import numpy as np\n",
        "e=np.eye(3)\n",
        "print(e)"
      ],
      "execution_count": null,
      "outputs": [
        {
          "output_type": "stream",
          "text": [
            "[[1. 0. 0.]\n",
            " [0. 1. 0.]\n",
            " [0. 0. 1.]]\n"
          ],
          "name": "stdout"
        }
      ]
    },
    {
      "cell_type": "code",
      "metadata": {
        "colab": {
          "base_uri": "https://localhost:8080/"
        },
        "id": "bFVsHnBFcw7-",
        "outputId": "0fc72c2a-c5ee-49ca-b3de-509050b89ea9"
      },
      "source": [
        "import numpy as np\n",
        "f=np.array([2,3,1,0])\n",
        "print(f)"
      ],
      "execution_count": null,
      "outputs": [
        {
          "output_type": "stream",
          "text": [
            "[2 3 1 0]\n"
          ],
          "name": "stdout"
        }
      ]
    },
    {
      "cell_type": "code",
      "metadata": {
        "colab": {
          "base_uri": "https://localhost:8080/"
        },
        "id": "YhjXoP3cdKJj",
        "outputId": "98b21f09-9950-43c8-a901-c2ec37c613dc"
      },
      "source": [
        "import numpy as np\n",
        "g=np.arange(2,10)\n",
        "print(g)"
      ],
      "execution_count": null,
      "outputs": [
        {
          "output_type": "stream",
          "text": [
            "[2 3 4 5 6 7 8 9]\n"
          ],
          "name": "stdout"
        }
      ]
    },
    {
      "cell_type": "code",
      "metadata": {
        "colab": {
          "base_uri": "https://localhost:8080/"
        },
        "id": "F8yQ38eyd3wv",
        "outputId": "af8fa383-1c2c-421a-a04e-b29e50e18bf5"
      },
      "source": [
        "import numpy as np\n",
        "h=np.array([[0,1,2.0],[0,0,0],(1+1j,3.,2.)])\n",
        "print(h)"
      ],
      "execution_count": null,
      "outputs": [
        {
          "output_type": "stream",
          "text": [
            "[[0.+0.j 1.+0.j 2.+0.j]\n",
            " [0.+0.j 0.+0.j 0.+0.j]\n",
            " [1.+1.j 3.+0.j 2.+0.j]]\n"
          ],
          "name": "stdout"
        }
      ]
    },
    {
      "cell_type": "code",
      "metadata": {
        "colab": {
          "base_uri": "https://localhost:8080/"
        },
        "id": "AucvgfxCe9s9",
        "outputId": "3bab27f6-40d0-4d80-d2e0-0d2abe56686a"
      },
      "source": [
        "import numpy as np\n",
        "i=np.arange(1,8,dtype=np.float)\n",
        "print(i)"
      ],
      "execution_count": null,
      "outputs": [
        {
          "output_type": "stream",
          "text": [
            "[1. 2. 3. 4. 5. 6. 7.]\n"
          ],
          "name": "stdout"
        }
      ]
    },
    {
      "cell_type": "code",
      "metadata": {
        "colab": {
          "base_uri": "https://localhost:8080/"
        },
        "id": "KYLdBOoKf3en",
        "outputId": "f5cec593-0380-4b3c-fb1b-10b9bd747022"
      },
      "source": [
        "import numpy as np\n",
        "j=np.linspace(2.,4., 5)\n",
        "print(j)"
      ],
      "execution_count": null,
      "outputs": [
        {
          "output_type": "stream",
          "text": [
            "[2.  2.5 3.  3.5 4. ]\n"
          ],
          "name": "stdout"
        }
      ]
    },
    {
      "cell_type": "code",
      "metadata": {
        "colab": {
          "base_uri": "https://localhost:8080/"
        },
        "id": "qO8E056XgfOt",
        "outputId": "826965e8-bba7-4db2-88ea-b9c5c7d4ae79"
      },
      "source": [
        "import numpy as np\n",
        "k=np.indices((3,3))\n",
        "print(k)"
      ],
      "execution_count": null,
      "outputs": [
        {
          "output_type": "stream",
          "text": [
            "[[[0 0 0]\n",
            "  [1 1 1]\n",
            "  [2 2 2]]\n",
            "\n",
            " [[0 1 2]\n",
            "  [0 1 2]\n",
            "  [0 1 2]]]\n"
          ],
          "name": "stdout"
        }
      ]
    },
    {
      "cell_type": "code",
      "metadata": {
        "colab": {
          "base_uri": "https://localhost:8080/"
        },
        "id": "SmetmtqQi6iV",
        "outputId": "ad0cdd8e-f426-43f1-af87-b4ec7273d9d4"
      },
      "source": [
        "import numpy as np\n",
        "x=np.array([0,1])\n",
        "y=np.array([2.0,3.0])\n",
        "z=np.array([5,6], dtype=np.int64)\n",
        "print(x.dtype,y.dtype,z.dtype)"
      ],
      "execution_count": null,
      "outputs": [
        {
          "output_type": "stream",
          "text": [
            "int64 float64 int64\n"
          ],
          "name": "stdout"
        }
      ]
    },
    {
      "cell_type": "code",
      "metadata": {
        "colab": {
          "base_uri": "https://localhost:8080/"
        },
        "id": "rQQpCEzLjAv9",
        "outputId": "6ef23db1-5a8b-4581-d3a2-03e4666003a8"
      },
      "source": [
        "import numpy as np\n",
        "x=np.array([5,6,7,8,9])\n",
        "print(x[1:7:2])\n",
        "print(x[-2:5])\n",
        "print(x[-1:1:-1])"
      ],
      "execution_count": null,
      "outputs": [
        {
          "output_type": "stream",
          "text": [
            "[6 8]\n",
            "[8 9]\n",
            "[9 8 7]\n"
          ],
          "name": "stdout"
        }
      ]
    },
    {
      "cell_type": "code",
      "metadata": {
        "id": "s_WIipRyknn5",
        "colab": {
          "base_uri": "https://localhost:8080/"
        },
        "outputId": "35142b0f-dda5-4735-c2dc-45f0be7fc9e4"
      },
      "source": [
        "import numpy as np\n",
        "a=np.array([[1,2],[3,4],[5,6]])\n",
        "print(a>2)\n",
        "print(a[a>2])"
      ],
      "execution_count": null,
      "outputs": [
        {
          "output_type": "stream",
          "text": [
            "[[False False]\n",
            " [ True  True]\n",
            " [ True  True]]\n",
            "[3 4 5 6]\n"
          ],
          "name": "stdout"
        }
      ]
    },
    {
      "cell_type": "code",
      "metadata": {
        "colab": {
          "base_uri": "https://localhost:8080/"
        },
        "id": "ZHkzumljnjZv",
        "outputId": "3b646a70-eb17-417d-c992-ba28a24b83e2"
      },
      "source": [
        "import numpy as np\n",
        "x=np.array([[1,2],[3,4],[5,6]])\n",
        "y=np.array([[7,8],[9,10],[11,12]])\n",
        "print(x+y)\n",
        "print(np.add(x,y))\n",
        "print(x-y)\n",
        "print(np.subtract(x,y))"
      ],
      "execution_count": null,
      "outputs": [
        {
          "output_type": "stream",
          "text": [
            "[[ 8 10]\n",
            " [12 14]\n",
            " [16 18]]\n",
            "[[ 8 10]\n",
            " [12 14]\n",
            " [16 18]]\n",
            "[[-6 -6]\n",
            " [-6 -6]\n",
            " [-6 -6]]\n",
            "[[-6 -6]\n",
            " [-6 -6]\n",
            " [-6 -6]]\n"
          ],
          "name": "stdout"
        }
      ]
    },
    {
      "cell_type": "code",
      "metadata": {
        "colab": {
          "base_uri": "https://localhost:8080/"
        },
        "id": "Bj-6fz1dokrK",
        "outputId": "04339c1a-817b-4bbb-e82d-ca0a1ea22a7a"
      },
      "source": [
        "import numpy as np\n",
        "x=np.array([[1,2],[3,4],[5,6]])\n",
        "y=np.array([[7,8],[9,10],[11,12]])\n",
        "print(np.multiply(x,y))\n",
        "print(x*y)"
      ],
      "execution_count": null,
      "outputs": [
        {
          "output_type": "stream",
          "text": [
            "[[ 7 16]\n",
            " [27 40]\n",
            " [55 72]]\n",
            "[[ 7 16]\n",
            " [27 40]\n",
            " [55 72]]\n"
          ],
          "name": "stdout"
        }
      ]
    },
    {
      "cell_type": "code",
      "metadata": {
        "colab": {
          "base_uri": "https://localhost:8080/"
        },
        "id": "uygaUiUBrvmX",
        "outputId": "34e7a6f6-c414-46a3-84c9-ddc03bb23f3a"
      },
      "source": [
        "import numpy as np\n",
        "x=np.array([[1,2],[3,4],[5,6]])\n",
        "y=np.array([[7,8],[9,10],[11,12]])\n",
        "print(np.divide(x,y))\n",
        "print(x/y)"
      ],
      "execution_count": null,
      "outputs": [
        {
          "output_type": "stream",
          "text": [
            "[[0.14285714 0.25      ]\n",
            " [0.33333333 0.4       ]\n",
            " [0.45454545 0.5       ]]\n",
            "[[0.14285714 0.25      ]\n",
            " [0.33333333 0.4       ]\n",
            " [0.45454545 0.5       ]]\n"
          ],
          "name": "stdout"
        }
      ]
    },
    {
      "cell_type": "code",
      "metadata": {
        "colab": {
          "base_uri": "https://localhost:8080/"
        },
        "id": "rK9NcXqosJuu",
        "outputId": "cb953018-69c8-4465-8b91-00f36301be16"
      },
      "source": [
        "import numpy as np\n",
        "x=np.array([[1,2],[3,4],[5,6]])\n",
        "print(np.sqrt(x))"
      ],
      "execution_count": null,
      "outputs": [
        {
          "output_type": "stream",
          "text": [
            "[[1.         1.41421356]\n",
            " [1.73205081 2.        ]\n",
            " [2.23606798 2.44948974]]\n"
          ],
          "name": "stdout"
        }
      ]
    },
    {
      "cell_type": "code",
      "metadata": {
        "colab": {
          "base_uri": "https://localhost:8080/"
        },
        "id": "MNlfHmQJuMJY",
        "outputId": "046aea0c-f61e-4183-aabc-960a0b18e846"
      },
      "source": [
        "import numpy as np\n",
        "a=np.array([9,10])\n",
        "b=np.array([11,12])\n",
        "print(a.dot(b))\n",
        "print(np.dot(a,b))"
      ],
      "execution_count": null,
      "outputs": [
        {
          "output_type": "stream",
          "text": [
            "219\n",
            "219\n"
          ],
          "name": "stdout"
        }
      ]
    },
    {
      "cell_type": "code",
      "metadata": {
        "colab": {
          "base_uri": "https://localhost:8080/"
        },
        "id": "9YD6ZPI4vLPY",
        "outputId": "12857239-a747-4cfb-908b-d0865a011171"
      },
      "source": [
        "import numpy as np\n",
        "a=np.array([9,10])\n",
        "x=np.array([[1,2],[3,4]])\n",
        "print(x.dot(a))\n",
        "print(np.dot(x,a))"
      ],
      "execution_count": null,
      "outputs": [
        {
          "output_type": "stream",
          "text": [
            "[29 67]\n",
            "[29 67]\n"
          ],
          "name": "stdout"
        }
      ]
    },
    {
      "cell_type": "code",
      "metadata": {
        "colab": {
          "base_uri": "https://localhost:8080/"
        },
        "id": "svvDisl-vwou",
        "outputId": "0d960729-461d-4cb4-ff71-5f1a9ef3e468"
      },
      "source": [
        "import numpy as np\n",
        "x=np.array([[1,2],[3,4]])\n",
        "y=np.array([[5,6],[7,8]])\n",
        "print(x.dot(y))\n",
        "print(np.dot(x,y))"
      ],
      "execution_count": null,
      "outputs": [
        {
          "output_type": "stream",
          "text": [
            "[[19 22]\n",
            " [43 50]]\n",
            "[[19 22]\n",
            " [43 50]]\n"
          ],
          "name": "stdout"
        }
      ]
    },
    {
      "cell_type": "code",
      "metadata": {
        "colab": {
          "base_uri": "https://localhost:8080/"
        },
        "id": "ts7C67kbxivl",
        "outputId": "36ef6817-8129-41b0-afec-83498426e0ad"
      },
      "source": [
        "import numpy as np\n",
        "x=np.array([[1,2],[3,4]])\n",
        "print(np.sum(x))\n",
        "print(np.sum(x,axis=0))\n",
        "print(np.sum(x,axis=1))"
      ],
      "execution_count": null,
      "outputs": [
        {
          "output_type": "stream",
          "text": [
            "10\n",
            "[4 6]\n",
            "[3 7]\n"
          ],
          "name": "stdout"
        }
      ]
    },
    {
      "cell_type": "code",
      "metadata": {
        "colab": {
          "base_uri": "https://localhost:8080/"
        },
        "id": "Rdd89C6Aya7C",
        "outputId": "35a1adf3-62d1-461c-8a5f-4e5c7d642cfd"
      },
      "source": [
        "import numpy as np\n",
        "x=np.array([[1,2],[3,4]])\n",
        "print(x)\n",
        "print(x.T)\n"
      ],
      "execution_count": null,
      "outputs": [
        {
          "output_type": "stream",
          "text": [
            "[[1 2]\n",
            " [3 4]]\n",
            "[[1 3]\n",
            " [2 4]]\n"
          ],
          "name": "stdout"
        }
      ]
    },
    {
      "cell_type": "code",
      "metadata": {
        "colab": {
          "base_uri": "https://localhost:8080/"
        },
        "id": "cQmMFDoEzeCh",
        "outputId": "d86567de-4a68-4be2-fe34-261d179ed716"
      },
      "source": [
        "import numpy as np\n",
        "v=np.array([1,2,3])\n",
        "print(v)\n",
        "print(v.T)"
      ],
      "execution_count": null,
      "outputs": [
        {
          "output_type": "stream",
          "text": [
            "[1 2 3]\n",
            "[1 2 3]\n"
          ],
          "name": "stdout"
        }
      ]
    },
    {
      "cell_type": "code",
      "metadata": {
        "colab": {
          "base_uri": "https://localhost:8080/"
        },
        "id": "98GCCldWziSN",
        "outputId": "a816de2a-9db8-42a7-821a-21879b4e69f0"
      },
      "source": [
        "import numpy as np\n",
        "a=np.array([[1,2,3],[4,5,6],[7,8,9]])\n",
        "v=np.array([1,0,1])\n",
        "b=a+v\n",
        "print(b)"
      ],
      "execution_count": null,
      "outputs": [
        {
          "output_type": "stream",
          "text": [
            "[[ 2  2  4]\n",
            " [ 5  5  7]\n",
            " [ 8  8 10]]\n"
          ],
          "name": "stdout"
        }
      ]
    },
    {
      "cell_type": "code",
      "metadata": {
        "colab": {
          "base_uri": "https://localhost:8080/"
        },
        "id": "H0tFfPWz0awF",
        "outputId": "bf978bf2-9965-4c01-e8d3-0bad34a2c3d4"
      },
      "source": [
        "import numpy as np\n",
        "x=np.array([[1,2,1],[3,4,1]])\n",
        "print(\"X.T:\\n\",x.T)\n",
        "w=np.array([1,1])\n",
        "print(\"W:\\n\",w)\n",
        "\n",
        "print(\"Final :\\n\",(x.T+w).T)"
      ],
      "execution_count": null,
      "outputs": [
        {
          "output_type": "stream",
          "text": [
            "X.T:\n",
            " [[1 3]\n",
            " [2 4]\n",
            " [1 1]]\n",
            "W:\n",
            " [1 1]\n",
            "Final :\n",
            " [[2 3 2]\n",
            " [4 5 2]]\n"
          ],
          "name": "stdout"
        }
      ]
    },
    {
      "cell_type": "code",
      "metadata": {
        "colab": {
          "base_uri": "https://localhost:8080/"
        },
        "id": "QqfEsXkU1rkW",
        "outputId": "fd7c26e7-d3db-4c00-ba42-6502dc27e36c"
      },
      "source": [
        "import numpy as np\n",
        "x=np.array([[1,2,1],[3,4,1]])\n",
        "print(x*2)"
      ],
      "execution_count": null,
      "outputs": [
        {
          "output_type": "stream",
          "text": [
            "[[2 4 2]\n",
            " [6 8 2]]\n"
          ],
          "name": "stdout"
        }
      ]
    },
    {
      "cell_type": "code",
      "metadata": {
        "id": "LbUx0zs42IP7",
        "colab": {
          "base_uri": "https://localhost:8080/"
        },
        "outputId": "6da4bb1a-f3b3-42d5-e235-8e7d4c4cd368"
      },
      "source": [
        "import numpy as np\n",
        "np.random.rand(3,2)"
      ],
      "execution_count": null,
      "outputs": [
        {
          "output_type": "execute_result",
          "data": {
            "text/plain": [
              "array([[0.10074037, 0.27068697],\n",
              "       [0.48588216, 0.77310637],\n",
              "       [0.5907359 , 0.25493591]])"
            ]
          },
          "metadata": {
            "tags": []
          },
          "execution_count": 2
        }
      ]
    },
    {
      "cell_type": "code",
      "metadata": {
        "colab": {
          "base_uri": "https://localhost:8080/"
        },
        "id": "DXEqHWCuLRyp",
        "outputId": "6614ba90-d3b2-47bf-f678-a4486ac392e7"
      },
      "source": [
        "import numpy as np\n",
        "np.random.rand(10)"
      ],
      "execution_count": null,
      "outputs": [
        {
          "output_type": "execute_result",
          "data": {
            "text/plain": [
              "array([0.18952105, 0.81924627, 0.98824282, 0.0406113 , 0.81100701,\n",
              "       0.24091875, 0.96118339, 0.87948378, 0.96721396, 0.09074509])"
            ]
          },
          "metadata": {
            "tags": []
          },
          "execution_count": 3
        }
      ]
    },
    {
      "cell_type": "code",
      "metadata": {
        "colab": {
          "base_uri": "https://localhost:8080/"
        },
        "id": "6NVSZzvbLYQh",
        "outputId": "b0ea5ae5-41e4-4b86-8f80-b5af841d8f66"
      },
      "source": [
        "import random\n",
        "print (random.randint(0,9))"
      ],
      "execution_count": null,
      "outputs": [
        {
          "output_type": "stream",
          "text": [
            "8\n"
          ],
          "name": "stdout"
        }
      ]
    },
    {
      "cell_type": "markdown",
      "metadata": {
        "id": "hzae-LlSL84b"
      },
      "source": [
        "# **Pandas**"
      ]
    },
    {
      "cell_type": "markdown",
      "metadata": {
        "id": "oPwBdeP4NQAf"
      },
      "source": [
        "# **1.Creating Series**"
      ]
    },
    {
      "cell_type": "code",
      "metadata": {
        "colab": {
          "base_uri": "https://localhost:8080/"
        },
        "id": "LngRehnwMC52",
        "outputId": "35101d6e-135c-41a8-8e91-e02a4737a657"
      },
      "source": [
        "import pandas as pd\n",
        "s=pd.Series([1,2,3,4,5],index=['A','B','C','D','E'])\n",
        "s"
      ],
      "execution_count": null,
      "outputs": [
        {
          "output_type": "execute_result",
          "data": {
            "text/plain": [
              "A    1\n",
              "B    2\n",
              "C    3\n",
              "D    4\n",
              "E    5\n",
              "dtype: int64"
            ]
          },
          "metadata": {
            "tags": []
          },
          "execution_count": 23
        }
      ]
    },
    {
      "cell_type": "markdown",
      "metadata": {
        "id": "ubWvGx80NYFz"
      },
      "source": [
        "# **2.Data Frames**"
      ]
    },
    {
      "cell_type": "code",
      "metadata": {
        "colab": {
          "base_uri": "https://localhost:8080/"
        },
        "id": "u62_zmLnNIKg",
        "outputId": "2880b716-1a7e-4b7d-ee54-b21fd76e9f0c"
      },
      "source": [
        "import pandas as pd\n",
        "data={'Gen':['F','M','M'],'EiD':['E01','E02','E03'],'Age':[25,45,38]}\n",
        "\n",
        "df=pd.DataFrame(data,columns=['EiD','Age','Gen'])\n",
        "print(df)"
      ],
      "execution_count": null,
      "outputs": [
        {
          "output_type": "stream",
          "text": [
            "   EiD  Age Gen\n",
            "0  E01   25   F\n",
            "1  E02   45   M\n",
            "2  E03   38   M\n"
          ],
          "name": "stdout"
        }
      ]
    },
    {
      "cell_type": "code",
      "metadata": {
        "colab": {
          "base_uri": "https://localhost:8080/"
        },
        "id": "ZK_4BvemiaOX",
        "outputId": "0d319b0f-a52a-4266-d0cf-891652edc2f7"
      },
      "source": [
        "import pandas as pd\n",
        "from numpy import loadtxt\n",
        "from urllib.request import urlopen\n",
        "\n",
        "url='https://raw.githubusercontent.com/jbrownlee/datasets/master/pima-indians-diabetes.data.csv'\n",
        "\n",
        "raw_data=pd.read_csv(urlopen(url))\n",
        "raw_data.shape\n"
      ],
      "execution_count": null,
      "outputs": [
        {
          "output_type": "execute_result",
          "data": {
            "text/plain": [
              "(767, 9)"
            ]
          },
          "metadata": {
            "tags": []
          },
          "execution_count": 44
        }
      ]
    },
    {
      "cell_type": "code",
      "metadata": {
        "colab": {
          "base_uri": "https://localhost:8080/",
          "height": 204
        },
        "id": "ZkJkvFoKiohd",
        "outputId": "f24661bd-4b25-4004-c9f5-6d23cb957296"
      },
      "source": [
        "raw_data.head()"
      ],
      "execution_count": null,
      "outputs": [
        {
          "output_type": "execute_result",
          "data": {
            "text/html": [
              "<div>\n",
              "<style scoped>\n",
              "    .dataframe tbody tr th:only-of-type {\n",
              "        vertical-align: middle;\n",
              "    }\n",
              "\n",
              "    .dataframe tbody tr th {\n",
              "        vertical-align: top;\n",
              "    }\n",
              "\n",
              "    .dataframe thead th {\n",
              "        text-align: right;\n",
              "    }\n",
              "</style>\n",
              "<table border=\"1\" class=\"dataframe\">\n",
              "  <thead>\n",
              "    <tr style=\"text-align: right;\">\n",
              "      <th></th>\n",
              "      <th>6</th>\n",
              "      <th>148</th>\n",
              "      <th>72</th>\n",
              "      <th>35</th>\n",
              "      <th>0</th>\n",
              "      <th>33.6</th>\n",
              "      <th>0.627</th>\n",
              "      <th>50</th>\n",
              "      <th>1</th>\n",
              "    </tr>\n",
              "  </thead>\n",
              "  <tbody>\n",
              "    <tr>\n",
              "      <th>0</th>\n",
              "      <td>1</td>\n",
              "      <td>85</td>\n",
              "      <td>66</td>\n",
              "      <td>29</td>\n",
              "      <td>0</td>\n",
              "      <td>26.6</td>\n",
              "      <td>0.351</td>\n",
              "      <td>31</td>\n",
              "      <td>0</td>\n",
              "    </tr>\n",
              "    <tr>\n",
              "      <th>1</th>\n",
              "      <td>8</td>\n",
              "      <td>183</td>\n",
              "      <td>64</td>\n",
              "      <td>0</td>\n",
              "      <td>0</td>\n",
              "      <td>23.3</td>\n",
              "      <td>0.672</td>\n",
              "      <td>32</td>\n",
              "      <td>1</td>\n",
              "    </tr>\n",
              "    <tr>\n",
              "      <th>2</th>\n",
              "      <td>1</td>\n",
              "      <td>89</td>\n",
              "      <td>66</td>\n",
              "      <td>23</td>\n",
              "      <td>94</td>\n",
              "      <td>28.1</td>\n",
              "      <td>0.167</td>\n",
              "      <td>21</td>\n",
              "      <td>0</td>\n",
              "    </tr>\n",
              "    <tr>\n",
              "      <th>3</th>\n",
              "      <td>0</td>\n",
              "      <td>137</td>\n",
              "      <td>40</td>\n",
              "      <td>35</td>\n",
              "      <td>168</td>\n",
              "      <td>43.1</td>\n",
              "      <td>2.288</td>\n",
              "      <td>33</td>\n",
              "      <td>1</td>\n",
              "    </tr>\n",
              "    <tr>\n",
              "      <th>4</th>\n",
              "      <td>5</td>\n",
              "      <td>116</td>\n",
              "      <td>74</td>\n",
              "      <td>0</td>\n",
              "      <td>0</td>\n",
              "      <td>25.6</td>\n",
              "      <td>0.201</td>\n",
              "      <td>30</td>\n",
              "      <td>0</td>\n",
              "    </tr>\n",
              "  </tbody>\n",
              "</table>\n",
              "</div>"
            ],
            "text/plain": [
              "   6  148  72  35    0  33.6  0.627  50  1\n",
              "0  1   85  66  29    0  26.6  0.351  31  0\n",
              "1  8  183  64   0    0  23.3  0.672  32  1\n",
              "2  1   89  66  23   94  28.1  0.167  21  0\n",
              "3  0  137  40  35  168  43.1  2.288  33  1\n",
              "4  5  116  74   0    0  25.6  0.201  30  0"
            ]
          },
          "metadata": {
            "tags": []
          },
          "execution_count": 47
        }
      ]
    },
    {
      "cell_type": "code",
      "metadata": {
        "colab": {
          "base_uri": "https://localhost:8080/",
          "height": 204
        },
        "id": "RxtQJW3UizNF",
        "outputId": "566a0925-16ba-468b-e9ff-b4b52632f8c2"
      },
      "source": [
        "raw_data.tail()"
      ],
      "execution_count": null,
      "outputs": [
        {
          "output_type": "execute_result",
          "data": {
            "text/html": [
              "<div>\n",
              "<style scoped>\n",
              "    .dataframe tbody tr th:only-of-type {\n",
              "        vertical-align: middle;\n",
              "    }\n",
              "\n",
              "    .dataframe tbody tr th {\n",
              "        vertical-align: top;\n",
              "    }\n",
              "\n",
              "    .dataframe thead th {\n",
              "        text-align: right;\n",
              "    }\n",
              "</style>\n",
              "<table border=\"1\" class=\"dataframe\">\n",
              "  <thead>\n",
              "    <tr style=\"text-align: right;\">\n",
              "      <th></th>\n",
              "      <th>6</th>\n",
              "      <th>148</th>\n",
              "      <th>72</th>\n",
              "      <th>35</th>\n",
              "      <th>0</th>\n",
              "      <th>33.6</th>\n",
              "      <th>0.627</th>\n",
              "      <th>50</th>\n",
              "      <th>1</th>\n",
              "    </tr>\n",
              "  </thead>\n",
              "  <tbody>\n",
              "    <tr>\n",
              "      <th>762</th>\n",
              "      <td>10</td>\n",
              "      <td>101</td>\n",
              "      <td>76</td>\n",
              "      <td>48</td>\n",
              "      <td>180</td>\n",
              "      <td>32.9</td>\n",
              "      <td>0.171</td>\n",
              "      <td>63</td>\n",
              "      <td>0</td>\n",
              "    </tr>\n",
              "    <tr>\n",
              "      <th>763</th>\n",
              "      <td>2</td>\n",
              "      <td>122</td>\n",
              "      <td>70</td>\n",
              "      <td>27</td>\n",
              "      <td>0</td>\n",
              "      <td>36.8</td>\n",
              "      <td>0.340</td>\n",
              "      <td>27</td>\n",
              "      <td>0</td>\n",
              "    </tr>\n",
              "    <tr>\n",
              "      <th>764</th>\n",
              "      <td>5</td>\n",
              "      <td>121</td>\n",
              "      <td>72</td>\n",
              "      <td>23</td>\n",
              "      <td>112</td>\n",
              "      <td>26.2</td>\n",
              "      <td>0.245</td>\n",
              "      <td>30</td>\n",
              "      <td>0</td>\n",
              "    </tr>\n",
              "    <tr>\n",
              "      <th>765</th>\n",
              "      <td>1</td>\n",
              "      <td>126</td>\n",
              "      <td>60</td>\n",
              "      <td>0</td>\n",
              "      <td>0</td>\n",
              "      <td>30.1</td>\n",
              "      <td>0.349</td>\n",
              "      <td>47</td>\n",
              "      <td>1</td>\n",
              "    </tr>\n",
              "    <tr>\n",
              "      <th>766</th>\n",
              "      <td>1</td>\n",
              "      <td>93</td>\n",
              "      <td>70</td>\n",
              "      <td>31</td>\n",
              "      <td>0</td>\n",
              "      <td>30.4</td>\n",
              "      <td>0.315</td>\n",
              "      <td>23</td>\n",
              "      <td>0</td>\n",
              "    </tr>\n",
              "  </tbody>\n",
              "</table>\n",
              "</div>"
            ],
            "text/plain": [
              "      6  148  72  35    0  33.6  0.627  50  1\n",
              "762  10  101  76  48  180  32.9  0.171  63  0\n",
              "763   2  122  70  27    0  36.8  0.340  27  0\n",
              "764   5  121  72  23  112  26.2  0.245  30  0\n",
              "765   1  126  60   0    0  30.1  0.349  47  1\n",
              "766   1   93  70  31    0  30.4  0.315  23  0"
            ]
          },
          "metadata": {
            "tags": []
          },
          "execution_count": 46
        }
      ]
    },
    {
      "cell_type": "code",
      "metadata": {
        "colab": {
          "base_uri": "https://localhost:8080/",
          "height": 824
        },
        "id": "xx3Q3P2HjCE2",
        "outputId": "29fa3dd4-1f04-4f30-b0fb-278d81eee025"
      },
      "source": [
        "raw_data.head(25)"
      ],
      "execution_count": null,
      "outputs": [
        {
          "output_type": "execute_result",
          "data": {
            "text/html": [
              "<div>\n",
              "<style scoped>\n",
              "    .dataframe tbody tr th:only-of-type {\n",
              "        vertical-align: middle;\n",
              "    }\n",
              "\n",
              "    .dataframe tbody tr th {\n",
              "        vertical-align: top;\n",
              "    }\n",
              "\n",
              "    .dataframe thead th {\n",
              "        text-align: right;\n",
              "    }\n",
              "</style>\n",
              "<table border=\"1\" class=\"dataframe\">\n",
              "  <thead>\n",
              "    <tr style=\"text-align: right;\">\n",
              "      <th></th>\n",
              "      <th>6</th>\n",
              "      <th>148</th>\n",
              "      <th>72</th>\n",
              "      <th>35</th>\n",
              "      <th>0</th>\n",
              "      <th>33.6</th>\n",
              "      <th>0.627</th>\n",
              "      <th>50</th>\n",
              "      <th>1</th>\n",
              "    </tr>\n",
              "  </thead>\n",
              "  <tbody>\n",
              "    <tr>\n",
              "      <th>0</th>\n",
              "      <td>1</td>\n",
              "      <td>85</td>\n",
              "      <td>66</td>\n",
              "      <td>29</td>\n",
              "      <td>0</td>\n",
              "      <td>26.6</td>\n",
              "      <td>0.351</td>\n",
              "      <td>31</td>\n",
              "      <td>0</td>\n",
              "    </tr>\n",
              "    <tr>\n",
              "      <th>1</th>\n",
              "      <td>8</td>\n",
              "      <td>183</td>\n",
              "      <td>64</td>\n",
              "      <td>0</td>\n",
              "      <td>0</td>\n",
              "      <td>23.3</td>\n",
              "      <td>0.672</td>\n",
              "      <td>32</td>\n",
              "      <td>1</td>\n",
              "    </tr>\n",
              "    <tr>\n",
              "      <th>2</th>\n",
              "      <td>1</td>\n",
              "      <td>89</td>\n",
              "      <td>66</td>\n",
              "      <td>23</td>\n",
              "      <td>94</td>\n",
              "      <td>28.1</td>\n",
              "      <td>0.167</td>\n",
              "      <td>21</td>\n",
              "      <td>0</td>\n",
              "    </tr>\n",
              "    <tr>\n",
              "      <th>3</th>\n",
              "      <td>0</td>\n",
              "      <td>137</td>\n",
              "      <td>40</td>\n",
              "      <td>35</td>\n",
              "      <td>168</td>\n",
              "      <td>43.1</td>\n",
              "      <td>2.288</td>\n",
              "      <td>33</td>\n",
              "      <td>1</td>\n",
              "    </tr>\n",
              "    <tr>\n",
              "      <th>4</th>\n",
              "      <td>5</td>\n",
              "      <td>116</td>\n",
              "      <td>74</td>\n",
              "      <td>0</td>\n",
              "      <td>0</td>\n",
              "      <td>25.6</td>\n",
              "      <td>0.201</td>\n",
              "      <td>30</td>\n",
              "      <td>0</td>\n",
              "    </tr>\n",
              "    <tr>\n",
              "      <th>5</th>\n",
              "      <td>3</td>\n",
              "      <td>78</td>\n",
              "      <td>50</td>\n",
              "      <td>32</td>\n",
              "      <td>88</td>\n",
              "      <td>31.0</td>\n",
              "      <td>0.248</td>\n",
              "      <td>26</td>\n",
              "      <td>1</td>\n",
              "    </tr>\n",
              "    <tr>\n",
              "      <th>6</th>\n",
              "      <td>10</td>\n",
              "      <td>115</td>\n",
              "      <td>0</td>\n",
              "      <td>0</td>\n",
              "      <td>0</td>\n",
              "      <td>35.3</td>\n",
              "      <td>0.134</td>\n",
              "      <td>29</td>\n",
              "      <td>0</td>\n",
              "    </tr>\n",
              "    <tr>\n",
              "      <th>7</th>\n",
              "      <td>2</td>\n",
              "      <td>197</td>\n",
              "      <td>70</td>\n",
              "      <td>45</td>\n",
              "      <td>543</td>\n",
              "      <td>30.5</td>\n",
              "      <td>0.158</td>\n",
              "      <td>53</td>\n",
              "      <td>1</td>\n",
              "    </tr>\n",
              "    <tr>\n",
              "      <th>8</th>\n",
              "      <td>8</td>\n",
              "      <td>125</td>\n",
              "      <td>96</td>\n",
              "      <td>0</td>\n",
              "      <td>0</td>\n",
              "      <td>0.0</td>\n",
              "      <td>0.232</td>\n",
              "      <td>54</td>\n",
              "      <td>1</td>\n",
              "    </tr>\n",
              "    <tr>\n",
              "      <th>9</th>\n",
              "      <td>4</td>\n",
              "      <td>110</td>\n",
              "      <td>92</td>\n",
              "      <td>0</td>\n",
              "      <td>0</td>\n",
              "      <td>37.6</td>\n",
              "      <td>0.191</td>\n",
              "      <td>30</td>\n",
              "      <td>0</td>\n",
              "    </tr>\n",
              "    <tr>\n",
              "      <th>10</th>\n",
              "      <td>10</td>\n",
              "      <td>168</td>\n",
              "      <td>74</td>\n",
              "      <td>0</td>\n",
              "      <td>0</td>\n",
              "      <td>38.0</td>\n",
              "      <td>0.537</td>\n",
              "      <td>34</td>\n",
              "      <td>1</td>\n",
              "    </tr>\n",
              "    <tr>\n",
              "      <th>11</th>\n",
              "      <td>10</td>\n",
              "      <td>139</td>\n",
              "      <td>80</td>\n",
              "      <td>0</td>\n",
              "      <td>0</td>\n",
              "      <td>27.1</td>\n",
              "      <td>1.441</td>\n",
              "      <td>57</td>\n",
              "      <td>0</td>\n",
              "    </tr>\n",
              "    <tr>\n",
              "      <th>12</th>\n",
              "      <td>1</td>\n",
              "      <td>189</td>\n",
              "      <td>60</td>\n",
              "      <td>23</td>\n",
              "      <td>846</td>\n",
              "      <td>30.1</td>\n",
              "      <td>0.398</td>\n",
              "      <td>59</td>\n",
              "      <td>1</td>\n",
              "    </tr>\n",
              "    <tr>\n",
              "      <th>13</th>\n",
              "      <td>5</td>\n",
              "      <td>166</td>\n",
              "      <td>72</td>\n",
              "      <td>19</td>\n",
              "      <td>175</td>\n",
              "      <td>25.8</td>\n",
              "      <td>0.587</td>\n",
              "      <td>51</td>\n",
              "      <td>1</td>\n",
              "    </tr>\n",
              "    <tr>\n",
              "      <th>14</th>\n",
              "      <td>7</td>\n",
              "      <td>100</td>\n",
              "      <td>0</td>\n",
              "      <td>0</td>\n",
              "      <td>0</td>\n",
              "      <td>30.0</td>\n",
              "      <td>0.484</td>\n",
              "      <td>32</td>\n",
              "      <td>1</td>\n",
              "    </tr>\n",
              "    <tr>\n",
              "      <th>15</th>\n",
              "      <td>0</td>\n",
              "      <td>118</td>\n",
              "      <td>84</td>\n",
              "      <td>47</td>\n",
              "      <td>230</td>\n",
              "      <td>45.8</td>\n",
              "      <td>0.551</td>\n",
              "      <td>31</td>\n",
              "      <td>1</td>\n",
              "    </tr>\n",
              "    <tr>\n",
              "      <th>16</th>\n",
              "      <td>7</td>\n",
              "      <td>107</td>\n",
              "      <td>74</td>\n",
              "      <td>0</td>\n",
              "      <td>0</td>\n",
              "      <td>29.6</td>\n",
              "      <td>0.254</td>\n",
              "      <td>31</td>\n",
              "      <td>1</td>\n",
              "    </tr>\n",
              "    <tr>\n",
              "      <th>17</th>\n",
              "      <td>1</td>\n",
              "      <td>103</td>\n",
              "      <td>30</td>\n",
              "      <td>38</td>\n",
              "      <td>83</td>\n",
              "      <td>43.3</td>\n",
              "      <td>0.183</td>\n",
              "      <td>33</td>\n",
              "      <td>0</td>\n",
              "    </tr>\n",
              "    <tr>\n",
              "      <th>18</th>\n",
              "      <td>1</td>\n",
              "      <td>115</td>\n",
              "      <td>70</td>\n",
              "      <td>30</td>\n",
              "      <td>96</td>\n",
              "      <td>34.6</td>\n",
              "      <td>0.529</td>\n",
              "      <td>32</td>\n",
              "      <td>1</td>\n",
              "    </tr>\n",
              "    <tr>\n",
              "      <th>19</th>\n",
              "      <td>3</td>\n",
              "      <td>126</td>\n",
              "      <td>88</td>\n",
              "      <td>41</td>\n",
              "      <td>235</td>\n",
              "      <td>39.3</td>\n",
              "      <td>0.704</td>\n",
              "      <td>27</td>\n",
              "      <td>0</td>\n",
              "    </tr>\n",
              "    <tr>\n",
              "      <th>20</th>\n",
              "      <td>8</td>\n",
              "      <td>99</td>\n",
              "      <td>84</td>\n",
              "      <td>0</td>\n",
              "      <td>0</td>\n",
              "      <td>35.4</td>\n",
              "      <td>0.388</td>\n",
              "      <td>50</td>\n",
              "      <td>0</td>\n",
              "    </tr>\n",
              "    <tr>\n",
              "      <th>21</th>\n",
              "      <td>7</td>\n",
              "      <td>196</td>\n",
              "      <td>90</td>\n",
              "      <td>0</td>\n",
              "      <td>0</td>\n",
              "      <td>39.8</td>\n",
              "      <td>0.451</td>\n",
              "      <td>41</td>\n",
              "      <td>1</td>\n",
              "    </tr>\n",
              "    <tr>\n",
              "      <th>22</th>\n",
              "      <td>9</td>\n",
              "      <td>119</td>\n",
              "      <td>80</td>\n",
              "      <td>35</td>\n",
              "      <td>0</td>\n",
              "      <td>29.0</td>\n",
              "      <td>0.263</td>\n",
              "      <td>29</td>\n",
              "      <td>1</td>\n",
              "    </tr>\n",
              "    <tr>\n",
              "      <th>23</th>\n",
              "      <td>11</td>\n",
              "      <td>143</td>\n",
              "      <td>94</td>\n",
              "      <td>33</td>\n",
              "      <td>146</td>\n",
              "      <td>36.6</td>\n",
              "      <td>0.254</td>\n",
              "      <td>51</td>\n",
              "      <td>1</td>\n",
              "    </tr>\n",
              "    <tr>\n",
              "      <th>24</th>\n",
              "      <td>10</td>\n",
              "      <td>125</td>\n",
              "      <td>70</td>\n",
              "      <td>26</td>\n",
              "      <td>115</td>\n",
              "      <td>31.1</td>\n",
              "      <td>0.205</td>\n",
              "      <td>41</td>\n",
              "      <td>1</td>\n",
              "    </tr>\n",
              "  </tbody>\n",
              "</table>\n",
              "</div>"
            ],
            "text/plain": [
              "     6  148  72  35    0  33.6  0.627  50  1\n",
              "0    1   85  66  29    0  26.6  0.351  31  0\n",
              "1    8  183  64   0    0  23.3  0.672  32  1\n",
              "2    1   89  66  23   94  28.1  0.167  21  0\n",
              "3    0  137  40  35  168  43.1  2.288  33  1\n",
              "4    5  116  74   0    0  25.6  0.201  30  0\n",
              "5    3   78  50  32   88  31.0  0.248  26  1\n",
              "6   10  115   0   0    0  35.3  0.134  29  0\n",
              "7    2  197  70  45  543  30.5  0.158  53  1\n",
              "8    8  125  96   0    0   0.0  0.232  54  1\n",
              "9    4  110  92   0    0  37.6  0.191  30  0\n",
              "10  10  168  74   0    0  38.0  0.537  34  1\n",
              "11  10  139  80   0    0  27.1  1.441  57  0\n",
              "12   1  189  60  23  846  30.1  0.398  59  1\n",
              "13   5  166  72  19  175  25.8  0.587  51  1\n",
              "14   7  100   0   0    0  30.0  0.484  32  1\n",
              "15   0  118  84  47  230  45.8  0.551  31  1\n",
              "16   7  107  74   0    0  29.6  0.254  31  1\n",
              "17   1  103  30  38   83  43.3  0.183  33  0\n",
              "18   1  115  70  30   96  34.6  0.529  32  1\n",
              "19   3  126  88  41  235  39.3  0.704  27  0\n",
              "20   8   99  84   0    0  35.4  0.388  50  0\n",
              "21   7  196  90   0    0  39.8  0.451  41  1\n",
              "22   9  119  80  35    0  29.0  0.263  29  1\n",
              "23  11  143  94  33  146  36.6  0.254  51  1\n",
              "24  10  125  70  26  115  31.1  0.205  41  1"
            ]
          },
          "metadata": {
            "tags": []
          },
          "execution_count": 48
        }
      ]
    },
    {
      "cell_type": "code",
      "metadata": {
        "colab": {
          "base_uri": "https://localhost:8080/",
          "height": 297
        },
        "id": "hx9feA7pjKkA",
        "outputId": "e610b1a3-f2d2-4b7e-c12b-ec0cd7c81bc2"
      },
      "source": [
        "raw_data.describe()"
      ],
      "execution_count": null,
      "outputs": [
        {
          "output_type": "execute_result",
          "data": {
            "text/html": [
              "<div>\n",
              "<style scoped>\n",
              "    .dataframe tbody tr th:only-of-type {\n",
              "        vertical-align: middle;\n",
              "    }\n",
              "\n",
              "    .dataframe tbody tr th {\n",
              "        vertical-align: top;\n",
              "    }\n",
              "\n",
              "    .dataframe thead th {\n",
              "        text-align: right;\n",
              "    }\n",
              "</style>\n",
              "<table border=\"1\" class=\"dataframe\">\n",
              "  <thead>\n",
              "    <tr style=\"text-align: right;\">\n",
              "      <th></th>\n",
              "      <th>6</th>\n",
              "      <th>148</th>\n",
              "      <th>72</th>\n",
              "      <th>35</th>\n",
              "      <th>0</th>\n",
              "      <th>33.6</th>\n",
              "      <th>0.627</th>\n",
              "      <th>50</th>\n",
              "      <th>1</th>\n",
              "    </tr>\n",
              "  </thead>\n",
              "  <tbody>\n",
              "    <tr>\n",
              "      <th>count</th>\n",
              "      <td>767.000000</td>\n",
              "      <td>767.000000</td>\n",
              "      <td>767.000000</td>\n",
              "      <td>767.000000</td>\n",
              "      <td>767.000000</td>\n",
              "      <td>767.000000</td>\n",
              "      <td>767.000000</td>\n",
              "      <td>767.000000</td>\n",
              "      <td>767.000000</td>\n",
              "    </tr>\n",
              "    <tr>\n",
              "      <th>mean</th>\n",
              "      <td>3.842243</td>\n",
              "      <td>120.859192</td>\n",
              "      <td>69.101695</td>\n",
              "      <td>20.517601</td>\n",
              "      <td>79.903520</td>\n",
              "      <td>31.990482</td>\n",
              "      <td>0.471674</td>\n",
              "      <td>33.219035</td>\n",
              "      <td>0.348110</td>\n",
              "    </tr>\n",
              "    <tr>\n",
              "      <th>std</th>\n",
              "      <td>3.370877</td>\n",
              "      <td>31.978468</td>\n",
              "      <td>19.368155</td>\n",
              "      <td>15.954059</td>\n",
              "      <td>115.283105</td>\n",
              "      <td>7.889091</td>\n",
              "      <td>0.331497</td>\n",
              "      <td>11.752296</td>\n",
              "      <td>0.476682</td>\n",
              "    </tr>\n",
              "    <tr>\n",
              "      <th>min</th>\n",
              "      <td>0.000000</td>\n",
              "      <td>0.000000</td>\n",
              "      <td>0.000000</td>\n",
              "      <td>0.000000</td>\n",
              "      <td>0.000000</td>\n",
              "      <td>0.000000</td>\n",
              "      <td>0.078000</td>\n",
              "      <td>21.000000</td>\n",
              "      <td>0.000000</td>\n",
              "    </tr>\n",
              "    <tr>\n",
              "      <th>25%</th>\n",
              "      <td>1.000000</td>\n",
              "      <td>99.000000</td>\n",
              "      <td>62.000000</td>\n",
              "      <td>0.000000</td>\n",
              "      <td>0.000000</td>\n",
              "      <td>27.300000</td>\n",
              "      <td>0.243500</td>\n",
              "      <td>24.000000</td>\n",
              "      <td>0.000000</td>\n",
              "    </tr>\n",
              "    <tr>\n",
              "      <th>50%</th>\n",
              "      <td>3.000000</td>\n",
              "      <td>117.000000</td>\n",
              "      <td>72.000000</td>\n",
              "      <td>23.000000</td>\n",
              "      <td>32.000000</td>\n",
              "      <td>32.000000</td>\n",
              "      <td>0.371000</td>\n",
              "      <td>29.000000</td>\n",
              "      <td>0.000000</td>\n",
              "    </tr>\n",
              "    <tr>\n",
              "      <th>75%</th>\n",
              "      <td>6.000000</td>\n",
              "      <td>140.000000</td>\n",
              "      <td>80.000000</td>\n",
              "      <td>32.000000</td>\n",
              "      <td>127.500000</td>\n",
              "      <td>36.600000</td>\n",
              "      <td>0.625000</td>\n",
              "      <td>41.000000</td>\n",
              "      <td>1.000000</td>\n",
              "    </tr>\n",
              "    <tr>\n",
              "      <th>max</th>\n",
              "      <td>17.000000</td>\n",
              "      <td>199.000000</td>\n",
              "      <td>122.000000</td>\n",
              "      <td>99.000000</td>\n",
              "      <td>846.000000</td>\n",
              "      <td>67.100000</td>\n",
              "      <td>2.420000</td>\n",
              "      <td>81.000000</td>\n",
              "      <td>1.000000</td>\n",
              "    </tr>\n",
              "  </tbody>\n",
              "</table>\n",
              "</div>"
            ],
            "text/plain": [
              "                6         148          72  ...       0.627          50           1\n",
              "count  767.000000  767.000000  767.000000  ...  767.000000  767.000000  767.000000\n",
              "mean     3.842243  120.859192   69.101695  ...    0.471674   33.219035    0.348110\n",
              "std      3.370877   31.978468   19.368155  ...    0.331497   11.752296    0.476682\n",
              "min      0.000000    0.000000    0.000000  ...    0.078000   21.000000    0.000000\n",
              "25%      1.000000   99.000000   62.000000  ...    0.243500   24.000000    0.000000\n",
              "50%      3.000000  117.000000   72.000000  ...    0.371000   29.000000    0.000000\n",
              "75%      6.000000  140.000000   80.000000  ...    0.625000   41.000000    1.000000\n",
              "max     17.000000  199.000000  122.000000  ...    2.420000   81.000000    1.000000\n",
              "\n",
              "[8 rows x 9 columns]"
            ]
          },
          "metadata": {
            "tags": []
          },
          "execution_count": 49
        }
      ]
    },
    {
      "cell_type": "code",
      "metadata": {
        "colab": {
          "base_uri": "https://localhost:8080/",
          "height": 328
        },
        "id": "82yGPYy4jTtl",
        "outputId": "a6be89e0-9609-4049-ea0c-adeea1ea5d36"
      },
      "source": [
        "raw_data.cov()"
      ],
      "execution_count": null,
      "outputs": [
        {
          "output_type": "execute_result",
          "data": {
            "text/html": [
              "<div>\n",
              "<style scoped>\n",
              "    .dataframe tbody tr th:only-of-type {\n",
              "        vertical-align: middle;\n",
              "    }\n",
              "\n",
              "    .dataframe tbody tr th {\n",
              "        vertical-align: top;\n",
              "    }\n",
              "\n",
              "    .dataframe thead th {\n",
              "        text-align: right;\n",
              "    }\n",
              "</style>\n",
              "<table border=\"1\" class=\"dataframe\">\n",
              "  <thead>\n",
              "    <tr style=\"text-align: right;\">\n",
              "      <th></th>\n",
              "      <th>6</th>\n",
              "      <th>148</th>\n",
              "      <th>72</th>\n",
              "      <th>35</th>\n",
              "      <th>0</th>\n",
              "      <th>33.6</th>\n",
              "      <th>0.627</th>\n",
              "      <th>50</th>\n",
              "      <th>1</th>\n",
              "    </tr>\n",
              "  </thead>\n",
              "  <tbody>\n",
              "    <tr>\n",
              "      <th>6</th>\n",
              "      <td>11.362809</td>\n",
              "      <td>13.888985</td>\n",
              "      <td>9.218414</td>\n",
              "      <td>-4.436515</td>\n",
              "      <td>-28.367721</td>\n",
              "      <td>0.465859</td>\n",
              "      <td>-0.037912</td>\n",
              "      <td>21.551571</td>\n",
              "      <td>0.355250</td>\n",
              "    </tr>\n",
              "    <tr>\n",
              "      <th>148</th>\n",
              "      <td>13.888985</td>\n",
              "      <td>1022.622445</td>\n",
              "      <td>94.451675</td>\n",
              "      <td>28.764884</td>\n",
              "      <td>1225.357154</td>\n",
              "      <td>55.742783</td>\n",
              "      <td>1.451278</td>\n",
              "      <td>98.618350</td>\n",
              "      <td>7.101300</td>\n",
              "    </tr>\n",
              "    <tr>\n",
              "      <th>72</th>\n",
              "      <td>9.218414</td>\n",
              "      <td>94.451675</td>\n",
              "      <td>375.125415</td>\n",
              "      <td>64.058260</td>\n",
              "      <td>198.939328</td>\n",
              "      <td>43.054755</td>\n",
              "      <td>0.264396</td>\n",
              "      <td>54.531221</td>\n",
              "      <td>0.599018</td>\n",
              "    </tr>\n",
              "    <tr>\n",
              "      <th>35</th>\n",
              "      <td>-4.436515</td>\n",
              "      <td>28.764884</td>\n",
              "      <td>64.058260</td>\n",
              "      <td>254.532001</td>\n",
              "      <td>805.536948</td>\n",
              "      <td>49.407935</td>\n",
              "      <td>0.970472</td>\n",
              "      <td>-21.725792</td>\n",
              "      <td>0.557181</td>\n",
              "    </tr>\n",
              "    <tr>\n",
              "      <th>0</th>\n",
              "      <td>-28.367721</td>\n",
              "      <td>1225.357154</td>\n",
              "      <td>198.939328</td>\n",
              "      <td>805.536948</td>\n",
              "      <td>13290.194335</td>\n",
              "      <td>180.177540</td>\n",
              "      <td>7.092087</td>\n",
              "      <td>-55.469702</td>\n",
              "      <td>7.252951</td>\n",
              "    </tr>\n",
              "    <tr>\n",
              "      <th>33.6</th>\n",
              "      <td>0.465859</td>\n",
              "      <td>55.742783</td>\n",
              "      <td>43.054755</td>\n",
              "      <td>49.407935</td>\n",
              "      <td>180.177540</td>\n",
              "      <td>62.237755</td>\n",
              "      <td>0.367558</td>\n",
              "      <td>3.329503</td>\n",
              "      <td>1.100707</td>\n",
              "    </tr>\n",
              "    <tr>\n",
              "      <th>0.627</th>\n",
              "      <td>-0.037912</td>\n",
              "      <td>1.451278</td>\n",
              "      <td>0.264396</td>\n",
              "      <td>0.970472</td>\n",
              "      <td>7.092087</td>\n",
              "      <td>0.367558</td>\n",
              "      <td>0.109890</td>\n",
              "      <td>0.127544</td>\n",
              "      <td>0.027376</td>\n",
              "    </tr>\n",
              "    <tr>\n",
              "      <th>50</th>\n",
              "      <td>21.551571</td>\n",
              "      <td>98.618350</td>\n",
              "      <td>54.531221</td>\n",
              "      <td>-21.725792</td>\n",
              "      <td>-55.469702</td>\n",
              "      <td>3.329503</td>\n",
              "      <td>0.127544</td>\n",
              "      <td>138.116452</td>\n",
              "      <td>1.324436</td>\n",
              "    </tr>\n",
              "    <tr>\n",
              "      <th>1</th>\n",
              "      <td>0.355250</td>\n",
              "      <td>7.101300</td>\n",
              "      <td>0.599018</td>\n",
              "      <td>0.557181</td>\n",
              "      <td>7.252951</td>\n",
              "      <td>1.100707</td>\n",
              "      <td>0.027376</td>\n",
              "      <td>1.324436</td>\n",
              "      <td>0.227226</td>\n",
              "    </tr>\n",
              "  </tbody>\n",
              "</table>\n",
              "</div>"
            ],
            "text/plain": [
              "               6          148          72  ...     0.627          50         1\n",
              "6      11.362809    13.888985    9.218414  ... -0.037912   21.551571  0.355250\n",
              "148    13.888985  1022.622445   94.451675  ...  1.451278   98.618350  7.101300\n",
              "72      9.218414    94.451675  375.125415  ...  0.264396   54.531221  0.599018\n",
              "35     -4.436515    28.764884   64.058260  ...  0.970472  -21.725792  0.557181\n",
              "0     -28.367721  1225.357154  198.939328  ...  7.092087  -55.469702  7.252951\n",
              "33.6    0.465859    55.742783   43.054755  ...  0.367558    3.329503  1.100707\n",
              "0.627  -0.037912     1.451278    0.264396  ...  0.109890    0.127544  0.027376\n",
              "50     21.551571    98.618350   54.531221  ...  0.127544  138.116452  1.324436\n",
              "1       0.355250     7.101300    0.599018  ...  0.027376    1.324436  0.227226\n",
              "\n",
              "[9 rows x 9 columns]"
            ]
          },
          "metadata": {
            "tags": []
          },
          "execution_count": 50
        }
      ]
    },
    {
      "cell_type": "code",
      "metadata": {
        "colab": {
          "base_uri": "https://localhost:8080/",
          "height": 328
        },
        "id": "bidjlSMyjSnS",
        "outputId": "6994090d-8eba-490d-8080-96a48fd4b3bb"
      },
      "source": [
        "raw_data.corr()"
      ],
      "execution_count": null,
      "outputs": [
        {
          "output_type": "execute_result",
          "data": {
            "text/html": [
              "<div>\n",
              "<style scoped>\n",
              "    .dataframe tbody tr th:only-of-type {\n",
              "        vertical-align: middle;\n",
              "    }\n",
              "\n",
              "    .dataframe tbody tr th {\n",
              "        vertical-align: top;\n",
              "    }\n",
              "\n",
              "    .dataframe thead th {\n",
              "        text-align: right;\n",
              "    }\n",
              "</style>\n",
              "<table border=\"1\" class=\"dataframe\">\n",
              "  <thead>\n",
              "    <tr style=\"text-align: right;\">\n",
              "      <th></th>\n",
              "      <th>6</th>\n",
              "      <th>148</th>\n",
              "      <th>72</th>\n",
              "      <th>35</th>\n",
              "      <th>0</th>\n",
              "      <th>33.6</th>\n",
              "      <th>0.627</th>\n",
              "      <th>50</th>\n",
              "      <th>1</th>\n",
              "    </tr>\n",
              "  </thead>\n",
              "  <tbody>\n",
              "    <tr>\n",
              "      <th>6</th>\n",
              "      <td>1.000000</td>\n",
              "      <td>0.128846</td>\n",
              "      <td>0.141197</td>\n",
              "      <td>-0.082495</td>\n",
              "      <td>-0.072999</td>\n",
              "      <td>0.017518</td>\n",
              "      <td>-0.033927</td>\n",
              "      <td>0.544018</td>\n",
              "      <td>0.221087</td>\n",
              "    </tr>\n",
              "    <tr>\n",
              "      <th>148</th>\n",
              "      <td>0.128846</td>\n",
              "      <td>1.000000</td>\n",
              "      <td>0.152498</td>\n",
              "      <td>0.056381</td>\n",
              "      <td>0.332383</td>\n",
              "      <td>0.220955</td>\n",
              "      <td>0.136903</td>\n",
              "      <td>0.262408</td>\n",
              "      <td>0.465856</td>\n",
              "    </tr>\n",
              "    <tr>\n",
              "      <th>72</th>\n",
              "      <td>0.141197</td>\n",
              "      <td>0.152498</td>\n",
              "      <td>1.000000</td>\n",
              "      <td>0.207308</td>\n",
              "      <td>0.089098</td>\n",
              "      <td>0.281777</td>\n",
              "      <td>0.041180</td>\n",
              "      <td>0.239571</td>\n",
              "      <td>0.064882</td>\n",
              "    </tr>\n",
              "    <tr>\n",
              "      <th>35</th>\n",
              "      <td>-0.082495</td>\n",
              "      <td>0.056381</td>\n",
              "      <td>0.207308</td>\n",
              "      <td>1.000000</td>\n",
              "      <td>0.437974</td>\n",
              "      <td>0.392553</td>\n",
              "      <td>0.183498</td>\n",
              "      <td>-0.115873</td>\n",
              "      <td>0.073265</td>\n",
              "    </tr>\n",
              "    <tr>\n",
              "      <th>0</th>\n",
              "      <td>-0.072999</td>\n",
              "      <td>0.332383</td>\n",
              "      <td>0.089098</td>\n",
              "      <td>0.437974</td>\n",
              "      <td>1.000000</td>\n",
              "      <td>0.198111</td>\n",
              "      <td>0.185579</td>\n",
              "      <td>-0.040942</td>\n",
              "      <td>0.131984</td>\n",
              "    </tr>\n",
              "    <tr>\n",
              "      <th>33.6</th>\n",
              "      <td>0.017518</td>\n",
              "      <td>0.220955</td>\n",
              "      <td>0.281777</td>\n",
              "      <td>0.392553</td>\n",
              "      <td>0.198111</td>\n",
              "      <td>1.000000</td>\n",
              "      <td>0.140546</td>\n",
              "      <td>0.035911</td>\n",
              "      <td>0.292695</td>\n",
              "    </tr>\n",
              "    <tr>\n",
              "      <th>0.627</th>\n",
              "      <td>-0.033927</td>\n",
              "      <td>0.136903</td>\n",
              "      <td>0.041180</td>\n",
              "      <td>0.183498</td>\n",
              "      <td>0.185579</td>\n",
              "      <td>0.140546</td>\n",
              "      <td>1.000000</td>\n",
              "      <td>0.032738</td>\n",
              "      <td>0.173245</td>\n",
              "    </tr>\n",
              "    <tr>\n",
              "      <th>50</th>\n",
              "      <td>0.544018</td>\n",
              "      <td>0.262408</td>\n",
              "      <td>0.239571</td>\n",
              "      <td>-0.115873</td>\n",
              "      <td>-0.040942</td>\n",
              "      <td>0.035911</td>\n",
              "      <td>0.032738</td>\n",
              "      <td>1.000000</td>\n",
              "      <td>0.236417</td>\n",
              "    </tr>\n",
              "    <tr>\n",
              "      <th>1</th>\n",
              "      <td>0.221087</td>\n",
              "      <td>0.465856</td>\n",
              "      <td>0.064882</td>\n",
              "      <td>0.073265</td>\n",
              "      <td>0.131984</td>\n",
              "      <td>0.292695</td>\n",
              "      <td>0.173245</td>\n",
              "      <td>0.236417</td>\n",
              "      <td>1.000000</td>\n",
              "    </tr>\n",
              "  </tbody>\n",
              "</table>\n",
              "</div>"
            ],
            "text/plain": [
              "              6       148        72  ...     0.627        50         1\n",
              "6      1.000000  0.128846  0.141197  ... -0.033927  0.544018  0.221087\n",
              "148    0.128846  1.000000  0.152498  ...  0.136903  0.262408  0.465856\n",
              "72     0.141197  0.152498  1.000000  ...  0.041180  0.239571  0.064882\n",
              "35    -0.082495  0.056381  0.207308  ...  0.183498 -0.115873  0.073265\n",
              "0     -0.072999  0.332383  0.089098  ...  0.185579 -0.040942  0.131984\n",
              "33.6   0.017518  0.220955  0.281777  ...  0.140546  0.035911  0.292695\n",
              "0.627 -0.033927  0.136903  0.041180  ...  1.000000  0.032738  0.173245\n",
              "50     0.544018  0.262408  0.239571  ...  0.032738  1.000000  0.236417\n",
              "1      0.221087  0.465856  0.064882  ...  0.173245  0.236417  1.000000\n",
              "\n",
              "[9 rows x 9 columns]"
            ]
          },
          "metadata": {
            "tags": []
          },
          "execution_count": 51
        }
      ]
    },
    {
      "cell_type": "code",
      "metadata": {
        "colab": {
          "base_uri": "https://localhost:8080/"
        },
        "id": "o0N-9l9KjtT3",
        "outputId": "e6e369c2-6f67-498a-d3ce-c0d59d7ebc9e"
      },
      "source": [
        "from sklearn.datasets import load_iris\n",
        "import numpy as np\n",
        "iris=load_iris()\n",
        "iris"
      ],
      "execution_count": null,
      "outputs": [
        {
          "output_type": "execute_result",
          "data": {
            "text/plain": [
              "{'DESCR': '.. _iris_dataset:\\n\\nIris plants dataset\\n--------------------\\n\\n**Data Set Characteristics:**\\n\\n    :Number of Instances: 150 (50 in each of three classes)\\n    :Number of Attributes: 4 numeric, predictive attributes and the class\\n    :Attribute Information:\\n        - sepal length in cm\\n        - sepal width in cm\\n        - petal length in cm\\n        - petal width in cm\\n        - class:\\n                - Iris-Setosa\\n                - Iris-Versicolour\\n                - Iris-Virginica\\n                \\n    :Summary Statistics:\\n\\n    ============== ==== ==== ======= ===== ====================\\n                    Min  Max   Mean    SD   Class Correlation\\n    ============== ==== ==== ======= ===== ====================\\n    sepal length:   4.3  7.9   5.84   0.83    0.7826\\n    sepal width:    2.0  4.4   3.05   0.43   -0.4194\\n    petal length:   1.0  6.9   3.76   1.76    0.9490  (high!)\\n    petal width:    0.1  2.5   1.20   0.76    0.9565  (high!)\\n    ============== ==== ==== ======= ===== ====================\\n\\n    :Missing Attribute Values: None\\n    :Class Distribution: 33.3% for each of 3 classes.\\n    :Creator: R.A. Fisher\\n    :Donor: Michael Marshall (MARSHALL%PLU@io.arc.nasa.gov)\\n    :Date: July, 1988\\n\\nThe famous Iris database, first used by Sir R.A. Fisher. The dataset is taken\\nfrom Fisher\\'s paper. Note that it\\'s the same as in R, but not as in the UCI\\nMachine Learning Repository, which has two wrong data points.\\n\\nThis is perhaps the best known database to be found in the\\npattern recognition literature.  Fisher\\'s paper is a classic in the field and\\nis referenced frequently to this day.  (See Duda & Hart, for example.)  The\\ndata set contains 3 classes of 50 instances each, where each class refers to a\\ntype of iris plant.  One class is linearly separable from the other 2; the\\nlatter are NOT linearly separable from each other.\\n\\n.. topic:: References\\n\\n   - Fisher, R.A. \"The use of multiple measurements in taxonomic problems\"\\n     Annual Eugenics, 7, Part II, 179-188 (1936); also in \"Contributions to\\n     Mathematical Statistics\" (John Wiley, NY, 1950).\\n   - Duda, R.O., & Hart, P.E. (1973) Pattern Classification and Scene Analysis.\\n     (Q327.D83) John Wiley & Sons.  ISBN 0-471-22361-1.  See page 218.\\n   - Dasarathy, B.V. (1980) \"Nosing Around the Neighborhood: A New System\\n     Structure and Classification Rule for Recognition in Partially Exposed\\n     Environments\".  IEEE Transactions on Pattern Analysis and Machine\\n     Intelligence, Vol. PAMI-2, No. 1, 67-71.\\n   - Gates, G.W. (1972) \"The Reduced Nearest Neighbor Rule\".  IEEE Transactions\\n     on Information Theory, May 1972, 431-433.\\n   - See also: 1988 MLC Proceedings, 54-64.  Cheeseman et al\"s AUTOCLASS II\\n     conceptual clustering system finds 3 classes in the data.\\n   - Many, many more ...',\n",
              " 'data': array([[5.1, 3.5, 1.4, 0.2],\n",
              "        [4.9, 3. , 1.4, 0.2],\n",
              "        [4.7, 3.2, 1.3, 0.2],\n",
              "        [4.6, 3.1, 1.5, 0.2],\n",
              "        [5. , 3.6, 1.4, 0.2],\n",
              "        [5.4, 3.9, 1.7, 0.4],\n",
              "        [4.6, 3.4, 1.4, 0.3],\n",
              "        [5. , 3.4, 1.5, 0.2],\n",
              "        [4.4, 2.9, 1.4, 0.2],\n",
              "        [4.9, 3.1, 1.5, 0.1],\n",
              "        [5.4, 3.7, 1.5, 0.2],\n",
              "        [4.8, 3.4, 1.6, 0.2],\n",
              "        [4.8, 3. , 1.4, 0.1],\n",
              "        [4.3, 3. , 1.1, 0.1],\n",
              "        [5.8, 4. , 1.2, 0.2],\n",
              "        [5.7, 4.4, 1.5, 0.4],\n",
              "        [5.4, 3.9, 1.3, 0.4],\n",
              "        [5.1, 3.5, 1.4, 0.3],\n",
              "        [5.7, 3.8, 1.7, 0.3],\n",
              "        [5.1, 3.8, 1.5, 0.3],\n",
              "        [5.4, 3.4, 1.7, 0.2],\n",
              "        [5.1, 3.7, 1.5, 0.4],\n",
              "        [4.6, 3.6, 1. , 0.2],\n",
              "        [5.1, 3.3, 1.7, 0.5],\n",
              "        [4.8, 3.4, 1.9, 0.2],\n",
              "        [5. , 3. , 1.6, 0.2],\n",
              "        [5. , 3.4, 1.6, 0.4],\n",
              "        [5.2, 3.5, 1.5, 0.2],\n",
              "        [5.2, 3.4, 1.4, 0.2],\n",
              "        [4.7, 3.2, 1.6, 0.2],\n",
              "        [4.8, 3.1, 1.6, 0.2],\n",
              "        [5.4, 3.4, 1.5, 0.4],\n",
              "        [5.2, 4.1, 1.5, 0.1],\n",
              "        [5.5, 4.2, 1.4, 0.2],\n",
              "        [4.9, 3.1, 1.5, 0.2],\n",
              "        [5. , 3.2, 1.2, 0.2],\n",
              "        [5.5, 3.5, 1.3, 0.2],\n",
              "        [4.9, 3.6, 1.4, 0.1],\n",
              "        [4.4, 3. , 1.3, 0.2],\n",
              "        [5.1, 3.4, 1.5, 0.2],\n",
              "        [5. , 3.5, 1.3, 0.3],\n",
              "        [4.5, 2.3, 1.3, 0.3],\n",
              "        [4.4, 3.2, 1.3, 0.2],\n",
              "        [5. , 3.5, 1.6, 0.6],\n",
              "        [5.1, 3.8, 1.9, 0.4],\n",
              "        [4.8, 3. , 1.4, 0.3],\n",
              "        [5.1, 3.8, 1.6, 0.2],\n",
              "        [4.6, 3.2, 1.4, 0.2],\n",
              "        [5.3, 3.7, 1.5, 0.2],\n",
              "        [5. , 3.3, 1.4, 0.2],\n",
              "        [7. , 3.2, 4.7, 1.4],\n",
              "        [6.4, 3.2, 4.5, 1.5],\n",
              "        [6.9, 3.1, 4.9, 1.5],\n",
              "        [5.5, 2.3, 4. , 1.3],\n",
              "        [6.5, 2.8, 4.6, 1.5],\n",
              "        [5.7, 2.8, 4.5, 1.3],\n",
              "        [6.3, 3.3, 4.7, 1.6],\n",
              "        [4.9, 2.4, 3.3, 1. ],\n",
              "        [6.6, 2.9, 4.6, 1.3],\n",
              "        [5.2, 2.7, 3.9, 1.4],\n",
              "        [5. , 2. , 3.5, 1. ],\n",
              "        [5.9, 3. , 4.2, 1.5],\n",
              "        [6. , 2.2, 4. , 1. ],\n",
              "        [6.1, 2.9, 4.7, 1.4],\n",
              "        [5.6, 2.9, 3.6, 1.3],\n",
              "        [6.7, 3.1, 4.4, 1.4],\n",
              "        [5.6, 3. , 4.5, 1.5],\n",
              "        [5.8, 2.7, 4.1, 1. ],\n",
              "        [6.2, 2.2, 4.5, 1.5],\n",
              "        [5.6, 2.5, 3.9, 1.1],\n",
              "        [5.9, 3.2, 4.8, 1.8],\n",
              "        [6.1, 2.8, 4. , 1.3],\n",
              "        [6.3, 2.5, 4.9, 1.5],\n",
              "        [6.1, 2.8, 4.7, 1.2],\n",
              "        [6.4, 2.9, 4.3, 1.3],\n",
              "        [6.6, 3. , 4.4, 1.4],\n",
              "        [6.8, 2.8, 4.8, 1.4],\n",
              "        [6.7, 3. , 5. , 1.7],\n",
              "        [6. , 2.9, 4.5, 1.5],\n",
              "        [5.7, 2.6, 3.5, 1. ],\n",
              "        [5.5, 2.4, 3.8, 1.1],\n",
              "        [5.5, 2.4, 3.7, 1. ],\n",
              "        [5.8, 2.7, 3.9, 1.2],\n",
              "        [6. , 2.7, 5.1, 1.6],\n",
              "        [5.4, 3. , 4.5, 1.5],\n",
              "        [6. , 3.4, 4.5, 1.6],\n",
              "        [6.7, 3.1, 4.7, 1.5],\n",
              "        [6.3, 2.3, 4.4, 1.3],\n",
              "        [5.6, 3. , 4.1, 1.3],\n",
              "        [5.5, 2.5, 4. , 1.3],\n",
              "        [5.5, 2.6, 4.4, 1.2],\n",
              "        [6.1, 3. , 4.6, 1.4],\n",
              "        [5.8, 2.6, 4. , 1.2],\n",
              "        [5. , 2.3, 3.3, 1. ],\n",
              "        [5.6, 2.7, 4.2, 1.3],\n",
              "        [5.7, 3. , 4.2, 1.2],\n",
              "        [5.7, 2.9, 4.2, 1.3],\n",
              "        [6.2, 2.9, 4.3, 1.3],\n",
              "        [5.1, 2.5, 3. , 1.1],\n",
              "        [5.7, 2.8, 4.1, 1.3],\n",
              "        [6.3, 3.3, 6. , 2.5],\n",
              "        [5.8, 2.7, 5.1, 1.9],\n",
              "        [7.1, 3. , 5.9, 2.1],\n",
              "        [6.3, 2.9, 5.6, 1.8],\n",
              "        [6.5, 3. , 5.8, 2.2],\n",
              "        [7.6, 3. , 6.6, 2.1],\n",
              "        [4.9, 2.5, 4.5, 1.7],\n",
              "        [7.3, 2.9, 6.3, 1.8],\n",
              "        [6.7, 2.5, 5.8, 1.8],\n",
              "        [7.2, 3.6, 6.1, 2.5],\n",
              "        [6.5, 3.2, 5.1, 2. ],\n",
              "        [6.4, 2.7, 5.3, 1.9],\n",
              "        [6.8, 3. , 5.5, 2.1],\n",
              "        [5.7, 2.5, 5. , 2. ],\n",
              "        [5.8, 2.8, 5.1, 2.4],\n",
              "        [6.4, 3.2, 5.3, 2.3],\n",
              "        [6.5, 3. , 5.5, 1.8],\n",
              "        [7.7, 3.8, 6.7, 2.2],\n",
              "        [7.7, 2.6, 6.9, 2.3],\n",
              "        [6. , 2.2, 5. , 1.5],\n",
              "        [6.9, 3.2, 5.7, 2.3],\n",
              "        [5.6, 2.8, 4.9, 2. ],\n",
              "        [7.7, 2.8, 6.7, 2. ],\n",
              "        [6.3, 2.7, 4.9, 1.8],\n",
              "        [6.7, 3.3, 5.7, 2.1],\n",
              "        [7.2, 3.2, 6. , 1.8],\n",
              "        [6.2, 2.8, 4.8, 1.8],\n",
              "        [6.1, 3. , 4.9, 1.8],\n",
              "        [6.4, 2.8, 5.6, 2.1],\n",
              "        [7.2, 3. , 5.8, 1.6],\n",
              "        [7.4, 2.8, 6.1, 1.9],\n",
              "        [7.9, 3.8, 6.4, 2. ],\n",
              "        [6.4, 2.8, 5.6, 2.2],\n",
              "        [6.3, 2.8, 5.1, 1.5],\n",
              "        [6.1, 2.6, 5.6, 1.4],\n",
              "        [7.7, 3. , 6.1, 2.3],\n",
              "        [6.3, 3.4, 5.6, 2.4],\n",
              "        [6.4, 3.1, 5.5, 1.8],\n",
              "        [6. , 3. , 4.8, 1.8],\n",
              "        [6.9, 3.1, 5.4, 2.1],\n",
              "        [6.7, 3.1, 5.6, 2.4],\n",
              "        [6.9, 3.1, 5.1, 2.3],\n",
              "        [5.8, 2.7, 5.1, 1.9],\n",
              "        [6.8, 3.2, 5.9, 2.3],\n",
              "        [6.7, 3.3, 5.7, 2.5],\n",
              "        [6.7, 3. , 5.2, 2.3],\n",
              "        [6.3, 2.5, 5. , 1.9],\n",
              "        [6.5, 3. , 5.2, 2. ],\n",
              "        [6.2, 3.4, 5.4, 2.3],\n",
              "        [5.9, 3. , 5.1, 1.8]]),\n",
              " 'feature_names': ['sepal length (cm)',\n",
              "  'sepal width (cm)',\n",
              "  'petal length (cm)',\n",
              "  'petal width (cm)'],\n",
              " 'filename': '/usr/local/lib/python3.7/dist-packages/sklearn/datasets/data/iris.csv',\n",
              " 'target': array([0, 0, 0, 0, 0, 0, 0, 0, 0, 0, 0, 0, 0, 0, 0, 0, 0, 0, 0, 0, 0, 0,\n",
              "        0, 0, 0, 0, 0, 0, 0, 0, 0, 0, 0, 0, 0, 0, 0, 0, 0, 0, 0, 0, 0, 0,\n",
              "        0, 0, 0, 0, 0, 0, 1, 1, 1, 1, 1, 1, 1, 1, 1, 1, 1, 1, 1, 1, 1, 1,\n",
              "        1, 1, 1, 1, 1, 1, 1, 1, 1, 1, 1, 1, 1, 1, 1, 1, 1, 1, 1, 1, 1, 1,\n",
              "        1, 1, 1, 1, 1, 1, 1, 1, 1, 1, 1, 1, 2, 2, 2, 2, 2, 2, 2, 2, 2, 2,\n",
              "        2, 2, 2, 2, 2, 2, 2, 2, 2, 2, 2, 2, 2, 2, 2, 2, 2, 2, 2, 2, 2, 2,\n",
              "        2, 2, 2, 2, 2, 2, 2, 2, 2, 2, 2, 2, 2, 2, 2, 2, 2, 2]),\n",
              " 'target_names': array(['setosa', 'versicolor', 'virginica'], dtype='<U10')}"
            ]
          },
          "metadata": {
            "tags": []
          },
          "execution_count": 56
        }
      ]
    },
    {
      "cell_type": "code",
      "metadata": {
        "colab": {
          "base_uri": "https://localhost:8080/",
          "height": 419
        },
        "id": "jFmVn_lgkWwU",
        "outputId": "f5f41f08-4265-41f7-9826-d5b02786bd88"
      },
      "source": [
        "X=pd.DataFrame(iris.data)\n",
        "X"
      ],
      "execution_count": null,
      "outputs": [
        {
          "output_type": "execute_result",
          "data": {
            "text/html": [
              "<div>\n",
              "<style scoped>\n",
              "    .dataframe tbody tr th:only-of-type {\n",
              "        vertical-align: middle;\n",
              "    }\n",
              "\n",
              "    .dataframe tbody tr th {\n",
              "        vertical-align: top;\n",
              "    }\n",
              "\n",
              "    .dataframe thead th {\n",
              "        text-align: right;\n",
              "    }\n",
              "</style>\n",
              "<table border=\"1\" class=\"dataframe\">\n",
              "  <thead>\n",
              "    <tr style=\"text-align: right;\">\n",
              "      <th></th>\n",
              "      <th>0</th>\n",
              "      <th>1</th>\n",
              "      <th>2</th>\n",
              "      <th>3</th>\n",
              "    </tr>\n",
              "  </thead>\n",
              "  <tbody>\n",
              "    <tr>\n",
              "      <th>0</th>\n",
              "      <td>5.1</td>\n",
              "      <td>3.5</td>\n",
              "      <td>1.4</td>\n",
              "      <td>0.2</td>\n",
              "    </tr>\n",
              "    <tr>\n",
              "      <th>1</th>\n",
              "      <td>4.9</td>\n",
              "      <td>3.0</td>\n",
              "      <td>1.4</td>\n",
              "      <td>0.2</td>\n",
              "    </tr>\n",
              "    <tr>\n",
              "      <th>2</th>\n",
              "      <td>4.7</td>\n",
              "      <td>3.2</td>\n",
              "      <td>1.3</td>\n",
              "      <td>0.2</td>\n",
              "    </tr>\n",
              "    <tr>\n",
              "      <th>3</th>\n",
              "      <td>4.6</td>\n",
              "      <td>3.1</td>\n",
              "      <td>1.5</td>\n",
              "      <td>0.2</td>\n",
              "    </tr>\n",
              "    <tr>\n",
              "      <th>4</th>\n",
              "      <td>5.0</td>\n",
              "      <td>3.6</td>\n",
              "      <td>1.4</td>\n",
              "      <td>0.2</td>\n",
              "    </tr>\n",
              "    <tr>\n",
              "      <th>...</th>\n",
              "      <td>...</td>\n",
              "      <td>...</td>\n",
              "      <td>...</td>\n",
              "      <td>...</td>\n",
              "    </tr>\n",
              "    <tr>\n",
              "      <th>145</th>\n",
              "      <td>6.7</td>\n",
              "      <td>3.0</td>\n",
              "      <td>5.2</td>\n",
              "      <td>2.3</td>\n",
              "    </tr>\n",
              "    <tr>\n",
              "      <th>146</th>\n",
              "      <td>6.3</td>\n",
              "      <td>2.5</td>\n",
              "      <td>5.0</td>\n",
              "      <td>1.9</td>\n",
              "    </tr>\n",
              "    <tr>\n",
              "      <th>147</th>\n",
              "      <td>6.5</td>\n",
              "      <td>3.0</td>\n",
              "      <td>5.2</td>\n",
              "      <td>2.0</td>\n",
              "    </tr>\n",
              "    <tr>\n",
              "      <th>148</th>\n",
              "      <td>6.2</td>\n",
              "      <td>3.4</td>\n",
              "      <td>5.4</td>\n",
              "      <td>2.3</td>\n",
              "    </tr>\n",
              "    <tr>\n",
              "      <th>149</th>\n",
              "      <td>5.9</td>\n",
              "      <td>3.0</td>\n",
              "      <td>5.1</td>\n",
              "      <td>1.8</td>\n",
              "    </tr>\n",
              "  </tbody>\n",
              "</table>\n",
              "<p>150 rows × 4 columns</p>\n",
              "</div>"
            ],
            "text/plain": [
              "       0    1    2    3\n",
              "0    5.1  3.5  1.4  0.2\n",
              "1    4.9  3.0  1.4  0.2\n",
              "2    4.7  3.2  1.3  0.2\n",
              "3    4.6  3.1  1.5  0.2\n",
              "4    5.0  3.6  1.4  0.2\n",
              "..   ...  ...  ...  ...\n",
              "145  6.7  3.0  5.2  2.3\n",
              "146  6.3  2.5  5.0  1.9\n",
              "147  6.5  3.0  5.2  2.0\n",
              "148  6.2  3.4  5.4  2.3\n",
              "149  5.9  3.0  5.1  1.8\n",
              "\n",
              "[150 rows x 4 columns]"
            ]
          },
          "metadata": {
            "tags": []
          },
          "execution_count": 58
        }
      ]
    },
    {
      "cell_type": "code",
      "metadata": {
        "colab": {
          "base_uri": "https://localhost:8080/",
          "height": 204
        },
        "id": "uVz_GFq1kyxp",
        "outputId": "589afbdd-2f16-432c-80d9-ebb6af770f74"
      },
      "source": [
        "X.shape\n",
        "(150,4)\n",
        "X.columns=['Sepal_length','Sepal_width','petal_length','petal_width']\n",
        "X.head()"
      ],
      "execution_count": null,
      "outputs": [
        {
          "output_type": "execute_result",
          "data": {
            "text/html": [
              "<div>\n",
              "<style scoped>\n",
              "    .dataframe tbody tr th:only-of-type {\n",
              "        vertical-align: middle;\n",
              "    }\n",
              "\n",
              "    .dataframe tbody tr th {\n",
              "        vertical-align: top;\n",
              "    }\n",
              "\n",
              "    .dataframe thead th {\n",
              "        text-align: right;\n",
              "    }\n",
              "</style>\n",
              "<table border=\"1\" class=\"dataframe\">\n",
              "  <thead>\n",
              "    <tr style=\"text-align: right;\">\n",
              "      <th></th>\n",
              "      <th>Sepal_length</th>\n",
              "      <th>Sepal_width</th>\n",
              "      <th>petal_length</th>\n",
              "      <th>petal_width</th>\n",
              "    </tr>\n",
              "  </thead>\n",
              "  <tbody>\n",
              "    <tr>\n",
              "      <th>0</th>\n",
              "      <td>5.1</td>\n",
              "      <td>3.5</td>\n",
              "      <td>1.4</td>\n",
              "      <td>0.2</td>\n",
              "    </tr>\n",
              "    <tr>\n",
              "      <th>1</th>\n",
              "      <td>4.9</td>\n",
              "      <td>3.0</td>\n",
              "      <td>1.4</td>\n",
              "      <td>0.2</td>\n",
              "    </tr>\n",
              "    <tr>\n",
              "      <th>2</th>\n",
              "      <td>4.7</td>\n",
              "      <td>3.2</td>\n",
              "      <td>1.3</td>\n",
              "      <td>0.2</td>\n",
              "    </tr>\n",
              "    <tr>\n",
              "      <th>3</th>\n",
              "      <td>4.6</td>\n",
              "      <td>3.1</td>\n",
              "      <td>1.5</td>\n",
              "      <td>0.2</td>\n",
              "    </tr>\n",
              "    <tr>\n",
              "      <th>4</th>\n",
              "      <td>5.0</td>\n",
              "      <td>3.6</td>\n",
              "      <td>1.4</td>\n",
              "      <td>0.2</td>\n",
              "    </tr>\n",
              "  </tbody>\n",
              "</table>\n",
              "</div>"
            ],
            "text/plain": [
              "   Sepal_length  Sepal_width  petal_length  petal_width\n",
              "0           5.1          3.5           1.4          0.2\n",
              "1           4.9          3.0           1.4          0.2\n",
              "2           4.7          3.2           1.3          0.2\n",
              "3           4.6          3.1           1.5          0.2\n",
              "4           5.0          3.6           1.4          0.2"
            ]
          },
          "metadata": {
            "tags": []
          },
          "execution_count": 59
        }
      ]
    },
    {
      "cell_type": "code",
      "metadata": {
        "colab": {
          "base_uri": "https://localhost:8080/",
          "height": 204
        },
        "id": "9iTcrtR6lc-J",
        "outputId": "53ea3b94-ac54-469e-ec23-5b4cb59113da"
      },
      "source": [
        "X.tail()"
      ],
      "execution_count": null,
      "outputs": [
        {
          "output_type": "execute_result",
          "data": {
            "text/html": [
              "<div>\n",
              "<style scoped>\n",
              "    .dataframe tbody tr th:only-of-type {\n",
              "        vertical-align: middle;\n",
              "    }\n",
              "\n",
              "    .dataframe tbody tr th {\n",
              "        vertical-align: top;\n",
              "    }\n",
              "\n",
              "    .dataframe thead th {\n",
              "        text-align: right;\n",
              "    }\n",
              "</style>\n",
              "<table border=\"1\" class=\"dataframe\">\n",
              "  <thead>\n",
              "    <tr style=\"text-align: right;\">\n",
              "      <th></th>\n",
              "      <th>Sepal_length</th>\n",
              "      <th>Sepal_width</th>\n",
              "      <th>petal_length</th>\n",
              "      <th>petal_width</th>\n",
              "    </tr>\n",
              "  </thead>\n",
              "  <tbody>\n",
              "    <tr>\n",
              "      <th>145</th>\n",
              "      <td>6.7</td>\n",
              "      <td>3.0</td>\n",
              "      <td>5.2</td>\n",
              "      <td>2.3</td>\n",
              "    </tr>\n",
              "    <tr>\n",
              "      <th>146</th>\n",
              "      <td>6.3</td>\n",
              "      <td>2.5</td>\n",
              "      <td>5.0</td>\n",
              "      <td>1.9</td>\n",
              "    </tr>\n",
              "    <tr>\n",
              "      <th>147</th>\n",
              "      <td>6.5</td>\n",
              "      <td>3.0</td>\n",
              "      <td>5.2</td>\n",
              "      <td>2.0</td>\n",
              "    </tr>\n",
              "    <tr>\n",
              "      <th>148</th>\n",
              "      <td>6.2</td>\n",
              "      <td>3.4</td>\n",
              "      <td>5.4</td>\n",
              "      <td>2.3</td>\n",
              "    </tr>\n",
              "    <tr>\n",
              "      <th>149</th>\n",
              "      <td>5.9</td>\n",
              "      <td>3.0</td>\n",
              "      <td>5.1</td>\n",
              "      <td>1.8</td>\n",
              "    </tr>\n",
              "  </tbody>\n",
              "</table>\n",
              "</div>"
            ],
            "text/plain": [
              "     Sepal_length  Sepal_width  petal_length  petal_width\n",
              "145           6.7          3.0           5.2          2.3\n",
              "146           6.3          2.5           5.0          1.9\n",
              "147           6.5          3.0           5.2          2.0\n",
              "148           6.2          3.4           5.4          2.3\n",
              "149           5.9          3.0           5.1          1.8"
            ]
          },
          "metadata": {
            "tags": []
          },
          "execution_count": 62
        }
      ]
    },
    {
      "cell_type": "code",
      "metadata": {
        "colab": {
          "base_uri": "https://localhost:8080/",
          "height": 297
        },
        "id": "XSuAcp56lga0",
        "outputId": "d74f2cfc-dcdc-4276-87a8-341dde42a9a0"
      },
      "source": [
        "X.describe()"
      ],
      "execution_count": null,
      "outputs": [
        {
          "output_type": "execute_result",
          "data": {
            "text/html": [
              "<div>\n",
              "<style scoped>\n",
              "    .dataframe tbody tr th:only-of-type {\n",
              "        vertical-align: middle;\n",
              "    }\n",
              "\n",
              "    .dataframe tbody tr th {\n",
              "        vertical-align: top;\n",
              "    }\n",
              "\n",
              "    .dataframe thead th {\n",
              "        text-align: right;\n",
              "    }\n",
              "</style>\n",
              "<table border=\"1\" class=\"dataframe\">\n",
              "  <thead>\n",
              "    <tr style=\"text-align: right;\">\n",
              "      <th></th>\n",
              "      <th>Sepal_length</th>\n",
              "      <th>Sepal_width</th>\n",
              "      <th>petal_length</th>\n",
              "      <th>petal_width</th>\n",
              "    </tr>\n",
              "  </thead>\n",
              "  <tbody>\n",
              "    <tr>\n",
              "      <th>count</th>\n",
              "      <td>150.000000</td>\n",
              "      <td>150.000000</td>\n",
              "      <td>150.000000</td>\n",
              "      <td>150.000000</td>\n",
              "    </tr>\n",
              "    <tr>\n",
              "      <th>mean</th>\n",
              "      <td>5.843333</td>\n",
              "      <td>3.057333</td>\n",
              "      <td>3.758000</td>\n",
              "      <td>1.199333</td>\n",
              "    </tr>\n",
              "    <tr>\n",
              "      <th>std</th>\n",
              "      <td>0.828066</td>\n",
              "      <td>0.435866</td>\n",
              "      <td>1.765298</td>\n",
              "      <td>0.762238</td>\n",
              "    </tr>\n",
              "    <tr>\n",
              "      <th>min</th>\n",
              "      <td>4.300000</td>\n",
              "      <td>2.000000</td>\n",
              "      <td>1.000000</td>\n",
              "      <td>0.100000</td>\n",
              "    </tr>\n",
              "    <tr>\n",
              "      <th>25%</th>\n",
              "      <td>5.100000</td>\n",
              "      <td>2.800000</td>\n",
              "      <td>1.600000</td>\n",
              "      <td>0.300000</td>\n",
              "    </tr>\n",
              "    <tr>\n",
              "      <th>50%</th>\n",
              "      <td>5.800000</td>\n",
              "      <td>3.000000</td>\n",
              "      <td>4.350000</td>\n",
              "      <td>1.300000</td>\n",
              "    </tr>\n",
              "    <tr>\n",
              "      <th>75%</th>\n",
              "      <td>6.400000</td>\n",
              "      <td>3.300000</td>\n",
              "      <td>5.100000</td>\n",
              "      <td>1.800000</td>\n",
              "    </tr>\n",
              "    <tr>\n",
              "      <th>max</th>\n",
              "      <td>7.900000</td>\n",
              "      <td>4.400000</td>\n",
              "      <td>6.900000</td>\n",
              "      <td>2.500000</td>\n",
              "    </tr>\n",
              "  </tbody>\n",
              "</table>\n",
              "</div>"
            ],
            "text/plain": [
              "       Sepal_length  Sepal_width  petal_length  petal_width\n",
              "count    150.000000   150.000000    150.000000   150.000000\n",
              "mean       5.843333     3.057333      3.758000     1.199333\n",
              "std        0.828066     0.435866      1.765298     0.762238\n",
              "min        4.300000     2.000000      1.000000     0.100000\n",
              "25%        5.100000     2.800000      1.600000     0.300000\n",
              "50%        5.800000     3.000000      4.350000     1.300000\n",
              "75%        6.400000     3.300000      5.100000     1.800000\n",
              "max        7.900000     4.400000      6.900000     2.500000"
            ]
          },
          "metadata": {
            "tags": []
          },
          "execution_count": 63
        }
      ]
    },
    {
      "cell_type": "code",
      "metadata": {
        "colab": {
          "base_uri": "https://localhost:8080/",
          "height": 173
        },
        "id": "vaiV5TKDltx8",
        "outputId": "6838a8de-1705-4502-e30d-564f8898c5b2"
      },
      "source": [
        "X.cov()"
      ],
      "execution_count": null,
      "outputs": [
        {
          "output_type": "execute_result",
          "data": {
            "text/html": [
              "<div>\n",
              "<style scoped>\n",
              "    .dataframe tbody tr th:only-of-type {\n",
              "        vertical-align: middle;\n",
              "    }\n",
              "\n",
              "    .dataframe tbody tr th {\n",
              "        vertical-align: top;\n",
              "    }\n",
              "\n",
              "    .dataframe thead th {\n",
              "        text-align: right;\n",
              "    }\n",
              "</style>\n",
              "<table border=\"1\" class=\"dataframe\">\n",
              "  <thead>\n",
              "    <tr style=\"text-align: right;\">\n",
              "      <th></th>\n",
              "      <th>Sepal_length</th>\n",
              "      <th>Sepal_width</th>\n",
              "      <th>petal_length</th>\n",
              "      <th>petal_width</th>\n",
              "    </tr>\n",
              "  </thead>\n",
              "  <tbody>\n",
              "    <tr>\n",
              "      <th>Sepal_length</th>\n",
              "      <td>0.685694</td>\n",
              "      <td>-0.042434</td>\n",
              "      <td>1.274315</td>\n",
              "      <td>0.516271</td>\n",
              "    </tr>\n",
              "    <tr>\n",
              "      <th>Sepal_width</th>\n",
              "      <td>-0.042434</td>\n",
              "      <td>0.189979</td>\n",
              "      <td>-0.329656</td>\n",
              "      <td>-0.121639</td>\n",
              "    </tr>\n",
              "    <tr>\n",
              "      <th>petal_length</th>\n",
              "      <td>1.274315</td>\n",
              "      <td>-0.329656</td>\n",
              "      <td>3.116278</td>\n",
              "      <td>1.295609</td>\n",
              "    </tr>\n",
              "    <tr>\n",
              "      <th>petal_width</th>\n",
              "      <td>0.516271</td>\n",
              "      <td>-0.121639</td>\n",
              "      <td>1.295609</td>\n",
              "      <td>0.581006</td>\n",
              "    </tr>\n",
              "  </tbody>\n",
              "</table>\n",
              "</div>"
            ],
            "text/plain": [
              "              Sepal_length  Sepal_width  petal_length  petal_width\n",
              "Sepal_length      0.685694    -0.042434      1.274315     0.516271\n",
              "Sepal_width      -0.042434     0.189979     -0.329656    -0.121639\n",
              "petal_length      1.274315    -0.329656      3.116278     1.295609\n",
              "petal_width       0.516271    -0.121639      1.295609     0.581006"
            ]
          },
          "metadata": {
            "tags": []
          },
          "execution_count": 64
        }
      ]
    },
    {
      "cell_type": "code",
      "metadata": {
        "colab": {
          "base_uri": "https://localhost:8080/",
          "height": 173
        },
        "id": "OFavAnFWl2ex",
        "outputId": "b507a49c-5d85-4bd7-99f5-34605ad1ce96"
      },
      "source": [
        "X.corr()"
      ],
      "execution_count": null,
      "outputs": [
        {
          "output_type": "execute_result",
          "data": {
            "text/html": [
              "<div>\n",
              "<style scoped>\n",
              "    .dataframe tbody tr th:only-of-type {\n",
              "        vertical-align: middle;\n",
              "    }\n",
              "\n",
              "    .dataframe tbody tr th {\n",
              "        vertical-align: top;\n",
              "    }\n",
              "\n",
              "    .dataframe thead th {\n",
              "        text-align: right;\n",
              "    }\n",
              "</style>\n",
              "<table border=\"1\" class=\"dataframe\">\n",
              "  <thead>\n",
              "    <tr style=\"text-align: right;\">\n",
              "      <th></th>\n",
              "      <th>Sepal_length</th>\n",
              "      <th>Sepal_width</th>\n",
              "      <th>petal_length</th>\n",
              "      <th>petal_width</th>\n",
              "    </tr>\n",
              "  </thead>\n",
              "  <tbody>\n",
              "    <tr>\n",
              "      <th>Sepal_length</th>\n",
              "      <td>1.000000</td>\n",
              "      <td>-0.117570</td>\n",
              "      <td>0.871754</td>\n",
              "      <td>0.817941</td>\n",
              "    </tr>\n",
              "    <tr>\n",
              "      <th>Sepal_width</th>\n",
              "      <td>-0.117570</td>\n",
              "      <td>1.000000</td>\n",
              "      <td>-0.428440</td>\n",
              "      <td>-0.366126</td>\n",
              "    </tr>\n",
              "    <tr>\n",
              "      <th>petal_length</th>\n",
              "      <td>0.871754</td>\n",
              "      <td>-0.428440</td>\n",
              "      <td>1.000000</td>\n",
              "      <td>0.962865</td>\n",
              "    </tr>\n",
              "    <tr>\n",
              "      <th>petal_width</th>\n",
              "      <td>0.817941</td>\n",
              "      <td>-0.366126</td>\n",
              "      <td>0.962865</td>\n",
              "      <td>1.000000</td>\n",
              "    </tr>\n",
              "  </tbody>\n",
              "</table>\n",
              "</div>"
            ],
            "text/plain": [
              "              Sepal_length  Sepal_width  petal_length  petal_width\n",
              "Sepal_length      1.000000    -0.117570      0.871754     0.817941\n",
              "Sepal_width      -0.117570     1.000000     -0.428440    -0.366126\n",
              "petal_length      0.871754    -0.428440      1.000000     0.962865\n",
              "petal_width       0.817941    -0.366126      0.962865     1.000000"
            ]
          },
          "metadata": {
            "tags": []
          },
          "execution_count": 65
        }
      ]
    },
    {
      "cell_type": "code",
      "metadata": {
        "colab": {
          "base_uri": "https://localhost:8080/"
        },
        "id": "NBOfcSsrmCRW",
        "outputId": "559f6232-a6d2-4e44-98ef-79de977cfcb2"
      },
      "source": [
        "import numpy as np\n",
        "df=pd.DataFrame({'Name':['Pooji','Nani','Chinni','Chikki'],'state':['IND','USA','UK','USSR'],'Grade':['A','A','B','C'],'Age':np.random.uniform(24,35,size=4),'salary':np.random.uniform(3000,5000,size=4),})\n",
        "print(df)"
      ],
      "execution_count": null,
      "outputs": [
        {
          "output_type": "stream",
          "text": [
            "     Name state Grade        Age       salary\n",
            "0   Pooji   IND     A  30.906880  3595.154133\n",
            "1    Nani   USA     A  34.991981  4261.790535\n",
            "2  Chinni    UK     B  33.773451  4475.564708\n",
            "3  Chikki  USSR     C  33.556051  3680.246936\n"
          ],
          "name": "stdout"
        }
      ]
    },
    {
      "cell_type": "code",
      "metadata": {
        "colab": {
          "base_uri": "https://localhost:8080/",
          "height": 204
        },
        "id": "DA4t50OALR5X",
        "outputId": "088284b6-056f-42aa-a685-49c89339a218"
      },
      "source": [
        "import numpy as np\n",
        "import pandas as pd\n",
        "df=pd.DataFrame({'Name':['Pooji','Nani','Chinni','Chikki'],'state':['IND','USA','UK','USSR'],'Grade':['A','A','B','C'],'Age':np.random.uniform(24,35,size=4),'salary':np.random.uniform(3000,5000,size=4),})\n",
        "df.groupby(['Name','state']).max()"
      ],
      "execution_count": null,
      "outputs": [
        {
          "output_type": "execute_result",
          "data": {
            "text/html": [
              "<div>\n",
              "<style scoped>\n",
              "    .dataframe tbody tr th:only-of-type {\n",
              "        vertical-align: middle;\n",
              "    }\n",
              "\n",
              "    .dataframe tbody tr th {\n",
              "        vertical-align: top;\n",
              "    }\n",
              "\n",
              "    .dataframe thead th {\n",
              "        text-align: right;\n",
              "    }\n",
              "</style>\n",
              "<table border=\"1\" class=\"dataframe\">\n",
              "  <thead>\n",
              "    <tr style=\"text-align: right;\">\n",
              "      <th></th>\n",
              "      <th></th>\n",
              "      <th>Grade</th>\n",
              "      <th>Age</th>\n",
              "      <th>salary</th>\n",
              "    </tr>\n",
              "    <tr>\n",
              "      <th>Name</th>\n",
              "      <th>state</th>\n",
              "      <th></th>\n",
              "      <th></th>\n",
              "      <th></th>\n",
              "    </tr>\n",
              "  </thead>\n",
              "  <tbody>\n",
              "    <tr>\n",
              "      <th>Chikki</th>\n",
              "      <th>USSR</th>\n",
              "      <td>C</td>\n",
              "      <td>29.794042</td>\n",
              "      <td>4609.179273</td>\n",
              "    </tr>\n",
              "    <tr>\n",
              "      <th>Chinni</th>\n",
              "      <th>UK</th>\n",
              "      <td>B</td>\n",
              "      <td>26.926079</td>\n",
              "      <td>3885.134254</td>\n",
              "    </tr>\n",
              "    <tr>\n",
              "      <th>Nani</th>\n",
              "      <th>USA</th>\n",
              "      <td>A</td>\n",
              "      <td>29.096474</td>\n",
              "      <td>3512.814611</td>\n",
              "    </tr>\n",
              "    <tr>\n",
              "      <th>Pooji</th>\n",
              "      <th>IND</th>\n",
              "      <td>A</td>\n",
              "      <td>26.294071</td>\n",
              "      <td>3363.990431</td>\n",
              "    </tr>\n",
              "  </tbody>\n",
              "</table>\n",
              "</div>"
            ],
            "text/plain": [
              "             Grade        Age       salary\n",
              "Name   state                              \n",
              "Chikki USSR      C  29.794042  4609.179273\n",
              "Chinni UK        B  26.926079  3885.134254\n",
              "Nani   USA       A  29.096474  3512.814611\n",
              "Pooji  IND       A  26.294071  3363.990431"
            ]
          },
          "metadata": {
            "tags": []
          },
          "execution_count": 5
        }
      ]
    },
    {
      "cell_type": "markdown",
      "metadata": {
        "id": "qiZ1laGtM_IJ"
      },
      "source": [
        "# **Scipy**"
      ]
    },
    {
      "cell_type": "code",
      "metadata": {
        "colab": {
          "base_uri": "https://localhost:8080/"
        },
        "id": "EPF3kTwkNFU0",
        "outputId": "e8979359-2455-451a-f74f-371fd51e5dc3"
      },
      "source": [
        "import numpy as np\n",
        "np.linspace(1.,4.,6)"
      ],
      "execution_count": null,
      "outputs": [
        {
          "output_type": "execute_result",
          "data": {
            "text/plain": [
              "array([1. , 1.6, 2.2, 2.8, 3.4, 4. ])"
            ]
          },
          "metadata": {
            "tags": []
          },
          "execution_count": 6
        }
      ]
    },
    {
      "cell_type": "code",
      "metadata": {
        "colab": {
          "base_uri": "https://localhost:8080/"
        },
        "id": "oSi5WqP-NnaS",
        "outputId": "782c3576-6eb5-43d1-ab69-1cfda25fa00a"
      },
      "source": [
        "from scipy.cluster.vq import kmeans,vq,whiten\n",
        "from numpy import vstack,array\n",
        "from numpy.random import rand\n",
        "\n",
        "data=vstack((rand(100,3)+array([.5,.5,.5]),rand(100,3)))\n",
        "data"
      ],
      "execution_count": null,
      "outputs": [
        {
          "output_type": "execute_result",
          "data": {
            "text/plain": [
              "array([[0.90258909, 0.9233607 , 0.78273525],\n",
              "       [0.59467738, 1.02911659, 0.88358223],\n",
              "       [0.92905869, 0.80844347, 0.82420722],\n",
              "       [1.06828604, 0.81638002, 0.88543623],\n",
              "       [0.76992404, 1.26167714, 1.10877409],\n",
              "       [0.94258935, 1.0448952 , 1.06661058],\n",
              "       [0.58711959, 0.74227861, 0.79150924],\n",
              "       [1.19399041, 1.33268416, 0.61880348],\n",
              "       [1.44290692, 1.36136538, 0.78877052],\n",
              "       [1.03774349, 0.6544453 , 0.51597171],\n",
              "       [0.85270142, 1.09004265, 1.46484699],\n",
              "       [1.49274988, 1.22665456, 0.61984447],\n",
              "       [1.40821041, 1.41990694, 1.30399566],\n",
              "       [1.15292093, 1.47797535, 1.49433546],\n",
              "       [1.23392988, 1.28656044, 1.19497233],\n",
              "       [1.30474702, 1.17295312, 0.99283884],\n",
              "       [1.11447917, 1.05786207, 1.20734399],\n",
              "       [0.57127275, 1.00986092, 0.7823292 ],\n",
              "       [0.65881379, 0.5586953 , 1.19068023],\n",
              "       [0.63549054, 1.43347337, 1.20934843],\n",
              "       [1.29225155, 1.18181672, 1.02012635],\n",
              "       [1.29555226, 0.97626639, 1.485882  ],\n",
              "       [0.64667569, 0.69919071, 1.1864496 ],\n",
              "       [0.93023392, 0.91972667, 1.2469598 ],\n",
              "       [0.82753469, 0.96163331, 1.01320967],\n",
              "       [1.49970107, 0.50047758, 1.2111403 ],\n",
              "       [1.01357654, 0.87647747, 1.24656772],\n",
              "       [1.45615945, 1.42696013, 0.62253123],\n",
              "       [1.06189792, 1.49445231, 0.63966425],\n",
              "       [0.84649455, 1.35510061, 1.48476767],\n",
              "       [0.97081189, 1.29297546, 1.26874188],\n",
              "       [1.20442852, 0.91949897, 0.88777343],\n",
              "       [0.95969091, 0.73892865, 0.5579961 ],\n",
              "       [0.74723184, 0.59132549, 0.66483177],\n",
              "       [0.5757808 , 0.77717716, 1.23873048],\n",
              "       [1.21637942, 1.30881095, 1.14530707],\n",
              "       [0.66188824, 1.04102459, 0.62415182],\n",
              "       [1.48653083, 0.93795358, 1.32296478],\n",
              "       [0.76699392, 1.14114594, 0.70449482],\n",
              "       [0.9997548 , 0.87533817, 0.8307093 ],\n",
              "       [1.25160065, 0.83891044, 0.55252769],\n",
              "       [0.53980197, 0.53559352, 0.70849509],\n",
              "       [0.84755593, 1.30884233, 1.11748818],\n",
              "       [0.61598479, 0.92493323, 0.62984949],\n",
              "       [0.58814621, 1.43817664, 1.00232063],\n",
              "       [1.02392348, 0.98574837, 0.83436041],\n",
              "       [1.16143734, 0.63678783, 0.60890533],\n",
              "       [1.45800622, 1.31447604, 1.20930403],\n",
              "       [1.14004837, 0.94355688, 0.59025659],\n",
              "       [0.98340077, 1.04390078, 0.6218841 ],\n",
              "       [1.07777382, 1.41688591, 0.86597751],\n",
              "       [1.17337323, 0.68930459, 0.54606734],\n",
              "       [0.78309997, 0.70960006, 0.8653093 ],\n",
              "       [0.8879114 , 0.83011562, 1.24778146],\n",
              "       [0.85948029, 1.14241534, 0.91087691],\n",
              "       [1.13946389, 1.28495366, 1.23643912],\n",
              "       [1.26684229, 0.52693652, 1.4311785 ],\n",
              "       [1.15827702, 1.1111431 , 0.63416144],\n",
              "       [0.63860458, 0.71161294, 0.94442562],\n",
              "       [1.3704276 , 0.6077474 , 1.48138821],\n",
              "       [1.31118051, 0.73155254, 1.08782751],\n",
              "       [1.35369434, 1.03676756, 0.79614547],\n",
              "       [1.12198808, 1.33732509, 0.56966067],\n",
              "       [0.79772746, 1.12688069, 0.89007352],\n",
              "       [0.78648163, 1.41425307, 0.643627  ],\n",
              "       [1.20247435, 0.943935  , 1.44587146],\n",
              "       [1.49475678, 1.11072187, 0.84366801],\n",
              "       [1.33786392, 1.15084967, 1.17705816],\n",
              "       [0.96066687, 1.02767765, 1.15849066],\n",
              "       [1.04411198, 1.30970335, 1.22226255],\n",
              "       [0.99443016, 1.25931139, 0.91505708],\n",
              "       [0.56525815, 0.70391531, 1.00848196],\n",
              "       [1.45605774, 1.1227499 , 1.37446768],\n",
              "       [0.80159537, 0.63754161, 0.67481869],\n",
              "       [0.61087394, 0.53003069, 1.37678619],\n",
              "       [1.40909012, 1.05431657, 1.28390123],\n",
              "       [0.58552604, 1.39334136, 1.46784215],\n",
              "       [0.76007947, 1.2707905 , 1.074213  ],\n",
              "       [0.92797269, 1.43958244, 1.09042497],\n",
              "       [1.17085634, 1.06658821, 0.61666982],\n",
              "       [0.59000669, 1.25982193, 1.13789125],\n",
              "       [0.51608316, 0.83012847, 0.6127904 ],\n",
              "       [1.09280455, 0.57073751, 1.00793109],\n",
              "       [1.01206111, 0.98203484, 1.41908013],\n",
              "       [0.69662439, 1.46320211, 1.40306785],\n",
              "       [1.38241966, 0.95340089, 1.30997257],\n",
              "       [0.58563662, 1.46466236, 0.64443376],\n",
              "       [1.26564012, 1.27183803, 1.00808757],\n",
              "       [0.52456795, 0.81942255, 0.92719367],\n",
              "       [1.45929586, 0.54529861, 1.3083621 ],\n",
              "       [1.14703986, 0.63288548, 0.71837376],\n",
              "       [1.22652008, 1.43131835, 1.06637656],\n",
              "       [1.02921344, 1.11243052, 0.96380805],\n",
              "       [1.19600774, 0.5794606 , 1.3099592 ],\n",
              "       [0.98781484, 1.35474065, 0.91241969],\n",
              "       [0.76589373, 1.38556909, 0.97070795],\n",
              "       [0.55335424, 1.35910935, 0.55335161],\n",
              "       [0.95339132, 0.86949925, 1.1040147 ],\n",
              "       [0.89552672, 1.25599239, 0.50617841],\n",
              "       [1.01715954, 0.78484229, 1.49962841],\n",
              "       [0.86068786, 0.2377167 , 0.55994464],\n",
              "       [0.06425653, 0.31401267, 0.56481495],\n",
              "       [0.44344503, 0.24421938, 0.95464525],\n",
              "       [0.76926639, 0.68381996, 0.79346376],\n",
              "       [0.20507122, 0.33741937, 0.57822631],\n",
              "       [0.60792543, 0.25656461, 0.56548285],\n",
              "       [0.65104721, 0.78693724, 0.99859954],\n",
              "       [0.48637761, 0.36263925, 0.32955697],\n",
              "       [0.18274878, 0.33986181, 0.93453412],\n",
              "       [0.69062953, 0.22703984, 0.12138509],\n",
              "       [0.98989726, 0.31459713, 0.44119669],\n",
              "       [0.99493139, 0.20696692, 0.82105021],\n",
              "       [0.34853092, 0.06487449, 0.13876648],\n",
              "       [0.14629113, 0.20368187, 0.45559415],\n",
              "       [0.03560951, 0.96194473, 0.34518881],\n",
              "       [0.51475709, 0.65558621, 0.84163954],\n",
              "       [0.3875166 , 0.43220638, 0.24173023],\n",
              "       [0.25426495, 0.78241574, 0.20626528],\n",
              "       [0.95264866, 0.61315148, 0.95103855],\n",
              "       [0.2089643 , 0.79410251, 0.47676074],\n",
              "       [0.20868813, 0.44000226, 0.97889266],\n",
              "       [0.49536616, 0.56102885, 0.39558642],\n",
              "       [0.43166391, 0.57588882, 0.72851545],\n",
              "       [0.17651042, 0.86067459, 0.10542357],\n",
              "       [0.97839261, 0.11630586, 0.63266626],\n",
              "       [0.62845393, 0.18853828, 0.98749735],\n",
              "       [0.6830068 , 0.81776014, 0.51055496],\n",
              "       [0.86857205, 0.91414478, 0.64007984],\n",
              "       [0.82793806, 0.28397981, 0.87170645],\n",
              "       [0.10625727, 0.37416101, 0.45947383],\n",
              "       [0.06643679, 0.03931063, 0.42594455],\n",
              "       [0.17673166, 0.60955098, 0.27720271],\n",
              "       [0.76957717, 0.51307752, 0.67392963],\n",
              "       [0.45799389, 0.21853419, 0.75159934],\n",
              "       [0.52191585, 0.19896865, 0.20509162],\n",
              "       [0.27753135, 0.66555785, 0.95391399],\n",
              "       [0.50338572, 0.7692001 , 0.86909786],\n",
              "       [0.50481974, 0.24270785, 0.33999964],\n",
              "       [0.61782399, 0.00722093, 0.33348401],\n",
              "       [0.51358345, 0.35162125, 0.05720717],\n",
              "       [0.11243845, 0.9208769 , 0.84219636],\n",
              "       [0.49353842, 0.92773451, 0.0248477 ],\n",
              "       [0.541471  , 0.88807862, 0.70531058],\n",
              "       [0.48404314, 0.61143539, 0.93761924],\n",
              "       [0.83285481, 0.35926784, 0.08085151],\n",
              "       [0.91214609, 0.19766873, 0.94034515],\n",
              "       [0.1095405 , 0.56773435, 0.92207371],\n",
              "       [0.84289792, 0.76474737, 0.02687762],\n",
              "       [0.06929542, 0.20781217, 0.62520332],\n",
              "       [0.27373311, 0.58429059, 0.15565067],\n",
              "       [0.72315133, 0.07740287, 0.27639545],\n",
              "       [0.15788027, 0.80707317, 0.17586679],\n",
              "       [0.50905494, 0.85452629, 0.66115532],\n",
              "       [0.85580153, 0.94340317, 0.87312632],\n",
              "       [0.84404727, 0.41752943, 0.19726673],\n",
              "       [0.70888777, 0.25867885, 0.75558078],\n",
              "       [0.10172045, 0.84613179, 0.53379901],\n",
              "       [0.38194503, 0.50272095, 0.36474123],\n",
              "       [0.6283201 , 0.72299801, 0.17464367],\n",
              "       [0.95201257, 0.43412266, 0.32635993],\n",
              "       [0.79999402, 0.81342886, 0.13523973],\n",
              "       [0.64290095, 0.53969302, 0.74064873],\n",
              "       [0.84310504, 0.20689202, 0.54067315],\n",
              "       [0.31952672, 0.15427658, 0.19926914],\n",
              "       [0.04634108, 0.87859572, 0.43707691],\n",
              "       [0.50975253, 0.88673843, 0.81826561],\n",
              "       [0.00459684, 0.97312351, 0.36139616],\n",
              "       [0.41016466, 0.5875825 , 0.17489793],\n",
              "       [0.92119344, 0.80525275, 0.44457664],\n",
              "       [0.52329283, 0.52775626, 0.83056725],\n",
              "       [0.50453726, 0.12742318, 0.78923957],\n",
              "       [0.9490697 , 0.82733941, 0.14286298],\n",
              "       [0.82188257, 0.56820204, 0.59863001],\n",
              "       [0.09143569, 0.19998288, 0.55243043],\n",
              "       [0.5608069 , 0.08672508, 0.88710229],\n",
              "       [0.94531392, 0.68075671, 0.67893748],\n",
              "       [0.74986331, 0.26630244, 0.40979525],\n",
              "       [0.71336116, 0.79332005, 0.33869005],\n",
              "       [0.08826836, 0.92720718, 0.30606272],\n",
              "       [0.35836264, 0.16014486, 0.63728494],\n",
              "       [0.55233199, 0.2888806 , 0.47563914],\n",
              "       [0.20594669, 0.01331137, 0.62108883],\n",
              "       [0.70349759, 0.38695172, 0.23616584],\n",
              "       [0.22119057, 0.95010456, 0.73933015],\n",
              "       [0.80910572, 0.95147379, 0.0911441 ],\n",
              "       [0.83574344, 0.23982359, 0.80928476],\n",
              "       [0.77407265, 0.67164427, 0.49485371],\n",
              "       [0.36959935, 0.07031639, 0.05503637],\n",
              "       [0.29428464, 0.38605459, 0.05019901],\n",
              "       [0.20317641, 0.47141657, 0.96686575],\n",
              "       [0.91721102, 0.10076366, 0.98461672],\n",
              "       [0.37077509, 0.98651745, 0.0479317 ],\n",
              "       [0.85010544, 0.30604377, 0.36614689],\n",
              "       [0.34711652, 0.50387814, 0.39320081],\n",
              "       [0.43139018, 0.1138588 , 0.40052432],\n",
              "       [0.81597971, 0.16072113, 0.40345119],\n",
              "       [0.70349083, 0.70535105, 0.80593901],\n",
              "       [0.09008462, 0.46805429, 0.14724626],\n",
              "       [0.26841057, 0.61245528, 0.59952754],\n",
              "       [0.58800927, 0.70321176, 0.18436141]])"
            ]
          },
          "metadata": {
            "tags": []
          },
          "execution_count": 10
        }
      ]
    },
    {
      "cell_type": "code",
      "metadata": {
        "colab": {
          "base_uri": "https://localhost:8080/"
        },
        "id": "LjUMqIBBPmU7",
        "outputId": "adbb633a-c669-4a43-f56c-546158c6bf81"
      },
      "source": [
        "data=whiten(data)\n",
        "data"
      ],
      "execution_count": null,
      "outputs": [
        {
          "output_type": "execute_result",
          "data": {
            "text/plain": [
              "array([[2.41005477, 2.35350275, 2.07361492],\n",
              "       [1.58788209, 2.62305806, 2.3407778 ],\n",
              "       [2.48073275, 2.06059662, 2.18348208],\n",
              "       [2.85249166, 2.08082566, 2.3456894 ],\n",
              "       [2.05581824, 3.21581873, 2.93735398],\n",
              "       [2.51686174, 2.66327528, 2.82565481],\n",
              "       [1.56770161, 1.89195269, 2.0968589 ],\n",
              "       [3.18814209, 3.39680457, 1.6393284 ],\n",
              "       [3.85278831, 3.46990853, 2.08960349],\n",
              "       [2.77093826, 1.66807923, 1.36690744],\n",
              "       [2.27684685, 2.77834912, 3.88065898],\n",
              "       [3.98587685, 3.12655163, 1.64208619],\n",
              "       [3.76014317, 3.61912187, 3.45453314],\n",
              "       [3.07848012, 3.76712921, 3.95877954],\n",
              "       [3.29478676, 3.27924238, 3.16570954],\n",
              "       [3.48387965, 2.98967501, 2.63021939],\n",
              "       [2.97583459, 2.69632582, 3.19848443],\n",
              "       [1.52538804, 2.57397835, 2.07253921],\n",
              "       [1.7591364 , 1.4240274 , 3.15433895],\n",
              "       [1.69685964, 3.65370059, 3.20379458],\n",
              "       [3.4505148 , 3.01226693, 2.70250922],\n",
              "       [3.4593282 , 2.48835113, 3.93638472],\n",
              "       [1.72672576, 1.78212834, 3.14313121],\n",
              "       [2.48387081, 2.34424019, 3.30343427],\n",
              "       [2.20964773, 2.45105368, 2.68418561],\n",
              "       [4.00443763, 1.27563948, 3.20854158],\n",
              "       [2.70640872, 2.2340047 , 3.30239558],\n",
              "       [3.88817466, 3.63709936, 1.64920393],\n",
              "       [2.83543439, 3.80912642, 1.69459257],\n",
              "       [2.26027353, 3.45394063, 3.93343266],\n",
              "       [2.59222038, 3.29559328, 3.36113915],\n",
              "       [3.21601348, 2.3436598 , 2.35188108],\n",
              "       [2.56252561, 1.88341416, 1.47823807],\n",
              "       [1.99522648, 1.50719667, 1.76126611],\n",
              "       [1.53742525, 1.98090367, 3.28163322],\n",
              "       [3.24792426, 3.33595546, 3.03413679],\n",
              "       [1.76734565, 2.65340972, 1.65349718],\n",
              "       [3.969271  , 2.39069774, 3.50478595],\n",
              "       [2.04799434, 2.90860345, 1.86634109],\n",
              "       [2.6695025 , 2.23110081, 2.20070732],\n",
              "       [3.34197049, 2.13825218, 1.46375119],\n",
              "       [1.44135611, 1.36514455, 1.87693857],\n",
              "       [2.26310759, 3.33603546, 2.96043926],\n",
              "       [1.64477621, 2.3575109 , 1.66859139],\n",
              "       [1.57044285, 3.6656885 , 2.65533846],\n",
              "       [2.73403665, 2.51251922, 2.2103798 ],\n",
              "       [3.10122028, 1.6230731 , 1.61310632],\n",
              "       [3.89310582, 3.35039492, 3.20367694],\n",
              "       [3.04410837, 2.40497968, 1.56370224],\n",
              "       [2.62583465, 2.66074068, 1.64748957],\n",
              "       [2.87782553, 3.61142174, 2.29413954],\n",
              "       [3.13309098, 1.75693014, 1.4466365 ],\n",
              "       [2.09100003, 1.80866015, 2.29236931],\n",
              "       [2.37086304, 2.11583557, 3.305611  ],\n",
              "       [2.2949475 , 2.91183896, 2.4130866 ],\n",
              "       [3.04254773, 3.27514695, 3.27556299],\n",
              "       [3.38266806, 1.34307921, 3.79146473],\n",
              "       [3.09278173, 2.83213089, 1.68001457],\n",
              "       [1.70517462, 1.81379067, 2.50196355],\n",
              "       [3.65925715, 1.54905355, 3.92447982],\n",
              "       [3.50105809, 1.8646136 , 2.88186248],\n",
              "       [3.61457669, 2.64255919, 2.10914115],\n",
              "       [2.99588456, 3.40863357, 1.50913972],\n",
              "       [2.13005772, 2.87224354, 2.35797448],\n",
              "       [2.10002959, 3.60471102, 1.70509065],\n",
              "       [3.21079555, 2.40594345, 3.83038917],\n",
              "       [3.99123559, 2.83105723, 2.23503743],\n",
              "       [3.57230698, 2.93333674, 3.11825148],\n",
              "       [2.56513158, 2.61939044, 3.06906265],\n",
              "       [2.78794313, 3.33823006, 3.23800654],\n",
              "       [2.65528487, 3.20978879, 2.42416067],\n",
              "       [1.50932814, 1.79417061, 2.67166101],\n",
              "       [3.88790307, 2.86171482, 3.64122694],\n",
              "       [2.14038565, 1.62499437, 1.78772339],\n",
              "       [1.63112945, 1.35096577, 3.64736912],\n",
              "       [3.76249213, 2.68728891, 3.40129916],\n",
              "       [1.56344659, 3.55141035, 3.88859373],\n",
              "       [2.02953168, 3.23904728, 2.84579507],\n",
              "       [2.47783296, 3.66927165, 2.88874365],\n",
              "       [3.1263705 , 2.71856739, 1.63367594],\n",
              "       [1.57541062, 3.21109009, 3.01449088],\n",
              "       [1.37802317, 2.11586831, 1.62339862],\n",
              "       [2.91795994, 1.4547211 , 2.67020163],\n",
              "       [2.70236226, 2.50305402, 3.75941384],\n",
              "       [1.86009663, 3.72947451, 3.71699426],\n",
              "       [3.69127782, 2.43007053, 3.47036711],\n",
              "       [1.56374185, 3.73319646, 1.70722791],\n",
              "       [3.37945808, 3.24171724, 2.67061618],\n",
              "       [1.40067889, 2.0885806 , 2.45631283],\n",
              "       [3.89654935, 1.38988131, 3.46610066],\n",
              "       [3.06277676, 1.61312663, 1.90310907],\n",
              "       [3.27500144, 3.64820778, 2.82503482],\n",
              "       [2.74816168, 2.83541232, 2.5533113 ],\n",
              "       [3.19352869, 1.4769549 , 3.47033169],\n",
              "       [2.63762092, 3.45302314, 2.41717372],\n",
              "       [2.04505668, 3.53160003, 2.57159044],\n",
              "       [1.47754283, 3.46415826, 1.46593392],\n",
              "       [2.54570469, 2.21621831, 2.92474543],\n",
              "       [2.39119712, 3.20132917, 1.34096311],\n",
              "       [2.71597588, 2.00044087, 3.97280159],\n",
              "       [2.2981719 , 0.60590288, 1.48340012],\n",
              "       [0.17157502, 0.80036943, 1.49630249],\n",
              "       [1.18406796, 0.6224772 , 2.5290373 ],\n",
              "       [2.05406221, 1.74295068, 2.1020368 ],\n",
              "       [0.54757239, 0.86002947, 1.53183174],\n",
              "       [1.62325646, 0.65394326, 1.49807189],\n",
              "       [1.73839841, 2.00578058, 2.64548057],\n",
              "       [1.29870467, 0.92431102, 0.87305924],\n",
              "       [0.48796797, 0.86625486, 2.47575908],\n",
              "       [1.84408942, 0.57868923, 0.32157224],\n",
              "       [2.64318132, 0.80185913, 1.16881416],\n",
              "       [2.65662322, 0.52752649, 2.17511855],\n",
              "       [0.93063235, 0.16535497, 0.36761887],\n",
              "       [0.39062031, 0.51915339, 1.20695577],\n",
              "       [0.09508299, 2.45184745, 0.91447096],\n",
              "       [1.37448235, 1.67098726, 2.22966361],\n",
              "       [1.03473024, 1.10162682, 0.64038946],\n",
              "       [0.67892739, 1.99425598, 0.54643606],\n",
              "       [2.54372168, 1.56282772, 2.51948245],\n",
              "       [0.55796753, 2.02404375, 1.2630301 ],\n",
              "       [0.55723013, 1.12149729, 2.59327329],\n",
              "       [1.32270552, 1.42997525, 1.04798385],\n",
              "       [1.1526105 , 1.46785099, 1.92997634],\n",
              "       [0.47131057, 2.19372562, 0.27928713],\n",
              "       [2.61246209, 0.29644555, 1.67605354],\n",
              "       [1.67807079, 0.48055475, 2.61606877],\n",
              "       [1.82373553, 2.08434335, 1.35255742],\n",
              "       [2.31922392, 2.33001281, 1.69569354],\n",
              "       [2.21072479, 0.72382035, 2.30931658],\n",
              "       [0.2837236 , 0.9536782 , 1.21723378],\n",
              "       [0.17739667, 0.10019668, 1.12840833],\n",
              "       [0.47190132, 1.5536506 , 0.73436283],\n",
              "       [2.05489203, 1.30775478, 1.7853681 ],\n",
              "       [1.22291568, 0.55700966, 1.99112996],\n",
              "       [1.39359736, 0.50714013, 0.54332682],\n",
              "       [0.74105235, 1.6964034 , 2.52710005],\n",
              "       [1.34411901, 1.96057137, 2.30240595],\n",
              "       [1.34794808, 0.61862455, 0.90072386],\n",
              "       [1.64968718, 0.01840502, 0.88346273],\n",
              "       [1.37134855, 0.89622786, 0.15155269],\n",
              "       [0.30022833, 2.34717193, 2.23113873],\n",
              "       [1.31782516, 2.36465092, 0.06582629],\n",
              "       [1.4458127 , 2.26357422, 1.8685022 ],\n",
              "       [1.29247128, 1.55845368, 2.48393215],\n",
              "       [2.22385328, 0.91571783, 0.21419106],\n",
              "       [2.43557347, 0.50382685, 2.4911536 ],\n",
              "       [0.29249036, 1.44706652, 2.44274906],\n",
              "       [2.25066996, 1.94922206, 0.07120394],\n",
              "       [0.18502967, 0.5296809 , 1.65628279],\n",
              "       [0.73091043, 1.4892658 , 0.4123483 ],\n",
              "       [1.93092773, 0.19728786, 0.73222423],\n",
              "       [0.42156513, 2.05710395, 0.46590465],\n",
              "       [1.35925671, 2.17805456, 1.7515265 ],\n",
              "       [2.28512462, 2.40458789, 2.3130781 ],\n",
              "       [2.2537389 , 1.06421755, 0.52259718],\n",
              "       [1.89284178, 0.65933214, 2.00167754],\n",
              "       [0.2716096 , 2.15665829, 1.41413535],\n",
              "       [1.01985327, 1.2813575 , 0.96626906],\n",
              "       [1.67771345, 1.84280944, 0.46266439],\n",
              "       [2.54202323, 1.10651112, 0.86458969],\n",
              "       [2.13610981, 2.0733036 , 0.35827583],\n",
              "       [1.7166466 , 1.37559353, 1.9621197 ],\n",
              "       [2.25122301, 0.52733557, 1.43234626],\n",
              "       [0.85318658, 0.39322699, 0.52790194],\n",
              "       [0.12373798, 2.23940379, 1.15790008],\n",
              "       [1.36111939, 2.2601583 , 2.16774161],\n",
              "       [0.0122743 , 2.48034043, 0.95740733],\n",
              "       [1.09520412, 1.49765638, 0.46333796],\n",
              "       [2.4597313 , 2.05246396, 1.17776827],\n",
              "       [1.39727411, 1.3451686 , 2.200331  ],\n",
              "       [1.34719381, 0.32478185, 2.09084611],\n",
              "       [2.53416529, 2.10875943, 0.37847128],\n",
              "       [2.19455567, 1.44825859, 1.58588504],\n",
              "       [0.24414767, 0.50972526, 1.46349353],\n",
              "       [1.49744258, 0.22104873, 2.35010312],\n",
              "       [2.52413677, 1.73514295, 1.79863483],\n",
              "       [2.00225292, 0.67876348, 1.08562576],\n",
              "       [1.90478644, 2.02204938, 0.89725452],\n",
              "       [0.2356904 , 2.36330684, 0.8108185 ],\n",
              "       [0.95688459, 0.40818434, 1.68828931],\n",
              "       [1.47481325, 0.73631171, 1.26005877],\n",
              "       [0.54991003, 0.0339286 , 1.64538273],\n",
              "       [1.87844916, 0.98627972, 0.62564833],\n",
              "       [0.5906136 , 2.42166869, 1.95862655],\n",
              "       [2.16043946, 2.42515866, 0.2414581 ],\n",
              "       [2.23156638, 0.61127302, 2.14394963],\n",
              "       [2.06689568, 1.71191673, 1.31096183],\n",
              "       [0.98688838, 0.17922553, 0.14580185],\n",
              "       [0.78578624, 0.98399309, 0.13298674],\n",
              "       [0.54251296, 1.2015675 , 2.56141172],\n",
              "       [2.44909761, 0.25683089, 2.60843743],\n",
              "       [0.99002777, 2.51447949, 0.12698021],\n",
              "       [2.26991516, 0.78005796, 0.96999292],\n",
              "       [0.92685567, 1.28430698, 1.04166392],\n",
              "       [1.15187959, 0.29020836, 1.0610653 ],\n",
              "       [2.1787941 , 0.40965315, 1.06881913],\n",
              "       [1.87843112, 1.79783009, 2.13508612],\n",
              "       [0.24054008, 1.19299756, 0.39008341],\n",
              "       [0.71669843, 1.56105322, 1.58826276],\n",
              "       [1.57007719, 1.79237737, 0.48840852]])"
            ]
          },
          "metadata": {
            "tags": []
          },
          "execution_count": 15
        }
      ]
    },
    {
      "cell_type": "code",
      "metadata": {
        "colab": {
          "base_uri": "https://localhost:8080/"
        },
        "id": "dogGHcnKQTci",
        "outputId": "ef123671-667f-4cdc-bbd5-5eee9164761a"
      },
      "source": [
        "centroids,_=kmeans(data,3)\n",
        "centroids"
      ],
      "execution_count": null,
      "outputs": [
        {
          "output_type": "execute_result",
          "data": {
            "text/plain": [
              "array([[2.87117126, 2.87609742, 2.77016224],\n",
              "       [1.80705689, 1.52016619, 2.1138557 ],\n",
              "       [1.13101776, 1.2148155 , 0.80648608]])"
            ]
          },
          "metadata": {
            "tags": []
          },
          "execution_count": 16
        }
      ]
    },
    {
      "cell_type": "code",
      "metadata": {
        "colab": {
          "base_uri": "https://localhost:8080/"
        },
        "id": "xRMzGsloQ5aF",
        "outputId": "d4bc90ae-14e7-4009-fd06-9ffa4943e017"
      },
      "source": [
        "clx,_=vq(data,centroids)\n",
        "clx"
      ],
      "execution_count": null,
      "outputs": [
        {
          "output_type": "execute_result",
          "data": {
            "text/plain": [
              "array([0, 1, 1, 0, 0, 0, 1, 0, 0, 1, 0, 0, 0, 0, 0, 0, 0, 1, 1, 0, 0, 0,\n",
              "       1, 0, 0, 0, 0, 0, 0, 0, 0, 0, 1, 1, 1, 0, 1, 0, 0, 0, 0, 1, 0, 1,\n",
              "       0, 0, 1, 0, 0, 0, 0, 1, 1, 0, 0, 0, 0, 0, 1, 0, 0, 0, 0, 0, 0, 0,\n",
              "       0, 0, 0, 0, 0, 1, 0, 1, 1, 0, 0, 0, 0, 0, 0, 1, 1, 0, 0, 0, 0, 0,\n",
              "       1, 0, 1, 0, 0, 0, 0, 0, 0, 0, 0, 0, 1, 2, 1, 1, 2, 2, 1, 2, 1, 2,\n",
              "       1, 1, 2, 2, 2, 1, 2, 2, 1, 2, 1, 2, 1, 2, 1, 1, 1, 1, 1, 2, 2, 2,\n",
              "       1, 1, 2, 1, 1, 2, 2, 2, 1, 2, 1, 1, 2, 1, 1, 2, 2, 2, 2, 2, 1, 0,\n",
              "       2, 1, 2, 2, 2, 2, 2, 1, 1, 2, 2, 1, 2, 2, 1, 1, 1, 2, 1, 2, 1, 1,\n",
              "       2, 2, 2, 2, 2, 2, 2, 1, 2, 1, 1, 2, 2, 1, 1, 2, 2, 2, 2, 2, 1, 2,\n",
              "       2, 2], dtype=int32)"
            ]
          },
          "metadata": {
            "tags": []
          },
          "execution_count": 17
        }
      ]
    },
    {
      "cell_type": "code",
      "metadata": {
        "colab": {
          "base_uri": "https://localhost:8080/"
        },
        "id": "Z54eVHS7SWKC",
        "outputId": "0f5035da-b58c-4b47-a469-8674af82a0fa"
      },
      "source": [
        "from scipy.fftpack import fft\n",
        "\n",
        "x=np.array([1.0,2.0,1.0,-1.0,1.5])\n",
        "\n",
        "y=fft(x)\n",
        "print(\"FFT :\\n\",y)"
      ],
      "execution_count": null,
      "outputs": [
        {
          "output_type": "stream",
          "text": [
            "FFT :\n",
            " [ 4.5       -0.j          2.08155948-1.65109876j -1.83155948+1.60822041j\n",
            " -1.83155948-1.60822041j  2.08155948+1.65109876j]\n"
          ],
          "name": "stdout"
        }
      ]
    },
    {
      "cell_type": "code",
      "metadata": {
        "colab": {
          "base_uri": "https://localhost:8080/"
        },
        "id": "lUXcTP94SnTt",
        "outputId": "e1da8ad4-e7fc-4552-e828-e26eecacbf33"
      },
      "source": [
        "from scipy.fftpack import ifft\n",
        "yinv=ifft(y)\n",
        "print(\"FFT Inverse:\\n\",yinv)"
      ],
      "execution_count": null,
      "outputs": [
        {
          "output_type": "stream",
          "text": [
            "FFT Inverse:\n",
            " [ 1. +0.j  2. +0.j  1. +0.j -1. +0.j  1.5+0.j]\n"
          ],
          "name": "stdout"
        }
      ]
    },
    {
      "cell_type": "code",
      "metadata": {
        "colab": {
          "base_uri": "https://localhost:8080/"
        },
        "id": "L_ofAokMTI8R",
        "outputId": "99db000e-cdbb-4548-d446-c2866cb9d30f"
      },
      "source": [
        "from scipy.fftpack import dct\n",
        "print(\"DCT:\\n\",dct(np.array([4.,3.,5.,10.,5.,3.])))"
      ],
      "execution_count": null,
      "outputs": [
        {
          "output_type": "stream",
          "text": [
            "DCT:\n",
            " [ 60.          -3.48476592 -13.85640646  11.3137085    6.\n",
            "  -6.31319305]\n"
          ],
          "name": "stdout"
        }
      ]
    },
    {
      "cell_type": "code",
      "metadata": {
        "colab": {
          "base_uri": "https://localhost:8080/"
        },
        "id": "sFowjNxgTqvP",
        "outputId": "a5bfdf56-8164-4599-cb25-052e79938a14"
      },
      "source": [
        "from scipy.fftpack import idct\n",
        "print(\"IDCT:\\n\",idct(np.array([4.,3.,5.,10.,5.,3.])))"
      ],
      "execution_count": null,
      "outputs": [
        {
          "output_type": "stream",
          "text": [
            "IDCT:\n",
            " [ 39.15085889 -20.14213562  -6.45392043   7.13341236   8.14213562\n",
            "  -3.83035081]\n"
          ],
          "name": "stdout"
        }
      ]
    },
    {
      "cell_type": "markdown",
      "metadata": {
        "id": "pETcsUseUro-"
      },
      "source": [
        "# **SciPy-Integrated**"
      ]
    },
    {
      "cell_type": "markdown",
      "metadata": {
        "id": "ZBZO050EUyeJ"
      },
      "source": [
        "The general form of quad is scipy.integrate.quad(f,a,b), Where 'f' is the name of the function to be integrated. Whereas, 'a' and 'b' are the lower and upper limits, respectively. Let us see an example of the Gaussian function, integrated over a range of 0 and 1                                "
      ]
    },
    {
      "cell_type": "markdown",
      "metadata": {
        "id": "F2BoomdJV4jy"
      },
      "source": [
        "  # **∫f(x)dx**"
      ]
    },
    {
      "cell_type": "code",
      "metadata": {
        "colab": {
          "base_uri": "https://localhost:8080/"
        },
        "id": "mI9twu8HVZkn",
        "outputId": "483ac4cf-3849-4800-cf98-a76cc3b6d669"
      },
      "source": [
        "import scipy.integrate\n",
        "from numpy import exp\n",
        "f=lambda x:exp(-x**2)\n",
        "i=scipy.integrate.quad(f,0,1)\n",
        "print(i)"
      ],
      "execution_count": null,
      "outputs": [
        {
          "output_type": "stream",
          "text": [
            "(0.7468241328124271, 8.291413475940725e-15)\n"
          ],
          "name": "stdout"
        }
      ]
    },
    {
      "cell_type": "markdown",
      "metadata": {
        "id": "50tbDAniXnNh"
      },
      "source": [
        "# **Linear Algebra**"
      ]
    },
    {
      "cell_type": "markdown",
      "metadata": {
        "id": "ROZZaVmgXuLr"
      },
      "source": [
        "**x+3y+5z=10**\n",
        "\n",
        "**2x+5y+z=8**\n",
        "\n",
        "**2x+3y+8z=3 ***"
      ]
    },
    {
      "cell_type": "code",
      "metadata": {
        "colab": {
          "base_uri": "https://localhost:8080/"
        },
        "id": "KmrcIGxFX54m",
        "outputId": "0db1afc1-1430-48f0-fb3b-b5b897d51e4d"
      },
      "source": [
        "from scipy import linalg\n",
        "import numpy as np\n",
        "\n",
        "a=np.array([[1,3,5],[2,5,1],[2,3,8]])\n",
        "b=np.array([10,8,3])\n",
        "\n",
        "X=linalg.solve(a,b)\n",
        "\n",
        "print(X)"
      ],
      "execution_count": null,
      "outputs": [
        {
          "output_type": "stream",
          "text": [
            "[-9.28  5.16  0.76]\n"
          ],
          "name": "stdout"
        }
      ]
    },
    {
      "cell_type": "markdown",
      "metadata": {
        "id": "t6YtPTHqZEh6"
      },
      "source": [
        "# **Finding an Determinant**"
      ]
    },
    {
      "cell_type": "code",
      "metadata": {
        "colab": {
          "base_uri": "https://localhost:8080/"
        },
        "id": "6u1LW8LIZsbS",
        "outputId": "9fe241bc-10bf-41c6-f7e5-53ee6b2d92a3"
      },
      "source": [
        "from scipy import linalg\n",
        "import numpy as np\n",
        "\n",
        "A=np.array([[1,2],[3,4]])\n",
        "\n",
        "x=linalg.det(A)\n",
        "\n",
        "print(x)"
      ],
      "execution_count": null,
      "outputs": [
        {
          "output_type": "stream",
          "text": [
            "-2.0\n"
          ],
          "name": "stdout"
        }
      ]
    },
    {
      "cell_type": "markdown",
      "metadata": {
        "id": "U3D62DUhZzpZ"
      },
      "source": [
        "# **Eigen values and Eigen Vectors**"
      ]
    },
    {
      "cell_type": "code",
      "metadata": {
        "colab": {
          "base_uri": "https://localhost:8080/"
        },
        "id": "EXWGR67taXv5",
        "outputId": "b035a56e-d618-4d75-a9c9-469174f72727"
      },
      "source": [
        "from scipy import linalg\n",
        "import numpy as np\n",
        "\n",
        "A=np.array([[1,2],[3,4]])\n",
        "\n",
        "l,v=linalg.eig(A)\n",
        "\n",
        "print(\"Eigen Values :\\n\",l)\n",
        "\n",
        "print(\"Eigen Vectors:\\n\",v)"
      ],
      "execution_count": null,
      "outputs": [
        {
          "output_type": "stream",
          "text": [
            "Eigen Values :\n",
            " [-0.37228132+0.j  5.37228132+0.j]\n",
            "Eigen Vectors:\n",
            " [[-0.82456484 -0.41597356]\n",
            " [ 0.56576746 -0.90937671]]\n"
          ],
          "name": "stdout"
        }
      ]
    },
    {
      "cell_type": "markdown",
      "metadata": {
        "id": "aCdxaRvka0R7"
      },
      "source": [
        "# **Matplot Library**"
      ]
    },
    {
      "cell_type": "code",
      "metadata": {
        "colab": {
          "base_uri": "https://localhost:8080/",
          "height": 265
        },
        "id": "wCle2YgubEiJ",
        "outputId": "6430130b-4d56-479a-e63b-3118098cf107"
      },
      "source": [
        "import matplotlib.pyplot as plt\n",
        "import numpy as np\n",
        "\n",
        "x=np.arange(5)\n",
        "y=(35,45,23,27,60)\n",
        "\n",
        "plt.bar(x,y)\n",
        "plt.show()"
      ],
      "execution_count": null,
      "outputs": [
        {
          "output_type": "display_data",
          "data": {
            "image/png": "[encoded data removed]",
            "text/plain": [
              "<Figure size 432x288 with 1 Axes>"
            ]
          },
          "metadata": {
            "tags": [],
            "needs_background": "light"
          }
        }
      ]
    },
    {
      "cell_type": "code",
      "metadata": {
        "colab": {
          "base_uri": "https://localhost:8080/",
          "height": 265
        },
        "id": "T2IBEY17bjUC",
        "outputId": "6c686d20-661f-4a9c-bd6e-541aced6bb44"
      },
      "source": [
        "plt.scatter(x,y)\n",
        "plt.show()"
      ],
      "execution_count": null,
      "outputs": [
        {
          "output_type": "display_data",
          "data": {
            "image/png": "[encoded data removed]",
            "text/plain": [
              "<Figure size 432x288 with 1 Axes>"
            ]
          },
          "metadata": {
            "tags": [],
            "needs_background": "light"
          }
        }
      ]
    },
    {
      "cell_type": "code",
      "metadata": {
        "colab": {
          "base_uri": "https://localhost:8080/",
          "height": 204
        },
        "id": "kaIBiuDfdBQn",
        "outputId": "464094f9-fb45-425e-8d57-f347e6553e3e"
      },
      "source": [
        "import pandas as pd\n",
        "from sklearn.datasets import load_iris\n",
        "iris=load_iris()\n",
        "df=pd.DataFrame(iris.data)\n",
        "\n",
        "df.columns=['sepal_Length','sepal_Width','petal_Length','petal_Width']\n",
        "df.head()"
      ],
      "execution_count": null,
      "outputs": [
        {
          "output_type": "execute_result",
          "data": {
            "text/html": [
              "<div>\n",
              "<style scoped>\n",
              "    .dataframe tbody tr th:only-of-type {\n",
              "        vertical-align: middle;\n",
              "    }\n",
              "\n",
              "    .dataframe tbody tr th {\n",
              "        vertical-align: top;\n",
              "    }\n",
              "\n",
              "    .dataframe thead th {\n",
              "        text-align: right;\n",
              "    }\n",
              "</style>\n",
              "<table border=\"1\" class=\"dataframe\">\n",
              "  <thead>\n",
              "    <tr style=\"text-align: right;\">\n",
              "      <th></th>\n",
              "      <th>sepal_Length</th>\n",
              "      <th>sepal_Width</th>\n",
              "      <th>petal_Length</th>\n",
              "      <th>petal_Width</th>\n",
              "    </tr>\n",
              "  </thead>\n",
              "  <tbody>\n",
              "    <tr>\n",
              "      <th>0</th>\n",
              "      <td>5.1</td>\n",
              "      <td>3.5</td>\n",
              "      <td>1.4</td>\n",
              "      <td>0.2</td>\n",
              "    </tr>\n",
              "    <tr>\n",
              "      <th>1</th>\n",
              "      <td>4.9</td>\n",
              "      <td>3.0</td>\n",
              "      <td>1.4</td>\n",
              "      <td>0.2</td>\n",
              "    </tr>\n",
              "    <tr>\n",
              "      <th>2</th>\n",
              "      <td>4.7</td>\n",
              "      <td>3.2</td>\n",
              "      <td>1.3</td>\n",
              "      <td>0.2</td>\n",
              "    </tr>\n",
              "    <tr>\n",
              "      <th>3</th>\n",
              "      <td>4.6</td>\n",
              "      <td>3.1</td>\n",
              "      <td>1.5</td>\n",
              "      <td>0.2</td>\n",
              "    </tr>\n",
              "    <tr>\n",
              "      <th>4</th>\n",
              "      <td>5.0</td>\n",
              "      <td>3.6</td>\n",
              "      <td>1.4</td>\n",
              "      <td>0.2</td>\n",
              "    </tr>\n",
              "  </tbody>\n",
              "</table>\n",
              "</div>"
            ],
            "text/plain": [
              "   sepal_Length  sepal_Width  petal_Length  petal_Width\n",
              "0           5.1          3.5           1.4          0.2\n",
              "1           4.9          3.0           1.4          0.2\n",
              "2           4.7          3.2           1.3          0.2\n",
              "3           4.6          3.1           1.5          0.2\n",
              "4           5.0          3.6           1.4          0.2"
            ]
          },
          "metadata": {
            "tags": []
          },
          "execution_count": 32
        }
      ]
    },
    {
      "cell_type": "code",
      "metadata": {
        "colab": {
          "base_uri": "https://localhost:8080/",
          "height": 281
        },
        "id": "KNg6efEadJ0-",
        "outputId": "6e3181fb-bdeb-4d91-beab-34bffc3e9ecb"
      },
      "source": [
        "df.hist()\n",
        "plt.show()"
      ],
      "execution_count": null,
      "outputs": [
        {
          "output_type": "display_data",
          "data": {
            "image/png": "[encoded data removed]",
            "text/plain": [
              "<Figure size 432x288 with 4 Axes>"
            ]
          },
          "metadata": {
            "tags": [],
            "needs_background": "light"
          }
        }
      ]
    },
    {
      "cell_type": "code",
      "metadata": {
        "colab": {
          "base_uri": "https://localhost:8080/",
          "height": 265
        },
        "id": "m2CI6wFDdYlF",
        "outputId": "fb4721b2-6825-4acf-9c05-546b67539530"
      },
      "source": [
        "df.plot()\n",
        "plt.show()"
      ],
      "execution_count": null,
      "outputs": [
        {
          "output_type": "display_data",
          "data": {
            "image/png": "[encoded data removed]",
            "text/plain": [
              "<Figure size 432x288 with 1 Axes>"
            ]
          },
          "metadata": {
            "tags": [],
            "needs_background": "light"
          }
        }
      ]
    },
    {
      "cell_type": "code",
      "metadata": {
        "id": "WMflw8TnfgGM",
        "colab": {
          "base_uri": "https://localhost:8080/",
          "height": 266
        },
        "outputId": "e5f970d7-0cc8-42e2-e191-f47343e3587d"
      },
      "source": [
        "df.boxplot()\n",
        "plt.show()"
      ],
      "execution_count": null,
      "outputs": [
        {
          "output_type": "display_data",
          "data": {
            "image/png": "[encoded data removed]",
            "text/plain": [
              "<Figure size 432x288 with 1 Axes>"
            ]
          },
          "metadata": {
            "tags": [],
            "needs_background": "light"
          }
        }
      ]
    },
    {
      "cell_type": "code",
      "metadata": {
        "colab": {
          "base_uri": "https://localhost:8080/",
          "height": 306
        },
        "id": "vie11hUzm2Wb",
        "outputId": "5196d567-ebcf-4dfd-c858-c07c067059ff"
      },
      "source": [
        "import numpy as np\n",
        "x=np.linspace(0,20,1000)\n",
        "y=np.sin(x)\n",
        "\n",
        "plt.plot(x,y,label='sample Label')\n",
        "plt.title('sample plot title')\n",
        "plt.xlabel('x axis label')\n",
        "plt.ylabel('y axis label')\n",
        "plt.grid(True)\n",
        "\n",
        "plt.figtext(0.5,0.01,'Fig1:Sinusodial', ha='right',va='bottom')\n",
        "\n",
        "plt.legend(loc='best',framealpha=0.5,prop={'size':'small'})\n",
        "\n",
        "plt.tight_layout(pad=1)\n",
        "\n",
        "plt.show()"
      ],
      "execution_count": null,
      "outputs": [
        {
          "output_type": "display_data",
          "data": {
            "image/png": "[encoded data removed]",
            "text/plain": [
              "<Figure size 432x288 with 1 Axes>"
            ]
          },
          "metadata": {
            "tags": [],
            "needs_background": "light"
          }
        }
      ]
    }
  ]
}